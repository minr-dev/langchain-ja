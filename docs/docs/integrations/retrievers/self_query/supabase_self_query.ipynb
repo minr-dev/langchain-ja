{
 "cells": [
  {
   "cell_type": "markdown",
   "id": "13afcae7",
   "metadata": {},
   "source": [
    "# Supabase | Supabase\n",
    "\n",
    "> [Supabase](https://supabase.com/docs)はオープンソースの`Firebase`の代替品です。`Supabase`は`PostgreSQL`の上に構築されており、強力な`SQL`クエリ機能を提供し、既存のツールやフレームワークとのシンプルなインターフェースを可能にしています。\n",
    ">\n",
    "> > [Supabase](https://supabase.com/docs) is an open-source `Firebase` alternative.\n",
    "> > `Supabase` is built on top of `PostgreSQL`, which offers strong `SQL`\n",
    "> > querying capabilities and enables a simple interface with already-existing tools and frameworks.\n",
    "\n",
    "> [PostgreSQL](https://en.wikipedia.org/wiki/PostgreSQL)（通称 `Postgres`）は、拡張性と`SQL`準拠を重視した、無料でオープンソースのリレーショナルデータベース管理システム（RDBMS）です。\n",
    ">\n",
    "> > [PostgreSQL](https://en.wikipedia.org/wiki/PostgreSQL) also known as `Postgres`,\n",
    "> > is a free and open-source relational database management system (RDBMS)\n",
    "> > emphasizing extensibility and `SQL` compliance.\n",
    ">\n",
    "> [Supabase](https://supabase.com/docs/guides/ai)は、Postgresとpgvectorを使用してAIアプリケーションを開発するためのオープンソースツールキットを提供しています。Supabaseのクライアントライブラリを使用して、ベクトルの埋め込みを大規模に保存、インデックス化、そしてクエリすることができます。\n",
    ">\n",
    "> > [Supabase](https://supabase.com/docs/guides/ai) provides an open-source toolkit for developing AI applications\n",
    "> > using Postgres and pgvector. Use the Supabase client libraries to store, index, and query your vector embeddings at scale.\n",
    "\n",
    "このノートブックでは、`Supabase` ベクトルストアを使用して `SelfQueryRetriever` をデモします。\n",
    "\n",
    "> In the notebook, we'll demo the `SelfQueryRetriever` wrapped around a `Supabase` vector store.\n",
    "\n",
    "具体的には、以下のことを行います：\n",
    "\n",
    "> Specifically, we will:\n",
    "\n",
    "1. Supabaseデータベースを作成する\n",
    "\n",
    "   > Create a Supabase database\n",
    "\n",
    "2. `pgvector` 拡張機能を有効にする\n",
    "\n",
    "   > Enable the `pgvector` extension\n",
    "\n",
    "3. `SupabaseVectorStore`によって使用される`documents`テーブルと`match_documents`関数を作成します。\n",
    "\n",
    "   > Create a `documents` table and `match_documents` function that will be used by `SupabaseVectorStore`\n",
    "\n",
    "4. サンプルドキュメントをベクターストア（データベーステーブル）に読み込む\n",
    "\n",
    "   > Load sample documents into the vector store (database table)\n",
    "\n",
    "5. 自己問い合わせ型リトリーバーの構築とテスト\n",
    "\n",
    "   > Build and test a self-querying retriever\n",
    "\n",
    "\n",
    "\n"
   ]
  },
  {
   "cell_type": "markdown",
   "id": "347935ad",
   "metadata": {},
   "source": [
    "## Setup Supabase Database | Supabaseデータベースのセットアップ\n",
    "\n",
    "1. https://database.new にアクセスして、Supabaseデータベースを準備してください。\n",
    "\n",
    "   > Head over to https://database.new to provision your Supabase database.\n",
    "\n",
    "2. スタジオで、[SQLエディタ](https://supabase.com/dashboard/project/_/sql/new)に移動し、以下のスクリプトを実行して`pgvector`を有効にし、データベースをベクターストアとして設定してください：\n",
    "\n",
    "   > In the studio, jump to the [SQL editor](https://supabase.com/dashboard/project/_/sql/new) and run the following script to enable `pgvector` and setup your database as a vector store:\n",
    "\n",
    "   ```sql\n",
    "   -- Enable the pgvector extension to work with embedding vectors\n",
    "   create extension if not exists vector;\n",
    "\n",
    "   -- Create a table to store your documents\n",
    "   create table\n",
    "     documents (\n",
    "       id uuid primary key,\n",
    "       content text, -- corresponds to Document.pageContent\n",
    "       metadata jsonb, -- corresponds to Document.metadata\n",
    "       embedding vector (1536) -- 1536 works for OpenAI embeddings, change if needed\n",
    "     );\n",
    "\n",
    "   -- Create a function to search for documents\n",
    "   create function match_documents (\n",
    "     query_embedding vector (1536),\n",
    "     filter jsonb default '{}'\n",
    "   ) returns table (\n",
    "     id uuid,\n",
    "     content text,\n",
    "     metadata jsonb,\n",
    "     similarity float\n",
    "   ) language plpgsql as $$\n",
    "   #variable_conflict use_column\n",
    "   begin\n",
    "     return query\n",
    "     select\n",
    "       id,\n",
    "       content,\n",
    "       metadata,\n",
    "       1 - (documents.embedding <=> query_embedding) as similarity\n",
    "     from documents\n",
    "     where metadata @> filter\n",
    "     order by documents.embedding <=> query_embedding;\n",
    "   end;\n",
    "   $$;\n",
    "   ```\n",
    "\n",
    "\n"
   ]
  },
  {
   "cell_type": "markdown",
   "id": "68e75fb9",
   "metadata": {},
   "source": [
    "## Creating a Supabase vector store | Supabase ベクターストアの作成\n",
    "\n",
    "次に、Supabase ベクターストアを作成し、それにいくつかのデータを投入します。映画のサマリーを含む小さなデモ用のドキュメントセットを用意しています。\n",
    "\n",
    "> Next we'll want to create a Supabase vector store and seed it with some data. We've created a small demo set of documents that contain summaries of movies.\n",
    "\n",
    "`openai` サポート付きの `langchain` の最新バージョンをインストールしてください：\n",
    "\n",
    "> Be sure to install the latest version of `langchain` with `openai` support:\n",
    "\n",
    "\n"
   ]
  },
  {
   "cell_type": "code",
   "execution_count": null,
   "id": "78546fd7",
   "metadata": {},
   "outputs": [],
   "source": [
    "%pip install langchain openai tiktoken"
   ]
  },
  {
   "cell_type": "markdown",
   "id": "e06df198",
   "metadata": {},
   "source": [
    "self-query retrieverを使用するには、`lark`をインストールしておく必要があります：\n",
    "\n",
    "> The self-query retriever requires you to have `lark` installed:\n",
    "\n",
    "\n"
   ]
  },
  {
   "cell_type": "code",
   "execution_count": null,
   "id": "63a8af5b",
   "metadata": {
    "tags": []
   },
   "outputs": [],
   "source": [
    "%pip install lark"
   ]
  },
  {
   "cell_type": "markdown",
   "id": "114f768f",
   "metadata": {},
   "source": [
    "また、`supabase`パッケージも必要です。\n",
    "\n",
    "> We also need the `supabase` package:\n",
    "\n",
    "\n"
   ]
  },
  {
   "cell_type": "code",
   "execution_count": null,
   "id": "22431060-52c4-48a7-a97b-9f542b8b0928",
   "metadata": {
    "tags": []
   },
   "outputs": [],
   "source": [
    "%pip install supabase"
   ]
  },
  {
   "cell_type": "markdown",
   "id": "83811610-7df3-4ede-b268-68a6a83ba9e2",
   "metadata": {},
   "source": [
    "`SupabaseVectorStore`と`OpenAIEmbeddings`を使用しているため、それらのAPIキーを読み込む必要があります。\n",
    "\n",
    "> Since we are using `SupabaseVectorStore` and `OpenAIEmbeddings`, we have to load their API keys.\n",
    "\n",
    "* `SUPABASE_URL`と`SUPABASE_SERVICE_KEY`を見つけるには、Supabaseプロジェクトの[API設定](https://supabase.com/dashboard/project/_/settings/api)にアクセスしてください。\n",
    "\n",
    "  > To find your `SUPABASE_URL` and `SUPABASE_SERVICE_KEY`, head to your Supabase project's [API settings](https://supabase.com/dashboard/project/_/settings/api).\n",
    "  \n",
    "* `SUPABASE_URL`はプロジェクトURLに対応しています\n",
    "\n",
    "    > `SUPABASE_URL` corresponds to the Project URL\n",
    "\n",
    "  * `SUPABASE_SERVICE_KEY`は`service_role` APIキーに対応しています\n",
    "\n",
    "    > `SUPABASE_SERVICE_KEY` corresponds to the `service_role` API key\n",
    "\n",
    "\n",
    "* `OPENAI_API_KEY`を取得するには、OpenAIアカウントの[API keys](https://platform.openai.com/account/api-keys)ページに移動し、新しいシークレットキーを作成してください。\n",
    "\n",
    "  > To get your `OPENAI_API_KEY`, navigate to [API keys](https://platform.openai.com/account/api-keys) on your OpenAI account and create a new secret key.\n",
    "\n",
    "\n",
    "\n"
   ]
  },
  {
   "cell_type": "code",
   "execution_count": 1,
   "id": "dd01b61b-7d32-4a55-85d6-b2d2d4f18840",
   "metadata": {
    "tags": []
   },
   "outputs": [],
   "source": [
    "import getpass\n",
    "import os\n",
    "\n",
    "os.environ[\"SUPABASE_URL\"] = getpass.getpass(\"Supabase URL:\")\n",
    "os.environ[\"SUPABASE_SERVICE_KEY\"] = getpass.getpass(\"Supabase Service Key:\")\n",
    "os.environ[\"OPENAI_API_KEY\"] = getpass.getpass(\"OpenAI API Key:\")"
   ]
  },
  {
   "cell_type": "markdown",
   "id": "3aaf5075",
   "metadata": {},
   "source": [
    "オプション: SupabaseとOpenAI APIキーを`.env`ファイルに保存している場合、[`dotenv`](https://github.com/theskumar/python-dotenv)を使用してそれらをロードすることができます。\n",
    "\n",
    "> *Optional:* If you're storing your Supabase and OpenAI API keys in a `.env` file, you can load them with [`dotenv`](https://github.com/theskumar/python-dotenv).\n",
    "\n",
    "\n"
   ]
  },
  {
   "cell_type": "code",
   "execution_count": null,
   "id": "e0089221",
   "metadata": {},
   "outputs": [],
   "source": [
    "%pip install python-dotenv"
   ]
  },
  {
   "cell_type": "code",
   "execution_count": null,
   "id": "3d56c5ef",
   "metadata": {},
   "outputs": [],
   "source": [
    "from dotenv import load_dotenv\n",
    "\n",
    "load_dotenv()"
   ]
  },
  {
   "cell_type": "markdown",
   "id": "f6dd9aef",
   "metadata": {},
   "source": [
    "まず、Supabaseクライアントを作成し、OpenAIのembeddingsクラスをインスタンス化します。\n",
    "\n",
    "> First we'll create a Supabase client and instantiate a OpenAI embeddings class.\n",
    "\n",
    "\n"
   ]
  },
  {
   "cell_type": "code",
   "execution_count": 2,
   "id": "cb4a5787",
   "metadata": {
    "tags": []
   },
   "outputs": [],
   "source": [
    "import os\n",
    "\n",
    "from langchain.embeddings.openai import OpenAIEmbeddings\n",
    "from langchain.schema import Document\n",
    "from langchain.vectorstores import SupabaseVectorStore\n",
    "from supabase.client import Client, create_client\n",
    "\n",
    "supabase_url = os.environ.get(\"SUPABASE_URL\")\n",
    "supabase_key = os.environ.get(\"SUPABASE_SERVICE_KEY\")\n",
    "supabase: Client = create_client(supabase_url, supabase_key)\n",
    "\n",
    "embeddings = OpenAIEmbeddings()"
   ]
  },
  {
   "cell_type": "markdown",
   "id": "0fca9b0b",
   "metadata": {},
   "source": [
    "次に、私たちのドキュメントを作成しましょう。\n",
    "\n",
    "> Next let's create our documents.\n",
    "\n",
    "\n"
   ]
  },
  {
   "cell_type": "code",
   "execution_count": 3,
   "id": "bcbe04d9",
   "metadata": {
    "tags": []
   },
   "outputs": [],
   "source": [
    "docs = [\n",
    "    Document(\n",
    "        page_content=\"A bunch of scientists bring back dinosaurs and mayhem breaks loose\",\n",
    "        metadata={\"year\": 1993, \"rating\": 7.7, \"genre\": \"science fiction\"},\n",
    "    ),\n",
    "    Document(\n",
    "        page_content=\"Leo DiCaprio gets lost in a dream within a dream within a dream within a ...\",\n",
    "        metadata={\"year\": 2010, \"director\": \"Christopher Nolan\", \"rating\": 8.2},\n",
    "    ),\n",
    "    Document(\n",
    "        page_content=\"A psychologist / detective gets lost in a series of dreams within dreams within dreams and Inception reused the idea\",\n",
    "        metadata={\"year\": 2006, \"director\": \"Satoshi Kon\", \"rating\": 8.6},\n",
    "    ),\n",
    "    Document(\n",
    "        page_content=\"A bunch of normal-sized women are supremely wholesome and some men pine after them\",\n",
    "        metadata={\"year\": 2019, \"director\": \"Greta Gerwig\", \"rating\": 8.3},\n",
    "    ),\n",
    "    Document(\n",
    "        page_content=\"Toys come alive and have a blast doing so\",\n",
    "        metadata={\"year\": 1995, \"genre\": \"animated\"},\n",
    "    ),\n",
    "    Document(\n",
    "        page_content=\"Three men walk into the Zone, three men walk out of the Zone\",\n",
    "        metadata={\n",
    "            \"year\": 1979,\n",
    "            \"director\": \"Andrei Tarkovsky\",\n",
    "            \"genre\": \"science fiction\",\n",
    "            \"rating\": 9.9,\n",
    "        },\n",
    "    ),\n",
    "]\n",
    "\n",
    "vectorstore = SupabaseVectorStore.from_documents(\n",
    "    docs,\n",
    "    embeddings,\n",
    "    client=supabase,\n",
    "    table_name=\"documents\",\n",
    "    query_name=\"match_documents\",\n",
    ")"
   ]
  },
  {
   "cell_type": "markdown",
   "id": "5ecaab6d",
   "metadata": {},
   "source": [
    "## Creating our self-querying retriever | 自己問い合わせ型リトリバーの作成\n",
    "\n",
    "これで、私たちのリトリーバーをインスタンス化することができます。これを行うためには、ドキュメントがサポートしているメタデータフィールドに関する情報を事前に提供し、ドキュメント内容の簡潔な説明が必要になります。\n",
    "\n",
    "> Now we can instantiate our retriever. To do this we'll need to provide some information upfront about the metadata fields that our documents support and a short description of the document contents.\n",
    "\n",
    "\n"
   ]
  },
  {
   "cell_type": "code",
   "execution_count": 4,
   "id": "86e34dbf",
   "metadata": {
    "tags": []
   },
   "outputs": [],
   "source": [
    "from langchain.chains.query_constructor.base import AttributeInfo\n",
    "from langchain.llms import OpenAI\n",
    "from langchain.retrievers.self_query.base import SelfQueryRetriever\n",
    "\n",
    "metadata_field_info = [\n",
    "    AttributeInfo(\n",
    "        name=\"genre\",\n",
    "        description=\"The genre of the movie\",\n",
    "        type=\"string or list[string]\",\n",
    "    ),\n",
    "    AttributeInfo(\n",
    "        name=\"year\",\n",
    "        description=\"The year the movie was released\",\n",
    "        type=\"integer\",\n",
    "    ),\n",
    "    AttributeInfo(\n",
    "        name=\"director\",\n",
    "        description=\"The name of the movie director\",\n",
    "        type=\"string\",\n",
    "    ),\n",
    "    AttributeInfo(\n",
    "        name=\"rating\", description=\"A 1-10 rating for the movie\", type=\"float\"\n",
    "    ),\n",
    "]\n",
    "document_content_description = \"Brief summary of a movie\"\n",
    "llm = OpenAI(temperature=0)\n",
    "retriever = SelfQueryRetriever.from_llm(\n",
    "    llm, vectorstore, document_content_description, metadata_field_info, verbose=True\n",
    ")"
   ]
  },
  {
   "cell_type": "markdown",
   "id": "ea9df8d4",
   "metadata": {},
   "source": [
    "## Testing it out | テストしてみる\n",
    "\n",
    "それでは、実際に私たちのリトリーバーを使ってみましょう！\n",
    "\n",
    "> And now we can try actually using our retriever!\n",
    "\n",
    "\n"
   ]
  },
  {
   "cell_type": "code",
   "execution_count": 5,
   "id": "38a126e9",
   "metadata": {},
   "outputs": [
    {
     "name": "stdout",
     "output_type": "stream",
     "text": [
      "query='dinosaur' filter=None limit=None\n"
     ]
    },
    {
     "data": {
      "text/plain": [
       "[Document(page_content='A bunch of scientists bring back dinosaurs and mayhem breaks loose', metadata={'year': 1993, 'genre': 'science fiction', 'rating': 7.7}),\n",
       " Document(page_content='Toys come alive and have a blast doing so', metadata={'year': 1995, 'genre': 'animated'}),\n",
       " Document(page_content='Three men walk into the Zone, three men walk out of the Zone', metadata={'year': 1979, 'genre': 'science fiction', 'rating': 9.9, 'director': 'Andrei Tarkovsky'}),\n",
       " Document(page_content='A psychologist / detective gets lost in a series of dreams within dreams within dreams and Inception reused the idea', metadata={'year': 2006, 'rating': 8.6, 'director': 'Satoshi Kon'})]"
      ]
     },
     "execution_count": 5,
     "metadata": {},
     "output_type": "execute_result"
    }
   ],
   "source": [
    "# This example only specifies a relevant query\n",
    "retriever.get_relevant_documents(\"What are some movies about dinosaurs\")"
   ]
  },
  {
   "cell_type": "code",
   "execution_count": 7,
   "id": "fc3f1e6e",
   "metadata": {},
   "outputs": [
    {
     "name": "stdout",
     "output_type": "stream",
     "text": [
      "query=' ' filter=Comparison(comparator=<Comparator.GT: 'gt'>, attribute='rating', value=8.5) limit=None\n"
     ]
    },
    {
     "data": {
      "text/plain": [
       "[Document(page_content='Three men walk into the Zone, three men walk out of the Zone', metadata={'year': 1979, 'genre': 'science fiction', 'rating': 9.9, 'director': 'Andrei Tarkovsky'}),\n",
       " Document(page_content='A psychologist / detective gets lost in a series of dreams within dreams within dreams and Inception reused the idea', metadata={'year': 2006, 'rating': 8.6, 'director': 'Satoshi Kon'})]"
      ]
     },
     "execution_count": 7,
     "metadata": {},
     "output_type": "execute_result"
    }
   ],
   "source": [
    "# This example only specifies a filter\n",
    "retriever.get_relevant_documents(\"I want to watch a movie rated higher than 8.5\")"
   ]
  },
  {
   "cell_type": "code",
   "execution_count": 9,
   "id": "b19d4da0",
   "metadata": {},
   "outputs": [
    {
     "name": "stdout",
     "output_type": "stream",
     "text": [
      "query='women' filter=Comparison(comparator=<Comparator.EQ: 'eq'>, attribute='director', value='Greta Gerwig') limit=None\n"
     ]
    },
    {
     "data": {
      "text/plain": [
       "[Document(page_content='A bunch of normal-sized women are supremely wholesome and some men pine after them', metadata={'year': 2019, 'rating': 8.3, 'director': 'Greta Gerwig'})]"
      ]
     },
     "execution_count": 9,
     "metadata": {},
     "output_type": "execute_result"
    }
   ],
   "source": [
    "# This example specifies a query and a filter\n",
    "retriever.get_relevant_documents(\"Has Greta Gerwig directed any movies about women?\")"
   ]
  },
  {
   "cell_type": "code",
   "execution_count": 8,
   "id": "f900e40e",
   "metadata": {},
   "outputs": [
    {
     "name": "stdout",
     "output_type": "stream",
     "text": [
      "query=' ' filter=Operation(operator=<Operator.AND: 'and'>, arguments=[Comparison(comparator=<Comparator.GTE: 'gte'>, attribute='rating', value=8.5), Comparison(comparator=<Comparator.EQ: 'eq'>, attribute='genre', value='science fiction')]) limit=None\n"
     ]
    },
    {
     "data": {
      "text/plain": [
       "[Document(page_content='Three men walk into the Zone, three men walk out of the Zone', metadata={'year': 1979, 'genre': 'science fiction', 'rating': 9.9, 'director': 'Andrei Tarkovsky'})]"
      ]
     },
     "execution_count": 8,
     "metadata": {},
     "output_type": "execute_result"
    }
   ],
   "source": [
    "# This example specifies a composite filter\n",
    "retriever.get_relevant_documents(\n",
    "    \"What's a highly rated (above 8.5) science fiction film?\"\n",
    ")"
   ]
  },
  {
   "cell_type": "code",
   "execution_count": 9,
   "id": "12a51522",
   "metadata": {},
   "outputs": [
    {
     "name": "stdout",
     "output_type": "stream",
     "text": [
      "query='toys' filter=Operation(operator=<Operator.AND: 'and'>, arguments=[Comparison(comparator=<Comparator.GT: 'gt'>, attribute='year', value=1990), Comparison(comparator=<Comparator.LTE: 'lte'>, attribute='year', value=2005), Comparison(comparator=<Comparator.LIKE: 'like'>, attribute='genre', value='animated')]) limit=None\n"
     ]
    },
    {
     "data": {
      "text/plain": [
       "[Document(page_content='Toys come alive and have a blast doing so', metadata={'year': 1995, 'genre': 'animated'})]"
      ]
     },
     "execution_count": 9,
     "metadata": {},
     "output_type": "execute_result"
    }
   ],
   "source": [
    "# This example specifies a query and composite filter\n",
    "retriever.get_relevant_documents(\n",
    "    \"What's a movie after 1990 but before (or on) 2005 that's all about toys, and preferably is animated\"\n",
    ")"
   ]
  },
  {
   "cell_type": "markdown",
   "id": "39bd1de1-b9fe-4a98-89da-58d8a7a6ae51",
   "metadata": {},
   "source": [
    "## Filter k | フィルター k\n",
    "\n",
    "self query retrieverを使用して、取得するドキュメントの数`k`を指定することもできます。\n",
    "\n",
    "> We can also use the self query retriever to specify `k`: the number of documents to fetch.\n",
    "\n",
    "これを行うには、コンストラクタに `enable_limit=True` を渡すことで実現できます。\n",
    "\n",
    "> We can do this by passing `enable_limit=True` to the constructor.\n",
    "\n",
    "\n"
   ]
  },
  {
   "cell_type": "code",
   "execution_count": 10,
   "id": "bff36b88-b506-4877-9c63-e5a1a8d78e64",
   "metadata": {
    "tags": []
   },
   "outputs": [],
   "source": [
    "retriever = SelfQueryRetriever.from_llm(\n",
    "    llm,\n",
    "    vectorstore,\n",
    "    document_content_description,\n",
    "    metadata_field_info,\n",
    "    enable_limit=True,\n",
    "    verbose=True,\n",
    ")"
   ]
  },
  {
   "cell_type": "code",
   "execution_count": 11,
   "id": "2758d229-4f97-499c-819f-888acaf8ee10",
   "metadata": {
    "tags": []
   },
   "outputs": [
    {
     "name": "stdout",
     "output_type": "stream",
     "text": [
      "query='dinosaur' filter=None limit=2\n"
     ]
    },
    {
     "data": {
      "text/plain": [
       "[Document(page_content='A bunch of scientists bring back dinosaurs and mayhem breaks loose', metadata={'year': 1993, 'genre': 'science fiction', 'rating': 7.7}),\n",
       " Document(page_content='Toys come alive and have a blast doing so', metadata={'year': 1995, 'genre': 'animated'})]"
      ]
     },
     "execution_count": 11,
     "metadata": {},
     "output_type": "execute_result"
    }
   ],
   "source": [
    "# This example only specifies a relevant query\n",
    "retriever.get_relevant_documents(\"what are two movies about dinosaurs\")"
   ]
  }
 ],
 "metadata": {
  "kernelspec": {
   "display_name": "Python 3 (ipykernel)",
   "language": "python",
   "name": "python3"
  },
  "language_info": {
   "codemirror_mode": {
    "name": "ipython",
    "version": 3
   },
   "file_extension": ".py",
   "mimetype": "text/x-python",
   "name": "python",
   "nbconvert_exporter": "python",
   "pygments_lexer": "ipython3",
   "version": "3.10.12"
  }
 },
 "nbformat": 4,
 "nbformat_minor": 5
}