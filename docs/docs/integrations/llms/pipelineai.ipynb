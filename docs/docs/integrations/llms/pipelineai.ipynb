{
 "cells": [
  {
   "cell_type": "markdown",
   "metadata": {},
   "source": [
    "# PipelineAI | PipelineAI",
    "",
    "> [PipelineAI](https://pipeline.ai)は、クラウド上で機械学習モデルをスケールで実行することを可能にします。また、[複数のLLMモデル](https://pipeline.ai)にAPI経由でアクセスすることもできます。",
    ">",
    "> > [PipelineAI](https://pipeline.ai) allows you to run your ML models at scale in the cloud. It also provides API access to [several LLM models](https://pipeline.ai).",
    "",
    "このノートブックでは、[PipelineAI](https://docs.pipeline.ai/docs)を使用してLangchainを使う方法について説明します。",
    "",
    "> This notebook goes over how to use Langchain with [PipelineAI](https://docs.pipeline.ai/docs).",
    "",
    "## PipelineAI example | PipelineAIの例",
    "",
    "この例は、[PipelineAIがLangChainとどのように統合されているかを示しています](https://docs.pipeline.ai/docs/langchain)。これはPipelineAIによって作成されたものです。",
    "",
    "> [This example shows how PipelineAI integrated with LangChain](https://docs.pipeline.ai/docs/langchain) and it is created by PipelineAI.",
    ""
   ]
  },
  {
   "cell_type": "markdown",
   "metadata": {},
   "source": [
    "## Setup | セットアップ",
    "",
    "`PipelineAI` API、または`Pipeline Cloud`としても知られる機能を使用するためには、`pipeline-ai`ライブラリが必要です。`pip install pipeline-ai`と入力して`pipeline-ai`をインストールしてください。",
    "",
    "> The `pipeline-ai` library is required to use the `PipelineAI` API, AKA `Pipeline Cloud`. Install `pipeline-ai` using `pip install pipeline-ai`.",
    ""
   ]
  },
  {
   "cell_type": "code",
   "execution_count": null,
   "metadata": {},
   "outputs": [],
   "source": [
    "# Install the package\n",
    "!pip install pipeline-ai"
   ]
  },
  {
   "cell_type": "markdown",
   "metadata": {},
   "source": [
    "## Example | 例",
    "",
    "### Imports | インポート",
    ""
   ]
  },
  {
   "cell_type": "code",
   "execution_count": null,
   "metadata": {},
   "outputs": [],
   "source": [
    "import os\n",
    "\n",
    "from langchain.chains import LLMChain\n",
    "from langchain.llms import PipelineAI\n",
    "from langchain.prompts import PromptTemplate"
   ]
  },
  {
   "cell_type": "markdown",
   "metadata": {},
   "source": [
    "### Set the Environment API Key | 環境APIキーを設定",
    "",
    "PipelineAIからあなたのAPIキーを取得してください。[クラウドクイックスタートガイド](https://docs.pipeline.ai/docs/cloud-quickstart)をご覧ください。30日間の無料トライアルが提供され、様々なモデルをテストするためのサーバーレスGPUコンピュートを10時間利用できます。",
    "",
    "> Make sure to get your API key from PipelineAI. Check out the [cloud quickstart guide](https://docs.pipeline.ai/docs/cloud-quickstart). You'll be given a 30 day free trial with 10 hours of serverless GPU compute to test different models.",
    ""
   ]
  },
  {
   "cell_type": "code",
   "execution_count": null,
   "metadata": {},
   "outputs": [],
   "source": [
    "os.environ[\"PIPELINE_API_KEY\"] = \"YOUR_API_KEY_HERE\""
   ]
  },
  {
   "cell_type": "markdown",
   "metadata": {},
   "source": [
    "## Create the PipelineAI instance | PipelineAIインスタンスを作成する",
    "",
    "PipelineAIをインスタンス化する際には、使用したいパイプラインのIDまたはタグを指定する必要があります。例えば、`pipeline_key = \"public/gpt-j:base\"`のように指定します。その後、パイプライン固有の追加のキーワード引数を渡すオプションがあります：",
    "",
    "> When instantiating PipelineAI, you need to specify the id or tag of the pipeline you want to use, e.g. `pipeline_key = \"public/gpt-j:base\"`. You then have the option of passing additional pipeline-specific keyword arguments:",
    ""
   ]
  },
  {
   "cell_type": "code",
   "execution_count": null,
   "metadata": {},
   "outputs": [],
   "source": [
    "llm = PipelineAI(pipeline_key=\"YOUR_PIPELINE_KEY\", pipeline_kwargs={...})"
   ]
  },
  {
   "cell_type": "markdown",
   "metadata": {},
   "source": [
    "### Create a Prompt Template | プロンプトテンプレートを作成する",
    "",
    "質問と回答のためのプロンプトテンプレートを作成します。",
    "",
    "> We will create a prompt template for Question and Answer.",
    ""
   ]
  },
  {
   "cell_type": "code",
   "execution_count": null,
   "metadata": {},
   "outputs": [],
   "source": [
    "template = \"\"\"Question: {question}\n",
    "\n",
    "Answer: Let's think step by step.\"\"\"\n",
    "\n",
    "prompt = PromptTemplate(template=template, input_variables=[\"question\"])"
   ]
  },
  {
   "cell_type": "markdown",
   "metadata": {},
   "source": [
    "### Initiate the LLMChain | LLMChainを開始する",
    ""
   ]
  },
  {
   "cell_type": "code",
   "execution_count": null,
   "metadata": {},
   "outputs": [],
   "source": [
    "llm_chain = LLMChain(prompt=prompt, llm=llm)"
   ]
  },
  {
   "cell_type": "markdown",
   "metadata": {},
   "source": [
    "### Run the LLMChain | LLMChainを実行する",
    "",
    "質問を提供して、LLMChainを実行してください。",
    "",
    "> Provide a question and run the LLMChain.",
    ""
   ]
  },
  {
   "cell_type": "code",
   "execution_count": null,
   "metadata": {},
   "outputs": [],
   "source": [
    "question = \"What NFL team won the Super Bowl in the year Justin Beiber was born?\"\n",
    "\n",
    "llm_chain.run(question)"
   ]
  }
 ],
 "metadata": {
  "kernelspec": {
   "display_name": "Python 3 (ipykernel)",
   "language": "python",
   "name": "python3"
  },
  "language_info": {
   "codemirror_mode": {
    "name": "ipython",
    "version": 3
   },
   "file_extension": ".py",
   "mimetype": "text/x-python",
   "name": "python",
   "nbconvert_exporter": "python",
   "pygments_lexer": "ipython3",
   "version": "3.10.12"
  },
  "vscode": {
   "interpreter": {
    "hash": "a0a0263b650d907a3bfe41c0f8d6a63a071b884df3cfdc1579f00cdc1aed6b03"
   }
  }
 },
 "nbformat": 4,
 "nbformat_minor": 4
}