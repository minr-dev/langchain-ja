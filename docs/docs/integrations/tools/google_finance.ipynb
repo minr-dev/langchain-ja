{
 "cells": [
  {
   "cell_type": "markdown",
   "metadata": {},
   "source": [
    "# Google Finance | Google Finance",
    "",
    "このノートブックでは、Google Finance Toolを使用してGoogle Financeページから情報を取得する方法について説明しています",
    "",
    "> This notebook goes over how to use the Google Finance Tool to get information from the Google Finance page",
    "",
    "SerpApiのキーを取得するには、次のURLでサインアップしてください: https://serpapi.com/users/sign\\_up。",
    "",
    "> To get an SerpApi key key, sign up at: https://serpapi.com/users/sign\\_up.",
    "",
    "次に、以下のコマンドでgoogle-search-resultsをインストールしてください：",
    "",
    "> Then install google-search-results with the command:",
    "",
    "pip install google-search-results",
    "",
    "> pip install google-search-results",
    "",
    "次に、環境変数 SERPAPI\\_API\\_KEY にあなたの SerpApi キーを設定してください",
    "",
    "> Then set the environment variable SERPAPI\\_API\\_KEY to your SerpApi key",
    "",
    "または、ラッパーに 'serp\\_api\\_key=\"your secret key\"' を引数として渡してください",
    "",
    "> Or pass the key in as a argument to the wrapper serp\\_api\\_key=\"your secret key\"",
    ""
   ]
  },
  {
   "cell_type": "markdown",
   "metadata": {},
   "source": [
    "ツールを使用する",
    "",
    "> Use the Tool",
    ""
   ]
  },
  {
   "cell_type": "code",
   "execution_count": null,
   "metadata": {},
   "outputs": [],
   "source": [
    "!pip install google-search-results"
   ]
  },
  {
   "cell_type": "code",
   "execution_count": 9,
   "metadata": {},
   "outputs": [],
   "source": [
    "import os\n",
    "\n",
    "from langchain.tools.google_finance import GoogleFinanceQueryRun\n",
    "from langchain.utilities.google_finance import GoogleFinanceAPIWrapper\n",
    "\n",
    "os.environ[\"SERPAPI_API_KEY\"] = \"\"\n",
    "tool = GoogleFinanceQueryRun(api_wrapper=GoogleFinanceAPIWrapper())"
   ]
  },
  {
   "cell_type": "code",
   "execution_count": null,
   "metadata": {},
   "outputs": [],
   "source": [
    "tool.run(\"Google\")"
   ]
  },
  {
   "cell_type": "markdown",
   "metadata": {},
   "source": [
    "Langchainでの使用方法",
    "",
    "> Using it with Langchain",
    ""
   ]
  },
  {
   "cell_type": "code",
   "execution_count": null,
   "metadata": {},
   "outputs": [],
   "source": [
    "import os\n",
    "\n",
    "from langchain.agents import AgentType, initialize_agent, load_tools\n",
    "from langchain.llms import OpenAI\n",
    "\n",
    "os.environ[\"OPENAI_API_KEY\"] = \"\"\n",
    "os.environ[\"SERP_API_KEY\"] = \"\"\n",
    "llm = OpenAI()\n",
    "tools = load_tools([\"google-scholar\", \"google-finance\"], llm=llm)\n",
    "agent = initialize_agent(\n",
    "    tools, llm, agent=AgentType.ZERO_SHOT_REACT_DESCRIPTION, verbose=True\n",
    ")\n",
    "agent.run(\"what is google's stock\")"
   ]
  }
 ],
 "metadata": {
  "kernelspec": {
   "display_name": "Python 3",
   "language": "python",
   "name": "python3"
  },
  "language_info": {
   "codemirror_mode": {
    "name": "ipython",
    "version": 3
   },
   "file_extension": ".py",
   "mimetype": "text/x-python",
   "name": "python",
   "nbconvert_exporter": "python",
   "pygments_lexer": "ipython3",
   "version": "3.9.5"
  }
 },
 "nbformat": 4,
 "nbformat_minor": 2
}