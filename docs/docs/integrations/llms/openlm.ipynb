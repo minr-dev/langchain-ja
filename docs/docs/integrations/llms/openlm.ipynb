{
 "cells": [
  {
   "cell_type": "markdown",
   "metadata": {},
   "source": [
    "# OpenLM | OpenLM\n",
    "\n",
    "[OpenLM](https://github.com/r2d4/openlm)は、HTTPを通じて直接異なる推論エンドポイントを呼び出すことができる、ゼロ依存のOpenAI互換LLMプロバイダーです。\n",
    "\n",
    "> [OpenLM](https://github.com/r2d4/openlm) is a zero-dependency OpenAI-compatible LLM provider that can call different inference endpoints directly via HTTP.\n",
    "\n",
    "OpenAI Completion クラスを実装しているため、OpenAI APIの代替としてそのまま使用することができます。この変更セットは、追加コードを最小限にするために BaseOpenAI を活用しています。\n",
    "\n",
    "> It implements the OpenAI Completion class so that it can be used as a drop-in replacement for the OpenAI API. This changeset utilizes BaseOpenAI for minimal added code.\n",
    "\n",
    "この例では、LangChainを使用してOpenAIとHuggingFaceの両方と対話する方法について説明します。両方からAPIキーが必要になります。\n",
    "\n",
    "> This examples goes over how to use LangChain to interact with both OpenAI and HuggingFace. You'll need API keys from both.\n",
    "\n"
   ]
  },
  {
   "cell_type": "markdown",
   "metadata": {},
   "source": [
    "### Setup | セットアップ\n",
    "\n",
    "依存関係をインストールし、APIキーを設定してください。\n",
    "\n",
    "> Install dependencies and set API keys.\n",
    "\n"
   ]
  },
  {
   "cell_type": "code",
   "execution_count": 1,
   "metadata": {},
   "outputs": [],
   "source": [
    "# Uncomment to install openlm and openai if you haven't already\n",
    "\n",
    "# !pip install openlm\n",
    "# !pip install openai"
   ]
  },
  {
   "cell_type": "code",
   "execution_count": 2,
   "metadata": {},
   "outputs": [],
   "source": [
    "import os\n",
    "from getpass import getpass\n",
    "\n",
    "# Check if OPENAI_API_KEY environment variable is set\n",
    "if \"OPENAI_API_KEY\" not in os.environ:\n",
    "    print(\"Enter your OpenAI API key:\")\n",
    "    os.environ[\"OPENAI_API_KEY\"] = getpass()\n",
    "\n",
    "# Check if HF_API_TOKEN environment variable is set\n",
    "if \"HF_API_TOKEN\" not in os.environ:\n",
    "    print(\"Enter your HuggingFace Hub API key:\")\n",
    "    os.environ[\"HF_API_TOKEN\"] = getpass()"
   ]
  },
  {
   "cell_type": "markdown",
   "metadata": {},
   "source": [
    "### Using LangChain with OpenLM | OpenLMを用いたLangChainの使用方法\n",
    "\n",
    "ここでは、LLMChainを使用して、OpenAIの`text-davinci-003`とHuggingFaceの`gpt2`という二つのモデルを呼び出すことになります。\n",
    "\n",
    "> Here we're going to call two models in an LLMChain, `text-davinci-003` from OpenAI and `gpt2` on HuggingFace.\n",
    "\n"
   ]
  },
  {
   "cell_type": "code",
   "execution_count": 4,
   "metadata": {},
   "outputs": [],
   "source": [
    "from langchain.chains import LLMChain\n",
    "from langchain.llms import OpenLM\n",
    "from langchain.prompts import PromptTemplate"
   ]
  },
  {
   "cell_type": "code",
   "execution_count": 5,
   "metadata": {},
   "outputs": [
    {
     "name": "stdout",
     "output_type": "stream",
     "text": [
      "Model: text-davinci-003\n",
      "Result:  France is a country in Europe. The capital of France is Paris.\n",
      "Model: huggingface.co/gpt2\n",
      "Result: Question: What is the capital of France?\n",
      "\n",
      "Answer: Let's think step by step. I am not going to lie, this is a complicated issue, and I don't see any solutions to all this, but it is still far more\n"
     ]
    }
   ],
   "source": [
    "question = \"What is the capital of France?\"\n",
    "template = \"\"\"Question: {question}\n",
    "\n",
    "Answer: Let's think step by step.\"\"\"\n",
    "\n",
    "prompt = PromptTemplate(template=template, input_variables=[\"question\"])\n",
    "\n",
    "for model in [\"text-davinci-003\", \"huggingface.co/gpt2\"]:\n",
    "    llm = OpenLM(model=model)\n",
    "    llm_chain = LLMChain(prompt=prompt, llm=llm)\n",
    "    result = llm_chain.run(question)\n",
    "    print(\n",
    "        \"\"\"Model: {}\n",
    "Result: {}\"\"\".format(model, result)\n",
    "    )"
   ]
  }
 ],
 "metadata": {
  "kernelspec": {
   "display_name": "Python 3 (ipykernel)",
   "language": "python",
   "name": "python3"
  },
  "language_info": {
   "codemirror_mode": {
    "name": "ipython",
    "version": 3
   },
   "file_extension": ".py",
   "mimetype": "text/x-python",
   "name": "python",
   "nbconvert_exporter": "python",
   "pygments_lexer": "ipython3",
   "version": "3.11.3"
  }
 },
 "nbformat": 4,
 "nbformat_minor": 2
}