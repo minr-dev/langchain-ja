{
 "cells": [
  {
   "cell_type": "markdown",
   "metadata": {},
   "source": [
    "# EDEN AI | EDEN AI",
    ""
   ]
  },
  {
   "cell_type": "markdown",
   "metadata": {},
   "source": [
    "Eden AIは、最高のAIプロバイダーを統合することでAIの世界を革新しており、ユーザーが人工知能の真の潜在能力を引き出し、無限の可能性を解き放つことを可能にしています。全てを一つに集約した使いやすく、手間のかからないプラットフォームを提供し、ユーザーが瞬く間にAI機能を本番環境に展開できるようにして、単一のAPIを通じてAIの全範囲の機能へのアクセスを容易にしています。(ウェブサイト: https://edenai.co/)",
    "",
    "> Eden AI is revolutionizing the AI landscape by uniting the best AI providers, empowering users to unlock limitless possibilities and tap into the true potential of artificial intelligence. With an all-in-one comprehensive and hassle-free platform, it allows users to deploy AI features to production lightning fast, enabling effortless access to the full breadth of AI capabilities via a single API. (website: https://edenai.co/)",
    ""
   ]
  },
  {
   "cell_type": "markdown",
   "metadata": {},
   "source": [
    "この例では、LangChainを使用してEden AIの埋め込みモデルと対話する方法について説明します",
    "",
    "> This example goes over how to use LangChain to interact with Eden AI embedding models",
    "",
    "***",
    ""
   ]
  },
  {
   "cell_type": "markdown",
   "metadata": {},
   "source": [
    "EDENAIのAPIにアクセスするには、APIキーが必要です。",
    "",
    "> Accessing the EDENAI's API requires an API key,",
    "",
    "アカウントを作成することで取得できます。アカウントの作成はこちら https://app.edenai.run/user/register から行い、その後こちら https://app.edenai.run/admin/account/settings に進んでください。",
    "",
    "> which you can get by creating an account https://app.edenai.run/user/register  and heading here https://app.edenai.run/admin/account/settings",
    "",
    "キーを取得したら、次のコマンドを実行して環境変数として設定します：",
    "",
    "> Once we have a key we'll want to set it as an environment variable by running:",
    "",
    "```shell",
    "export EDENAI_API_KEY=\"...\"",
    "```",
    ""
   ]
  },
  {
   "cell_type": "markdown",
   "metadata": {},
   "source": [
    "環境変数を設定したくない場合は、edenai\\_api\\_keyという名前のパラメータを使用してキーを直接渡すことができます",
    "",
    "> If you'd prefer not to set an environment variable you can pass the key in directly via the edenai\\_api\\_key named parameter",
    "",
    "EdenAIの埋め込みクラスを初期化する際に：",
    "",
    "> when initiating the EdenAI embedding class:",
    ""
   ]
  },
  {
   "cell_type": "code",
   "execution_count": 1,
   "metadata": {},
   "outputs": [],
   "source": [
    "from langchain.embeddings.edenai import EdenAiEmbeddings"
   ]
  },
  {
   "cell_type": "code",
   "execution_count": 12,
   "metadata": {},
   "outputs": [],
   "source": [
    "embeddings = EdenAiEmbeddings(edenai_api_key=\"...\", provider=\"...\")"
   ]
  },
  {
   "cell_type": "markdown",
   "metadata": {},
   "source": [
    "## Calling a model | モデルを呼び出す",
    ""
   ]
  },
  {
   "cell_type": "markdown",
   "metadata": {},
   "source": [
    "EdenAI APIは、様々なプロバイダーを一つにまとめています。",
    "",
    "> The EdenAI API brings together various providers.",
    "",
    "特定のモデルにアクセスするには、呼び出す際に「provider」を単に使用します。",
    "",
    "> To access a specific model, you can simply use the \"provider\" when calling.",
    ""
   ]
  },
  {
   "cell_type": "code",
   "execution_count": 13,
   "metadata": {},
   "outputs": [],
   "source": [
    "embeddings = EdenAiEmbeddings(provider=\"openai\")"
   ]
  },
  {
   "cell_type": "code",
   "execution_count": 14,
   "metadata": {},
   "outputs": [],
   "source": [
    "docs = [\"It's raining right now\", \"cats are cute\"]\n",
    "document_result = embeddings.embed_documents(docs)"
   ]
  },
  {
   "cell_type": "code",
   "execution_count": 15,
   "metadata": {},
   "outputs": [],
   "source": [
    "query = \"my umbrella is broken\"\n",
    "query_result = embeddings.embed_query(query)"
   ]
  },
  {
   "cell_type": "code",
   "execution_count": 16,
   "metadata": {},
   "outputs": [
    {
     "name": "stdout",
     "output_type": "stream",
     "text": [
      "Cosine similarity between \"It's raining right now\" and query: 0.849261496107252\n",
      "Cosine similarity between \"cats are cute\" and query: 0.7525900655705218\n"
     ]
    }
   ],
   "source": [
    "import numpy as np\n",
    "\n",
    "query_numpy = np.array(query_result)\n",
    "for doc_res, doc in zip(document_result, docs):\n",
    "    document_numpy = np.array(doc_res)\n",
    "    similarity = np.dot(query_numpy, document_numpy) / (\n",
    "        np.linalg.norm(query_numpy) * np.linalg.norm(document_numpy)\n",
    "    )\n",
    "    print(f'Cosine similarity between \"{doc}\" and query: {similarity}')"
   ]
  }
 ],
 "metadata": {
  "kernelspec": {
   "display_name": ".venv",
   "language": "python",
   "name": "python3"
  },
  "language_info": {
   "codemirror_mode": {
    "name": "ipython",
    "version": 3
   },
   "file_extension": ".py",
   "mimetype": "text/x-python",
   "name": "python",
   "nbconvert_exporter": "python",
   "pygments_lexer": "ipython3",
   "version": "3.10.11"
  },
  "orig_nbformat": 4
 },
 "nbformat": 4,
 "nbformat_minor": 2
}