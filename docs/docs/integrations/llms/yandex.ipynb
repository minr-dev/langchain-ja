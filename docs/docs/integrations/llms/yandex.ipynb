{
 "cells": [
  {
   "cell_type": "markdown",
   "metadata": {},
   "source": [
    "# YandexGPT | YandexGPT\n",
    "\n",
    "このノートブックでは、[YandexGPT](https://cloud.yandex.com/en/services/yandexgpt)を使ってLangchainを使用する方法について説明します。\n",
    "\n",
    "> This notebook goes over how to use Langchain with [YandexGPT](https://cloud.yandex.com/en/services/yandexgpt).\n",
    "\n",
    "使用するには、`yandexcloud` Pythonパッケージがインストールされている必要があります。\n",
    "\n",
    "> To use, you should have the `yandexcloud` python package installed.\n",
    "\n",
    "\n"
   ]
  },
  {
   "cell_type": "code",
   "execution_count": null,
   "metadata": {},
   "outputs": [],
   "source": [
    "%pip install yandexcloud"
   ]
  },
  {
   "cell_type": "markdown",
   "metadata": {},
   "source": [
    "まず、`ai.languageModels.user` ロールを持つ[サービスアカウントを作成](https://cloud.yandex.com/en/docs/iam/operations/sa/create)してください。\n",
    "\n",
    "> First, you should [create service account](https://cloud.yandex.com/en/docs/iam/operations/sa/create) with the `ai.languageModels.user` role.\n",
    "\n",
    "次に、2つの認証オプションがあります：\n",
    "\n",
    "> Next, you have two authentication options:\n",
    "\n",
    "* [IAMトークン](https://cloud.yandex.com/en/docs/iam/operations/iam-token/create-for-sa)は、コンストラクタのパラメータ`iam_token`で指定するか、または環境変数`YC_IAM_TOKEN`で指定できます。\n",
    "\n",
    "  > [IAM token](https://cloud.yandex.com/en/docs/iam/operations/iam-token/create-for-sa).\n",
    "  > You can specify the token in a constructor parameter `iam_token` or in an environment variable `YC_IAM_TOKEN`.\n",
    "\n",
    "\n",
    "* [APIキー](https://cloud.yandex.com/en/docs/iam/operations/api-key/create)は、コンストラクタのパラメータ`api_key`で指定することも、環境変数`YC_API_KEY`で指定することもできます。\n",
    "\n",
    "  > [API key](https://cloud.yandex.com/en/docs/iam/operations/api-key/create)\n",
    "  > You can specify the key in a constructor parameter `api_key` or in an environment variable `YC_API_KEY`.\n",
    "\n",
    "\n",
    "`model_uri` パラメータを使用してモデルを指定できます。詳細は[ドキュメント](https://cloud.yandex.com/en/docs/yandexgpt/concepts/models#yandexgpt-generation)をご覧ください。\n",
    "\n",
    "> To specify the model you can use `model_uri` parameter, see [the documentation](https://cloud.yandex.com/en/docs/yandexgpt/concepts/models#yandexgpt-generation) for more details.\n",
    "\n",
    "デフォルトでは、`folder_id` パラメータまたは `YC_FOLDER_ID` 環境変数で指定されたフォルダから、`yandexgpt-lite` の最新バージョンが使用されます。\n",
    "\n",
    "> By default, the latest version of `yandexgpt-lite` is used from the folder specified in the parameter `folder_id` or `YC_FOLDER_ID` environment variable.\n",
    "\n",
    "\n"
   ]
  },
  {
   "cell_type": "code",
   "execution_count": 1,
   "metadata": {},
   "outputs": [],
   "source": [
    "from langchain.chains import LLMChain\n",
    "from langchain.llms import YandexGPT\n",
    "from langchain.prompts import PromptTemplate"
   ]
  },
  {
   "cell_type": "code",
   "execution_count": 2,
   "metadata": {},
   "outputs": [],
   "source": [
    "template = \"What is the capital of {country}?\"\n",
    "prompt = PromptTemplate(template=template, input_variables=[\"country\"])"
   ]
  },
  {
   "cell_type": "code",
   "execution_count": 3,
   "metadata": {},
   "outputs": [],
   "source": [
    "llm = YandexGPT()"
   ]
  },
  {
   "cell_type": "code",
   "execution_count": 4,
   "metadata": {},
   "outputs": [],
   "source": [
    "llm_chain = LLMChain(prompt=prompt, llm=llm)"
   ]
  },
  {
   "cell_type": "code",
   "execution_count": 5,
   "metadata": {},
   "outputs": [
    {
     "data": {
      "text/plain": [
       "'The capital of Russia is Moscow.'"
      ]
     },
     "execution_count": 5,
     "metadata": {},
     "output_type": "execute_result"
    }
   ],
   "source": [
    "country = \"Russia\"\n",
    "\n",
    "llm_chain.run(country)"
   ]
  }
 ],
 "metadata": {
  "kernelspec": {
   "display_name": "Python 3 (ipykernel)",
   "language": "python",
   "name": "python3"
  },
  "language_info": {
   "codemirror_mode": {
    "name": "ipython",
    "version": 3
   },
   "file_extension": ".py",
   "mimetype": "text/x-python",
   "name": "python",
   "nbconvert_exporter": "python",
   "pygments_lexer": "ipython3",
   "version": "3.10.13"
  }
 },
 "nbformat": 4,
 "nbformat_minor": 4
}