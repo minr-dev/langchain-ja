{
 "cells": [
  {
   "cell_type": "markdown",
   "id": "ab66dd43",
   "metadata": {},
   "source": [
    "# kNN | kNN\n",
    "\n",
    "> 統計学において、[k-最近傍アルゴリズム (k-NN)](https://en.wikipedia.org/wiki/K-nearest_neighbors_algorithm)は、1951年にEvelyn FixとJoseph Hodgesによって初めて開発され、その後Thomas Coverによって拡張された非パラメトリックな教師あり学習法です。分類と回帰の両方に使用されます。\n",
    ">\n",
    "> > In statistics, the [k-nearest neighbors algorithm (k-NN)](https://en.wikipedia.org/wiki/K-nearest_neighbors_algorithm) is a non-parametric supervised learning method first developed by Evelyn Fix and Joseph Hodges in 1951, and later expanded by Thomas Cover. It is used for classification and regression.\n",
    "\n",
    "このノートブックでは、内部でkNNを使用するリトリーバーの使用方法について説明します。\n",
    "\n",
    "> This notebook goes over how to use a retriever that under the hood uses an kNN.\n",
    "\n",
    "主に https://github.com/karpathy/randomfun/blob/master/knn\\_vs\\_svm.html を基にしています\n",
    "\n",
    "> Largely based on https://github.com/karpathy/randomfun/blob/master/knn\\_vs\\_svm.html\n",
    "\n"
   ]
  },
  {
   "cell_type": "code",
   "execution_count": 1,
   "id": "393ac030",
   "metadata": {},
   "outputs": [],
   "source": [
    "from langchain.embeddings import OpenAIEmbeddings\n",
    "from langchain.retrievers import KNNRetriever"
   ]
  },
  {
   "cell_type": "markdown",
   "id": "aaf80e7f",
   "metadata": {},
   "source": [
    "## Create New Retriever with Texts | テキストを使って新しいRetrieverを作成する\n",
    "\n"
   ]
  },
  {
   "cell_type": "code",
   "execution_count": 2,
   "id": "98b1c017",
   "metadata": {},
   "outputs": [],
   "source": [
    "retriever = KNNRetriever.from_texts(\n",
    "    [\"foo\", \"bar\", \"world\", \"hello\", \"foo bar\"], OpenAIEmbeddings()\n",
    ")"
   ]
  },
  {
   "cell_type": "markdown",
   "id": "08437fa2",
   "metadata": {},
   "source": [
    "## Use Retriever | Retrieverの使用\n",
    "\n",
    "これで、リトリーバーを使用することができます！\n",
    "\n",
    "> We can now use the retriever!\n",
    "\n"
   ]
  },
  {
   "cell_type": "code",
   "execution_count": 3,
   "id": "c0455218",
   "metadata": {},
   "outputs": [],
   "source": [
    "result = retriever.get_relevant_documents(\"foo\")"
   ]
  },
  {
   "cell_type": "code",
   "execution_count": 4,
   "id": "7dfa5c29",
   "metadata": {},
   "outputs": [
    {
     "data": {
      "text/plain": [
       "[Document(page_content='foo', metadata={}),\n",
       " Document(page_content='foo bar', metadata={}),\n",
       " Document(page_content='hello', metadata={}),\n",
       " Document(page_content='bar', metadata={})]"
      ]
     },
     "execution_count": 4,
     "metadata": {},
     "output_type": "execute_result"
    }
   ],
   "source": [
    "result"
   ]
  }
 ],
 "metadata": {
  "kernelspec": {
   "display_name": "Python 3 (ipykernel)",
   "language": "python",
   "name": "python3"
  },
  "language_info": {
   "codemirror_mode": {
    "name": "ipython",
    "version": 3
   },
   "file_extension": ".py",
   "mimetype": "text/x-python",
   "name": "python",
   "nbconvert_exporter": "python",
   "pygments_lexer": "ipython3",
   "version": "3.10.6"
  }
 },
 "nbformat": 4,
 "nbformat_minor": 5
}