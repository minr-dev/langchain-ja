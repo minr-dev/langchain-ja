{
 "cells": [
  {
   "cell_type": "markdown",
   "metadata": {},
   "source": [
    "# Alibaba Cloud OpenSearch | Alibaba Cloud OpenSearch",
    "",
    "> [Alibaba Cloud Opensearch](https://www.alibabacloud.com/product/opensearch)は、インテリジェントな検索サービスを開発するためのワンストッププラットフォームです。`OpenSearch`は、`Alibaba`によって開発された大規模分散検索エンジンに基づいて構築されました。`OpenSearch`は、アリババグループで500以上のビジネスケースに利用され、数千のアリババクラウドの顧客にもサービスを提供しています。`OpenSearch`は、電子商取引、O2O、マルチメディア、コンテンツ産業、コミュニティやフォーラム、企業内のビッグデータクエリなど、さまざまな検索シナリオにおいて検索サービスの開発を支援します。",
    ">",
    "> > [Alibaba Cloud Opensearch](https://www.alibabacloud.com/product/opensearch) is a one-stop platform to develop intelligent search services. `OpenSearch` was built on the large-scale distributed search engine developed by `Alibaba`. `OpenSearch` serves more than 500 business cases in Alibaba Group and thousands of Alibaba Cloud customers. `OpenSearch` helps develop search services in different search scenarios, including e-commerce, O2O, multimedia, the content industry, communities and forums, and big data query in enterprises.",
    "",
    "> `OpenSearch`は、高品質でメンテナンス不要、かつ高性能なインテリジェント検索サービスの開発を支援し、ユーザーに高い検索効率と正確さを提供します。",
    ">",
    "> > `OpenSearch` helps you develop high-quality, maintenance-free, and high-performance intelligent search services to provide your users with high search efficiency and accuracy.",
    "",
    "> `OpenSearch`はベクター検索機能を提供しています。特定のシナリオ、特にテスト問題の検索や画像検索のシナリオでは、ベクター検索機能をマルチモーダル検索機能と組み合わせて使用することで、検索結果の精度を向上させることができます。",
    ">",
    "> > `OpenSearch` provides the vector search feature. In specific scenarios, especially test question search and image search scenarios, you can use the vector search feature together with the multimodal search feature to improve the accuracy of search results.",
    "",
    "このノートブックは、`Alibaba Cloud OpenSearch Vector Search Edition`に関連する機能の使用方法を示しています。",
    "",
    "> This notebook shows how to use functionality related to the `Alibaba Cloud OpenSearch Vector Search Edition`.",
    ""
   ]
  },
  {
   "cell_type": "markdown",
   "metadata": {},
   "source": [
    "## Setting up | セットアップ",
    "",
    "### Purchase an instance and configure it | インスタンスを購入して設定する",
    "",
    "[Alibaba Cloud](https://opensearch.console.aliyun.com)からOpenSearch Vector Search Editionを購入し、ヘルプ[ドキュメント](https://help.aliyun.com/document_detail/463198.html?spm=a2c4g.465092.0.0.2cd15002hdwavO)に従ってインスタンスを構成してください。",
    "",
    "> Purchase OpenSearch Vector Search Edition from [Alibaba Cloud](https://opensearch.console.aliyun.com) and configure the instance according to the help [documentation](https://help.aliyun.com/document_detail/463198.html?spm=a2c4g.465092.0.0.2cd15002hdwavO).",
    "",
    "実行するには、[OpenSearch Vector Search Edition](https://opensearch.console.aliyun.com)のインスタンスが起動して動作している必要があります。",
    "",
    "> To run, you should have an [OpenSearch Vector Search Edition](https://opensearch.console.aliyun.com) instance up and running.",
    "",
    "### Alibaba Cloud OpenSearch Vector Store class | Alibaba Cloud OpenSearchベクターストアクラス",
    "",
    "```",
    "                                                                                                            `AlibabaCloudOpenSearch` class supports functions:",
    "```",
    "",
    "* `add_texts`",
    "  > `add_texts`",
    "* `add_documents`は、文書をシステムに追加する機能です。",
    "  > `add_documents`",
    "* `from_texts`",
    "  > `from_texts`",
    "* `from_documents`",
    "  > `from_documents`",
    "* `similarity_search`（類似性検索）",
    "  > `similarity_search`",
    "* `asimilarity_search`",
    "  > `asimilarity_search`",
    "* `similarity_search_by_vector`は、ベクトルによる類似性検索を行う機能です。",
    "  > `similarity_search_by_vector`",
    "* `asimilarity_search_by_vector`は、ベクトルによる類似性検索を行う機能です。",
    "  > `asimilarity_search_by_vector`",
    "* `relevance_scores`を用いた類似性検索",
    "  > `similarity_search_with_relevance_scores`",
    "* `delete_doc_by_texts`は、指定されたテキストに基づいてドキュメントを削除する機能です。",
    "  > `delete_doc_by_texts`",
    "",
    "[ヘルプドキュメント](https://www.alibabacloud.com/help/en/opensearch/latest/vector-search)を読むことで、OpenSearch Vector Search Editionインスタンスを迅速に理解し、構成することができます。",
    "",
    "> Read the [help document](https://www.alibabacloud.com/help/en/opensearch/latest/vector-search) to quickly familiarize and configure OpenSearch Vector Search Edition instance.",
    "",
    "使用中に何か問題が発生した場合は、遠慮なく<xingshaomin.xsm@alibaba-inc.com>までご連絡ください。私たちはあなたを支援し、サポートするために最善を尽くします。",
    "",
    "> If you encounter any problems during use, please feel free to contact [xingshaomin.xsm@alibaba-inc.com](xingshaomin.xsm@alibaba-inc.com), and we will do our best to provide you with assistance and support.",
    ""
   ]
  },
  {
   "cell_type": "markdown",
   "metadata": {
    "collapsed": false,
    "jupyter": {
     "outputs_hidden": false
    }
   },
   "source": [
    "インスタンスが起動して実行された後、ドキュメントを分割し、埋め込みを取得し、アリババクラウドのOpenSearchインスタンスに接続し、ドキュメントをインデックス化して、ベクター検索を実行する手順に従ってください。",
    "",
    "> After the instance is up and running, follow these steps to split documents, get embeddings, connect to the alibaba cloud opensearch instance, index documents, and perform vector retrieval.",
    ""
   ]
  },
  {
   "cell_type": "markdown",
   "metadata": {
    "collapsed": false,
    "jupyter": {
     "outputs_hidden": false
    }
   },
   "source": [
    "まず、以下のPythonパッケージをインストールする必要があります。",
    "",
    "> We need to install the following Python packages first.",
    ""
   ]
  },
  {
   "cell_type": "code",
   "execution_count": 1,
   "metadata": {},
   "outputs": [],
   "source": [
    "#!pip install alibabacloud_ha3engine_vector"
   ]
  },
  {
   "cell_type": "markdown",
   "metadata": {
    "collapsed": false,
    "jupyter": {
     "outputs_hidden": false
    }
   },
   "source": [
    "`OpenAIEmbeddings`を使用するためには、OpenAI APIキーを取得する必要があります。",
    "",
    "> We want to use `OpenAIEmbeddings` so we have to get the OpenAI API Key.",
    ""
   ]
  },
  {
   "cell_type": "code",
   "execution_count": null,
   "metadata": {
    "collapsed": false,
    "jupyter": {
     "outputs_hidden": false
    },
    "pycharm": {
     "name": "#%%\n"
    }
   },
   "outputs": [],
   "source": [
    "import getpass\n",
    "import os\n",
    "\n",
    "os.environ[\"OPENAI_API_KEY\"] = getpass.getpass(\"OpenAI API Key:\")"
   ]
  },
  {
   "cell_type": "markdown",
   "metadata": {},
   "source": [
    "## Example | 例",
    ""
   ]
  },
  {
   "cell_type": "code",
   "execution_count": null,
   "metadata": {
    "collapsed": false,
    "jupyter": {
     "outputs_hidden": false
    },
    "pycharm": {
     "name": "#%%\n"
    }
   },
   "outputs": [],
   "source": [
    "from langchain.embeddings.openai import OpenAIEmbeddings\n",
    "from langchain.text_splitter import CharacterTextSplitter\n",
    "from langchain.vectorstores import (\n",
    "    AlibabaCloudOpenSearch,\n",
    "    AlibabaCloudOpenSearchSettings,\n",
    ")"
   ]
  },
  {
   "cell_type": "markdown",
   "metadata": {},
   "source": [
    "ドキュメントを分割して、埋め込みを取得します。",
    "",
    "> Split documents and get embeddings.",
    ""
   ]
  },
  {
   "cell_type": "code",
   "execution_count": null,
   "metadata": {
    "collapsed": false,
    "jupyter": {
     "outputs_hidden": false
    },
    "pycharm": {
     "name": "#%%\n"
    }
   },
   "outputs": [],
   "source": [
    "from langchain.document_loaders import TextLoader\n",
    "\n",
    "loader = TextLoader(\"../../../state_of_the_union.txt\")\n",
    "documents = loader.load()\n",
    "text_splitter = CharacterTextSplitter(chunk_size=1000, chunk_overlap=0)\n",
    "docs = text_splitter.split_documents(documents)\n",
    "\n",
    "embeddings = OpenAIEmbeddings()"
   ]
  },
  {
   "cell_type": "markdown",
   "metadata": {
    "pycharm": {
     "name": "#%% md\n"
    }
   },
   "source": [
    "OpenSearchの設定を作成します。",
    "",
    "> Create opensearch settings.",
    ""
   ]
  },
  {
   "cell_type": "code",
   "execution_count": null,
   "metadata": {
    "collapsed": false,
    "jupyter": {
     "outputs_hidden": false
    },
    "pycharm": {
     "name": "#%%\n"
    }
   },
   "outputs": [],
   "source": [
    "settings = AlibabaCloudOpenSearchSettings(\n",
    "    endpoint=\" The endpoint of opensearch instance, You can find it from the console of Alibaba Cloud OpenSearch.\",\n",
    "    instance_id=\"The identify of opensearch instance, You can find it from the console of Alibaba Cloud OpenSearch.\",\n",
    "    protocol=\"Communication Protocol between SDK and Server, default is http.\",\n",
    "    username=\"The username specified when purchasing the instance.\",\n",
    "    password=\"The password specified when purchasing the instance.\",\n",
    "    namespace=\"The instance data will be partitioned based on the namespace field. If the namespace is enabled, you need to specify the namespace field name during initialization. Otherwise, the queries cannot be executed correctly.\",\n",
    "    tablename=\"The table name specified during instance configuration.\",\n",
    "    embedding_field_separator=\"Delimiter specified for writing vector field data, default is comma.\",\n",
    "    output_fields=\"Specify the field list returned when invoking OpenSearch, by default it is the value list of the field mapping field.\",\n",
    "    field_name_mapping={\n",
    "        \"id\": \"id\",  # The id field name mapping of index document.\n",
    "        \"document\": \"document\",  # The text field name mapping of index document.\n",
    "        \"embedding\": \"embedding\",  # The embedding field name mapping of index document.\n",
    "        \"name_of_the_metadata_specified_during_search\": \"opensearch_metadata_field_name,=\",\n",
    "        # The metadata field name mapping of index document, could specify multiple, The value field contains mapping name and operator, the operator would be used when executing metadata filter query,\n",
    "        # Currently supported logical operators are: > (greater than), < (less than), = (equal to), <= (less than or equal to), >= (greater than or equal to), != (not equal to).\n",
    "        # Refer to this link: https://help.aliyun.com/zh/open-search/vector-search-edition/filter-expression\n",
    "    },\n",
    ")\n",
    "\n",
    "# for example\n",
    "\n",
    "# settings = AlibabaCloudOpenSearchSettings(\n",
    "#     endpoint='ha-cn-5yd3fhdm102.public.ha.aliyuncs.com',\n",
    "#     instance_id='ha-cn-5yd3fhdm102',\n",
    "#     username='instance user name',\n",
    "#     password='instance password',\n",
    "#     table_name='test_table',\n",
    "#     field_name_mapping={\n",
    "#         \"id\": \"id\",\n",
    "#         \"document\": \"document\",\n",
    "#         \"embedding\": \"embedding\",\n",
    "#         \"string_field\": \"string_filed,=\",\n",
    "#         \"int_field\": \"int_filed,=\",\n",
    "#         \"float_field\": \"float_field,=\",\n",
    "#         \"double_field\": \"double_field,=\"\n",
    "#\n",
    "#     },\n",
    "# )"
   ]
  },
  {
   "cell_type": "markdown",
   "metadata": {},
   "source": [
    "設定によりOpenSearchアクセスインスタンスを作成します。",
    "",
    "> Create an opensearch access instance by settings.",
    ""
   ]
  },
  {
   "cell_type": "code",
   "execution_count": null,
   "metadata": {
    "collapsed": false,
    "jupyter": {
     "outputs_hidden": false
    },
    "pycharm": {
     "name": "#%%\n"
    }
   },
   "outputs": [],
   "source": [
    "# Create an opensearch instance and index docs.\n",
    "opensearch = AlibabaCloudOpenSearch.from_texts(\n",
    "    texts=docs, embedding=embeddings, config=settings\n",
    ")"
   ]
  },
  {
   "cell_type": "markdown",
   "metadata": {},
   "source": [
    "または",
    "",
    "> or",
    ""
   ]
  },
  {
   "cell_type": "code",
   "execution_count": null,
   "metadata": {
    "collapsed": false,
    "jupyter": {
     "outputs_hidden": false
    },
    "pycharm": {
     "name": "#%%\n"
    }
   },
   "outputs": [],
   "source": [
    "# Create an opensearch instance.\n",
    "opensearch = AlibabaCloudOpenSearch(embedding=embeddings, config=settings)"
   ]
  },
  {
   "cell_type": "markdown",
   "metadata": {},
   "source": [
    "テキストを追加し、索引を作成します。",
    "",
    "> Add texts and build index.",
    ""
   ]
  },
  {
   "cell_type": "code",
   "execution_count": null,
   "metadata": {
    "collapsed": false,
    "jupyter": {
     "outputs_hidden": false
    },
    "pycharm": {
     "name": "#%%\n"
    }
   },
   "outputs": [],
   "source": [
    "metadatas = [\n",
    "    {\"string_field\": \"value1\", \"int_field\": 1, \"float_field\": 1.0, \"double_field\": 2.0},\n",
    "    {\"string_field\": \"value2\", \"int_field\": 2, \"float_field\": 3.0, \"double_field\": 4.0},\n",
    "    {\"string_field\": \"value3\", \"int_field\": 3, \"float_field\": 5.0, \"double_field\": 6.0},\n",
    "]\n",
    "# the key of metadatas must match field_name_mapping in settings.\n",
    "opensearch.add_texts(texts=docs, ids=[], metadatas=metadatas)"
   ]
  },
  {
   "cell_type": "markdown",
   "metadata": {},
   "source": [
    "クエリを実行してデータを取得します。",
    "",
    "> Query and retrieve data.",
    ""
   ]
  },
  {
   "cell_type": "code",
   "execution_count": null,
   "metadata": {
    "collapsed": false,
    "jupyter": {
     "outputs_hidden": false
    },
    "pycharm": {
     "name": "#%%\n"
    }
   },
   "outputs": [],
   "source": [
    "query = \"What did the president say about Ketanji Brown Jackson\"\n",
    "docs = opensearch.similarity_search(query)\n",
    "print(docs[0].page_content)"
   ]
  },
  {
   "cell_type": "markdown",
   "metadata": {},
   "source": [
    "メタデータを含むデータをクエリして取得します。",
    "",
    "> Query and retrieve data with metadata.",
    ""
   ]
  },
  {
   "cell_type": "code",
   "execution_count": null,
   "metadata": {
    "collapsed": false,
    "jupyter": {
     "outputs_hidden": false
    },
    "pycharm": {
     "name": "#%%\n"
    }
   },
   "outputs": [],
   "source": [
    "query = \"What did the president say about Ketanji Brown Jackson\"\n",
    "metadata = {\n",
    "    \"string_field\": \"value1\",\n",
    "    \"int_field\": 1,\n",
    "    \"float_field\": 1.0,\n",
    "    \"double_field\": 2.0,\n",
    "}\n",
    "docs = opensearch.similarity_search(query, filter=metadata)\n",
    "print(docs[0].page_content)"
   ]
  },
  {
   "cell_type": "markdown",
   "metadata": {
    "pycharm": {
     "name": "#%% md\n"
    }
   },
   "source": [
    "使用中に何か問題が生じた際には、どうぞ<xingshaomin.xsm@alibaba-inc.com>までお気軽にご連絡ください。私たちはあなたを支援し、サポートするために全力を尽くします。",
    "",
    "> If you encounter any problems during use, please feel free to contact <xingshaomin.xsm@alibaba-inc.com>, and we will do our best to provide you with assistance and support.",
    ""
   ]
  }
 ],
 "metadata": {
  "kernelspec": {
   "display_name": "Python 3 (ipykernel)",
   "language": "python",
   "name": "python3"
  },
  "language_info": {
   "codemirror_mode": {
    "name": "ipython",
    "version": 3
   },
   "file_extension": ".py",
   "mimetype": "text/x-python",
   "name": "python",
   "nbconvert_exporter": "python",
   "pygments_lexer": "ipython3",
   "version": "3.10.12"
  }
 },
 "nbformat": 4,
 "nbformat_minor": 4
}