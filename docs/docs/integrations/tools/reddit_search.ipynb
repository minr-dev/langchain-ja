{
 "cells": [
  {
   "cell_type": "markdown",
   "metadata": {},
   "source": [
    "# Reddit Search | Reddit 検索\n",
    "\n",
    "このノートブックでは、Redditの検索ツールの仕組みを学びます。\n",
    "まず、以下のコマンドでprawがインストールされていることを確認してください：\n",
    "\n",
    "> In this notebook, we learn how the Reddit search tool works.\\\n",
    "> First make sure that you have installed praw with the command below:\n",
    "\n"
   ]
  },
  {
   "cell_type": "code",
   "execution_count": null,
   "metadata": {
    "vscode": {
     "languageId": "shellscript"
    }
   },
   "outputs": [],
   "source": [
    "!pip install praw"
   ]
  },
  {
   "cell_type": "markdown",
   "metadata": {},
   "source": [
    "適切なAPIキーと環境変数を設定する必要があります。Redditユーザーアカウントを作成し、認証情報を取得する必要があります。まず、https://www.reddit.com にアクセスしてサインアップし、Redditユーザーアカウントを作成してください。その後、https://www.reddit.com/prefs/apps にアクセスしてアプリを作成し、認証情報を取得します。アプリを作成することで、client\\_idとsecretを手に入れることができます。これらの文字列をclient\\_idとclient\\_secret変数に貼り付けてください。注記：user\\_agentにはどんな文字列でも設定できます。\n",
    "\n",
    "> Then you need to set you need to set up the proper API keys and environment variables. You would need to create a Reddit user account and get credentials. So, create a Reddit user account by going to https://www.reddit.com  and signing up.\\\n",
    "> Then get your credentials by going to https://www.reddit.com/prefs/apps and creating an app.\\\n",
    "> You should have your client\\_id and secret from creating the app. Now, you can paste those strings in client\\_id and client\\_secret variable.\\\n",
    "> Note: You can put any string for user\\_agent\n",
    "\n"
   ]
  },
  {
   "cell_type": "code",
   "execution_count": null,
   "metadata": {},
   "outputs": [],
   "source": [
    "client_id = \"\"\n",
    "client_secret = \"\"\n",
    "user_agent = \"\""
   ]
  },
  {
   "cell_type": "code",
   "execution_count": null,
   "metadata": {},
   "outputs": [],
   "source": [
    "from langchain.tools.reddit_search.tool import RedditSearchRun\n",
    "from langchain.utilities.reddit_search import RedditSearchAPIWrapper\n",
    "\n",
    "search = RedditSearchRun(\n",
    "    api_wrapper=RedditSearchAPIWrapper(\n",
    "        reddit_client_id=client_id,\n",
    "        reddit_client_secret=client_secret,\n",
    "        reddit_user_agent=user_agent,\n",
    "    )\n",
    ")"
   ]
  },
  {
   "cell_type": "markdown",
   "metadata": {},
   "source": [
    "その後、例えばどのサブレディットをクエリしたいか、いくつの投稿を返されたいか、結果をどのようにソートしたいかなど、クエリを設定することができます。\n",
    "\n",
    "> You can then set your queries for example, what subreddit you want to query, how many posts you want to be returned, how you would like the result to be sorted etc.\n",
    "\n"
   ]
  },
  {
   "cell_type": "code",
   "execution_count": null,
   "metadata": {},
   "outputs": [],
   "source": [
    "from langchain.tools.reddit_search.tool import RedditSearchSchema\n",
    "\n",
    "search_params = RedditSearchSchema(\n",
    "    query=\"beginner\", sort=\"new\", time_filter=\"week\", subreddit=\"python\", limit=\"2\"\n",
    ")"
   ]
  },
  {
   "cell_type": "markdown",
   "metadata": {},
   "source": [
    "最後に検索を実行して、結果を取得してください\n",
    "\n",
    "> Finally run the search and get your results\n",
    "\n"
   ]
  },
  {
   "cell_type": "code",
   "execution_count": null,
   "metadata": {},
   "outputs": [],
   "source": [
    "result = search.run(tool_input=search_params.dict())"
   ]
  },
  {
   "cell_type": "code",
   "execution_count": null,
   "metadata": {},
   "outputs": [],
   "source": [
    "print(result)"
   ]
  },
  {
   "cell_type": "markdown",
   "metadata": {},
   "source": [
    "結果を印刷する例をこちらに示します。\n",
    "注意：サブレディットの最新の投稿によっては、出力結果が異なる場合がありますが、フォーマットは似たようなものになるはずです。\n",
    "\n",
    "> Here is an example of printing the result.\\\n",
    "> Note: You may get different output depending on the newest post in the subreddit but the formatting should be similar.\n",
    "\n"
   ]
  },
  {
   "cell_type": "markdown",
   "metadata": {},
   "source": [
    "> r/pythonでの検索結果、2つの投稿が見つかりました：\n",
    "> 投稿タイトル：'Visual Studio CodeでGithub Copilotをセットアップする'\n",
    "> ユーザー：Feisty-Recording-715\n",
    "> サブレディット：r/Python\n",
    "> テキスト本文：🛠️ このチュートリアルは、バージョン管理の理解を強化したい初心者や、Visual Studio CodeでのGitHubセットアップの迅速なリファレンスを求めている経験豊富な開発者にとって理想的です。\n",
    ">\n",
    "> > Searching r/python found 2 posts:\n",
    "> > Post Title: 'Setup Github Copilot in Visual Studio Code'\n",
    "> > User: Feisty-Recording-715\n",
    "> > Subreddit: r/Python:\n",
    "> > Text body: 🛠️ This tutorial is perfect for beginners looking to strengthen their understanding of version control or for experienced developers seeking a quick reference for GitHub setup in Visual Studio Code.\n",
    ">\n",
    "> 🎓 このビデオを視聴し終えた時点で、GitHub上でのオープンソースプロジェクトへの貢献、他者との協力、そして自身のコードベースを自信を持って管理するためのスキルを身につけていることでしょう。\n",
    ">\n",
    "> > 🎓 By the end of this video, you'll be equipped with the skills to confidently manage your codebase, collaborate with others, and contribute to open-source projects on GitHub.\n",
    ">\n",
    "> ビデオリンク: https://youtu.be/IdT1BhrSfdo\n",
    ">\n",
    "> > Video link: https://youtu.be/IdT1BhrSfdo?si=mV7xVpiyuhlD8Zrw\n",
    ">\n",
    "> フィードバックを歓迎します\n",
    "> 投稿URL: https://www.reddit.com/r/Python/comments/1823wr7/setup\\_github\\_copilot\\_in\\_visual\\_studio\\_code/\n",
    "> 投稿カテゴリ: 該当なし。\n",
    "> スコア: 0\n",
    ">\n",
    "> > Your feedback is welcome\n",
    "> > Post URL: https://www.reddit.com/r/Python/comments/1823wr7/setup\\_github\\_copilot\\_in\\_visual\\_studio\\_code/\n",
    "> > Post Category: N/A.\n",
    "> > Score: 0\n",
    ">\n",
    "> 投稿タイトル: 'pygameとPySide6を使った中国チェッカーゲーム、カスタムボット対応あり'\n",
    "> ユーザー: HenryChess\n",
    "> サブレディット: r/Python\n",
    "> テキスト本文: GitHubリンク: https://github.com/henrychess/pygame-chinese-checkers\n",
    ">\n",
    "> > Post Title: 'A Chinese Checkers game made with pygame and PySide6, with custom bots support'\n",
    "> > User: HenryChess\n",
    "> > Subreddit: r/Python:\n",
    "> > Text body: GitHub link: https://github.com/henrychess/pygame-chinese-checkers\n",
    ">\n",
    "> これが初心者向けか中級者向けかは確信が持てません。私はまだ初心者の域にいると思うので、初心者用にフレアをつけます。\n",
    ">\n",
    "> > I'm not sure if this counts as beginner or intermediate. I think I'm still in the beginner zone, so I flair it as beginner.\n",
    ">\n",
    "> これは2人から3人用のチャイニーズチェッカー（別名Sternhalma）ゲームです。私が書いたボットは、ゲームのロジック部分のコードをデバッグするために主に使用されており、簡単に打ち負かすことができます。しかし、あなた自身でカスタムボットを作成することもできます。ガイドはGitHubページにあります。\n",
    ">\n",
    "> > This is a Chinese Checkers (aka Sternhalma) game for 2 to 3 players. The bots I wrote are easy to beat, as they're mainly for debugging the game logic part of the code. However, you can write up your own custom bots. There is a guide at the github page.\n",
    "> > Post URL: https://www.reddit.com/r/Python/comments/181xq0u/a\\_chinese\\_checkers\\_game\\_made\\_with\\_pygame\\_and/\n",
    "> > Post Category: N/A.\n",
    "> > Score: 1\n",
    "\n"
   ]
  },
  {
   "cell_type": "markdown",
   "metadata": {},
   "source": [
    "## Using tool with an agent chain | エージェントチェーンを用いたツールの使用\n",
    "\n",
    "Redditの検索機能も、複数の入力を扱えるツールとして提供されています。この例では、[ドキュメントからの既存のコード](https://python.langchain.com/docs/modules/agents/how_to/sharedmemory_for_tools)を適用し、ChatOpenAIを使用して記憶機能を持つエージェントチェーンを作成します。このエージェントチェーンはRedditから情報を引き出し、それらの投稿を使って後続の入力に応答することができます。\n",
    "\n",
    "> Reddit search functionality is also provided as a multi-input tool. In this example, we adapt [existing code from the docs](https://python.langchain.com/docs/modules/agents/how_to/sharedmemory_for_tools), and use ChatOpenAI to create an agent chain with memory. This agent chain is able to pull information from Reddit and use these posts to respond to subsequent input.\n",
    "\n",
    "例を実行するには、RedditのAPIアクセス情報を追加し、[OpenAI API](https://help.openai.com/en/articles/4936850-where-do-i-find-my-api-key)からOpenAIのキーを取得してください。\n",
    "\n",
    "> To run the example, add your reddit API access information and also get an OpenAI key from the [OpenAI API](https://help.openai.com/en/articles/4936850-where-do-i-find-my-api-key).\n",
    "\n"
   ]
  },
  {
   "cell_type": "code",
   "execution_count": null,
   "metadata": {},
   "outputs": [],
   "source": [
    "# Adapted code from https://python.langchain.com/docs/modules/agents/how_to/sharedmemory_for_tools\n",
    "\n",
    "from langchain.agents import AgentExecutor, StructuredChatAgent, Tool\n",
    "from langchain.chains import LLMChain\n",
    "from langchain.chat_models import ChatOpenAI\n",
    "from langchain.memory import ConversationBufferMemory, ReadOnlySharedMemory\n",
    "from langchain.prompts import PromptTemplate\n",
    "from langchain.tools.reddit_search.tool import RedditSearchRun\n",
    "from langchain.utilities.reddit_search import RedditSearchAPIWrapper\n",
    "\n",
    "# Provide keys for Reddit\n",
    "client_id = \"\"\n",
    "client_secret = \"\"\n",
    "user_agent = \"\"\n",
    "# Provide key for OpenAI\n",
    "openai_api_key = \"\"\n",
    "\n",
    "template = \"\"\"This is a conversation between a human and a bot:\n",
    "\n",
    "{chat_history}\n",
    "\n",
    "Write a summary of the conversation for {input}:\n",
    "\"\"\"\n",
    "\n",
    "prompt = PromptTemplate(input_variables=[\"input\", \"chat_history\"], template=template)\n",
    "memory = ConversationBufferMemory(memory_key=\"chat_history\")\n",
    "\n",
    "prefix = \"\"\"Have a conversation with a human, answering the following questions as best you can. You have access to the following tools:\"\"\"\n",
    "suffix = \"\"\"Begin!\"\n",
    "\n",
    "{chat_history}\n",
    "Question: {input}\n",
    "{agent_scratchpad}\"\"\"\n",
    "\n",
    "tools = [\n",
    "    RedditSearchRun(\n",
    "        api_wrapper=RedditSearchAPIWrapper(\n",
    "            reddit_client_id=client_id,\n",
    "            reddit_client_secret=client_secret,\n",
    "            reddit_user_agent=user_agent,\n",
    "        )\n",
    "    )\n",
    "]\n",
    "\n",
    "prompt = StructuredChatAgent.create_prompt(\n",
    "    prefix=prefix,\n",
    "    tools=tools,\n",
    "    suffix=suffix,\n",
    "    input_variables=[\"input\", \"chat_history\", \"agent_scratchpad\"],\n",
    ")\n",
    "\n",
    "llm = ChatOpenAI(temperature=0, openai_api_key=openai_api_key)\n",
    "\n",
    "llm_chain = LLMChain(llm=llm, prompt=prompt)\n",
    "agent = StructuredChatAgent(llm_chain=llm_chain, verbose=True, tools=tools)\n",
    "agent_chain = AgentExecutor.from_agent_and_tools(\n",
    "    agent=agent, verbose=True, memory=memory, tools=tools\n",
    ")\n",
    "\n",
    "# Answering the first prompt requires usage of the Reddit search tool.\n",
    "agent_chain.run(input=\"What is the newest post on r/langchain for the week?\")\n",
    "# Answering the subsequent prompt uses memory.\n",
    "agent_chain.run(input=\"Who is the author of the post?\")"
   ]
  }
 ],
 "metadata": {
  "kernelspec": {
   "display_name": "Python 3.11.5 64-bit ('langchaindev')",
   "language": "python",
   "name": "python3"
  },
  "language_info": {
   "codemirror_mode": {
    "name": "ipython",
    "version": 3
   },
   "file_extension": ".py",
   "mimetype": "text/x-python",
   "name": "python",
   "nbconvert_exporter": "python",
   "pygments_lexer": "ipython3",
   "version": "3.11.5"
  },
  "vscode": {
   "interpreter": {
    "hash": "3929050b09828356c9f5ebaf862d05c053d8228eddbc70f990c168e54dd824ba"
   }
  }
 },
 "nbformat": 4,
 "nbformat_minor": 2
}