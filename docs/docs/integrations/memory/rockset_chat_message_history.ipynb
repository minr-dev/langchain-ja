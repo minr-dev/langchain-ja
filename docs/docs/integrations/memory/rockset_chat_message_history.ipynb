{
 "cells": [
  {
   "cell_type": "markdown",
   "metadata": {},
   "source": [
    "# Rockset | Rockset\n",
    "\n",
    "> [Rockset](https://rockset.com/product/)は、大規模な低遅延、高並行性の分析クエリを提供するリアルタイム分析データベースサービスです。構造化されたデータと半構造化されたデータに対してConverged Index™を構築し、ベクター埋め込みのための効率的なストレージを提供します。スキーマレスデータにSQLを実行するサポートにより、メタデータフィルターを用いたベクター検索を行うのに最適な選択です。\n",
    ">\n",
    "> > [Rockset](https://rockset.com/product/) is a real-time analytics database service for serving low latency, high concurrency analytical queries at scale. It builds a Converged Index™ on structured and semi-structured data with an efficient store for vector embeddings. Its support for running SQL on schemaless data makes it a perfect choice for running vector search with metadata filters.\n",
    "\n",
    "このノートブックでは、チャットメッセージの履歴を保存するために [Rockset](https://rockset.com/docs) を使用する方法について説明しています。\n",
    "\n",
    "> This notebook goes over how to use [Rockset](https://rockset.com/docs) to store chat message history.\n",
    "\n"
   ]
  },
  {
   "cell_type": "markdown",
   "metadata": {},
   "source": [
    "## Setting up | セットアップ\n",
    "\n"
   ]
  },
  {
   "cell_type": "code",
   "execution_count": null,
   "metadata": {},
   "outputs": [],
   "source": [
    "!pip install rockset"
   ]
  },
  {
   "cell_type": "markdown",
   "metadata": {},
   "source": [
    "まず初めに、[Rocksetコンソール](https://console.rockset.com/apikeys)からあなたのAPIキーを取得してください。Rocksetの[APIリファレンス](https://rockset.com/docs/rest-api#introduction)であなたのAPIリージョンを探してください。\n",
    "\n",
    "> To begin, with get your API key from the [Rockset console](https://console.rockset.com/apikeys). Find your API region for the Rockset [API reference](https://rockset.com/docs/rest-api#introduction).\n",
    "\n"
   ]
  },
  {
   "cell_type": "markdown",
   "metadata": {},
   "source": [
    "## Example | 例\n",
    "\n"
   ]
  },
  {
   "cell_type": "code",
   "execution_count": null,
   "metadata": {
    "vscode": {
     "languageId": "plaintext"
    }
   },
   "outputs": [],
   "source": [
    "from langchain.memory.chat_message_histories import RocksetChatMessageHistory\n",
    "from rockset import Regions, RocksetClient\n",
    "\n",
    "history = RocksetChatMessageHistory(\n",
    "    session_id=\"MySession\",\n",
    "    client=RocksetClient(\n",
    "        api_key=\"YOUR API KEY\",\n",
    "        host=Regions.usw2a1,  # us-west-2 Oregon\n",
    "    ),\n",
    "    collection=\"langchain_demo\",\n",
    "    sync=True,\n",
    ")\n",
    "history.add_user_message(\"hi!\")\n",
    "history.add_ai_message(\"whats up?\")\n",
    "print(history.messages)"
   ]
  },
  {
   "cell_type": "markdown",
   "metadata": {},
   "source": [
    "出力結果は以下のようになるはずです：\n",
    "\n",
    "> The output should be something like:\n",
    "\n",
    "```python\n",
    "[\n",
    "    HumanMessage(content='hi!', additional_kwargs={'id': '2e62f1c2-e9f7-465e-b551-49bae07fe9f0'}, example=False), \n",
    "    AIMessage(content='whats up?', additional_kwargs={'id': 'b9be8eda-4c18-4cf8-81c3-e91e876927d0'}, example=False)\n",
    "]\n",
    "\n",
    "```\n",
    "\n"
   ]
  }
 ],
 "metadata": {
  "kernelspec": {
   "display_name": "Python 3 (ipykernel)",
   "language": "python",
   "name": "python3"
  },
  "language_info": {
   "codemirror_mode": {
    "name": "ipython",
    "version": 3
   },
   "file_extension": ".py",
   "mimetype": "text/x-python",
   "name": "python",
   "nbconvert_exporter": "python",
   "pygments_lexer": "ipython3",
   "version": "3.10.12"
  }
 },
 "nbformat": 4,
 "nbformat_minor": 4
}