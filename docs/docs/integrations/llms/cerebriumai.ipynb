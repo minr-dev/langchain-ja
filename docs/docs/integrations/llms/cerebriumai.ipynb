{
 "cells": [
  {
   "cell_type": "markdown",
   "metadata": {},
   "source": [
    "# CerebriumAI | CerebriumAI",
    "",
    "`Cerebrium`はAWS Sagemakerの代替品です。また、[いくつかのLLMモデル](https://docs.cerebrium.ai/cerebrium/prebuilt-models/deployment)へのAPIアクセスも提供しています。",
    "",
    "> `Cerebrium` is an AWS Sagemaker alternative. It also provides API access to [several LLM models](https://docs.cerebrium.ai/cerebrium/prebuilt-models/deployment).",
    "",
    "このノートブックでは、[CerebriumAI](https://docs.cerebrium.ai/introduction)を使ってLangchainを使用する方法について説明しています。",
    "",
    "> This notebook goes over how to use Langchain with [CerebriumAI](https://docs.cerebrium.ai/introduction).",
    ""
   ]
  },
  {
   "cell_type": "markdown",
   "metadata": {},
   "source": [
    "## Install cerebrium | cerebriumをインストールする",
    "",
    "`CerebriumAI` APIを使用するには、`cerebrium`パッケージが必要です。`pip3 install cerebrium`を使用して`cerebrium`をインストールしてください。",
    "",
    "> The `cerebrium` package is required to use the `CerebriumAI` API. Install `cerebrium` using `pip3 install cerebrium`.",
    ""
   ]
  },
  {
   "cell_type": "code",
   "execution_count": null,
   "metadata": {},
   "outputs": [],
   "source": [
    "# Install the package\n",
    "!pip3 install cerebrium"
   ]
  },
  {
   "cell_type": "markdown",
   "metadata": {},
   "source": [
    "## Imports | インポート",
    ""
   ]
  },
  {
   "cell_type": "code",
   "execution_count": null,
   "metadata": {},
   "outputs": [],
   "source": [
    "import os\n",
    "\n",
    "from langchain.chains import LLMChain\n",
    "from langchain.llms import CerebriumAI\n",
    "from langchain.prompts import PromptTemplate"
   ]
  },
  {
   "cell_type": "markdown",
   "metadata": {},
   "source": [
    "## Set the Environment API Key | 環境APIキーを設定する",
    "",
    "CerebriumAIからAPIキーを取得するようにしてください。[こちら](https://dashboard.cerebrium.ai/login)をご確認ください。異なるモデルをテストするために、サーバーレスGPUコンピュートを1時間無料でご利用いただけます。",
    "",
    "> Make sure to get your API key from CerebriumAI. See [here](https://dashboard.cerebrium.ai/login). You are given a 1 hour free of serverless GPU compute to test different models.",
    ""
   ]
  },
  {
   "cell_type": "code",
   "execution_count": null,
   "metadata": {},
   "outputs": [],
   "source": [
    "os.environ[\"CEREBRIUMAI_API_KEY\"] = \"YOUR_KEY_HERE\""
   ]
  },
  {
   "cell_type": "markdown",
   "metadata": {},
   "source": [
    "## Create the CerebriumAI instance | CerebriumAIインスタンスを作成する",
    "",
    "モデルのエンドポイントURL、最大長、温度など、さまざまなパラメータを指定することができます。エンドポイントURLの提供は必須です。",
    "",
    "> You can specify different parameters such as the model endpoint url, max length, temperature, etc. You must provide an endpoint url.",
    ""
   ]
  },
  {
   "cell_type": "code",
   "execution_count": null,
   "metadata": {},
   "outputs": [],
   "source": [
    "llm = CerebriumAI(endpoint_url=\"YOUR ENDPOINT URL HERE\")"
   ]
  },
  {
   "cell_type": "markdown",
   "metadata": {},
   "source": [
    "## Create a Prompt Template | プロンプトテンプレートを作成する",
    "",
    "質問と回答のためのプロンプトテンプレートを作成します。",
    "",
    "> We will create a prompt template for Question and Answer.",
    ""
   ]
  },
  {
   "cell_type": "code",
   "execution_count": null,
   "metadata": {},
   "outputs": [],
   "source": [
    "template = \"\"\"Question: {question}\n",
    "\n",
    "Answer: Let's think step by step.\"\"\"\n",
    "\n",
    "prompt = PromptTemplate(template=template, input_variables=[\"question\"])"
   ]
  },
  {
   "cell_type": "markdown",
   "metadata": {},
   "source": [
    "## Initiate the LLMChain | LLMChainを開始する",
    ""
   ]
  },
  {
   "cell_type": "code",
   "execution_count": null,
   "metadata": {},
   "outputs": [],
   "source": [
    "llm_chain = LLMChain(prompt=prompt, llm=llm)"
   ]
  },
  {
   "cell_type": "markdown",
   "metadata": {},
   "source": [
    "## Run the LLMChain | LLMChainを実行する",
    "",
    "質問を提供して、LLMChainを実行してください。",
    "",
    "> Provide a question and run the LLMChain.",
    ""
   ]
  },
  {
   "cell_type": "code",
   "execution_count": null,
   "metadata": {},
   "outputs": [],
   "source": [
    "question = \"What NFL team won the Super Bowl in the year Justin Beiber was born?\"\n",
    "\n",
    "llm_chain.run(question)"
   ]
  }
 ],
 "metadata": {
  "kernelspec": {
   "display_name": "Python 3 (ipykernel)",
   "language": "python",
   "name": "python3"
  },
  "language_info": {
   "codemirror_mode": {
    "name": "ipython",
    "version": 3
   },
   "file_extension": ".py",
   "mimetype": "text/x-python",
   "name": "python",
   "nbconvert_exporter": "python",
   "pygments_lexer": "ipython3",
   "version": "3.10.6"
  },
  "vscode": {
   "interpreter": {
    "hash": "a0a0263b650d907a3bfe41c0f8d6a63a071b884df3cfdc1579f00cdc1aed6b03"
   }
  }
 },
 "nbformat": 4,
 "nbformat_minor": 4
}