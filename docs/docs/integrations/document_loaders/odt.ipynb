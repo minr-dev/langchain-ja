{
 "cells": [
  {
   "cell_type": "markdown",
   "id": "22a849cc",
   "metadata": {},
   "source": [
    "# Open Document Format (ODT) | オープンドキュメントフォーマット（ODT）",
    "",
    "> [Open Document Format for Office Applications (ODF)](https://en.wikipedia.org/wiki/OpenDocument)（オフィスアプリケーション用オープンドキュメントフォーマット）は、`OpenDocument`とも呼ばれ、ワードプロセッシング文書、スプレッドシート、プレゼンテーション、グラフィックス用のオープンファイルフォーマットであり、ZIP圧縮されたXMLファイルを使用しています。このフォーマットは、オフィスアプリケーション用のオープンでXMLベースのファイルフォーマット仕様を提供することを目的として開発されました。",
    ">",
    "> > The [Open Document Format for Office Applications (ODF)](https://en.wikipedia.org/wiki/OpenDocument), also known as `OpenDocument`, is an open file format for word processing documents, spreadsheets, presentations and graphics and using ZIP-compressed XML files. It was developed with the aim of providing an open, XML-based file format specification for office applications.",
    "",
    "> `OASIS`（構造化情報標準促進機構）コンソーシアムの技術委員会によって開発され、維持されている標準です。これは、`OpenOffice.org`と`LibreOffice`のデフォルトフォーマットであるOpenOffice.org XMLのSun Microsystemsの仕様を基にしています。元々は`StarOffice`の「オフィス文書のオープンスタンダードを提供する」ことを目的として開発されました。",
    ">",
    "> > The standard is developed and maintained by a technical committee in the Organization for the Advancement of Structured Information Standards (`OASIS`) consortium. It was based on the Sun Microsystems specification for OpenOffice.org XML, the default format for `OpenOffice.org` and `LibreOffice`. It was originally developed for `StarOffice` \"to provide an open standard for office documents.\"",
    "",
    "`UnstructuredODTLoader`は、`Open Office ODT`ファイルを読み込むために使用されます。",
    "",
    "> The `UnstructuredODTLoader` is used to load `Open Office ODT` files.",
    ""
   ]
  },
  {
   "cell_type": "code",
   "execution_count": 1,
   "id": "e6616e3a",
   "metadata": {},
   "outputs": [],
   "source": [
    "from langchain.document_loaders import UnstructuredODTLoader"
   ]
  },
  {
   "cell_type": "code",
   "execution_count": 2,
   "id": "a654e4d9",
   "metadata": {},
   "outputs": [
    {
     "data": {
      "text/plain": [
       "Document(page_content='Lorem ipsum dolor sit amet.', metadata={'source': 'example_data/fake.odt', 'filename': 'example_data/fake.odt', 'category': 'Title'})"
      ]
     },
     "execution_count": 2,
     "metadata": {},
     "output_type": "execute_result"
    }
   ],
   "source": [
    "loader = UnstructuredODTLoader(\"example_data/fake.odt\", mode=\"elements\")\n",
    "docs = loader.load()\n",
    "docs[0]"
   ]
  },
  {
   "cell_type": "code",
   "execution_count": null,
   "id": "9ab94bde",
   "metadata": {},
   "outputs": [],
   "source": []
  }
 ],
 "metadata": {
  "kernelspec": {
   "display_name": "Python 3 (ipykernel)",
   "language": "python",
   "name": "python3"
  },
  "language_info": {
   "codemirror_mode": {
    "name": "ipython",
    "version": 3
   },
   "file_extension": ".py",
   "mimetype": "text/x-python",
   "name": "python",
   "nbconvert_exporter": "python",
   "pygments_lexer": "ipython3",
   "version": "3.10.6"
  }
 },
 "nbformat": 4,
 "nbformat_minor": 5
}