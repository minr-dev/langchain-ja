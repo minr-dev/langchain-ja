{
 "cells": [
  {
   "cell_type": "markdown",
   "id": "afab8b36-10bb-4795-bc98-75ab2d2081bb",
   "metadata": {},
   "source": [
    "# Google Generative AI Embeddings | Google Generative AI Embeddings",
    "",
    "`GoogleGenerativeAIEmbeddings` クラスを使用して、[langchain-google-genai](https://pypi.org/project/langchain-google-genai/) パッケージで見つけることができる Google の生成AI埋め込みサービスに接続します。",
    "",
    "> Connect to Google's generative AI embeddings service using the `GoogleGenerativeAIEmbeddings` class, found in the [langchain-google-genai](https://pypi.org/project/langchain-google-genai/) package.",
    ""
   ]
  },
  {
   "cell_type": "markdown",
   "id": "63545b38-9d56-4312-8f61-8d4f1e7a3b1b",
   "metadata": {},
   "source": [
    "## Installation | インストール",
    ""
   ]
  },
  {
   "cell_type": "code",
   "execution_count": null,
   "id": "d2f6a3cd-379f-4dff-a449-d3a9f3196f2a",
   "metadata": {},
   "outputs": [],
   "source": [
    "%pip install -U langchain-google-genai"
   ]
  },
  {
   "cell_type": "markdown",
   "id": "25f3f88e-164e-400d-b371-9fa488baba19",
   "metadata": {},
   "source": [
    "## Credentials | 認証情報",
    ""
   ]
  },
  {
   "cell_type": "code",
   "execution_count": null,
   "id": "ec89153f-8999-4aab-a21b-0bfba1cc3893",
   "metadata": {},
   "outputs": [],
   "source": [
    "import getpass\n",
    "import os\n",
    "\n",
    "if \"GOOGLE_API_KEY\" not in os.environ:\n",
    "    os.environ[\"GOOGLE_API_KEY\"] = getpass(\"Provide your Google API key here\")"
   ]
  },
  {
   "cell_type": "markdown",
   "id": "f2437b22-e364-418a-8c13-490a026cb7b5",
   "metadata": {},
   "source": [
    "## Usage | 使用方法",
    ""
   ]
  },
  {
   "cell_type": "code",
   "execution_count": 6,
   "id": "eedc551e-a1f3-4fd8-8d65-4e0784c4441b",
   "metadata": {},
   "outputs": [
    {
     "data": {
      "text/plain": [
       "[0.05636945, 0.0048285457, -0.0762591, -0.023642512, 0.05329321]"
      ]
     },
     "execution_count": 6,
     "metadata": {},
     "output_type": "execute_result"
    }
   ],
   "source": [
    "from langchain_google_genai import GoogleGenerativeAIEmbeddings\n",
    "\n",
    "embeddings = GoogleGenerativeAIEmbeddings(model=\"models/embedding-001\")\n",
    "vector = embeddings.embed_query(\"hello, world!\")\n",
    "vector[:5]"
   ]
  },
  {
   "cell_type": "markdown",
   "id": "2b2bed60-e7bd-4e48-83d6-1c87001f98bd",
   "metadata": {},
   "source": [
    "## Batch | バッチ",
    "",
    "複数の文字列を一度に埋め込むことで、処理速度を向上させることもできます：",
    "",
    "> You can also embed multiple strings at once for a processing speedup:",
    ""
   ]
  },
  {
   "cell_type": "code",
   "execution_count": 7,
   "id": "6ec53aba-404f-4778-acd9-5d6664e79ed2",
   "metadata": {},
   "outputs": [
    {
     "data": {
      "text/plain": [
       "(3, 768)"
      ]
     },
     "execution_count": 7,
     "metadata": {},
     "output_type": "execute_result"
    }
   ],
   "source": [
    "vectors = embeddings.embed_documents(\n",
    "    [\n",
    "        \"Today is Monday\",\n",
    "        \"Today is Tuesday\",\n",
    "        \"Today is April Fools day\",\n",
    "    ]\n",
    ")\n",
    "len(vectors), len(vectors[0])"
   ]
  },
  {
   "cell_type": "markdown",
   "id": "1482486f-5617-498a-8a44-1974d3212dda",
   "metadata": {},
   "source": [
    "## Task type | タスクの種類",
    "",
    "`GoogleGenerativeAIEmbeddings` はオプションで `task_type` をサポートしており、現在は以下のいずれかでなければなりません：",
    "",
    "> `GoogleGenerativeAIEmbeddings` optionally support a `task_type`, which currently must be one of:",
    "",
    "* タスクタイプが指定されていません",
    "  > task\\_type\\_unspecified",
    "* 検索クエリ",
    "  > retrieval\\_query",
    "* retrieval\\_document",
    "  > retrieval\\_document",
    "* セマンティック類似性",
    "  > semantic\\_similarity",
    "* 分類",
    "  > classification",
    "* クラスタリング",
    "  > clustering",
    "",
    "デフォルトでは、`embed_documents`メソッドでは`retrieval_document`を使用し、`embed_query`メソッドでは`retrieval_query`を使用します。タスクタイプを提供する場合、すべてのメソッドにそのタスクタイプを使用します。",
    "",
    "> By default, we use `retrieval_document` in the `embed_documents` method and `retrieval_query` in the `embed_query` method. If you provide a task type, we will use that for all methods.",
    ""
   ]
  },
  {
   "cell_type": "code",
   "execution_count": 15,
   "id": "a223bb25-2b1b-418e-a570-2f543083132e",
   "metadata": {},
   "outputs": [
    {
     "name": "stdout",
     "output_type": "stream",
     "text": [
      "Note: you may need to restart the kernel to use updated packages.\n"
     ]
    }
   ],
   "source": [
    "%pip install --quiet matplotlib scikit-learn"
   ]
  },
  {
   "cell_type": "code",
   "execution_count": 33,
   "id": "f1f077db-8eb4-49f7-8866-471a8528dcdb",
   "metadata": {},
   "outputs": [],
   "source": [
    "query_embeddings = GoogleGenerativeAIEmbeddings(\n",
    "    model=\"models/embedding-001\", task_type=\"retrieval_query\"\n",
    ")\n",
    "doc_embeddings = GoogleGenerativeAIEmbeddings(\n",
    "    model=\"models/embedding-001\", task_type=\"retrieval_document\"\n",
    ")"
   ]
  },
  {
   "cell_type": "markdown",
   "id": "79bd4a5e-75ba-413c-befa-86167c938caf",
   "metadata": {},
   "source": [
    "これらはすべて'retrieval\\_query'タスクセットに埋め込まれます",
    "",
    "> All of these will be embedded with the 'retrieval\\_query' task set",
    "",
    "```python",
    "query_vecs = [query_embeddings.embed_query(q) for q in [query, query_2, answer_1]]",
    "```",
    "",
    "これらはすべて'retrieval\\_document'タスクセットに埋め込まれます",
    "",
    "> All of these will be embedded with the 'retrieval\\_document' task set",
    "",
    "```python",
    "doc_vecs = [doc_embeddings.embed_query(q) for q in [query, query_2, answer_1]]",
    "```",
    ""
   ]
  },
  {
   "cell_type": "markdown",
   "id": "9e1fae5e-0f84-4812-89f5-7d4d71affbc1",
   "metadata": {},
   "source": [
    "検索において、相対的な距離が重要です。上の画像では、「関連ドキュメント」と「類似クエリ」との間の類似性スコアの差異を見ることができます。後者のケースでは、類似クエリと関連ドキュメントとの間の類似性スコアの差がより強くなっています。",
    "",
    "> In retrieval, relative distance matters. In the image above, you can see the difference in similarity scores between the \"relevant doc\" and \"simil stronger delta between the similar query and relevant doc on the latter case.",
    ""
   ]
  }
 ],
 "metadata": {
  "kernelspec": {
   "display_name": "Python 3 (ipykernel)",
   "language": "python",
   "name": "python3"
  },
  "language_info": {
   "codemirror_mode": {
    "name": "ipython",
    "version": 3
   },
   "file_extension": ".py",
   "mimetype": "text/x-python",
   "name": "python",
   "nbconvert_exporter": "python",
   "pygments_lexer": "ipython3",
   "version": "3.9.1"
  }
 },
 "nbformat": 4,
 "nbformat_minor": 5
}