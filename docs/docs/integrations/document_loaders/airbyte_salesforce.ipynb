{
 "cells": [
  {
   "cell_type": "markdown",
   "id": "1f3a5ebf",
   "metadata": {},
   "source": [
    "# Airbyte Salesforce | Airbyte Salesforce",
    ""
   ]
  },
  {
   "cell_type": "markdown",
   "id": "35ac77b1-449b-44f7-b8f3-3494d55c286e",
   "metadata": {},
   "source": [
    "> [Airbyte](https://github.com/airbytehq/airbyte)は、API、データベース、ファイルからデータウェアハウスやデータレイクへのELTパイプラインのためのデータ統合プラットフォームです。データウェアハウスとデータベースへのELTコネクターのカタログが最も豊富です。",
    ">",
    "> > [Airbyte](https://github.com/airbytehq/airbyte) is a data integration platform for ELT pipelines from APIs, databases & files to warehouses & lakes. It has the largest catalog of ELT connectors to data warehouses and databases.",
    "",
    "このローダーはSalesforceコネクタをドキュメントローダーとして公開し、様々なSalesforceオブジェクトをドキュメントとして読み込むことを可能にします。",
    "",
    "> This loader exposes the Salesforce connector as a document loader, allowing you to load various Salesforce objects as documents.",
    ""
   ]
  },
  {
   "cell_type": "markdown",
   "id": "6847a40c",
   "metadata": {},
   "source": [
    ""
   ]
  },
  {
   "cell_type": "markdown",
   "id": "3b06fbde",
   "metadata": {},
   "source": [
    "## Installation | インストール",
    ""
   ]
  },
  {
   "cell_type": "markdown",
   "id": "e3e9dc79",
   "metadata": {},
   "source": [
    "まず、`airbyte-source-salesforce` Pythonパッケージをインストールする必要があります。",
    "",
    "> First, you need to install the `airbyte-source-salesforce` python package.",
    ""
   ]
  },
  {
   "cell_type": "code",
   "execution_count": null,
   "id": "4d35e4e0",
   "metadata": {},
   "outputs": [],
   "source": [
    "#!pip install airbyte-source-salesforce"
   ]
  },
  {
   "cell_type": "markdown",
   "id": "ae855210",
   "metadata": {},
   "source": [
    "## Example | 例",
    ""
   ]
  },
  {
   "cell_type": "markdown",
   "id": "02208f52",
   "metadata": {},
   "source": [
    "リーダーの設定方法の詳細については、[Airbyteのドキュメントページ](https://docs.airbyte.com/integrations/sources/salesforce/)をご覧ください。設定オブジェクトが準拠すべきJSONスキーマはGithubにあります: <https://github.com/airbytehq/airbyte/blob/master/airbyte-integrations/connectors/source-salesforce/source_salesforce/spec.yaml>。",
    "",
    "> Check out the [Airbyte documentation page](https://docs.airbyte.com/integrations/sources/salesforce/) for details about how to configure the reader.",
    "> The JSON schema the config object should adhere to can be found on Github: <https://github.com/airbytehq/airbyte/blob/master/airbyte-integrations/connectors/source-salesforce/source_salesforce/spec.yaml>.",
    "",
    "一般的な形は次のようになります：",
    "",
    "> The general shape looks like this:",
    "",
    "```python",
    "{",
    "  \"client_id\": \"<oauth client id>\",",
    "  \"client_secret\": \"<oauth client secret>\",",
    "  \"refresh_token\": \"<oauth refresh token>\",",
    "  \"start_date\": \"<date from which to start retrieving records from in ISO format, e.g. 2020-10-20T00:00:00Z>\",",
    "  \"is_sandbox\": False, # set to True if you're using a sandbox environment",
    "  \"streams_criteria\": [ # Array of filters for salesforce objects that should be loadable",
    "    {\"criteria\": \"exacts\", \"value\": \"Account\"}, # Exact name of salesforce object",
    "    {\"criteria\": \"starts with\", \"value\": \"Asset\"}, # Prefix of the name",
    "    # Other allowed criteria: ends with, contains, starts not with, ends not with, not contains, not exacts",
    "  ],",
    "}",
    "```",
    "",
    "デフォルトでは、すべてのフィールドはドキュメントのメタデータとして保存され、テキストは空の文字列に設定されています。リーダーから返されるドキュメントを変換することで、ドキュメントのテキストを構築してください。",
    "",
    "> By default all fields are stored as metadata in the documents and the text is set to an empty string. Construct the text of the document by transforming the documents returned by the reader.",
    ""
   ]
  },
  {
   "cell_type": "code",
   "execution_count": null,
   "id": "89a99e58",
   "metadata": {},
   "outputs": [],
   "source": [
    "from langchain.document_loaders.airbyte import AirbyteSalesforceLoader\n",
    "\n",
    "config = {\n",
    "    # your salesforce configuration\n",
    "}\n",
    "\n",
    "loader = AirbyteSalesforceLoader(\n",
    "    config=config, stream_name=\"asset\"\n",
    ")  # check the documentation linked above for a list of all streams"
   ]
  },
  {
   "cell_type": "markdown",
   "id": "2cea23fc",
   "metadata": {},
   "source": [
    "これで、通常の方法でドキュメントを読み込むことができます",
    "",
    "> Now you can load documents the usual way",
    ""
   ]
  },
  {
   "cell_type": "code",
   "execution_count": null,
   "id": "dae75cdb",
   "metadata": {},
   "outputs": [],
   "source": [
    "docs = loader.load()"
   ]
  },
  {
   "cell_type": "markdown",
   "id": "4a93dc2a",
   "metadata": {},
   "source": [
    "`load`はリストを返すため、すべてのドキュメントが読み込まれるまで処理がブロックされます。このプロセスをより良くコントロールするために、イテレータを返す`lazy_load`メソッドを使用することもできます：",
    "",
    "> As `load` returns a list, it will block until all documents are loaded. To have better control over this process, you can also you the `lazy_load` method which returns an iterator instead:",
    ""
   ]
  },
  {
   "cell_type": "code",
   "execution_count": null,
   "id": "1782db09",
   "metadata": {},
   "outputs": [],
   "source": [
    "docs_iterator = loader.lazy_load()"
   ]
  },
  {
   "cell_type": "markdown",
   "id": "3a124086",
   "metadata": {},
   "source": [
    "デフォルトではページの内容は空であり、メタデータオブジェクトにはレコードからのすべての情報が含まれていることに注意してください。異なる形式でドキュメントを作成するには、ローダーを作成する際に record\\_handler 関数を渡す必要があります：",
    "",
    "> Keep in mind that by default the page content is empty and the metadata object contains all the information from the record. To create documents in a different, pass in a record\\_handler function when creating the loader:",
    ""
   ]
  },
  {
   "cell_type": "code",
   "execution_count": null,
   "id": "5671395d",
   "metadata": {},
   "outputs": [],
   "source": [
    "from langchain.docstore.document import Document\n",
    "\n",
    "\n",
    "def handle_record(record, id):\n",
    "    return Document(page_content=record.data[\"title\"], metadata=record.data)\n",
    "\n",
    "\n",
    "loader = AirbyteSalesforceLoader(\n",
    "    config=config, record_handler=handle_record, stream_name=\"asset\"\n",
    ")\n",
    "docs = loader.load()"
   ]
  },
  {
   "cell_type": "markdown",
   "id": "223eb8bc",
   "metadata": {},
   "source": [
    "## Incremental loads | インクリメンタルロード",
    "",
    "一部のストリームではインクリメンタルローディングが可能です。これは、ソースが同期されたレコードを追跡し、それらを再度ロードしないことを意味します。これは、データ量が多く、頻繁に更新されるソースにとって有用です。",
    "",
    "> Some streams allow incremental loading, this means the source keeps track of synced records and won't load them again. This is useful for sources that have a high volume of data and are updated frequently.",
    "",
    "これを利用するためには、ローダーの `last_state` プロパティを保存し、ローダーを再作成する際にそれを渡すことが必要です。これにより、新しいレコードだけがロードされることが保証されます。",
    "",
    "> To take advantage of this, store the `last_state` property of the loader and pass it in when creating the loader again. This will ensure that only new records are loaded.",
    ""
   ]
  },
  {
   "cell_type": "code",
   "execution_count": null,
   "id": "7061e735",
   "metadata": {},
   "outputs": [],
   "source": [
    "last_state = loader.last_state  # store safely\n",
    "\n",
    "incremental_loader = AirbyteSalesforceLoader(\n",
    "    config=config, stream_name=\"asset\", state=last_state\n",
    ")\n",
    "\n",
    "new_docs = incremental_loader.load()"
   ]
  }
 ],
 "metadata": {
  "kernelspec": {
   "display_name": "Python 3 (ipykernel)",
   "language": "python",
   "name": "python3"
  },
  "language_info": {
   "codemirror_mode": {
    "name": "ipython",
    "version": 3
   },
   "file_extension": ".py",
   "mimetype": "text/x-python",
   "name": "python",
   "nbconvert_exporter": "python",
   "pygments_lexer": "ipython3",
   "version": "3.10.6"
  }
 },
 "nbformat": 4,
 "nbformat_minor": 5
}