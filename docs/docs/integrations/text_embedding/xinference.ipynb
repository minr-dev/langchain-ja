{
 "cells": [
  {
   "cell_type": "markdown",
   "metadata": {},
   "source": [
    "# Xorbits inference (Xinference) | Xorbits推論（Xinference）\n",
    "\n",
    "このノートブックでは、LangChain内でXinferenceの埋め込みを使用する方法について説明します。\n",
    "\n",
    "> This notebook goes over how to use Xinference embeddings within LangChain\n",
    "\n"
   ]
  },
  {
   "cell_type": "markdown",
   "metadata": {},
   "source": [
    "## Installation | インストール\n",
    "\n",
    "`Xinference`をPyPIを通じてインストールしてください：\n",
    "\n",
    "> Install `Xinference` through PyPI:\n",
    "\n"
   ]
  },
  {
   "cell_type": "code",
   "execution_count": null,
   "metadata": {},
   "outputs": [],
   "source": [
    "%pip install \"xinference[all]\""
   ]
  },
  {
   "cell_type": "markdown",
   "metadata": {},
   "source": [
    "## Deploy Xinference Locally or in a Distributed Cluster. | Xinferenceをローカルまたは分散クラスターでデプロイする。\n",
    "\n",
    "ローカル環境でのデプロイメントには、`xinference`を実行してください。\n",
    "\n",
    "> For local deployment, run `xinference`.\n",
    "\n",
    "クラスターでXinferenceをデプロイするには、まず`xinference-supervisor`を使用してXinferenceスーパーバイザーを起動します。ポートを指定するには`-p`オプションを、ホストを指定するには`-H`オプションを使用できます。デフォルトのポートは9997番です。\n",
    "\n",
    "> To deploy Xinference in a cluster, first start an Xinference supervisor using the `xinference-supervisor`. You can also use the option -p to specify the port and -H to specify the host. The default port is 9997.\n",
    "\n",
    "次に、実行したい各サーバーで `xinference-worker` を使ってXinferenceワーカーを起動してください。\n",
    "\n",
    "> Then, start the Xinference workers using `xinference-worker` on each server you want to run them on.\n",
    "\n",
    "詳細については、[Xinference](https://github.com/xorbitsai/inference)のREADMEファイルを参照してください。\n",
    "\n",
    "> You can consult the README file from [Xinference](https://github.com/xorbitsai/inference) for more information.\n",
    "\n",
    "## Wrapper | ラッパー\n",
    "\n",
    "LangChainでXinferenceを使用するには、まずモデルを起動する必要があります。これを行うには、コマンドラインインターフェース（CLI）を使用することができます。\n",
    "\n",
    "> To use Xinference with LangChain, you need to first launch a model. You can use command line interface (CLI) to do so:\n",
    "\n"
   ]
  },
  {
   "cell_type": "code",
   "execution_count": 8,
   "metadata": {},
   "outputs": [
    {
     "name": "stdout",
     "output_type": "stream",
     "text": [
      "Model uid: 915845ee-2a04-11ee-8ed4-d29396a3f064\n"
     ]
    }
   ],
   "source": [
    "!xinference launch -n vicuna-v1.3 -f ggmlv3 -q q4_0"
   ]
  },
  {
   "cell_type": "markdown",
   "metadata": {},
   "source": [
    "モデルUIDが返され、それを使用できます。これで、LangChainにおいてXinferenceの埋め込みを利用することが可能になります：\n",
    "\n",
    "> A model UID is returned for you to use. Now you can use Xinference embeddings with LangChain:\n",
    "\n"
   ]
  },
  {
   "cell_type": "code",
   "execution_count": 9,
   "metadata": {},
   "outputs": [],
   "source": [
    "from langchain.embeddings import XinferenceEmbeddings\n",
    "\n",
    "xinference = XinferenceEmbeddings(\n",
    "    server_url=\"http://0.0.0.0:9997\", model_uid=\"915845ee-2a04-11ee-8ed4-d29396a3f064\"\n",
    ")"
   ]
  },
  {
   "cell_type": "code",
   "execution_count": 10,
   "metadata": {},
   "outputs": [],
   "source": [
    "query_result = xinference.embed_query(\"This is a test query\")"
   ]
  },
  {
   "cell_type": "code",
   "execution_count": 11,
   "metadata": {},
   "outputs": [],
   "source": [
    "doc_result = xinference.embed_documents([\"text A\", \"text B\"])"
   ]
  },
  {
   "cell_type": "markdown",
   "metadata": {},
   "source": [
    "最後に、モデルを使用しなくなったら、そのモデルを終了してください：\n",
    "\n",
    "> Lastly, terminate the model when you do not need to use it:\n",
    "\n"
   ]
  },
  {
   "cell_type": "code",
   "execution_count": 12,
   "metadata": {},
   "outputs": [],
   "source": [
    "!xinference terminate --model-uid \"915845ee-2a04-11ee-8ed4-d29396a3f064\""
   ]
  }
 ],
 "metadata": {
  "kernelspec": {
   "display_name": "base",
   "language": "python",
   "name": "python3"
  },
  "language_info": {
   "codemirror_mode": {
    "name": "ipython",
    "version": 3
   },
   "file_extension": ".py",
   "mimetype": "text/x-python",
   "name": "python",
   "nbconvert_exporter": "python",
   "pygments_lexer": "ipython3",
   "version": "3.10.11"
  },
  "orig_nbformat": 4
 },
 "nbformat": 4,
 "nbformat_minor": 2
}