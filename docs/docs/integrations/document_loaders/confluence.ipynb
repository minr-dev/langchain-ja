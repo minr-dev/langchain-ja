{
 "cells": [
  {
   "cell_type": "markdown",
   "metadata": {},
   "source": [
    "# Confluence | Confluence\n",
    "\n",
    "> [Confluence](https://www.atlassian.com/software/confluence)は、プロジェクト関連の資料を保存し整理するためのウィキ協働プラットフォームです。`Confluence`は、主にコンテンツ管理活動を扱うナレッジベースです。\n",
    ">\n",
    "> > [Confluence](https://www.atlassian.com/software/confluence) is a wiki collaboration platform that saves and organizes all of the project-related material. `Confluence` is a knowledge base that primarily handles content management activities.\n",
    "\n",
    "`Confluence`ページのローダー。\n",
    "\n",
    "> A loader for `Confluence` pages.\n",
    "\n",
    "現在、`username/api_key`、`Oauth2 login`に対応しています。さらに、オンプレミスのインストールでは`token`認証もサポートしています。\n",
    "\n",
    "> This currently supports `username/api_key`, `Oauth2 login`. Additionally, on-prem installations also support `token` authentication.\n",
    "\n",
    "`page_id`のリストと/または`space_key`を指定して、対応するページをDocumentオブジェクトとして読み込むことができます。両方が指定された場合、両方のセットの和集合が返されます。\n",
    "\n",
    "> Specify a list `page_id`-s and/or `space_key` to load in the corresponding pages into Document objects, if both are specified the union of both sets will be returned.\n",
    "\n",
    "また、添付ファイルを含めるために `include_attachments` というブール値を指定することができます。これはデフォルトではFalseに設定されていますが、Trueに設定すると、すべての添付ファイルがダウンロードされ、ConfluenceReaderは添付ファイルからテキストを抽出してDocumentオブジェクトに追加します。現在サポートされている添付ファイルのタイプは、`PDF`、`PNG`、`JPEG/JPG`、`SVG`、`Word`、`Excel`です。\n",
    "\n",
    "> You can also specify a boolean `include_attachments` to include attachments, this is set to False by default, if set to True all attachments will be downloaded and ConfluenceReader will extract the text from the attachments and add it to the Document object. Currently supported attachment types are: `PDF`, `PNG`, `JPEG/JPG`, `SVG`, `Word` and `Excel`.\n",
    "\n",
    "ヒント: `space_key` と `page_id` は、ConfluenceのページのURLに含まれています - https://yoursite.atlassian.com/wiki/spaces/\\<space\\_key>/pages/\\<page\\_id>\n",
    "\n",
    "> Hint: `space_key` and `page_id` can both be found in the URL of a page in Confluence - https://yoursite.atlassian.com/wiki/spaces/\\<space\\_key>/pages/\\<page\\_id>\n",
    "\n"
   ]
  },
  {
   "cell_type": "markdown",
   "metadata": {},
   "source": [
    "ConfluenceLoaderを使用する前に、atlassian-python-apiパッケージが最新バージョンになっていることを確認してください：\n",
    "\n",
    "> Before using ConfluenceLoader make sure you have the latest version of the atlassian-python-api package installed:\n",
    "\n"
   ]
  },
  {
   "cell_type": "code",
   "execution_count": 1,
   "metadata": {
    "tags": []
   },
   "outputs": [],
   "source": [
    "#!pip install atlassian-python-api"
   ]
  },
  {
   "cell_type": "markdown",
   "metadata": {},
   "source": [
    "## Examples | 例\n",
    "\n"
   ]
  },
  {
   "cell_type": "markdown",
   "metadata": {},
   "source": [
    "### Username and Password or Username and API Token (Atlassian Cloud only) | ユーザー名とパスワード、またはユーザー名とAPIトークン（Atlassian Cloudのみ）\n",
    "\n",
    "この例では、ユーザー名とパスワードを使用して認証するか、またはAtlassian CloudがホストするConfluenceバージョンに接続している場合は、ユーザー名とAPIトークンを使用して認証します。APIトークンは以下のURLで生成できます: https://id.atlassian.com/manage-profile/security/api-tokens。\n",
    "\n",
    "> This example authenticates using either a username and password or, if you're connecting to an Atlassian Cloud hosted version of Confluence, a username and an API Token.\n",
    "> You can generate an API token at: https://id.atlassian.com/manage-profile/security/api-tokens.\n",
    "\n",
    "`limit` パラメータは、一度の呼び出しで取得されるドキュメントの数を指定しますが、合計で取得されるドキュメントの数を指定するものではありません。デフォルトでは、コードは50ドキュメントずつ最大1000ドキュメントを返します。ドキュメントの総数を制御するには、`max_pages` パラメータを使用してください。atlassian-python-api パッケージでの `limit` パラメータの最大値は現在100であることに注意してください。\n",
    "\n",
    "> The `limit` parameter specifies how many documents will be retrieved in a single call, not how many documents will be retrieved in total.\n",
    "> By default the code will return up to 1000 documents in 50 documents batches. To control the total number of documents use the `max_pages` parameter.\n",
    "> Plese note the maximum value for the `limit` parameter in the atlassian-python-api package is currently 100.\n",
    "\n"
   ]
  },
  {
   "cell_type": "code",
   "execution_count": null,
   "metadata": {},
   "outputs": [],
   "source": [
    "from langchain.document_loaders import ConfluenceLoader\n",
    "\n",
    "loader = ConfluenceLoader(\n",
    "    url=\"https://yoursite.atlassian.com/wiki\", username=\"me\", api_key=\"12345\"\n",
    ")\n",
    "documents = loader.load(space_key=\"SPACE\", include_attachments=True, limit=50)"
   ]
  },
  {
   "cell_type": "markdown",
   "metadata": {},
   "source": [
    "### Personal Access Token (Server/On-Prem only) | パーソナルアクセストークン（サーバー/オンプレミスのみ）\n",
    "\n",
    "この方法は、Data Center/Serverのオンプレミス版にのみ有効です。パーソナルアクセストークン（PAT）を生成する方法についての詳細は、公式のConfluenceドキュメントを参照してください：https://confluence.atlassian.com/enterprise/using-personal-access-tokens-1026032365.html。PATを使用する場合、トークン値のみを提供することができ、ユーザー名を提供することはできません。また、ConfluenceLoaderはPATを生成したユーザーの権限で実行され、そのユーザーがアクセス権を有するドキュメントのみをロードすることができますので、ご注意ください。\n",
    "\n",
    "> This method is valid for the Data Center/Server on-prem edition only.\n",
    "> For more information on how to generate a Personal Access Token (PAT) check the official Confluence documentation at: https://confluence.atlassian.com/enterprise/using-personal-access-tokens-1026032365.html.\n",
    "> When using a PAT you provide only the token value, you cannot provide a username.\n",
    "> Please note that ConfluenceLoader will run under the permissions of the user that generated the PAT and will only be able to load documents for which said user has access to.\n",
    "\n"
   ]
  },
  {
   "cell_type": "code",
   "execution_count": null,
   "metadata": {},
   "outputs": [],
   "source": [
    "from langchain.document_loaders import ConfluenceLoader\n",
    "\n",
    "loader = ConfluenceLoader(url=\"https://yoursite.atlassian.com/wiki\", token=\"12345\")\n",
    "documents = loader.load(\n",
    "    space_key=\"SPACE\", include_attachments=True, limit=50, max_pages=50\n",
    ")"
   ]
  }
 ],
 "metadata": {
  "kernelspec": {
   "display_name": "Python 3 (ipykernel)",
   "language": "python",
   "name": "python3"
  },
  "language_info": {
   "codemirror_mode": {
    "name": "ipython",
    "version": 3
   },
   "file_extension": ".py",
   "mimetype": "text/x-python",
   "name": "python",
   "nbconvert_exporter": "python",
   "pygments_lexer": "ipython3",
   "version": "3.9.1"
  },
  "vscode": {
   "interpreter": {
    "hash": "cc99336516f23363341912c6723b01ace86f02e26b4290be1efc0677e2e2ec24"
   }
  }
 },
 "nbformat": 4,
 "nbformat_minor": 4
}