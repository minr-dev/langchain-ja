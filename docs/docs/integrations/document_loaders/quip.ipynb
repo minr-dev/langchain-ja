{
 "cells": [
  {
   "cell_type": "markdown",
   "metadata": {},
   "source": [
    "# Quip | Quip\n",
    "\n",
    "> [Quip](https://quip.com)は、モバイルおよびWeb用の共同作業型生産性ソフトウェアスイートです。これにより、ビジネス目的で通常使用される文書やスプレッドシートを、人々のグループが共同で作成および編集することができます。\n",
    ">\n",
    "> > [Quip](https://quip.com) is a collaborative productivity software suite for mobile and Web. It allows groups of people to create and edit documents and spreadsheets as a group, typically for business purposes.\n",
    "\n",
    "`Quip`ドキュメントのためのローダー。\n",
    "\n",
    "> A loader for `Quip` docs.\n",
    "\n",
    "個人アクセストークンの取得方法については、[こちら](https://quip.com/dev/automation/documentation/current#section/Authentication/Get-Access-to-Quip's-APIs)を参照してください。\n",
    "\n",
    "> Please refer [here](https://quip.com/dev/automation/documentation/current#section/Authentication/Get-Access-to-Quip's-APIs) to know how to get personal access token.\n",
    "\n",
    "`folder_ids`や`thread_ids`のリストを指定して、対応するドキュメントをDocumentオブジェクトに読み込むことができます。両方が指定された場合、ローダーは`folder_ids`に基づいてこのフォルダに属するすべての`thread_ids`を取得し、それに渡された`thread_ids`を組み合わせ、両方のセットの和集合を返します。\n",
    "\n",
    "> Specify a list `folder_ids` and/or `thread_ids` to load in the corresponding docs into Document objects, if both are specified, loader will get all `thread_ids` belong to this folder based on `folder_ids`, combine with passed `thread_ids`, the union of both sets will be returned.\n",
    "\n",
    "* folder\\_idを知るにはどうすればいいですか？\n",
    "  quipのフォルダにアクセスし、フォルダを右クリックしてリンクをコピー、そのリンクからfolder\\_idとしての接尾辞を抽出します。ヒント：`https://example.quip.com/<folder_id>`\n",
    "\n",
    "  > How to know folder\\_id ?\n",
    "  > go to quip folder, right click folder and copy link, extract suffix from link as folder\\_id. Hint:  `https://example.quip.com/<folder_id>`\n",
    "\n",
    "* thread\\_idを知る方法は？\n",
    "  thread\\_idはドキュメントIDです。quipのドキュメントにアクセスし、ドキュメントを右クリックしてリンクをコピーし、リンクから接尾辞をthread\\_idとして抽出します。ヒント：`https://example.quip.com/<thread_id>`\n",
    "\n",
    "  > How to know thread\\_id ?\n",
    "  > thread\\_id is the document id. Go to quip doc, right click doc and copy link, extract suffix from link as thread\\_id. Hint: `https://exmaple.quip.com/<thread_id>`\n",
    "\n",
    "\n",
    "`include_all_folders`を`True`に設定すると、group\\_folder\\_idsが取得されます。また、添付ファイルを含めるために`include_attachments`というブール値を指定することもでき、これはデフォルトではFalseに設定されていますが、Trueに設定するとすべての添付ファイルがダウンロードされ、QuipLoaderは添付ファイルからテキストを抽出してDocumentオブジェクトに追加します。現在サポートされている添付ファイルのタイプには、`PDF`、`PNG`、`JPEG/JPG`、`SVG`、`Word`、`Excel`があります。さらに、ドキュメント内のコメントを含めるために`include_comments`というブール値を指定することもでき、これもデフォルトではFalseに設定されていますが、Trueに設定するとドキュメント内のすべてのコメントが取得され、QuipLoaderはそれらをDocumentオブジェクトに追加します。\n",
    "\n",
    "> You can also set `include_all_folders` as `True` will fetch group\\_folder\\_ids and\n",
    "> You can also specify a boolean `include_attachments` to include attachments, this is set to False by default, if set to True all attachments will be downloaded and QuipLoader will extract the text from the attachments and add it to the Document object. Currently supported attachment types are: `PDF`, `PNG`, `JPEG/JPG`, `SVG`, `Word` and `Excel`. Also you can sepcify a boolean `include_comments` to include comments in document, this is set to False by default, if set to True all comments in document will be fetched and QuipLoader will add them to Document objec.\n",
    "\n",
    "\n"
   ]
  },
  {
   "cell_type": "markdown",
   "metadata": {},
   "source": [
    "QuipLoaderを使用する前に、quip-apiパッケージが最新バージョンになっていることを確認してください：\n",
    "\n",
    "> Before using QuipLoader make sure you have the latest version of the quip-api package installed:\n",
    "\n",
    "\n"
   ]
  },
  {
   "cell_type": "code",
   "execution_count": 1,
   "metadata": {
    "tags": []
   },
   "outputs": [],
   "source": [
    "#!pip install quip-api\n"
   ]
  },
  {
   "cell_type": "markdown",
   "metadata": {},
   "source": [
    "## Examples | 例\n",
    "\n",
    "\n"
   ]
  },
  {
   "cell_type": "markdown",
   "metadata": {},
   "source": [
    "### Personal Access Token | パーソナルアクセストークン\n",
    "\n",
    "\n"
   ]
  },
  {
   "cell_type": "code",
   "execution_count": null,
   "metadata": {},
   "outputs": [],
   "source": [
    "from langchain.document_loaders import QuipLoader\n",
    "\n",
    "loader = QuipLoader(\n",
    "    api_url=\"https://platform.quip.com\", access_token=\"change_me\", request_timeout=60\n",
    ")\n",
    "documents = loader.load(\n",
    "    folder_ids={\"123\", \"456\"},\n",
    "    thread_ids={\"abc\", \"efg\"},\n",
    "    include_attachments=False,\n",
    "    include_comments=False,\n",
    ")"
   ]
  }
 ],
 "metadata": {
  "kernelspec": {
   "display_name": "Python (Pyodide)",
   "language": "python",
   "name": "python"
  },
  "language_info": {
   "codemirror_mode": {
    "name": "ipython",
    "version": 3
   },
   "file_extension": ".py",
   "mimetype": "text/x-python",
   "name": "python",
   "nbconvert_exporter": "python",
   "pygments_lexer": "ipython3",
   "version": "3.9.1"
  },
  "vscode": {
   "interpreter": {
    "hash": "cc99336516f23363341912c6723b01ace86f02e26b4290be1efc0677e2e2ec24"
   }
  }
 },
 "nbformat": 4,
 "nbformat_minor": 4
}