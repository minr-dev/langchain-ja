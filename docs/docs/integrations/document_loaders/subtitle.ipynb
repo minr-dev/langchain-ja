{
 "cells": [
  {
   "cell_type": "markdown",
   "id": "4bdaea79",
   "metadata": {},
   "source": [
    "# Subtitle | サブタイトル\n",
    "\n",
    "> 「SubRipファイルフォーマット」は、`Matroska` マルチメディアコンテナフォーマットのウェブサイトで「おそらくすべての字幕フォーマットの中で最も基本的なもの」として説明されています。`SubRip (SubRip Text)` ファイルは `.srt` 拡張子で命名され、空行で区切られたグループに整形されたプレーンテキストの行を含んでいます。字幕は1から順に番号が付けられます。使用されるタイムコードフォーマットは、時間:分:秒,ミリ秒で、時間単位はゼロ埋めされた2桁、分数はゼロ埋めされた3桁（00:00:00,000）です。分数の区切りにはコンマが使用されており、これはプログラムがフランスで書かれたためです。\n",
    ">\n",
    "> > [The SubRip file format](https://en.wikipedia.org/wiki/SubRip#SubRip_file_format) is described on the `Matroska` multimedia container format website as \"perhaps the most basic of all subtitle formats.\" `SubRip (SubRip Text)` files are named with the extension `.srt`, and contain formatted lines of plain text in groups separated by a blank line. Subtitles are numbered sequentially, starting at 1. The timecode format used is hours:minutes:seconds,milliseconds with time units fixed to two zero-padded digits and fractions fixed to three zero-padded digits (00:00:00,000). The fractional separator used is the comma, since the program was written in France.\n",
    "\n",
    "字幕（`.srt`）ファイルからデータを読み込む方法\n",
    "\n",
    "> How to load data from subtitle (`.srt`) files\n",
    "\n",
    "こちらから[例の .srt ファイルをダウンロードしてください](https://www.opensubtitles.org/en/subtitles/5575150/star-wars-the-clone-wars-crisis-at-the-heart-en)。\n",
    "\n",
    "> Please, download the [example .srt file from here](https://www.opensubtitles.org/en/subtitles/5575150/star-wars-the-clone-wars-crisis-at-the-heart-en).\n",
    "\n"
   ]
  },
  {
   "cell_type": "code",
   "execution_count": null,
   "id": "c6eb0372-ad36-4747-8120-d1557fe632fd",
   "metadata": {
    "tags": []
   },
   "outputs": [],
   "source": [
    "!pip install pysrt"
   ]
  },
  {
   "cell_type": "code",
   "execution_count": 4,
   "id": "2cbb7f5c",
   "metadata": {
    "tags": []
   },
   "outputs": [],
   "source": [
    "from langchain.document_loaders import SRTLoader"
   ]
  },
  {
   "cell_type": "code",
   "execution_count": 5,
   "id": "865d8a14",
   "metadata": {
    "tags": []
   },
   "outputs": [],
   "source": [
    "loader = SRTLoader(\n",
    "    \"example_data/Star_Wars_The_Clone_Wars_S06E07_Crisis_at_the_Heart.srt\"\n",
    ")"
   ]
  },
  {
   "cell_type": "code",
   "execution_count": null,
   "id": "173a9234",
   "metadata": {
    "tags": []
   },
   "outputs": [],
   "source": [
    "docs = loader.load()"
   ]
  },
  {
   "cell_type": "code",
   "execution_count": 27,
   "id": "15e00030",
   "metadata": {},
   "outputs": [
    {
     "data": {
      "text/plain": [
       "'<i>Corruption discovered\\nat the core of the Banking Clan!</i> <i>Reunited, Rush Clovis\\nand Senator A'"
      ]
     },
     "execution_count": 27,
     "metadata": {},
     "output_type": "execute_result"
    }
   ],
   "source": [
    "docs[0].page_content[:100]"
   ]
  }
 ],
 "metadata": {
  "kernelspec": {
   "display_name": "Python 3 (ipykernel)",
   "language": "python",
   "name": "python3"
  },
  "language_info": {
   "codemirror_mode": {
    "name": "ipython",
    "version": 3
   },
   "file_extension": ".py",
   "mimetype": "text/x-python",
   "name": "python",
   "nbconvert_exporter": "python",
   "pygments_lexer": "ipython3",
   "version": "3.10.6"
  }
 },
 "nbformat": 4,
 "nbformat_minor": 5
}