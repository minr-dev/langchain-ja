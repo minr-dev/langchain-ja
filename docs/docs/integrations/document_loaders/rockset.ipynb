{
 "cells": [
  {
   "attachments": {},
   "cell_type": "markdown",
   "metadata": {},
   "source": [
    "# Rockset | Rockset",
    "",
    "> Rocksetは、運用負荷なしに大規模な半構造化データに対するクエリを可能にするリアルタイム分析データベースです。Rocksetを使用すると、取り込まれたデータは1秒以内にクエリ可能となり、そのデータに対する分析クエリは通常ミリ秒単位で実行されます。Rocksetは計算に最適化されており、100TB未満の高並行性アプリケーションの提供に適しています（または、ロールアップを使用することで数百TB以上の大規模なデータにも対応可能です）。",
    ">",
    "> > Rockset is a real-time analytics database which enables queries on massive, semi-structured data without operational burden. With Rockset, ingested data is queryable within one second and analytical queries against that data typically execute in milliseconds. Rockset is compute optimized, making it suitable for serving high concurrency applications in the sub-100TB range (or larger than 100s of TBs with rollups).",
    "",
    "このノートブックは、langchainでドキュメントローダーとしてRocksetを使用する方法を示しています。始めるにあたって、RocksetアカウントとAPIキーを用意しておく必要があります。",
    "",
    "> This notebook demonstrates how to use Rockset as a document loader in langchain. To get started, make sure you have a Rockset account and an API key available.",
    ""
   ]
  },
  {
   "attachments": {},
   "cell_type": "markdown",
   "metadata": {},
   "source": [
    "## Setting up the environment | 環境の設定",
    "",
    "1. [Rocksetコンソール](https://console.rockset.com/apikeys)にアクセスしてAPIキーを取得してください。[APIリファレンス](https://rockset.com/docs/rest-api/#introduction)からあなたのAPIリージョンを見つけ出してください。このノートブックを使用する目的では、`Oregon(us-west-2)`を使用してRocksetを利用していると仮定します。",
    "   > Go to the [Rockset console](https://console.rockset.com/apikeys) and get an API key. Find your API region from the [API reference](https://rockset.com/docs/rest-api/#introduction). For the purpose of this notebook, we will assume you're using Rockset from `Oregon(us-west-2)`.",
    "2. `ROCKSET_API_KEY`という環境変数を設定してください。",
    "   > Set your the environment variable `ROCKSET_API_KEY`.",
    "3. langchainがRocksetデータベースとやり取りするために使用されるRocksetのPythonクライアントをインストールしてください。",
    "   > Install the Rockset python client, which will be used by langchain to interact with the Rockset database.",
    ""
   ]
  },
  {
   "cell_type": "code",
   "execution_count": null,
   "metadata": {},
   "outputs": [],
   "source": [
    "!pip install rockset"
   ]
  },
  {
   "attachments": {},
   "cell_type": "markdown",
   "metadata": {},
   "source": [
    "# Loading Documents | ドキュメントの読み込み",
    "",
    "LangChainとRocksetの統合により、SQLクエリを使用してRocksetコレクションからドキュメントをロードすることができます。これを行うためには、`RocksetLoader`オブジェクトを構築する必要があります。以下に`RocksetLoader`を初期化する例を示します。",
    "",
    "> The Rockset integration with LangChain allows you to load documents from Rockset collections with SQL queries. In order to do this you must construct a `RocksetLoader` object. Here is an example snippet that initializes a `RocksetLoader`.",
    ""
   ]
  },
  {
   "cell_type": "code",
   "execution_count": null,
   "metadata": {},
   "outputs": [],
   "source": [
    "from langchain.document_loaders import RocksetLoader\n",
    "from rockset import Regions, RocksetClient, models\n",
    "\n",
    "loader = RocksetLoader(\n",
    "    RocksetClient(Regions.usw2a1, \"<api key>\"),\n",
    "    models.QueryRequestSql(query=\"SELECT * FROM langchain_demo LIMIT 3\"),  # SQL query\n",
    "    [\"text\"],  # content columns\n",
    "    metadata_keys=[\"id\", \"date\"],  # metadata columns\n",
    ")"
   ]
  },
  {
   "attachments": {},
   "cell_type": "markdown",
   "metadata": {},
   "source": [
    "ここでは、以下のクエリが実行されていることがわかります：",
    "",
    "> Here, you can see that the following query is run:",
    "",
    "```sql",
    "SELECT * FROM langchain_demo LIMIT 3",
    "```",
    "",
    "コレクション内の `text` 列はページの内容として使用され、レコードの `id` と `date` 列はメタデータとして使用されます（`metadata_keys` に何も指定しない場合、Rocksetドキュメント全体がメタデータとして使用されます）。",
    "",
    "> The `text` column in the collection is used as the page content, and the record's `id` and `date` columns are used as metadata (if you do not pass anything into `metadata_keys`, the whole Rockset document will be used as metadata).",
    "",
    "クエリを実行し、結果として得られる`Document`のイテレータを取得するには、以下を実行してください：",
    "",
    "> To execute the query and access an iterator over the resulting `Document`s, run:",
    ""
   ]
  },
  {
   "cell_type": "code",
   "execution_count": null,
   "metadata": {},
   "outputs": [],
   "source": [
    "loader.lazy_load()"
   ]
  },
  {
   "attachments": {},
   "cell_type": "markdown",
   "metadata": {},
   "source": [
    "クエリを実行し、すべての結果として得られる`Document`に一度にアクセスするには、以下を実行してください：",
    "",
    "> To execute the query and access all resulting `Document`s at once, run:",
    ""
   ]
  },
  {
   "cell_type": "code",
   "execution_count": null,
   "metadata": {},
   "outputs": [],
   "source": [
    "loader.load()"
   ]
  },
  {
   "attachments": {},
   "cell_type": "markdown",
   "metadata": {},
   "source": [
    "`loader.load()` の応答例は以下の通りです：",
    "",
    "> Here is an example response of `loader.load()`:",
    "",
    "```python",
    "[",
    "    Document(",
    "        page_content=\"Lorem ipsum dolor sit amet, consectetur adipiscing elit. Maecenas a libero porta, dictum ipsum eget, hendrerit neque. Morbi blandit, ex ut suscipit viverra, enim velit tincidunt tellus, a tempor velit nunc et ex. Proin hendrerit odio nec convallis lobortis. Aenean in purus dolor. Vestibulum orci orci, laoreet eget magna in, commodo euismod justo.\", ",
    "        metadata={\"id\": 83209, \"date\": \"2022-11-13T18:26:45.000000Z\"}",
    "    ),",
    "    Document(",
    "        page_content=\"Integer at finibus odio. Nam sit amet enim cursus lacus gravida feugiat vestibulum sed libero. Aenean eleifend est quis elementum tincidunt. Curabitur sit amet ornare erat. Nulla id dolor ut magna volutpat sodales fringilla vel ipsum. Donec ultricies, lacus sed fermentum dignissim, lorem elit aliquam ligula, sed suscipit sapien purus nec ligula.\", ",
    "        metadata={\"id\": 89313, \"date\": \"2022-11-13T18:28:53.000000Z\"}",
    "    ),",
    "    Document(",
    "        page_content=\"Morbi tortor enim, commodo id efficitur vitae, fringilla nec mi. Nullam molestie faucibus aliquet. Praesent a est facilisis, condimentum justo sit amet, viverra erat. Fusce volutpat nisi vel purus blandit, et facilisis felis accumsan. Phasellus luctus ligula ultrices tellus tempor hendrerit. Donec at ultricies leo.\", ",
    "        metadata={\"id\": 87732, \"date\": \"2022-11-13T18:49:04.000000Z\"}",
    "    )",
    "]",
    "```",
    ""
   ]
  },
  {
   "attachments": {},
   "cell_type": "markdown",
   "metadata": {},
   "source": [
    "## Using multiple columns as content | 複数のカラムをコンテンツとして使用する",
    "",
    "複数のカラムをコンテンツとして使用することができます：",
    "",
    "> You can choose to use multiple columns as content:",
    ""
   ]
  },
  {
   "cell_type": "code",
   "execution_count": null,
   "metadata": {},
   "outputs": [],
   "source": [
    "from langchain.document_loaders import RocksetLoader\n",
    "from rockset import Regions, RocksetClient, models\n",
    "\n",
    "loader = RocksetLoader(\n",
    "    RocksetClient(Regions.usw2a1, \"<api key>\"),\n",
    "    models.QueryRequestSql(query=\"SELECT * FROM langchain_demo LIMIT 1 WHERE id=38\"),\n",
    "    [\"sentence1\", \"sentence2\"],  # TWO content columns\n",
    ")"
   ]
  },
  {
   "attachments": {},
   "cell_type": "markdown",
   "metadata": {},
   "source": [
    "「sentence1」フィールドが「This is the first sentence.」で、「sentence2」フィールドが「This is the second sentence.」であると仮定した場合、結果として得られる「Document」の`page_content`は以下の通りになります：",
    "",
    "> Assuming the \"sentence1\" field is `\"This is the first sentence.\"` and the \"sentence2\" field is `\"This is the second sentence.\"`, the `page_content` of the resulting `Document` would be:",
    "",
    "```",
    "This is the first sentence.",
    "This is the second sentence.",
    "```",
    "",
    "あなたは、`RocksetLoader` コンストラクタの `content_columns_joiner` 引数を設定することで、コンテンツ列を結合する独自の関数を定義できます。`content_columns_joiner` は、(列名, 列の値) のタプルのリストを表す `List[Tuple[str, Any]]` を引数に取るメソッドです。デフォルトでは、このメソッドは各列の値を新しい行で結合します。",
    "",
    "> You can define you own function to join content columns by setting the `content_columns_joiner` argument in the `RocksetLoader` constructor. `content_columns_joiner` is a method that takes in a `List[Tuple[str, Any]]]` as an argument, representing a list of tuples of (column name, column value). By default, this is a method that joins each column value with a new line.",
    "",
    "例えば、sentence1とsentence2を新しい行ではなくスペースで結合したい場合は、`content_columns_joiner`を以下のように設定できます：",
    "",
    "> For example, if you wanted to join sentence1 and sentence2 with a space instead of a new line, you could set `content_columns_joiner` like so:",
    ""
   ]
  },
  {
   "cell_type": "code",
   "execution_count": null,
   "metadata": {},
   "outputs": [],
   "source": [
    "RocksetLoader(\n",
    "    RocksetClient(Regions.usw2a1, \"<api key>\"),\n",
    "    models.QueryRequestSql(query=\"SELECT * FROM langchain_demo LIMIT 1 WHERE id=38\"),\n",
    "    [\"sentence1\", \"sentence2\"],\n",
    "    content_columns_joiner=lambda docs: \" \".join(\n",
    "        [doc[1] for doc in docs]\n",
    "    ),  # join with space instead of /n\n",
    ")"
   ]
  },
  {
   "attachments": {},
   "cell_type": "markdown",
   "metadata": {},
   "source": [
    "`Document` の結果の `page_content` は以下の通りです：",
    "",
    "> The `page_content` of the resulting `Document` would be:",
    "",
    "```",
    "This is the first sentence. This is the second sentence.",
    "```",
    "",
    "多くの場合、`page_content`に列名を含めたいと思うことがあります。それを行うには、以下のようにします：",
    "",
    "> Oftentimes you want to include the column name in the `page_content`. You can do that like this:",
    ""
   ]
  },
  {
   "cell_type": "code",
   "execution_count": null,
   "metadata": {},
   "outputs": [],
   "source": [
    "RocksetLoader(\n",
    "    RocksetClient(Regions.usw2a1, \"<api key>\"),\n",
    "    models.QueryRequestSql(query=\"SELECT * FROM langchain_demo LIMIT 1 WHERE id=38\"),\n",
    "    [\"sentence1\", \"sentence2\"],\n",
    "    content_columns_joiner=lambda docs: \"\\n\".join(\n",
    "        [f\"{doc[0]}: {doc[1]}\" for doc in docs]\n",
    "    ),\n",
    ")"
   ]
  },
  {
   "attachments": {},
   "cell_type": "markdown",
   "metadata": {},
   "source": [
    "これにより、以下のような `page_content` が得られます：",
    "",
    "> This would result in the following `page_content`:",
    "",
    "```",
    "sentence1: This is the first sentence.",
    "sentence2: This is the second sentence.",
    "```",
    ""
   ]
  }
 ],
 "metadata": {
  "kernelspec": {
   "display_name": "env",
   "language": "python",
   "name": "python3"
  },
  "language_info": {
   "name": "python",
   "version": "3.11.4"
  },
  "orig_nbformat": 4
 },
 "nbformat": 4,
 "nbformat_minor": 2
}