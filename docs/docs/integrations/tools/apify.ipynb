{
 "cells": [
  {
   "cell_type": "markdown",
   "metadata": {},
   "source": [
    "# Apify | Apify\n",
    "\n",
    "このノートブックは、LangChainのための[Apify integration](/docs/ecosystem/integrations/apify)の使用方法を示しています。\n",
    "\n",
    "> This notebook shows how to use the [Apify integration](/docs/ecosystem/integrations/apify) for LangChain.\n",
    "\n",
    "[Apify](https://apify.com)は、ウェブスクレイピングやデータ抽出のためのクラウドプラットフォームで、様々なウェブスクレイピング、クローリング、データ抽出のユースケースに対応する、*Actors*と呼ばれる千を超える既製アプリの[エコシステム](https://apify.com/store)を提供しています。例えば、Google検索結果、InstagramやFacebookのプロフィール、AmazonやShopifyの商品、Googleマップのレビューなどを抽出するために使用できます。\n",
    "\n",
    "> [Apify](https://apify.com) is a cloud platform for web scraping and data extraction,\n",
    "> which provides an [ecosystem](https://apify.com/store) of more than a thousand\n",
    "> ready-made apps called *Actors* for various web scraping, crawling, and data extraction use cases.\n",
    "> For example, you can use it to extract Google Search results, Instagram and Facebook profiles, products from Amazon or Shopify, Google Maps reviews, etc. etc.\n",
    "\n",
    "この例では、ドキュメント、ナレッジベース、ヘルプセンター、ブログなどのウェブサイトを深くクロールし、ウェブページからテキストコンテンツを抽出する [Website Content Crawler](https://apify.com/apify/website-content-crawler) Actorを使用します。その後、ドキュメントをベクターインデックスに取り込んで、それを使って質問に答えます。\n",
    "\n",
    "> In this example, we'll use the [Website Content Crawler](https://apify.com/apify/website-content-crawler) Actor,\n",
    "> which can deeply crawl websites such as documentation, knowledge bases, help centers, or blogs,\n",
    "> and extract text content from the web pages. Then we feed the documents into a vector index and answer questions from it.\n",
    "\n"
   ]
  },
  {
   "cell_type": "code",
   "execution_count": null,
   "metadata": {},
   "outputs": [],
   "source": [
    "#!pip install apify-client openai langchain chromadb tiktoken"
   ]
  },
  {
   "cell_type": "markdown",
   "metadata": {},
   "source": [
    "まず、`ApifyWrapper`をソースコードにインポートしてください：\n",
    "\n",
    "> First, import `ApifyWrapper` into your source code:\n",
    "\n"
   ]
  },
  {
   "cell_type": "code",
   "execution_count": 1,
   "metadata": {},
   "outputs": [],
   "source": [
    "from langchain.document_loaders.base import Document\n",
    "from langchain.indexes import VectorstoreIndexCreator\n",
    "from langchain.utilities import ApifyWrapper"
   ]
  },
  {
   "cell_type": "markdown",
   "metadata": {},
   "source": [
    "以下のリンクから取得できる[Apify APIトークン](https://console.apify.com/account/integrations)を使用して初期化し、この例のためにはあなたのOpenAI APIキーも併せて使用してください：\n",
    "\n",
    "> Initialize it using your [Apify API token](https://console.apify.com/account/integrations) and for the purpose of this example, also with your OpenAI API key:\n",
    "\n"
   ]
  },
  {
   "cell_type": "code",
   "execution_count": 2,
   "metadata": {},
   "outputs": [],
   "source": [
    "import os\n",
    "\n",
    "os.environ[\"OPENAI_API_KEY\"] = \"Your OpenAI API key\"\n",
    "os.environ[\"APIFY_API_TOKEN\"] = \"Your Apify API token\"\n",
    "\n",
    "apify = ApifyWrapper()"
   ]
  },
  {
   "cell_type": "markdown",
   "metadata": {},
   "source": [
    "その後、Actorを実行して完了するまで待ち、ApifyデータセットからLangChainドキュメントローダーにその結果を取得してください。\n",
    "\n",
    "> Then run the Actor, wait for it to finish, and fetch its results from the Apify dataset into a LangChain document loader.\n",
    "\n",
    "Apifyのデータセットにすでにいくつかの結果がある場合、[このノートブック](/docs/integrations/document_loaders/apify_dataset)に示されているように`ApifyDatasetLoader`を使用して直接ロードすることができます。そのノートブックでは、ApifyデータセットのレコードからLangChainの`Document`フィールドへフィールドをマッピングする`dataset_mapping_function`の説明も含まれています。\n",
    "\n",
    "> Note that if you already have some results in an Apify dataset, you can load them directly using `ApifyDatasetLoader`, as shown in [this notebook](/docs/integrations/document_loaders/apify_dataset). In that notebook, you'll also find the explanation of the `dataset_mapping_function`, which is used to map fields from the Apify dataset records to LangChain `Document` fields.\n",
    "\n"
   ]
  },
  {
   "cell_type": "code",
   "execution_count": 3,
   "metadata": {},
   "outputs": [],
   "source": [
    "loader = apify.call_actor(\n",
    "    actor_id=\"apify/website-content-crawler\",\n",
    "    run_input={\"startUrls\": [{\"url\": \"https://python.langchain.com/en/latest/\"}]},\n",
    "    dataset_mapping_function=lambda item: Document(\n",
    "        page_content=item[\"text\"] or \"\", metadata={\"source\": item[\"url\"]}\n",
    "    ),\n",
    ")"
   ]
  },
  {
   "cell_type": "markdown",
   "metadata": {},
   "source": [
    "クロールされたドキュメントからベクターインデックスを初期化します：\n",
    "\n",
    "> Initialize the vector index from the crawled documents:\n",
    "\n"
   ]
  },
  {
   "cell_type": "code",
   "execution_count": null,
   "metadata": {},
   "outputs": [],
   "source": [
    "index = VectorstoreIndexCreator().from_loaders([loader])"
   ]
  },
  {
   "cell_type": "markdown",
   "metadata": {},
   "source": [
    "最後に、ベクターインデックスを照会します：\n",
    "\n",
    "> And finally, query the vector index:\n",
    "\n"
   ]
  },
  {
   "cell_type": "code",
   "execution_count": 5,
   "metadata": {},
   "outputs": [],
   "source": [
    "query = \"What is LangChain?\"\n",
    "result = index.query_with_sources(query)"
   ]
  },
  {
   "cell_type": "code",
   "execution_count": 6,
   "metadata": {},
   "outputs": [
    {
     "name": "stdout",
     "output_type": "stream",
     "text": [
      " LangChain is a standard interface through which you can interact with a variety of large language models (LLMs). It provides modules that can be used to build language model applications, and it also provides chains and agents with memory capabilities.\n",
      "\n",
      "https://python.langchain.com/en/latest/modules/models/llms.html, https://python.langchain.com/en/latest/getting_started/getting_started.html\n"
     ]
    }
   ],
   "source": [
    "print(result[\"answer\"])\n",
    "print(result[\"sources\"])"
   ]
  }
 ],
 "metadata": {
  "kernelspec": {
   "display_name": "Python 3 (ipykernel)",
   "language": "python",
   "name": "python3"
  },
  "language_info": {
   "codemirror_mode": {
    "name": "ipython",
    "version": 3
   },
   "file_extension": ".py",
   "mimetype": "text/x-python",
   "name": "python",
   "nbconvert_exporter": "python",
   "pygments_lexer": "ipython3",
   "version": "3.11.3"
  }
 },
 "nbformat": 4,
 "nbformat_minor": 4
}