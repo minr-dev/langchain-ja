{
 "cells": [
  {
   "cell_type": "markdown",
   "id": "1f3a5ebf",
   "metadata": {},
   "source": [
    "# Airbyte CDK | Airbyte CDK\n",
    "\n",
    "\n"
   ]
  },
  {
   "cell_type": "markdown",
   "id": "35ac77b1-449b-44f7-b8f3-3494d55c286e",
   "metadata": {},
   "source": [
    "> [Airbyte](https://github.com/airbytehq/airbyte)は、API、データベース、ファイルからデータウェアハウスやデータレイクへのELTパイプライン用のデータ統合プラットフォームです。データウェアハウスおよびデータベースへのELTコネクタのカタログが最も広範です。\n",
    ">\n",
    "> > [Airbyte](https://github.com/airbytehq/airbyte) is a data integration platform for ELT pipelines from APIs, databases & files to warehouses & lakes. It has the largest catalog of ELT connectors to data warehouses and databases.\n",
    "\n",
    "多くのソースコネクタは[Airbyte CDK](https://docs.airbyte.com/connector-development/cdk-python/)を使用して実装されています。このローダーにより、これらのコネクタをどれでも実行し、データをドキュメントとして返すことが可能です。\n",
    "\n",
    "> A lot of source connectors are implemented using the [Airbyte CDK](https://docs.airbyte.com/connector-development/cdk-python/). This loader allows to run any of these connectors and return the data as documents.\n",
    "\n",
    "\n"
   ]
  },
  {
   "cell_type": "markdown",
   "id": "3b06fbde",
   "metadata": {},
   "source": [
    "## Installation | インストール\n",
    "\n",
    "\n"
   ]
  },
  {
   "cell_type": "markdown",
   "id": "e3e9dc79",
   "metadata": {},
   "source": [
    "まず、`airbyte-cdk` Pythonパッケージをインストールする必要があります。\n",
    "\n",
    "> First, you need to install the `airbyte-cdk` python package.\n",
    "\n",
    "\n"
   ]
  },
  {
   "cell_type": "code",
   "execution_count": null,
   "id": "4d35e4e0",
   "metadata": {},
   "outputs": [],
   "source": [
    "#!pip install airbyte-cdk"
   ]
  },
  {
   "cell_type": "markdown",
   "id": "085aa658",
   "metadata": {},
   "source": [
    "その後、[Airbyte Githubリポジトリ](https://github.com/airbytehq/airbyte/tree/master/airbyte-integrations/connectors)から既存のコネクタをインストールするか、[Airbyte CDK](https://docs.airbyte.io/connector-development/connector-development)を使用して自分自身のコネクタを作成してください。\n",
    "\n",
    "> Then, either install an existing connector from the [Airbyte Github repository](https://github.com/airbytehq/airbyte/tree/master/airbyte-integrations/connectors) or create your own connector using the [Airbyte CDK](https://docs.airbyte.io/connector-development/connector-development).\n",
    "\n",
    "例えば、Githubコネクタをインストールするには、以下のコマンドを実行してください\n",
    "\n",
    "> For example, to install the Github connector, run\n",
    "\n",
    "\n"
   ]
  },
  {
   "cell_type": "code",
   "execution_count": null,
   "id": "f6d04ef4",
   "metadata": {},
   "outputs": [],
   "source": [
    "#!pip install \"source_github@git+https://github.com/airbytehq/airbyte.git@master#subdirectory=airbyte-integrations/connectors/source-github\""
   ]
  },
  {
   "cell_type": "markdown",
   "id": "36069b74",
   "metadata": {},
   "source": [
    "一部のソースはPyPI上で通常のパッケージとしても公開されています\n",
    "\n",
    "> Some sources are also published as regular packages on PyPI\n",
    "\n",
    "\n"
   ]
  },
  {
   "cell_type": "markdown",
   "id": "ae855210",
   "metadata": {},
   "source": [
    "## Example | 例\n",
    "\n",
    "\n"
   ]
  },
  {
   "cell_type": "markdown",
   "id": "02208f52",
   "metadata": {},
   "source": [
    "インポートされたソースに基づいて`AirbyteCDKLoader`を作成することができます。これにはコネクタに渡される`config`オブジェクトが必要です。また、レコードを取得したいストリームを名前（`stream_name`）で選択する必要があります。コンフィグオブジェクトと利用可能なストリームについての詳細は、コネクタのドキュメントページとスペック定義を確認してください。Githubコネクタのこれらは以下の通りです：\n",
    "\n",
    "> Now you can create an `AirbyteCDKLoader` based on the imported source. It takes a `config` object that's passed to the connector. You also have to pick the stream you want to retrieve records from by name (`stream_name`). Check the connectors documentation page and spec definition for more information on the config object and available streams. For the Github connectors these are:\n",
    "\n",
    "* <https://github.com/airbytehq/airbyte/blob/master/airbyte-integrations/connectors/source-github/source_github/spec.json>。\n",
    "\n",
    "  > <https://github.com/airbytehq/airbyte/blob/master/airbyte-integrations/connectors/source-github/source_github/spec.json>.\n",
    "\n",
    "* <https://docs.airbyte.com/integrations/sources/github/>\n",
    "\n",
    "  > <https://docs.airbyte.com/integrations/sources/github/>\n",
    "\n",
    "\n",
    "\n"
   ]
  },
  {
   "cell_type": "code",
   "execution_count": null,
   "id": "89a99e58",
   "metadata": {},
   "outputs": [],
   "source": [
    "from langchain.document_loaders.airbyte import AirbyteCDKLoader\n",
    "from source_github.source import SourceGithub  # plug in your own source here\n",
    "\n",
    "config = {\n",
    "    # your github configuration\n",
    "    \"credentials\": {\"api_url\": \"api.github.com\", \"personal_access_token\": \"<token>\"},\n",
    "    \"repository\": \"<repo>\",\n",
    "    \"start_date\": \"<date from which to start retrieving records from in ISO format, e.g. 2020-10-20T00:00:00Z>\",\n",
    "}\n",
    "\n",
    "issues_loader = AirbyteCDKLoader(\n",
    "    source_class=SourceGithub, config=config, stream_name=\"issues\"\n",
    ")"
   ]
  },
  {
   "cell_type": "markdown",
   "id": "2cea23fc",
   "metadata": {},
   "source": [
    "これで、通常の方法でドキュメントを読み込むことができます\n",
    "\n",
    "> Now you can load documents the usual way\n",
    "\n",
    "\n"
   ]
  },
  {
   "cell_type": "code",
   "execution_count": null,
   "id": "dae75cdb",
   "metadata": {},
   "outputs": [],
   "source": [
    "docs = issues_loader.load()"
   ]
  },
  {
   "cell_type": "markdown",
   "id": "4a93dc2a",
   "metadata": {},
   "source": [
    "`load`はリストを返すため、すべてのドキュメントが読み込まれるまで処理がブロックされます。このプロセスをより良くコントロールするために、イテレータを返す`lazy_load`メソッドを使用することもできます：\n",
    "\n",
    "> As `load` returns a list, it will block until all documents are loaded. To have better control over this process, you can also you the `lazy_load` method which returns an iterator instead:\n",
    "\n",
    "\n"
   ]
  },
  {
   "cell_type": "code",
   "execution_count": null,
   "id": "1782db09",
   "metadata": {},
   "outputs": [],
   "source": [
    "docs_iterator = issues_loader.lazy_load()"
   ]
  },
  {
   "cell_type": "markdown",
   "id": "3a124086",
   "metadata": {},
   "source": [
    "デフォルトではページの内容は空であり、メタデータオブジェクトにはレコードからのすべての情報が含まれていることに注意してください。異なる形式のドキュメントを作成するには、ローダーを作成する際に record\\_handler 関数を渡してください。\n",
    "\n",
    "> Keep in mind that by default the page content is empty and the metadata object contains all the information from the record. To create documents in a different, pass in a record\\_handler function when creating the loader:\n",
    "\n",
    "\n"
   ]
  },
  {
   "cell_type": "code",
   "execution_count": null,
   "id": "5671395d",
   "metadata": {},
   "outputs": [],
   "source": [
    "from langchain.docstore.document import Document\n",
    "\n",
    "\n",
    "def handle_record(record, id):\n",
    "    return Document(\n",
    "        page_content=record.data[\"title\"] + \"\\n\" + (record.data[\"body\"] or \"\"),\n",
    "        metadata=record.data,\n",
    "    )\n",
    "\n",
    "\n",
    "issues_loader = AirbyteCDKLoader(\n",
    "    source_class=SourceGithub,\n",
    "    config=config,\n",
    "    stream_name=\"issues\",\n",
    "    record_handler=handle_record,\n",
    ")\n",
    "\n",
    "docs = issues_loader.load()"
   ]
  },
  {
   "cell_type": "markdown",
   "id": "223eb8bc",
   "metadata": {},
   "source": [
    "## Incremental loads | インクリメンタルロード\n",
    "\n",
    "一部のストリームではインクリメンタルローディングが可能です。これは、ソースが同期されたレコードを追跡し、それらを再度ロードしないことを意味します。これは、データ量が多く、頻繁に更新されるソースにとって有用です。\n",
    "\n",
    "> Some streams allow incremental loading, this means the source keeps track of synced records and won't load them again. This is useful for sources that have a high volume of data and are updated frequently.\n",
    "\n",
    "これを利用するためには、ローダーの `last_state` プロパティを保存しておき、ローダーを再度作成する際にそれを渡してください。これにより、新しいレコードのみがロードされることが保証されます。\n",
    "\n",
    "> To take advantage of this, store the `last_state` property of the loader and pass it in when creating the loader again. This will ensure that only new records are loaded.\n",
    "\n",
    "\n"
   ]
  },
  {
   "cell_type": "code",
   "execution_count": null,
   "id": "7061e735",
   "metadata": {},
   "outputs": [],
   "source": [
    "last_state = issues_loader.last_state  # store safely\n",
    "\n",
    "incremental_issue_loader = AirbyteCDKLoader(\n",
    "    source_class=SourceGithub, config=config, stream_name=\"issues\", state=last_state\n",
    ")\n",
    "\n",
    "new_docs = incremental_issue_loader.load()"
   ]
  }
 ],
 "metadata": {
  "kernelspec": {
   "display_name": "Python 3 (ipykernel)",
   "language": "python",
   "name": "python3"
  },
  "language_info": {
   "codemirror_mode": {
    "name": "ipython",
    "version": 3
   },
   "file_extension": ".py",
   "mimetype": "text/x-python",
   "name": "python",
   "nbconvert_exporter": "python",
   "pygments_lexer": "ipython3",
   "version": "3.10.6"
  }
 },
 "nbformat": 4,
 "nbformat_minor": 5
}