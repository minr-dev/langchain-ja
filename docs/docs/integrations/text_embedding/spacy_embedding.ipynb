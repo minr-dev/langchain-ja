{
 "cells": [
  {
   "cell_type": "markdown",
   "metadata": {},
   "source": [
    "# SpaCy | SpaCy\n",
    "\n",
    "> [spaCy](https://spacy.io/)は、PythonとCythonのプログラミング言語で書かれた高度な自然言語処理のためのオープンソースソフトウェアライブラリです。\n",
    ">\n",
    "> > [spaCy](https://spacy.io/) is an open-source software library for advanced natural language processing, written in the programming languages Python and Cython.\n",
    "\n",
    "## Installation and Setup | インストールとセットアップ\n",
    "\n"
   ]
  },
  {
   "cell_type": "code",
   "execution_count": null,
   "metadata": {},
   "outputs": [],
   "source": [
    "#!pip install spacy"
   ]
  },
  {
   "cell_type": "markdown",
   "metadata": {},
   "source": [
    "必要なクラスをインポートしてください\n",
    "\n",
    "> Import the necessary classes\n",
    "\n"
   ]
  },
  {
   "cell_type": "code",
   "execution_count": null,
   "metadata": {},
   "outputs": [],
   "source": [
    "from langchain.embeddings.spacy_embeddings import SpacyEmbeddings"
   ]
  },
  {
   "cell_type": "markdown",
   "metadata": {},
   "source": [
    "## Example | 例\n",
    "\n",
    "SpacyEmbeddingsを初期化します。これによりSpacyモデルがメモリに読み込まれます。\n",
    "\n",
    "> Initialize SpacyEmbeddings.This will load the Spacy model into memory.\n",
    "\n"
   ]
  },
  {
   "cell_type": "code",
   "execution_count": null,
   "metadata": {},
   "outputs": [],
   "source": [
    "embedder = SpacyEmbeddings()"
   ]
  },
  {
   "cell_type": "markdown",
   "metadata": {},
   "source": [
    "いくつかのサンプルテキストを用意してください。これらは分析を希望する任意のドキュメントで構いません - 例としては、ニュース記事、ソーシャルメディアの投稿、製品レビューなどがあります。\n",
    "\n",
    "> Define some example texts . These could be any documents that you want to analyze - for example, news articles, social media posts, or product reviews.\n",
    "\n"
   ]
  },
  {
   "cell_type": "code",
   "execution_count": null,
   "metadata": {},
   "outputs": [],
   "source": [
    "texts = [\n",
    "    \"The quick brown fox jumps over the lazy dog.\",\n",
    "    \"Pack my box with five dozen liquor jugs.\",\n",
    "    \"How vexingly quick daft zebras jump!\",\n",
    "    \"Bright vixens jump; dozy fowl quack.\",\n",
    "]"
   ]
  },
  {
   "cell_type": "markdown",
   "metadata": {},
   "source": [
    "テキストの埋め込みを生成して出力します。SpacyEmbeddingsクラスは、各ドキュメントの内容を数値で表現した埋め込みを生成します。これらの埋め込みは、ドキュメントの類似性比較やテキスト分類など、さまざまな自然言語処理タスクに使用できます。\n",
    "\n",
    "> Generate and print embeddings for the texts . The SpacyEmbeddings class generates an embedding for each document, which is a numerical representation of the document's content. These embeddings can be used for various natural language processing tasks, such as document similarity comparison or text classification.\n",
    "\n"
   ]
  },
  {
   "cell_type": "code",
   "execution_count": null,
   "metadata": {},
   "outputs": [],
   "source": [
    "embeddings = embedder.embed_documents(texts)\n",
    "for i, embedding in enumerate(embeddings):\n",
    "    print(f\"Embedding for document {i+1}: {embedding}\")"
   ]
  },
  {
   "cell_type": "markdown",
   "metadata": {},
   "source": [
    "単一のテキストのための埋め込みを生成し、出力します。例えば、検索クエリのような単一のテキストの埋め込みも生成することができます。これは、与えられたクエリに似たドキュメントを見つけたい情報検索タスクなどに有用です。\n",
    "\n",
    "> Generate and print an embedding for a single piece of text. You can also generate an embedding for a single piece of text, such as a search query. This can be useful for tasks like information retrieval, where you want to find documents that are similar to a given query.\n",
    "\n"
   ]
  },
  {
   "cell_type": "code",
   "execution_count": null,
   "metadata": {},
   "outputs": [],
   "source": [
    "query = \"Quick foxes and lazy dogs.\"\n",
    "query_embedding = embedder.embed_query(query)\n",
    "print(f\"Embedding for query: {query_embedding}\")"
   ]
  }
 ],
 "metadata": {
  "kernelspec": {
   "display_name": "Python 3 (ipykernel)",
   "language": "python",
   "name": "python3"
  },
  "language_info": {
   "codemirror_mode": {
    "name": "ipython",
    "version": 3
   },
   "file_extension": ".py",
   "mimetype": "text/x-python",
   "name": "python",
   "nbconvert_exporter": "python",
   "pygments_lexer": "ipython3",
   "version": "3.10.12"
  }
 },
 "nbformat": 4,
 "nbformat_minor": 4
}