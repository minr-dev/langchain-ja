{
 "cells": [
  {
   "cell_type": "markdown",
   "metadata": {},
   "source": [
    "# AssemblyAI Audio Transcripts | AssemblyAIのオーディオトランスクリプト\n",
    "\n",
    "`AssemblyAIAudioTranscriptLoader` は、[AssemblyAI API](https://www.assemblyai.com) を使用してオーディオファイルを書き起こし、その書き起こしたテキストをドキュメントに読み込むことができます。\n",
    "\n",
    "> The `AssemblyAIAudioTranscriptLoader` allows to transcribe audio files with the [AssemblyAI API](https://www.assemblyai.com) and loads the transcribed text into documents.\n",
    "\n",
    "これを使用するには、`assemblyai` Pythonパッケージをインストールし、環境変数`ASSEMBLYAI_API_KEY`にAPIキーを設定する必要があります。あるいは、APIキーを引数として渡すことも可能です。\n",
    "\n",
    "> To use it, you should have the `assemblyai` python package installed, and the\n",
    "> environment variable `ASSEMBLYAI_API_KEY` set with your API key. Alternatively, the API key can also be passed as an argument.\n",
    "\n",
    "AssemblyAIについての詳細情報：\n",
    "\n",
    "> More info about AssemblyAI:\n",
    "\n",
    "* [ウェブサイト](https://www.assemblyai.com/)\n",
    "\n",
    "  > [Website](https://www.assemblyai.com/)\n",
    "\n",
    "* [無料のAPIキーを取得する](https://www.assemblyai.com/dashboard/signup)\n",
    "\n",
    "  > [Get a Free API key](https://www.assemblyai.com/dashboard/signup)\n",
    "\n",
    "* [AssemblyAI API ドキュメント](https://www.assemblyai.com/docs)\n",
    "\n",
    "  > [AssemblyAI API Docs](https://www.assemblyai.com/docs)\n",
    "\n",
    "\n",
    "\n"
   ]
  },
  {
   "cell_type": "markdown",
   "metadata": {},
   "source": [
    "## Installation | インストール\n",
    "\n",
    "まず、`assemblyai` Pythonパッケージをインストールする必要があります。\n",
    "\n",
    "> First, you need to install the `assemblyai` python package.\n",
    "\n",
    "詳細については、[assemblyai-python-sdk GitHubリポジトリ](https://github.com/AssemblyAI/assemblyai-python-sdk)内で確認できます。\n",
    "\n",
    "> You can find more info about it inside the [assemblyai-python-sdk GitHub repo](https://github.com/AssemblyAI/assemblyai-python-sdk).\n",
    "\n",
    "\n"
   ]
  },
  {
   "cell_type": "code",
   "execution_count": null,
   "metadata": {},
   "outputs": [],
   "source": [
    "#!pip install assemblyai"
   ]
  },
  {
   "cell_type": "markdown",
   "metadata": {},
   "source": [
    "## Example | 例\n",
    "\n",
    "`AssemblyAIAudioTranscriptLoader` は、少なくとも `file_path` 引数が必要です。オーディオファイルはURLまたはローカルファイルパスとして指定できます。\n",
    "\n",
    "> The `AssemblyAIAudioTranscriptLoader` needs at least the `file_path` argument. Audio files can be specified as an URL or a local file path.\n",
    "\n",
    "\n"
   ]
  },
  {
   "cell_type": "code",
   "execution_count": null,
   "metadata": {},
   "outputs": [],
   "source": [
    "from langchain.document_loaders import AssemblyAIAudioTranscriptLoader\n",
    "\n",
    "audio_file = \"https://storage.googleapis.com/aai-docs-samples/nbc.mp3\"\n",
    "# or a local file path: audio_file = \"./nbc.mp3\"\n",
    "\n",
    "loader = AssemblyAIAudioTranscriptLoader(file_path=audio_file)\n",
    "\n",
    "docs = loader.load()"
   ]
  },
  {
   "cell_type": "markdown",
   "metadata": {},
   "source": [
    "注意：`loader.load()` を呼び出すと、転写が完了するまで処理がブロックされます。\n",
    "\n",
    "> Note: Calling `loader.load()` blocks until the transcription is finished.\n",
    "\n",
    "\n"
   ]
  },
  {
   "cell_type": "markdown",
   "metadata": {},
   "source": [
    "`page_content`には、書き起こされたテキストが含まれています。\n",
    "\n",
    "> The transcribed text is available in the `page_content`:\n",
    "\n",
    "\n"
   ]
  },
  {
   "cell_type": "code",
   "execution_count": null,
   "metadata": {},
   "outputs": [],
   "source": [
    "docs[0].page_content"
   ]
  },
  {
   "cell_type": "markdown",
   "metadata": {},
   "source": [
    "```\n",
    "\"Load time, a new president and new congressional makeup. Same old ...\"\n",
    "```\n",
    "\n",
    "\n"
   ]
  },
  {
   "cell_type": "markdown",
   "metadata": {},
   "source": [
    "`metadata`には、より多くのメタ情報を含む完全なJSONレスポンスが含まれています：\n",
    "\n",
    "> The `metadata` contains the full JSON response with more meta information:\n",
    "\n",
    "\n"
   ]
  },
  {
   "cell_type": "code",
   "execution_count": null,
   "metadata": {},
   "outputs": [],
   "source": [
    "docs[0].metadata"
   ]
  },
  {
   "cell_type": "markdown",
   "metadata": {},
   "source": [
    "```\n",
    "{'language_code': <LanguageCode.en_us: 'en_us'>,\n",
    " 'audio_url': 'https://storage.googleapis.com/aai-docs-samples/nbc.mp3',\n",
    " 'punctuate': True,\n",
    " 'format_text': True,\n",
    "  ...\n",
    "}\n",
    "```\n",
    "\n",
    "\n"
   ]
  },
  {
   "cell_type": "markdown",
   "metadata": {},
   "source": [
    "## Transcript Formats | トランスクリプトの形式\n",
    "\n",
    "`transcript_format` 引数を指定することで、異なるフォーマットを指定できます。\n",
    "\n",
    "> You can specify the `transcript_format` argument for different formats.\n",
    "\n",
    "フォーマットによって、1つまたは複数のドキュメントが返されます。以下は異なる `TranscriptFormat` オプションです：\n",
    "\n",
    "> Depending on the format, one or more documents are returned. These are the different `TranscriptFormat` options:\n",
    "\n",
    "* `TEXT`：トランスクリプションテキストを含むドキュメント\n",
    "\n",
    "  > `TEXT`: One document with the transcription text\n",
    "\n",
    "* `SENTENCES`: 複数のドキュメントに対して、それぞれの文章ごとにトランスクリプションを分割します\n",
    "\n",
    "  > `SENTENCES`: Multiple documents, splits the transcription by each sentence\n",
    "\n",
    "* `PARAGRAPHS`: 複数のドキュメントに分けて、それぞれのパラグラフごとに書き起こしを分割します\n",
    "\n",
    "  > `PARAGRAPHS`: Multiple documents, splits the transcription by each paragraph\n",
    "\n",
    "* `SUBTITLES_SRT`：SRT字幕形式でエクスポートされたトランスクリプトが含まれる1つのドキュメント\n",
    "\n",
    "  > `SUBTITLES_SRT`: One document with the transcript exported in SRT subtitles format\n",
    "\n",
    "* `SUBTITLES_VTT`：VTT字幕形式でエクスポートされたトランスクリプトが含まれる1つのドキュメント\n",
    "\n",
    "  > `SUBTITLES_VTT`: One document with the transcript exported in VTT subtitles format\n",
    "\n",
    "\n",
    "\n"
   ]
  },
  {
   "cell_type": "code",
   "execution_count": null,
   "metadata": {},
   "outputs": [],
   "source": [
    "from langchain.document_loaders.assemblyai import TranscriptFormat\n",
    "\n",
    "loader = AssemblyAIAudioTranscriptLoader(\n",
    "    file_path=\"./your_file.mp3\",\n",
    "    transcript_format=TranscriptFormat.SENTENCES,\n",
    ")\n",
    "\n",
    "docs = loader.load()"
   ]
  },
  {
   "cell_type": "markdown",
   "metadata": {},
   "source": [
    "## Transcription Config | トランスクリプション設定\n",
    "\n",
    "また、異なるオーディオインテリジェンスモデルを使用するために、`config` 引数を指定することもできます。\n",
    "\n",
    "> You can also specify the `config` argument to use different audio intelligence models.\n",
    "\n",
    "利用可能なすべてのモデルの概要を把握するには、[AssemblyAI API Documentation](https://www.assemblyai.com/docs)を訪れてください！\n",
    "\n",
    "> Visit the [AssemblyAI API Documentation](https://www.assemblyai.com/docs) to get an overview of all available models!\n",
    "\n",
    "\n"
   ]
  },
  {
   "cell_type": "code",
   "execution_count": null,
   "metadata": {},
   "outputs": [],
   "source": [
    "import assemblyai as aai\n",
    "\n",
    "config = aai.TranscriptionConfig(\n",
    "    speaker_labels=True, auto_chapters=True, entity_detection=True\n",
    ")\n",
    "\n",
    "loader = AssemblyAIAudioTranscriptLoader(file_path=\"./your_file.mp3\", config=config)"
   ]
  },
  {
   "cell_type": "markdown",
   "metadata": {},
   "source": [
    "## Pass the API Key as argument | APIキーを引数として渡してください\n",
    "\n",
    "環境変数 `ASSEMBLYAI_API_KEY` としてAPIキーを設定することに加えて、引数として渡すことも可能です。\n",
    "\n",
    "> Next to setting the API key as environment variable `ASSEMBLYAI_API_KEY`, it is also possible to pass it as argument.\n",
    "\n",
    "\n"
   ]
  },
  {
   "cell_type": "code",
   "execution_count": null,
   "metadata": {},
   "outputs": [],
   "source": [
    "loader = AssemblyAIAudioTranscriptLoader(\n",
    "    file_path=\"./your_file.mp3\", api_key=\"YOUR_KEY\"\n",
    ")"
   ]
  }
 ],
 "metadata": {
  "language_info": {
   "name": "python"
  },
  "orig_nbformat": 4
 },
 "nbformat": 4,
 "nbformat_minor": 2
}