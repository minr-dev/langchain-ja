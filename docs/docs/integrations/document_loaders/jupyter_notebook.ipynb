{
 "cells": [
  {
   "cell_type": "markdown",
   "metadata": {},
   "source": [
    "# Jupyter Notebook | Jupyter Notebook\n",
    "\n",
    "> [Jupyter Notebook](https://en.wikipedia.org/wiki/Project_Jupyter#Applications)（旧称 `IPython Notebook`）は、ノートブックドキュメントを作成するためのウェブベースのインタラクティブな計算環境です。\n",
    ">\n",
    "> > [Jupyter Notebook](https://en.wikipedia.org/wiki/Project_Jupyter#Applications) (formerly `IPython Notebook`) is a web-based interactive computational environment for creating notebook documents.\n",
    "\n",
    "このノートブックでは、`Jupyter notebook (.html)`からデータを読み込み、LangChainで使用するのに適した形式に変換する方法について説明しています。\n",
    "\n",
    "> This notebook covers how to load data from a `Jupyter notebook (.html)` into a format suitable by LangChain.\n",
    "\n",
    "\n"
   ]
  },
  {
   "cell_type": "code",
   "execution_count": 1,
   "metadata": {
    "tags": []
   },
   "outputs": [],
   "source": [
    "from langchain.document_loaders import NotebookLoader"
   ]
  },
  {
   "cell_type": "code",
   "execution_count": 2,
   "metadata": {
    "tags": []
   },
   "outputs": [],
   "source": [
    "loader = NotebookLoader(\n",
    "    \"example_data/notebook.html\",\n",
    "    include_outputs=True,\n",
    "    max_output_length=20,\n",
    "    remove_newline=True,\n",
    ")"
   ]
  },
  {
   "cell_type": "markdown",
   "metadata": {},
   "source": [
    "`NotebookLoader.load()` は `.html` ノートブックファイルを `Document` オブジェクトに読み込みます。\n",
    "\n",
    "> `NotebookLoader.load()` loads the `.html` notebook file into a `Document` object.\n",
    "\n",
    "**パラメータ**：\n",
    "\n",
    "> **Parameters**:\n",
    "\n",
    "* `include_outputs` (bool): 結果のドキュメントにセルの出力を含めるかどうか（デフォルトはFalseです）。\n",
    "\n",
    "  > `include_outputs` (bool): whether to include cell outputs in the resulting document (default is False).\n",
    "\n",
    "* `max_output_length` (int): 各セルの出力から含める最大文字数（デフォルトは10です）。\n",
    "\n",
    "  > `max_output_length` (int): the maximum number of characters to include from each cell output (default is 10).\n",
    "\n",
    "* `remove_newline` (bool): セルのソースと出力から改行文字を削除するかどうか（デフォルトはFalseです）。\n",
    "\n",
    "  > `remove_newline` (bool): whether to remove newline characters from the cell sources and outputs (default is False).\n",
    "\n",
    "* `traceback` (bool): 完全なトレースバックを含めるかどうか（デフォルトはFalseです）。\n",
    "\n",
    "  > `traceback` (bool): whether to include full traceback (default is False).\n",
    "\n",
    "\n",
    "\n"
   ]
  },
  {
   "cell_type": "code",
   "execution_count": 3,
   "metadata": {
    "tags": []
   },
   "outputs": [
    {
     "data": {
      "text/plain": [
       "[Document(page_content='\\'markdown\\' cell: \\'[\\'# Notebook\\', \\'\\', \\'This notebook covers how to load data from an .html notebook into a format suitable by LangChain.\\']\\'\\n\\n \\'code\\' cell: \\'[\\'from langchain.document_loaders import NotebookLoader\\']\\'\\n\\n \\'code\\' cell: \\'[\\'loader = NotebookLoader(\"example_data/notebook.html\")\\']\\'\\n\\n \\'markdown\\' cell: \\'[\\'`NotebookLoader.load()` loads the `.html` notebook file into a `Document` object.\\', \\'\\', \\'**Parameters**:\\', \\'\\', \\'* `include_outputs` (bool): whether to include cell outputs in the resulting document (default is False).\\', \\'* `max_output_length` (int): the maximum number of characters to include from each cell output (default is 10).\\', \\'* `remove_newline` (bool): whether to remove newline characters from the cell sources and outputs (default is False).\\', \\'* `traceback` (bool): whether to include full traceback (default is False).\\']\\'\\n\\n \\'code\\' cell: \\'[\\'loader.load(include_outputs=True, max_output_length=20, remove_newline=True)\\']\\'\\n\\n', metadata={'source': 'example_data/notebook.html'})]"
      ]
     },
     "execution_count": 3,
     "metadata": {},
     "output_type": "execute_result"
    }
   ],
   "source": [
    "loader.load()"
   ]
  }
 ],
 "metadata": {
  "kernelspec": {
   "display_name": "Python 3 (ipykernel)",
   "language": "python",
   "name": "python3"
  },
  "language_info": {
   "codemirror_mode": {
    "name": "ipython",
    "version": 3
   },
   "file_extension": ".py",
   "mimetype": "text/x-python",
   "name": "python",
   "nbconvert_exporter": "python",
   "pygments_lexer": "ipython3",
   "version": "3.10.6"
  },
  "vscode": {
   "interpreter": {
    "hash": "981b6680a42bdb5eb22187741e1607b3aae2cf73db800d1af1f268d1de6a1f70"
   }
  }
 },
 "nbformat": 4,
 "nbformat_minor": 4
}