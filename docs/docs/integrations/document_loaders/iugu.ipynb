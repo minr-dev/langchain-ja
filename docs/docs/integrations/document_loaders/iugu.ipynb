{
 "cells": [
  {
   "attachments": {},
   "cell_type": "markdown",
   "metadata": {},
   "source": [
    "# Iugu | Iugu",
    "",
    "> [Iugu](https://www.iugu.com/)はブラジルのサービスおよびソフトウェアアズアサービス（SaaS）企業です。eコマースのウェブサイトやモバイルアプリケーション向けの支払い処理ソフトウェアとアプリケーションプログラミングインターフェイスを提供しています。",
    ">",
    "> > [Iugu](https://www.iugu.com/) is a Brazilian services and software as a service (SaaS) company. It offers payment-processing software and application programming interfaces for e-commerce websites and mobile applications.",
    "",
    "このノートブックでは、`Iugu REST API`からデータを読み込み、LangChainが取り込むことができる形式に変換する方法と、ベクトル化の使用例について説明しています。",
    "",
    "> This notebook covers how to load data from the `Iugu REST API` into a format that can be ingested into LangChain, along with example usage for vectorization.",
    ""
   ]
  },
  {
   "cell_type": "code",
   "execution_count": null,
   "metadata": {},
   "outputs": [],
   "source": [
    "from langchain.document_loaders import IuguLoader\n",
    "from langchain.indexes import VectorstoreIndexCreator"
   ]
  },
  {
   "attachments": {},
   "cell_type": "markdown",
   "metadata": {},
   "source": [
    "Iugu APIはアクセストークンが必要で、これはIuguダッシュボード内にあります。",
    "",
    "> The Iugu API requires an access token, which can be found inside of the Iugu dashboard.",
    "",
    "このドキュメントローダーには、どのデータをロードしたいかを定義する`resource`オプションも必要です。",
    "",
    "> This document loader also requires a `resource` option which defines what data you want to load.",
    "",
    "以下のリソースが利用可能です：",
    "",
    "> Following resources are available:",
    "",
    "`Documentation` [Documentation](https://dev.iugu.com/reference/metadados)",
    "",
    "> `Documentation` [Documentation](https://dev.iugu.com/reference/metadados)",
    ""
   ]
  },
  {
   "cell_type": "code",
   "execution_count": null,
   "metadata": {},
   "outputs": [],
   "source": [
    "iugu_loader = IuguLoader(\"charges\")"
   ]
  },
  {
   "cell_type": "code",
   "execution_count": null,
   "metadata": {},
   "outputs": [],
   "source": [
    "# Create a vectorstore retriever from the loader\n",
    "# see https://python.langchain.com/en/latest/modules/data_connection/getting_started.html for more details\n",
    "\n",
    "index = VectorstoreIndexCreator().from_loaders([iugu_loader])\n",
    "iugu_doc_retriever = index.vectorstore.as_retriever()"
   ]
  }
 ],
 "metadata": {
  "kernelspec": {
   "display_name": "Python 3 (ipykernel)",
   "language": "python",
   "name": "python3"
  },
  "language_info": {
   "codemirror_mode": {
    "name": "ipython",
    "version": 3
   },
   "file_extension": ".py",
   "mimetype": "text/x-python",
   "name": "python",
   "nbconvert_exporter": "python",
   "pygments_lexer": "ipython3",
   "version": "3.9.12"
  }
 },
 "nbformat": 4,
 "nbformat_minor": 4
}