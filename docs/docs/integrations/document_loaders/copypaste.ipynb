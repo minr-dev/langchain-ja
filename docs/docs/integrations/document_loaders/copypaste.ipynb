{
 "cells": [
  {
   "cell_type": "markdown",
   "id": "d9826810",
   "metadata": {},
   "source": [
    "# Copy Paste | コピー＆ペースト\n",
    "\n",
    "このノートブックでは、コピー＆ペーストしたいものからドキュメントオブジェクトをロードする方法について説明しています。この場合、DocumentLoaderを使用する必要はなく、Documentを直接構築するだけで済みます。\n",
    "\n",
    "> This notebook covers how to load a document object from something you just want to copy and paste. In this case, you don't even need to use a DocumentLoader, but rather can just construct the Document directly.\n",
    "\n"
   ]
  },
  {
   "cell_type": "code",
   "execution_count": 1,
   "id": "fd9e71a2",
   "metadata": {},
   "outputs": [],
   "source": [
    "from langchain.docstore.document import Document"
   ]
  },
  {
   "cell_type": "code",
   "execution_count": 2,
   "id": "f40d3f30",
   "metadata": {},
   "outputs": [],
   "source": [
    "text = \"..... put the text you copy pasted here......\""
   ]
  },
  {
   "cell_type": "code",
   "execution_count": 3,
   "id": "d409bdba",
   "metadata": {},
   "outputs": [],
   "source": [
    "doc = Document(page_content=text)"
   ]
  },
  {
   "cell_type": "markdown",
   "id": "cc0eff72",
   "metadata": {},
   "source": [
    "## Metadata | メタデータ\n",
    "\n",
    "このテキストの出典に関するメタデータを追加したい場合、metadataキーを使って簡単に追加することができます。\n",
    "\n",
    "> If you want to add metadata about the where you got this piece of text, you easily can with the metadata key.\n",
    "\n"
   ]
  },
  {
   "cell_type": "code",
   "execution_count": 4,
   "id": "fe3aa5aa",
   "metadata": {},
   "outputs": [],
   "source": [
    "metadata = {\"source\": \"internet\", \"date\": \"Friday\"}"
   ]
  },
  {
   "cell_type": "code",
   "execution_count": 5,
   "id": "827d4e91",
   "metadata": {},
   "outputs": [],
   "source": [
    "doc = Document(page_content=text, metadata=metadata)"
   ]
  },
  {
   "cell_type": "code",
   "execution_count": null,
   "id": "c986a43d",
   "metadata": {},
   "outputs": [],
   "source": []
  }
 ],
 "metadata": {
  "kernelspec": {
   "display_name": "Python 3 (ipykernel)",
   "language": "python",
   "name": "python3"
  },
  "language_info": {
   "codemirror_mode": {
    "name": "ipython",
    "version": 3
   },
   "file_extension": ".py",
   "mimetype": "text/x-python",
   "name": "python",
   "nbconvert_exporter": "python",
   "pygments_lexer": "ipython3",
   "version": "3.10.6"
  }
 },
 "nbformat": 4,
 "nbformat_minor": 5
}