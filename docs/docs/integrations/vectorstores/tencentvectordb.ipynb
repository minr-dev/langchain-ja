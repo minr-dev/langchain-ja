{
 "cells": [
  {
   "cell_type": "markdown",
   "metadata": {
    "collapsed": true,
    "jupyter": {
     "outputs_hidden": true
    }
   },
   "source": [
    "# Tencent Cloud VectorDB | Tencent Cloud VectorDB",
    "",
    "> Tencent Cloud VectorDBは、多次元ベクトルデータの保存、検索、分析を目的とした、完全に管理された自社開発のエンタープライズレベルの分散データベースサービスです。このデータベースは複数のインデックスタイプと類似性計算方法をサポートしています。単一のインデックスは最大10億のベクトル規模をサポートし、数百万のQPSとミリ秒レベルのクエリ遅延をサポートすることができます。Tencent Cloud Vector Databaseは、大規模モデルの応答精度を向上させるための外部知識ベースを提供するだけでなく、推薦システム、自然言語処理サービス、コンピュータビジョン、インテリジェントカスタマーサービスなどのAI分野で広く使用されています。",
    ">",
    "> > [Tencent Cloud VectorDB](https://cloud.tencent.com/document/product/1709) is a fully managed, self-developed, enterprise-level distributed database service designed for storing, retrieving, and analyzing multi-dimensional vector data. The database supports multiple index types and similarity calculation methods. A single index can support a vector scale of up to 1 billion and can support millions of QPS and millisecond-level query latency. Tencent Cloud Vector Database can not only provide an external knowledge base for large models to improve the accuracy of large model responses but can also be widely used in AI fields such as recommendation systems, NLP services, computer vision, and intelligent customer service.",
    "",
    "このノートブックは、Tencentベクトルデータベースに関連する機能の使用方法を示しています。",
    "",
    "> This notebook shows how to use functionality related to the Tencent vector database.",
    "",
    "実行するには、[データベース インスタンス](https://cloud.tencent.com/document/product/1709/95101)が必要です。",
    "",
    "> To run, you should have a [Database instance.](https://cloud.tencent.com/document/product/1709/95101).",
    ""
   ]
  },
  {
   "cell_type": "code",
   "execution_count": null,
   "metadata": {},
   "outputs": [],
   "source": [
    "!pip3 install tcvectordb"
   ]
  },
  {
   "cell_type": "code",
   "execution_count": null,
   "metadata": {},
   "outputs": [],
   "source": [
    "from langchain.document_loaders import TextLoader\n",
    "from langchain.embeddings.fake import FakeEmbeddings\n",
    "from langchain.text_splitter import CharacterTextSplitter\n",
    "from langchain.vectorstores import TencentVectorDB\n",
    "from langchain.vectorstores.tencentvectordb import ConnectionParams"
   ]
  },
  {
   "cell_type": "code",
   "execution_count": null,
   "metadata": {},
   "outputs": [],
   "source": [
    "loader = TextLoader(\"../../modules/state_of_the_union.txt\")\n",
    "documents = loader.load()\n",
    "text_splitter = CharacterTextSplitter(chunk_size=1000, chunk_overlap=0)\n",
    "docs = text_splitter.split_documents(documents)\n",
    "embeddings = FakeEmbeddings(size=128)"
   ]
  },
  {
   "cell_type": "code",
   "execution_count": null,
   "metadata": {},
   "outputs": [],
   "source": [
    "conn_params = ConnectionParams(\n",
    "    url=\"http://10.0.X.X\",\n",
    "    key=\"eC4bLRy2va******************************\",\n",
    "    username=\"root\",\n",
    "    timeout=20,\n",
    ")\n",
    "\n",
    "vector_db = TencentVectorDB.from_documents(\n",
    "    docs,\n",
    "    embeddings,\n",
    "    connection_params=conn_params,\n",
    "    # drop_old=True,\n",
    ")"
   ]
  },
  {
   "cell_type": "code",
   "execution_count": null,
   "metadata": {},
   "outputs": [],
   "source": [
    "query = \"What did the president say about Ketanji Brown Jackson\"\n",
    "docs = vector_db.similarity_search(query)\n",
    "docs[0].page_content"
   ]
  },
  {
   "cell_type": "code",
   "execution_count": null,
   "metadata": {},
   "outputs": [],
   "source": [
    "vector_db = TencentVectorDB(embeddings, conn_params)\n",
    "\n",
    "vector_db.add_texts([\"Ankush went to Princeton\"])\n",
    "query = \"Where did Ankush go to college?\"\n",
    "docs = vector_db.max_marginal_relevance_search(query)\n",
    "docs[0].page_content"
   ]
  }
 ],
 "metadata": {
  "kernelspec": {
   "display_name": "Python 3 (ipykernel)",
   "language": "python",
   "name": "python3"
  },
  "language_info": {
   "codemirror_mode": {
    "name": "ipython",
    "version": 3
   },
   "file_extension": ".py",
   "mimetype": "text/x-python",
   "name": "python",
   "nbconvert_exporter": "python",
   "pygments_lexer": "ipython3",
   "version": "3.9.1"
  }
 },
 "nbformat": 4,
 "nbformat_minor": 4
}