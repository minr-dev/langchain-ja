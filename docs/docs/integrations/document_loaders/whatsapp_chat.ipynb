{
 "cells": [
  {
   "cell_type": "markdown",
   "metadata": {},
   "source": [
    "# WhatsApp Chat | WhatsApp チャット",
    "",
    "> [WhatsApp](https://www.whatsapp.com/)（`WhatsApp Messenger`とも呼ばれます）は、フリーウェアで、クロスプラットフォーム対応の集中管理型インスタントメッセージング（IM）および音声オーバーIP（VoIP）サービスです。ユーザーはテキストメッセージや音声メッセージを送信したり、音声通話やビデオ通話を行ったり、画像、文書、ユーザーの位置情報、その他のコンテンツを共有することができます。",
    ">",
    "> > [WhatsApp](https://www.whatsapp.com/) (also called `WhatsApp Messenger`) is a freeware, cross-platform, centralized instant messaging (IM) and voice-over-IP (VoIP) service. It allows users to send text and voice messages, make voice and video calls, and share images, documents, user locations, and other content.",
    "",
    "このノートブックでは、`WhatsApp Chats`からデータを読み込み、LangChainで取り込むことができる形式にする方法について説明しています。",
    "",
    "> This notebook covers how to load data from the `WhatsApp Chats` into a format that can be ingested into LangChain.",
    ""
   ]
  },
  {
   "cell_type": "code",
   "execution_count": 1,
   "metadata": {},
   "outputs": [],
   "source": [
    "from langchain.document_loaders import WhatsAppChatLoader"
   ]
  },
  {
   "cell_type": "code",
   "execution_count": 2,
   "metadata": {},
   "outputs": [],
   "source": [
    "loader = WhatsAppChatLoader(\"example_data/whatsapp_chat.txt\")"
   ]
  },
  {
   "cell_type": "code",
   "execution_count": null,
   "metadata": {},
   "outputs": [],
   "source": [
    "loader.load()"
   ]
  }
 ],
 "metadata": {
  "kernelspec": {
   "display_name": "Python 3 (ipykernel)",
   "language": "python",
   "name": "python3"
  },
  "language_info": {
   "codemirror_mode": {
    "name": "ipython",
    "version": 3
   },
   "file_extension": ".py",
   "mimetype": "text/x-python",
   "name": "python",
   "nbconvert_exporter": "python",
   "pygments_lexer": "ipython3",
   "version": "3.10.6"
  },
  "vscode": {
   "interpreter": {
    "hash": "384707f4965e853a82006e90614c2e1a578ea1f6eb0ee07a1dd78a657d37dd67"
   }
  }
 },
 "nbformat": 4,
 "nbformat_minor": 4
}