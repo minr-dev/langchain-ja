{
 "cells": [
  {
   "cell_type": "markdown",
   "id": "33205b12",
   "metadata": {},
   "source": [
    "# Telegram | Telegram\n",
    "\n",
    "> [Telegram Messenger](https://web.telegram.org/a/)は、世界中でアクセス可能なフリーミアムで、クロスプラットフォーム対応、暗号化されたクラウドベースの集中型インスタントメッセージングサービスです。このアプリケーションは、オプションでエンドツーエンド暗号化されたチャットやビデオ通話、VoIP、ファイル共有、その他いくつかの機能も提供しています。\n",
    ">\n",
    "> > [Telegram Messenger](https://web.telegram.org/a/) is a globally accessible freemium, cross-platform, encrypted, cloud-based and centralized instant messaging service. The application also provides optional end-to-end encrypted chats and video calling, VoIP, file sharing and several other features.\n",
    "\n",
    "このノートブックでは、`Telegram`からデータを読み込み、LangChainで取り込むことができる形式にする方法について説明しています。\n",
    "\n",
    "> This notebook covers how to load data from `Telegram` into a format that can be ingested into LangChain.\n",
    "\n"
   ]
  },
  {
   "cell_type": "code",
   "execution_count": 1,
   "id": "90b69c94",
   "metadata": {},
   "outputs": [],
   "source": [
    "from langchain.document_loaders import TelegramChatApiLoader, TelegramChatFileLoader"
   ]
  },
  {
   "cell_type": "code",
   "execution_count": 2,
   "id": "13deb0f5",
   "metadata": {},
   "outputs": [],
   "source": [
    "loader = TelegramChatFileLoader(\"example_data/telegram.json\")"
   ]
  },
  {
   "cell_type": "code",
   "execution_count": 3,
   "id": "9ccc1e2f",
   "metadata": {},
   "outputs": [
    {
     "data": {
      "text/plain": [
       "[Document(page_content=\"Henry on 2020-01-01T00:00:02: It's 2020...\\n\\nHenry on 2020-01-01T00:00:04: Fireworks!\\n\\nGrace ðŸ§¤ ðŸ\\x8d’ on 2020-01-01T00:00:05: You're a minute late!\\n\\n\", metadata={'source': 'example_data/telegram.json'})]"
      ]
     },
     "execution_count": 3,
     "metadata": {},
     "output_type": "execute_result"
    }
   ],
   "source": [
    "loader.load()"
   ]
  },
  {
   "cell_type": "markdown",
   "id": "3e64cac2",
   "metadata": {},
   "source": [
    "`TelegramChatApiLoader`は、Telegramの指定されたチャットから直接データを読み込みます。データをエクスポートするためには、Telegramアカウントを認証する必要があります。\n",
    "\n",
    "> `TelegramChatApiLoader` loads data directly from any specified chat from Telegram. In order to export the data, you will need to authenticate your Telegram account.\n",
    "\n",
    "API\\_HASHとAPI\\_IDは、https://my.telegram.org/auth?to=apps から取得できます。\n",
    "\n",
    "> You can get the API\\_HASH and API\\_ID from https://my.telegram.org/auth?to=apps\n",
    "\n",
    "chat\\_entity – チャンネルの[エンティティ](https://docs.telethon.dev/en/stable/concepts/entities.html?highlight=Entity#what-is-an-entity)を使用することが推奨されます。\n",
    "\n",
    "> chat\\_entity – recommended to be the [entity](https://docs.telethon.dev/en/stable/concepts/entities.html?highlight=Entity#what-is-an-entity) of a channel.\n",
    "\n"
   ]
  },
  {
   "cell_type": "code",
   "execution_count": null,
   "id": "f05f75f3",
   "metadata": {},
   "outputs": [],
   "source": [
    "loader = TelegramChatApiLoader(\n",
    "    chat_entity=\"<CHAT_URL>\",  # recommended to use Entity here\n",
    "    api_hash=\"<API HASH >\",\n",
    "    api_id=\"<API_ID>\",\n",
    "    user_name=\"\",  # needed only for caching the session.\n",
    ")"
   ]
  },
  {
   "cell_type": "code",
   "execution_count": null,
   "id": "40039f7b",
   "metadata": {},
   "outputs": [],
   "source": [
    "loader.load()"
   ]
  },
  {
   "cell_type": "code",
   "execution_count": null,
   "id": "18e5af2b",
   "metadata": {},
   "outputs": [],
   "source": []
  }
 ],
 "metadata": {
  "kernelspec": {
   "display_name": "Python 3 (ipykernel)",
   "language": "python",
   "name": "python3"
  },
  "language_info": {
   "codemirror_mode": {
    "name": "ipython",
    "version": 3
   },
   "file_extension": ".py",
   "mimetype": "text/x-python",
   "name": "python",
   "nbconvert_exporter": "python",
   "pygments_lexer": "ipython3",
   "version": "3.10.6"
  }
 },
 "nbformat": 4,
 "nbformat_minor": 5
}