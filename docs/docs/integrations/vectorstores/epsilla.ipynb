{
 "cells": [
  {
   "attachments": {},
   "cell_type": "markdown",
   "metadata": {},
   "source": [
    "# Epsilla | Epsilla\n",
    "\n",
    "> [Epsilla](https://www.epsilla.com)は、ベクターインデックス作成のために高度な並列グラフ走査技術を活用するオープンソースのベクターデータベースです。EpsillaはGPL-3.0の下でライセンスされています。\n",
    ">\n",
    "> > [Epsilla](https://www.epsilla.com) is an open-source vector database that leverages the advanced parallel graph traversal techniques for vector indexing. Epsilla is licensed under GPL-3.0.\n",
    "\n",
    "このノートブックは、`Epsilla` ベクターデータベースに関連する機能の使用方法を示しています。\n",
    "\n",
    "> This notebook shows how to use the functionalities related to the `Epsilla` vector database.\n",
    "\n",
    "前提条件として、動作中のEpsillaベクターデータベース（例えば、私たちのDockerイメージを利用して）が必要です。また、`pyepsilla`パッケージのインストールが必要です。完全なドキュメントは[こちら](https://epsilla-inc.gitbook.io/epsilladb/quick-start)でご覧いただけます。\n",
    "\n",
    "> As a prerequisite, you need to have a running Epsilla vector database (for example, through our docker image), and install the `pyepsilla` package. View full docs at [docs](https://epsilla-inc.gitbook.io/epsilladb/quick-start).\n",
    "\n"
   ]
  },
  {
   "cell_type": "code",
   "execution_count": null,
   "metadata": {},
   "outputs": [],
   "source": [
    "!pip/pip3 install pyepsilla"
   ]
  },
  {
   "attachments": {},
   "cell_type": "markdown",
   "metadata": {},
   "source": [
    "OpenAIEmbeddingsを使用するためには、OpenAI APIキーを取得する必要があります。\n",
    "\n",
    "> We want to use OpenAIEmbeddings so we have to get the OpenAI API Key.\n",
    "\n"
   ]
  },
  {
   "cell_type": "code",
   "execution_count": null,
   "metadata": {},
   "outputs": [],
   "source": [
    "import getpass\n",
    "import os\n",
    "\n",
    "os.environ[\"OPENAI_API_KEY\"] = getpass.getpass(\"OpenAI API Key:\")"
   ]
  },
  {
   "attachments": {},
   "cell_type": "markdown",
   "metadata": {},
   "source": [
    "OpenAI API キー: ········\n",
    "\n",
    "> OpenAI API Key: ········\n",
    "\n"
   ]
  },
  {
   "cell_type": "code",
   "execution_count": null,
   "metadata": {},
   "outputs": [],
   "source": [
    "from langchain.embeddings import OpenAIEmbeddings\n",
    "from langchain.vectorstores import Epsilla"
   ]
  },
  {
   "cell_type": "code",
   "execution_count": null,
   "metadata": {},
   "outputs": [],
   "source": [
    "from langchain.document_loaders import TextLoader\n",
    "from langchain.text_splitter import CharacterTextSplitter\n",
    "\n",
    "loader = TextLoader(\"../../modules/state_of_the_union.txt\")\n",
    "documents = loader.load()\n",
    "\n",
    "documents = CharacterTextSplitter(chunk_size=1000, chunk_overlap=0).split_documents(\n",
    "    documents\n",
    ")\n",
    "\n",
    "embeddings = OpenAIEmbeddings()"
   ]
  },
  {
   "attachments": {},
   "cell_type": "markdown",
   "metadata": {},
   "source": [
    "Epsilla vectordbは、デフォルトのホスト「localhost」とポート「8888」で動作しています。デフォルトのものではなく、カスタムのデータベースパス、データベース名、コレクション名を使用しています。\n",
    "\n",
    "> Epsilla vectordb is running with default host \"localhost\" and port \"8888\". We have a custom db path, db name and collection name instead of the default ones.\n",
    "\n"
   ]
  },
  {
   "cell_type": "code",
   "execution_count": null,
   "metadata": {},
   "outputs": [],
   "source": [
    "from pyepsilla import vectordb\n",
    "\n",
    "client = vectordb.Client()\n",
    "vector_store = Epsilla.from_documents(\n",
    "    documents,\n",
    "    embeddings,\n",
    "    client,\n",
    "    db_path=\"/tmp/mypath\",\n",
    "    db_name=\"MyDB\",\n",
    "    collection_name=\"MyCollection\",\n",
    ")"
   ]
  },
  {
   "cell_type": "code",
   "execution_count": null,
   "metadata": {},
   "outputs": [],
   "source": [
    "query = \"What did the president say about Ketanji Brown Jackson\"\n",
    "docs = vector_store.similarity_search(query)\n",
    "print(docs[0].page_content)"
   ]
  },
  {
   "attachments": {},
   "cell_type": "markdown",
   "metadata": {},
   "source": [
    "州ごとに、投票を抑制するだけでなく、選挙全体を歪める新しい法律が次々と制定されています。\n",
    "\n",
    "> In state after state, new laws have been passed, not only to suppress the vote, but to subvert entire elections.\n",
    "\n",
    "これを起こさせてはなりません。\n",
    "\n",
    "> We cannot let this happen.\n",
    "\n",
    "今夜、私は上院に以下のことを求めます：「Freedom to Vote Act」を可決すること。「John Lewis Voting Rights Act」を可決すること。そして、ついでに「Disclose Act」も可決して、アメリカの選挙資金の出所を国民が知れるようにすること。\n",
    "\n",
    "> Tonight. I call on the Senate to: Pass the Freedom to Vote Act. Pass the John Lewis Voting Rights Act. And while you’re at it, pass the Disclose Act so Americans can know who is funding our elections.\n",
    "\n",
    "今夜、私はこの国に尽くしてきた人物を称えたいと思います：スティーブン・ブライヤー氏―アーミーの退役軍人であり、憲法学者であり、そしてアメリカ合衆国最高裁判所の退任する裁判官です。ブライヤー裁判官、あなたの長年の奉仕に感謝します。\n",
    "\n",
    "> Tonight, I’d like to honor someone who has dedicated his life to serve this country: Justice Stephen Breyer—an Army veteran, Constitutional scholar, and retiring Justice of the United States Supreme Court. Justice Breyer, thank you for your service.\n",
    "\n",
    "大統領にとって最も重大な憲法上の責任の一つは、アメリカ合衆国最高裁判所の裁判官を指名することです。\n",
    "\n",
    "> One of the most serious constitutional responsibilities a President has is nominating someone to serve on the United States Supreme Court.\n",
    "\n",
    "そして私は4日前に、控訴裁判所の判事ケタンジ・ブラウン・ジャクソンを指名しました。彼女は我が国の法律界のトップマインドの一人であり、ブライヤー判事の卓越した業績を引き続き受け継ぐことになります。\n",
    "\n",
    "> And I did that 4 days ago, when I nominated Circuit Court of Appeals Judge Ketanji Brown Jackson. One of our nation’s top legal minds, who will continue Justice Breyer’s legacy of excellence.\n",
    "\n"
   ]
  }
 ],
 "metadata": {
  "kernelspec": {
   "display_name": "langchain",
   "language": "python",
   "name": "python3"
  },
  "language_info": {
   "codemirror_mode": {
    "name": "ipython",
    "version": 3
   },
   "file_extension": ".py",
   "mimetype": "text/x-python",
   "name": "python",
   "nbconvert_exporter": "python",
   "pygments_lexer": "ipython3",
   "version": "3.9.17"
  },
  "orig_nbformat": 4
 },
 "nbformat": 4,
 "nbformat_minor": 2
}