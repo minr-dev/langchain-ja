{
 "cells": [
  {
   "cell_type": "markdown",
   "metadata": {},
   "source": [
    "# NucliaDB | NucliaDB\n",
    "\n",
    "ローカルのNucliaDBインスタンスを使用することも、[Nuclia Cloud](https://nuclia.cloud)を使用することもできます。\n",
    "\n",
    "> You can use a local NucliaDB instance or use [Nuclia Cloud](https://nuclia.cloud).\n",
    "\n",
    "ローカルインスタンスを使用する場合、テキストが適切にベクトル化され、インデックス化されるように、Nuclia Understanding APIキーが必要です。<https://nuclia.cloud>で無料アカウントを作成し、その後[NUAキーを作成する](https://docs.nuclia.dev/docs/using/understanding/intro)ことでキーを取得できます。\n",
    "\n",
    "> When using a local instance, you need a Nuclia Understanding API key, so your texts are properly vectorized and indexed. You can get a key by creating a free account at <https://nuclia.cloud>, and then [create a NUA key](https://docs.nuclia.dev/docs/docs/using/understanding/intro).\n",
    "\n"
   ]
  },
  {
   "cell_type": "code",
   "execution_count": null,
   "metadata": {},
   "outputs": [],
   "source": [
    "#!pip install langchain nuclia"
   ]
  },
  {
   "cell_type": "markdown",
   "metadata": {},
   "source": [
    "## Usage with nuclia.cloud | nuclia.cloudでの使用方法\n",
    "\n"
   ]
  },
  {
   "cell_type": "code",
   "execution_count": null,
   "metadata": {},
   "outputs": [],
   "source": [
    "from langchain.vectorstores.nucliadb import NucliaDB\n",
    "\n",
    "API_KEY = \"YOUR_API_KEY\"\n",
    "\n",
    "ndb = NucliaDB(knowledge_box=\"YOUR_KB_ID\", local=False, api_key=API_KEY)"
   ]
  },
  {
   "cell_type": "markdown",
   "metadata": {},
   "source": [
    "## Usage with a local instance | ローカルインスタンスでの使用方法\n",
    "\n",
    "注意：デフォルトでは `backend` は `http://localhost:8080` に設定されています。\n",
    "\n",
    "> Note: By default `backend` is set to `http://localhost:8080`.\n",
    "\n"
   ]
  },
  {
   "cell_type": "code",
   "execution_count": null,
   "metadata": {},
   "outputs": [],
   "source": [
    "from langchain.vectorstores.nucliadb import NucliaDB\n",
    "\n",
    "ndb = NucliaDB(knowledge_box=\"YOUR_KB_ID\", local=True, backend=\"http://my-local-server\")"
   ]
  },
  {
   "cell_type": "markdown",
   "metadata": {},
   "source": [
    "## Add and delete texts to your Knowledge Box | ナレッジボックスにテキストを追加・削除する\n",
    "\n"
   ]
  },
  {
   "cell_type": "code",
   "execution_count": null,
   "metadata": {},
   "outputs": [],
   "source": [
    "ids = ndb.add_texts([\"This is a new test\", \"This is a second test\"])"
   ]
  },
  {
   "cell_type": "code",
   "execution_count": null,
   "metadata": {},
   "outputs": [],
   "source": [
    "ndb.delete(ids=ids)"
   ]
  },
  {
   "cell_type": "markdown",
   "metadata": {},
   "source": [
    "## Search in your Knowledge Box | ナレッジボックス内で検索\n",
    "\n"
   ]
  },
  {
   "cell_type": "code",
   "execution_count": null,
   "metadata": {},
   "outputs": [],
   "source": [
    "results = ndb.similarity_search(\"Who was inspired by Ada Lovelace?\")\n",
    "print(results[0].page_content)"
   ]
  }
 ],
 "metadata": {
  "kernelspec": {
   "display_name": "Python 3 (ipykernel)",
   "language": "python",
   "name": "python3"
  },
  "language_info": {
   "codemirror_mode": {
    "name": "ipython",
    "version": 3
   },
   "file_extension": ".py",
   "mimetype": "text/x-python",
   "name": "python",
   "nbconvert_exporter": "python",
   "pygments_lexer": "ipython3",
   "version": "3.10.12"
  }
 },
 "nbformat": 4,
 "nbformat_minor": 4
}