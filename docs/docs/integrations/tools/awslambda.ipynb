{
 "cells": [
  {
   "cell_type": "markdown",
   "metadata": {},
   "source": [
    "# AWS Lambda | AWS Lambda",
    ""
   ]
  },
  {
   "cell_type": "markdown",
   "metadata": {},
   "source": [
    "> [`Amazon AWS Lambda`](https://aws.amazon.com/pm/lambda/)は、`Amazon Web Services` (`AWS`)が提供するサーバーレスコンピューティングサービスです。開発者がサーバーのプロビジョニングや管理を行わずにアプリケーションやサービスを構築・実行できるよう支援します。このサーバーレスアーキテクチャにより、コードの記述とデプロイに集中でき、AWSが自動的にスケーリング、パッチ適用、およびアプリケーション実行に必要なインフラストラクチャの管理を担います。",
    ">",
    "> > [`Amazon AWS Lambda`](https://aws.amazon.com/pm/lambda/) is a serverless computing service provided by `Amazon Web Services` (`AWS`). It helps developers to build and run applications and services without provisioning or managing servers. This serverless architecture enables you to focus on writing and deploying code, while AWS automatically takes care of scaling, patching, and managing the infrastructure required to run your applications.",
    "",
    "このノートブックでは、`AWS Lambda` ツールの使用方法について説明します。",
    "",
    "> This notebook goes over how to use the `AWS Lambda` Tool.",
    "",
    "`AWS Lambda`をエージェントが使用できるツールのリストに追加することで、エージェントがあなたのAWSクラウド内で実行されているコードを、どのような目的であれ呼び出す能力を付与することができます。",
    "",
    "> By including the `AWS Lambda` in the list of tools provided to an Agent, you can grant your Agent the ability to invoke code running in your AWS Cloud for whatever purposes you need.",
    "",
    "`AWS Lambda`ツールを使用するエージェントは、文字列型の引数を提供し、その引数はイベントパラメータを介してLambda関数に渡されます。",
    "",
    "> When an Agent uses the `AWS Lambda` tool, it will provide an argument of type string which will in turn be passed into the Lambda function via the event parameter.",
    "",
    "まず、`boto3` Pythonパッケージをインストールする必要があります。",
    "",
    "> First, you need to install `boto3` python package.",
    ""
   ]
  },
  {
   "cell_type": "code",
   "execution_count": null,
   "metadata": {
    "vscode": {
     "languageId": "shellscript"
    }
   },
   "outputs": [],
   "source": [
    "!pip install boto3 > /dev/null"
   ]
  },
  {
   "cell_type": "markdown",
   "metadata": {},
   "source": [
    "エージェントがツールを使用するためには、あなたのLambda関数のロジックに合致する名前と説明を提供する必要があります。",
    "",
    "> In order for an agent to use the tool, you must provide it with the name and description that match the functionality of you lambda function's logic.",
    "",
    "また、関数の名前を提供する必要があります。",
    "",
    "> You must also provide the name of your function.",
    ""
   ]
  },
  {
   "cell_type": "markdown",
   "metadata": {},
   "source": [
    "このツールは実質的にboto3ライブラリのラッパーであるため、ツールを使用するには`aws configure`を実行する必要があります。詳細については[こちら](https://docs.aws.amazon.com/cli/index.html)をご覧ください。",
    "",
    "> Note that because this tool is effectively just a wrapper around the boto3 library, you will need to run `aws configure` in order to make use of the tool. For more detail, see [here](https://docs.aws.amazon.com/cli/index.html)",
    ""
   ]
  },
  {
   "cell_type": "code",
   "execution_count": null,
   "metadata": {
    "vscode": {
     "languageId": "shellscript"
    }
   },
   "outputs": [],
   "source": [
    "from langchain.agents import AgentType, initialize_agent, load_tools\n",
    "from langchain.llms import OpenAI\n",
    "\n",
    "llm = OpenAI(temperature=0)\n",
    "\n",
    "tools = load_tools(\n",
    "    [\"awslambda\"],\n",
    "    awslambda_tool_name=\"email-sender\",\n",
    "    awslambda_tool_description=\"sends an email with the specified content to test@testing123.com\",\n",
    "    function_name=\"testFunction1\",\n",
    ")\n",
    "\n",
    "agent = initialize_agent(\n",
    "    tools, llm, agent=AgentType.ZERO_SHOT_REACT_DESCRIPTION, verbose=True\n",
    ")\n",
    "\n",
    "agent.run(\"Send an email to test@testing123.com saying hello world.\")"
   ]
  },
  {
   "cell_type": "code",
   "execution_count": null,
   "metadata": {
    "vscode": {
     "languageId": "shellscript"
    }
   },
   "outputs": [],
   "source": []
  }
 ],
 "metadata": {
  "kernelspec": {
   "display_name": "Python 3 (ipykernel)",
   "language": "python",
   "name": "python3"
  },
  "language_info": {
   "codemirror_mode": {
    "name": "ipython",
    "version": 3
   },
   "file_extension": ".py",
   "mimetype": "text/x-python",
   "name": "python",
   "nbconvert_exporter": "python",
   "pygments_lexer": "ipython3",
   "version": "3.10.12"
  }
 },
 "nbformat": 4,
 "nbformat_minor": 4
}