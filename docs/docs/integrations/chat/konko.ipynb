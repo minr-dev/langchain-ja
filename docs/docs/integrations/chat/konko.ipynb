{
 "cells": [
  {
   "cell_type": "raw",
   "metadata": {},
   "source": [
    "---\n",
    "sidebar_label: Konko\n",
    "---"
   ]
  },
  {
   "cell_type": "markdown",
   "metadata": {},
   "source": [
    "# ChatKonko | ChatKonko\n",
    "\n",
    "> [Konko](https://www.konko.ai/) APIは、アプリケーション開発者を支援するために設計された完全に管理されたWeb APIです。\n",
    ">\n",
    "> > [Konko](https://www.konko.ai/) API is a fully managed Web API designed to help application developers:\n",
    "\n",
    "Konko APIは、アプリケーション開発者を支援するために設計された完全に管理されたAPIです。\n",
    "\n",
    "> Konko API is a fully managed API designed to help application developers:\n",
    "\n",
    "1. アプリケーションに適したLLM（Large Language Modelの略）を選択する\n",
    "\n",
    "   > Select the right LLM(s) for their application\n",
    "\n",
    "2. さまざまなオープンソースおよびプロプライエタリなLLMを使用してプロトタイピングを行う\n",
    "\n",
    "   > Prototype with various open-source and proprietary LLMs\n",
    "\n",
    "3. Konko AIのSOC 2準拠インフラストラクチャを利用することで、インフラのセットアップや管理をせずに、セキュリティ、プライバシー、スループット、レイテンシーのSLAを遵守して本番環境への移行が可能です\n",
    "\n",
    "   > Move to production in-line with their security, privacy, throughput, latency SLAs without infrastructure set-up or administration using Konko AI's SOC 2 compliant infrastructure\n",
    "\n",
    "\n",
    "この例では、LangChainを使用して`Konko` [モデル](https://docs.konko.ai/docs/overview)と対話する方法について説明します。\n",
    "\n",
    "> This example goes over how to use LangChain to interact with `Konko` [models](https://docs.konko.ai/docs/overview)\n",
    "\n",
    "\n"
   ]
  },
  {
   "cell_type": "markdown",
   "metadata": {},
   "source": [
    "このノートブックを実行するには、Konko APIキーが必要です。support@konko.ai にメッセージを送ってリクエストしてください。\n",
    "\n",
    "> To run this notebook, you'll need Konko API key. You can request it by messaging support@konko.ai.\n",
    "\n",
    "\n"
   ]
  },
  {
   "cell_type": "code",
   "execution_count": 1,
   "metadata": {
    "tags": []
   },
   "outputs": [],
   "source": [
    "from langchain.chat_models import ChatKonko\n",
    "from langchain.schema import HumanMessage, SystemMessage"
   ]
  },
  {
   "cell_type": "markdown",
   "metadata": {},
   "source": [
    "## 2. Set API Keys | 2. APIキーの設定\n",
    "\n",
    "<br />\n",
    "\n",
    "### Option 1: Set Environment Variables | オプション 1: 環境変数を設定する\n",
    "\n",
    "1. 環境変数を設定することができます\n",
    "\n",
    "   > You can set environment variables for\n",
    "   \n",
    "1. KONKO\\_API\\_KEY（必須）\n",
    "\n",
    "      > KONKO\\_API\\_KEY (Required)\n",
    "\n",
    "   2. OPENAI\\_API\\_KEY（オプショナル）\n",
    "\n",
    "      > OPENAI\\_API\\_KEY (Optional)\n",
    "\n",
    "2. 現在のシェルセッションで、exportコマンドを使用してください：\n",
    "\n",
    "   > In your current shell session, use the export command:\n",
    "\n",
    "\n",
    "```shell\n",
    "export KONKO_API_KEY={your_KONKO_API_KEY_here}\n",
    "export OPENAI_API_KEY={your_OPENAI_API_KEY_here} #Optional\n",
    "```\n",
    "\n",
    "また、新しいシェルセッションが開始されるたびにこれらが自動的に設定されるように、上記の行を直接シェルのスタートアップスクリプト（Bashシェルの場合は.bashrcや.bash\\_profile、Zshシェルの場合は.zshrc）に追加することもできます。\n",
    "\n",
    "> Alternatively, you can add the above lines directly to your shell startup script (such as .bashrc or .bash\\_profile for Bash shell and .zshrc for Zsh shell) to have them set automatically every time a new shell session starts.\n",
    "\n",
    "### Option 2: Set API Keys Programmatically | オプション 2: プログラムによるAPIキーの設定\n",
    "\n",
    "PythonスクリプトやJupyterノートブック内で直接APIキーを設定することを好む場合は、以下のコマンドを使用できます：\n",
    "\n",
    "> If you prefer to set your API keys directly within your Python script or Jupyter notebook, you can use the following commands:\n",
    "\n",
    "```python\n",
    "konko.set_api_key('your_KONKO_API_KEY_here')  \n",
    "konko.set_openai_api_key('your_OPENAI_API_KEY_here') # Optional\n",
    "```\n",
    "\n",
    "\n"
   ]
  },
  {
   "cell_type": "markdown",
   "metadata": {},
   "source": [
    "## Calling a model | モデルを呼び出す\n",
    "\n",
    "[Konkoの概要ページ](https://docs.konko.ai/docs/overview)でモデルを探してください。\n",
    "\n",
    "> Find a model on the [Konko overview page](https://docs.konko.ai/docs/overview)\n",
    "\n",
    "例えば、この[LLama 2 モデル](https://docs.konko.ai/docs/meta-llama-2-13b-chat)についてです。モデルIDは次のようになります：`\"meta-llama/Llama-2-13b-chat-hf\"`\n",
    "\n",
    "> For example, for this [LLama 2 model](https://docs.konko.ai/docs/meta-llama-2-13b-chat). The model id would be: `\"meta-llama/Llama-2-13b-chat-hf\"`\n",
    "\n",
    "Konkoインスタンスで実行されているモデルのリストを見つけるもう一つの方法は、この[エンドポイント](https://docs.konko.ai/reference/listmodels)を通じてです。\n",
    "\n",
    "> Another way to find the list of models running on the Konko instance is through this [endpoint](https://docs.konko.ai/reference/listmodels).\n",
    "\n",
    "ここから、モデルを初期化することができます：\n",
    "\n",
    "> From here, we can initialize our model:\n",
    "\n",
    "\n"
   ]
  },
  {
   "cell_type": "code",
   "execution_count": 5,
   "metadata": {},
   "outputs": [],
   "source": [
    "chat = ChatKonko(max_tokens=400, model=\"meta-llama/Llama-2-13b-chat-hf\")"
   ]
  },
  {
   "cell_type": "code",
   "execution_count": 7,
   "metadata": {},
   "outputs": [
    {
     "data": {
      "text/plain": [
       "AIMessage(content=\" Sure, I'd be happy to explain the Big Bang Theory briefly!\\n\\nThe Big Bang Theory is the leading explanation for the origin and evolution of the universe, based on a vast amount of observational evidence from many fields of science. In essence, the theory posits that the universe began as an infinitely hot and dense point, known as a singularity, around 13.8 billion years ago. This singularity expanded rapidly, and as it did, it cooled and formed subatomic particles, which eventually coalesced into the first atoms, and later into the stars and galaxies we see today.\\n\\nThe theory gets its name from the idea that the universe began in a state of incredibly high energy and temperature, and has been expanding and cooling ever since. This expansion is thought to have been driven by a mysterious force known as dark energy, which is thought to be responsible for the accelerating expansion of the universe.\\n\\nOne of the key predictions of the Big Bang Theory is that the universe should be homogeneous and isotropic on large scales, meaning that it should look the same in all directions and have the same properties everywhere. This prediction has been confirmed by a wealth of observational evidence, including the cosmic microwave background radiation, which is thought to be a remnant of the early universe.\\n\\nOverall, the Big Bang Theory is a well-established and widely accepted explanation for the origins of the universe, and it has been supported by a vast amount of observational evidence from many fields of science.\", additional_kwargs={}, example=False)"
      ]
     },
     "execution_count": 7,
     "metadata": {},
     "output_type": "execute_result"
    }
   ],
   "source": [
    "messages = [\n",
    "    SystemMessage(content=\"You are a helpful assistant.\"),\n",
    "    HumanMessage(content=\"Explain Big Bang Theory briefly\"),\n",
    "]\n",
    "chat(messages)"
   ]
  },
  {
   "cell_type": "code",
   "execution_count": null,
   "metadata": {},
   "outputs": [],
   "source": []
  }
 ],
 "metadata": {
  "kernelspec": {
   "display_name": "Python 3 (ipykernel)",
   "language": "python",
   "name": "python3"
  },
  "language_info": {
   "codemirror_mode": {
    "name": "ipython",
    "version": 3
   },
   "file_extension": ".py",
   "mimetype": "text/x-python",
   "name": "python",
   "nbconvert_exporter": "python",
   "pygments_lexer": "ipython3",
   "version": "3.11.3"
  },
  "vscode": {
   "interpreter": {
    "hash": "a0a0263b650d907a3bfe41c0f8d6a63a071b884df3cfdc1579f00cdc1aed6b03"
   }
  }
 },
 "nbformat": 4,
 "nbformat_minor": 4
}