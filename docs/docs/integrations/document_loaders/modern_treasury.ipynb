{
 "cells": [
  {
   "attachments": {},
   "cell_type": "markdown",
   "metadata": {},
   "source": [
    "# Modern Treasury | モダン・トレジャリー",
    "",
    "> [Modern Treasury](https://www.moderntreasury.com/)は複雑な支払い操作を簡素化します。これは、お金を動かす製品やプロセスを支えるための統一されたプラットフォームです。",
    ">",
    "> > [Modern Treasury](https://www.moderntreasury.com/) simplifies complex payment operations. It is a unified platform to power products and processes that move money.",
    ">",
    "> * 銀行や支払いシステムに接続する",
    ">   > Connect to banks and payment systems",
    "> * リアルタイムで取引と残高を追跡する",
    ">   > Track transactions and balances in real-time",
    "> * 支払い操作をスケールアップに合わせて自動化する",
    ">   > Automate payment operations for scale",
    "",
    "このノートブックでは、`Modern Treasury REST API`からデータを読み込み、LangChainで取り込むことができる形式に変換する方法と、ベクトル化の使用例について説明しています。",
    "",
    "> This notebook covers how to load data from the `Modern Treasury REST API` into a format that can be ingested into LangChain, along with example usage for vectorization.",
    ""
   ]
  },
  {
   "cell_type": "code",
   "execution_count": 1,
   "metadata": {},
   "outputs": [],
   "source": [
    "from langchain.document_loaders import ModernTreasuryLoader\n",
    "from langchain.indexes import VectorstoreIndexCreator"
   ]
  },
  {
   "attachments": {},
   "cell_type": "markdown",
   "metadata": {},
   "source": [
    "Modern Treasury APIは、組織IDとAPIキーを必要とします。これらは、Modern Treasuryダッシュボード内の開発者設定で見つけることができます。",
    "",
    "> The Modern Treasury API requires an organization ID and API key, which can be found in the Modern Treasury dashboard within developer settings.",
    "",
    "このドキュメントローダーには、どのデータをロードしたいかを定義する`resource`オプションも必要です。",
    "",
    "> This document loader also requires a `resource` option which defines what data you want to load.",
    "",
    "以下のリソースが利用可能です：",
    "",
    "> Following resources are available:",
    "",
    "`payment_orders` [ドキュメント](https://docs.moderntreasury.com/reference/payment-order-object)",
    "",
    "> `payment_orders` [Documentation](https://docs.moderntreasury.com/reference/payment-order-object)",
    "",
    "`expected_payments` [ドキュメンテーション](https://docs.moderntreasury.com/reference/expected-payment-object)",
    "",
    "> `expected_payments` [Documentation](https://docs.moderntreasury.com/reference/expected-payment-object)",
    "",
    "`returns` については、[ドキュメント](https://docs.moderntreasury.com/reference/return-object)を参照してください。",
    "",
    "> `returns` [Documentation](https://docs.moderntreasury.com/reference/return-object)",
    "",
    "`incoming_payment_details` [ドキュメント](https://docs.moderntreasury.com/reference/incoming-payment-detail-object)",
    "",
    "> `incoming_payment_details` [Documentation](https://docs.moderntreasury.com/reference/incoming-payment-detail-object)",
    "",
    "`counterparties` [ドキュメント](https://docs.moderntreasury.com/reference/counterparty-object)",
    "",
    "> `counterparties` [Documentation](https://docs.moderntreasury.com/reference/counterparty-object)",
    "",
    "`internal_accounts`の[ドキュメント](https://docs.moderntreasury.com/reference/internal-account-object)",
    "",
    "> `internal_accounts` [Documentation](https://docs.moderntreasury.com/reference/internal-account-object)",
    "",
    "`external_accounts` [ドキュメント](https://docs.moderntreasury.com/reference/external-account-object)",
    "",
    "> `external_accounts` [Documentation](https://docs.moderntreasury.com/reference/external-account-object)",
    "",
    "`transactions` [ドキュメンテーション](https://docs.moderntreasury.com/reference/transaction-object)",
    "",
    "> `transactions` [Documentation](https://docs.moderntreasury.com/reference/transaction-object)",
    "",
    "`ledgers` [ドキュメント](https://docs.moderntreasury.com/reference/ledger-object)",
    "",
    "> `ledgers` [Documentation](https://docs.moderntreasury.com/reference/ledger-object)",
    "",
    "`ledger_accounts` [ドキュメント](https://docs.moderntreasury.com/reference/ledger-account-object)",
    "",
    "> `ledger_accounts` [Documentation](https://docs.moderntreasury.com/reference/ledger-account-object)",
    "",
    "`ledger_transactions` [ドキュメント](https://docs.moderntreasury.com/reference/ledger-transaction-object)",
    "",
    "> `ledger_transactions` [Documentation](https://docs.moderntreasury.com/reference/ledger-transaction-object)",
    "",
    "`events` [ドキュメント](https://docs.moderntreasury.com/reference/events)",
    "",
    "> `events` [Documentation](https://docs.moderntreasury.com/reference/events)",
    "",
    "`invoices` [ドキュメント](https://docs.moderntreasury.com/reference/invoices)",
    "",
    "> `invoices` [Documentation](https://docs.moderntreasury.com/reference/invoices)",
    ""
   ]
  },
  {
   "cell_type": "code",
   "execution_count": null,
   "metadata": {},
   "outputs": [],
   "source": [
    "modern_treasury_loader = ModernTreasuryLoader(\"payment_orders\")"
   ]
  },
  {
   "cell_type": "code",
   "execution_count": null,
   "metadata": {},
   "outputs": [],
   "source": [
    "# Create a vectorstore retriever from the loader\n",
    "# see https://python.langchain.com/en/latest/modules/data_connection/getting_started.html for more details\n",
    "\n",
    "index = VectorstoreIndexCreator().from_loaders([modern_treasury_loader])\n",
    "modern_treasury_doc_retriever = index.vectorstore.as_retriever()"
   ]
  }
 ],
 "metadata": {
  "kernelspec": {
   "display_name": "Python 3 (ipykernel)",
   "language": "python",
   "name": "python3"
  },
  "language_info": {
   "codemirror_mode": {
    "name": "ipython",
    "version": 3
   },
   "file_extension": ".py",
   "mimetype": "text/x-python",
   "name": "python",
   "nbconvert_exporter": "python",
   "pygments_lexer": "ipython3",
   "version": "3.10.6"
  }
 },
 "nbformat": 4,
 "nbformat_minor": 4
}