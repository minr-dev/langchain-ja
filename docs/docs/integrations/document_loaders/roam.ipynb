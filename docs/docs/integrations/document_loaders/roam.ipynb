{
 "cells": [
  {
   "attachments": {},
   "cell_type": "markdown",
   "id": "1dc7df1d",
   "metadata": {},
   "source": [
    "# Roam | ローム",
    "",
    "> [ROAM](https://roamresearch.com/)は、ネットワーク化された思考のためのノート取りツールであり、個人の知識ベースを作成することを目的として設計されています。",
    ">",
    "> > [ROAM](https://roamresearch.com/) is a note-taking tool for networked thought, designed to create a personal knowledge base.",
    "",
    "このノートブックでは、Roamデータベースからドキュメントをロードする方法について説明しています。これは、[こちら](https://github.com/JimmyLv/roam-qa)のサンプルリポジトリから多くのインスピレーションを得ています。",
    "",
    "> This notebook covers how to load documents from a Roam database. This takes a lot of inspiration from the example repo [here](https://github.com/JimmyLv/roam-qa).",
    "",
    "## 🧑 Instructions for ingesting your own dataset | 🧑 ご自身のデータセットを取り込むための指示",
    "",
    "Roam Researchからデータセットをエクスポートするには、右上隅にある三つの点をクリックしてから`Export`をクリックしてください。",
    "",
    "> Export your dataset from Roam Research. You can do this by clicking on the three dots in the upper right hand corner and then clicking `Export`.",
    "",
    "エクスポートする際には、`Markdown & CSV` 形式オプションを選択してください。",
    "",
    "> When exporting, make sure to select the `Markdown & CSV` format option.",
    "",
    "これにより、ダウンロードフォルダに`.zip`ファイルが作成されます。その`.zip`ファイルをこのリポジトリに移動してください。",
    "",
    "> This will produce a `.zip` file in your Downloads folder. Move the `.zip` file into this repository.",
    "",
    "以下のコマンドを実行して、zipファイルを解凍してください（必要に応じて`Export...`をご自身のファイル名に置き換えてください）。",
    "",
    "> Run the following command to unzip the zip file (replace the `Export...` with your own file name as needed).",
    "",
    "```shell",
    "unzip Roam-Export-1675782732639.zip -d Roam_DB",
    "```",
    ""
   ]
  },
  {
   "cell_type": "code",
   "execution_count": 1,
   "id": "007c5cbf",
   "metadata": {},
   "outputs": [],
   "source": [
    "from langchain.document_loaders import RoamLoader"
   ]
  },
  {
   "cell_type": "code",
   "execution_count": null,
   "id": "a1caec59",
   "metadata": {},
   "outputs": [],
   "source": [
    "loader = RoamLoader(\"Roam_DB\")"
   ]
  },
  {
   "cell_type": "code",
   "execution_count": null,
   "id": "b1c30ff7",
   "metadata": {},
   "outputs": [],
   "source": [
    "docs = loader.load()"
   ]
  }
 ],
 "metadata": {
  "kernelspec": {
   "display_name": "Python 3 (ipykernel)",
   "language": "python",
   "name": "python3"
  },
  "language_info": {
   "codemirror_mode": {
    "name": "ipython",
    "version": 3
   },
   "file_extension": ".py",
   "mimetype": "text/x-python",
   "name": "python",
   "nbconvert_exporter": "python",
   "pygments_lexer": "ipython3",
   "version": "3.10.6"
  }
 },
 "nbformat": 4,
 "nbformat_minor": 5
}