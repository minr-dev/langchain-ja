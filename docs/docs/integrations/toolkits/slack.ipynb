{
 "cells": [
  {
   "cell_type": "markdown",
   "metadata": {},
   "source": [
    "# Slack | Slack",
    "",
    "このノートブックは、LangChainをあなたの`Slack`アカウントに接続する手順を説明します。",
    "",
    "> This notebook walks through connecting LangChain to your `Slack` account.",
    "",
    "このツールキットを使用するには、[Slack APIのドキュメント](https://api.slack.com/tutorials/tracks/getting-a-token)で説明されているトークンを取得する必要があります。SLACK\\_USER\\_TOKENを受け取ったら、以下の環境変数として入力してください。",
    "",
    "> To use this toolkit, you will need to get a token explained in the [Slack API docs](https://api.slack.com/tutorials/tracks/getting-a-token). Once you've received a SLACK\\_USER\\_TOKEN, you can input it as an environmental variable below.",
    ""
   ]
  },
  {
   "cell_type": "code",
   "execution_count": null,
   "metadata": {},
   "outputs": [],
   "source": [
    "!pip install --upgrade slack_sdk > /dev/null\n",
    "!pip install beautifulsoup4 > /dev/null # This is optional but is useful for parsing HTML messages"
   ]
  },
  {
   "cell_type": "markdown",
   "metadata": {},
   "source": [
    "## Assign Environmental Variables | 環境変数を割り当てる",
    "",
    "このツールキットは、ユーザーを認証するためにSLACK\\_USER\\_TOKEN環境変数を読み込むので、ここで設定する必要があります。また、後ほどエージェントを使用するためには、OPENAI\\_API\\_KEYも設定する必要があります。",
    "",
    "> The toolkit will read the SLACK\\_USER\\_TOKEN environmental variable to authenticate the user so you need to set them here. You will also need to set your OPENAI\\_API\\_KEY to use the agent later.",
    ""
   ]
  },
  {
   "cell_type": "code",
   "execution_count": null,
   "metadata": {},
   "outputs": [],
   "source": [
    "# Set environmental variables here"
   ]
  },
  {
   "cell_type": "markdown",
   "metadata": {},
   "source": [
    "## Create the Toolkit and Get Tools | ツールキットを作成し、ツールを取得する",
    "",
    "まず初めに、ツールキットを作成する必要があります。これにより、後でそのツールにアクセスできるようになります。",
    "",
    "> To start, you need to create the toolkit, so you can access its tools later.",
    ""
   ]
  },
  {
   "cell_type": "code",
   "execution_count": null,
   "metadata": {},
   "outputs": [],
   "source": [
    "from langchain.agents.agent_toolkits import SlackToolkit\n",
    "\n",
    "toolkit = SlackToolkit()\n",
    "tools = toolkit.get_tools()\n",
    "tools"
   ]
  },
  {
   "cell_type": "markdown",
   "metadata": {},
   "source": [
    "## Use within an Agent | エージェント内での使用",
    ""
   ]
  },
  {
   "cell_type": "code",
   "execution_count": null,
   "metadata": {},
   "outputs": [],
   "source": [
    "from langchain.agents import AgentType, initialize_agent\n",
    "from langchain.llms import OpenAI"
   ]
  },
  {
   "cell_type": "code",
   "execution_count": null,
   "metadata": {},
   "outputs": [],
   "source": [
    "llm = OpenAI(temperature=0)\n",
    "agent = initialize_agent(\n",
    "    tools=toolkit.get_tools(),\n",
    "    llm=llm,\n",
    "    verbose=False,\n",
    "    agent=AgentType.STRUCTURED_CHAT_ZERO_SHOT_REACT_DESCRIPTION,\n",
    ")"
   ]
  },
  {
   "cell_type": "code",
   "execution_count": null,
   "metadata": {},
   "outputs": [],
   "source": [
    "agent.run(\"Send a greeting to my coworkers in the #general channel.\")"
   ]
  },
  {
   "cell_type": "code",
   "execution_count": null,
   "metadata": {},
   "outputs": [],
   "source": [
    "agent.run(\"How many channels are in the workspace? Please list out their names.\")"
   ]
  },
  {
   "cell_type": "code",
   "execution_count": null,
   "metadata": {},
   "outputs": [],
   "source": [
    "agent.run(\n",
    "    \"Tell me the number of messages sent in the #introductions channel from the past month.\"\n",
    ")"
   ]
  }
 ],
 "metadata": {
  "kernelspec": {
   "display_name": "Python 3 (ipykernel)",
   "language": "python",
   "name": "python3"
  },
  "language_info": {
   "codemirror_mode": {
    "name": "ipython",
    "version": 3
   },
   "file_extension": ".py",
   "mimetype": "text/x-python",
   "name": "python",
   "nbconvert_exporter": "python",
   "pygments_lexer": "ipython3",
   "version": "3.11.6"
  }
 },
 "nbformat": 4,
 "nbformat_minor": 4
}