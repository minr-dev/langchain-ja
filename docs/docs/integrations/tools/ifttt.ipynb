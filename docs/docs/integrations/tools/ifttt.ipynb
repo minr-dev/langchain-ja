{
 "cells": [
  {
   "cell_type": "markdown",
   "id": "16763ed3",
   "metadata": {},
   "source": [
    "# IFTTT WebHooks | IFTTT WebHooks\n",
    "\n",
    "このノートブックは、IFTTT Webhooksの使用方法を示しています。\n",
    "\n",
    "> This notebook shows how to use IFTTT Webhooks.\n",
    "\n",
    "https://github.com/SidU/teams-langchain-js/wiki/Connecting-IFTTT-Services から。\n",
    "\n",
    "> From https://github.com/SidU/teams-langchain-js/wiki/Connecting-IFTTT-Services.\n",
    "\n",
    "## Creating a webhook | Webhookの作成\n",
    "\n",
    "* https://ifttt.com/create にアクセスしてください\n",
    "\n",
    "  > Go to https://ifttt.com/create\n",
    "\n",
    "\n",
    "## Configuring the \"If This\" | \"If This\"の設定方法\n",
    "\n",
    "* IFTTTインターフェースで「If This」ボタンをクリックしてください。\n",
    "\n",
    "  > Click on the \"If This\" button in the IFTTT interface.\n",
    "\n",
    "* 検索バーで「Webhooks」を検索してください。\n",
    "\n",
    "  > Search for \"Webhooks\" in the search bar.\n",
    "\n",
    "* 「JSONペイロードを含むウェブリクエストを受け取る」で最初のオプションを選択してください。\n",
    "\n",
    "  > Choose the first option for \"Receive a web request with a JSON payload.\"\n",
    "\n",
    "* 接続を計画しているサービスに特有のイベント名を選んでください。これにより、Webhook URLの管理が容易になります。例えば、Spotifyに接続する場合、「Spotify」をイベント名として使用できます。\n",
    "\n",
    "  > Choose an Event Name that is specific to the service you plan to connect to.\n",
    "  > This will make it easier for you to manage the webhook URL.\n",
    "  > For example, if you're connecting to Spotify, you could use \"Spotify\" as your\n",
    "  > Event Name.\n",
    "\n",
    "* 「Create Trigger」ボタンをクリックして設定を保存し、Webhookを作成してください。\n",
    "\n",
    "  > Click the \"Create Trigger\" button to save your settings and create your webhook.\n",
    "\n",
    "\n",
    "## Configuring the \"Then That\" | \"Then That\"の設定\n",
    "\n",
    "* IFTTTインターフェースで「Then That」ボタンをタップしてください。\n",
    "\n",
    "  > Tap on the \"Then That\" button in the IFTTT interface.\n",
    "\n",
    "* 接続したいサービス、例えばSpotifyを検索してください。\n",
    "\n",
    "  > Search for the service you want to connect, such as Spotify.\n",
    "\n",
    "* サービスから「プレイリストにトラックを追加する」などのアクションを選んでください。\n",
    "\n",
    "  > Choose an action from the service, such as \"Add track to a playlist\".\n",
    "\n",
    "* アクションを設定する際には、プレイリスト名などの必要な詳細を指定してください。例えば、「AIからの歌」というプレイリスト名のように。\n",
    "\n",
    "  > Configure the action by specifying the necessary details, such as the playlist name,\n",
    "  > e.g., \"Songs from AI\".\n",
    "\n",
    "* アクションでWebhookによって受信されたJSONペイロードを参照してください。Spotifyのシナリオの場合、検索クエリとして「{{JsonPayload}}」を選択してください。\n",
    "\n",
    "  > Reference the JSON Payload received by the Webhook in your action. For the Spotify\n",
    "  > scenario, choose \"{{JsonPayload}}\" as your search query.\n",
    "\n",
    "* 「アクションを作成」ボタンをタップして、アクション設定を保存してください。\n",
    "\n",
    "  > Tap the \"Create Action\" button to save your action settings.\n",
    "\n",
    "* アクションの設定が完了したら、「Finish」ボタンをクリックしてセットアップを完了してください。\n",
    "\n",
    "  > Once you have finished configuring your action, click the \"Finish\" button to\n",
    "  > complete the setup.\n",
    "\n",
    "* おめでとうございます！Webhookを希望のサービスに正常に接続でき、データの受信とアクションのトリガーを開始する準備が整いました🎉\n",
    "\n",
    "  > Congratulations! You have successfully connected the Webhook to the desired\n",
    "  > service, and you're ready to start receiving data and triggering actions 🎉\n",
    "\n",
    "\n",
    "## Finishing up | 終了に向けて\n",
    "\n",
    "* WebhookのURLを取得するには、https://ifttt.com/maker\\_webhooks/settings にアクセスしてください\n",
    "\n",
    "  > To get your webhook URL go to https://ifttt.com/maker\\_webhooks/settings\n",
    "\n",
    "* そこからIFTTTキーの値をコピーしてください。URLは https://maker.ifttt.com/use/YOUR\\_IFTTT\\_KEY の形式です。YOUR\\_IFTTT\\_KEY の値を掴んでください。\n",
    "\n",
    "  > Copy the IFTTT key value from there. The URL is of the form\n",
    "  > https://maker.ifttt.com/use/YOUR\\_IFTTT\\_KEY. Grab the YOUR\\_IFTTT\\_KEY value.\n",
    "\n",
    "\n",
    "\n"
   ]
  },
  {
   "cell_type": "code",
   "execution_count": 1,
   "id": "10a46e7e",
   "metadata": {},
   "outputs": [],
   "source": [
    "from langchain.tools.ifttt import IFTTTWebhook"
   ]
  },
  {
   "cell_type": "code",
   "execution_count": 2,
   "id": "12003d72",
   "metadata": {},
   "outputs": [],
   "source": [
    "import os\n",
    "\n",
    "key = os.environ[\"IFTTTKey\"]\n",
    "url = f\"https://maker.ifttt.com/trigger/spotify/json/with/key/{key}\"\n",
    "tool = IFTTTWebhook(\n",
    "    name=\"Spotify\", description=\"Add a song to spotify playlist\", url=url\n",
    ")"
   ]
  },
  {
   "cell_type": "code",
   "execution_count": 3,
   "id": "6e68f846",
   "metadata": {},
   "outputs": [
    {
     "data": {
      "text/plain": [
       "\"Congratulations! You've fired the spotify JSON event\""
      ]
     },
     "execution_count": 3,
     "metadata": {},
     "output_type": "execute_result"
    }
   ],
   "source": [
    "tool.run(\"taylor swift\")"
   ]
  },
  {
   "cell_type": "code",
   "execution_count": null,
   "id": "a7e599c9",
   "metadata": {},
   "outputs": [],
   "source": []
  }
 ],
 "metadata": {
  "kernelspec": {
   "display_name": "Python 3 (ipykernel)",
   "language": "python",
   "name": "python3"
  },
  "language_info": {
   "codemirror_mode": {
    "name": "ipython",
    "version": 3
   },
   "file_extension": ".py",
   "mimetype": "text/x-python",
   "name": "python",
   "nbconvert_exporter": "python",
   "pygments_lexer": "ipython3",
   "version": "3.9.1"
  }
 },
 "nbformat": 4,
 "nbformat_minor": 5
}