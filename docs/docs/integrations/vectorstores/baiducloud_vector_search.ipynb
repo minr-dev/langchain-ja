{
 "cells": [
  {
   "attachments": {},
   "cell_type": "markdown",
   "metadata": {},
   "source": [
    "# Baidu Cloud ElasticSearch VectorSearch | Baidu Cloud ElasticSearch VectorSearch",
    "",
    "> [Baidu Cloud VectorSearch](https://cloud.baidu.com/doc/BES/index.html?from=productToDoc)は、オープンソースと100%互換性があり、完全に管理されたエンタープライズレベルの分散検索および分析サービスです。Baidu Cloud VectorSearchは、構造化データおよび非構造化データに対して、低コストで高性能、信頼性の高い検索と分析のプラットフォームレベルの製品サービスを提供します。ベクターデータベースとして、それは複数のインデックスタイプと類似性距離メソッドをサポートしています。",
    ">",
    "> > [Baidu Cloud VectorSearch](https://cloud.baidu.com/doc/BES/index.html?from=productToDoc) is a fully managed, enterprise-level distributed search and analysis service which is 100% compatible to open source. Baidu Cloud VectorSearch provides low-cost, high-performance, and reliable retrieval and analysis platform level product services for structured/unstructured data. As a vector database , it supports multiple index types and similarity distance methods.",
    "",
    "> `Baidu Cloud ElasticSearch`は、クラスター権限を自由に設定できる特権管理メカニズムを提供しており、これによってデータのセキュリティをさらに確保できます。",
    ">",
    "> > `Baidu Cloud ElasticSearch` provides a privilege management mechanism, for you to  configure the cluster privileges freely, so as to further ensure data security.",
    "",
    "このノートブックは、`Baidu Cloud ElasticSearch VectorStore`に関連する機能の使用方法を示しています。実行するには、[Baidu Cloud ElasticSearch](https://cloud.baidu.com/product/bes.html)のインスタンスが起動し、稼働している必要があります：",
    "",
    "> This notebook shows how to use functionality related to the `Baidu Cloud ElasticSearch VectorStore`.",
    "> To run, you should have an [Baidu Cloud ElasticSearch](https://cloud.baidu.com/product/bes.html) instance up and running:",
    "",
    "[ヘルプドキュメント](https://cloud.baidu.com/doc/BES/s/8llyn0hh4)を読むことで、Baidu CloudのElasticSearchインスタンスに迅速に慣れ、設定を行うことができます。",
    "",
    "> Read the [help document](https://cloud.baidu.com/doc/BES/s/8llyn0hh4) to quickly familiarize and configure Baidu Cloud ElasticSearch instance.",
    ""
   ]
  },
  {
   "attachments": {},
   "cell_type": "markdown",
   "metadata": {},
   "source": [
    "インスタンスが起動して稼働した後、ドキュメントを分割し、埋め込みを取得し、Baidu CloudのElasticsearchインスタンスに接続し、ドキュメントをインデックス化し、ベクトル検索を実行するための手順に従ってください。",
    "",
    "> After the instance is up and running, follow these steps to split documents, get embeddings, connect to the baidu cloud elasticsearch instance, index documents, and perform vector retrieval.",
    ""
   ]
  },
  {
   "attachments": {},
   "cell_type": "markdown",
   "metadata": {},
   "source": [
    "まず、以下のPythonパッケージをインストールする必要があります。",
    "",
    "> We need to install the following Python packages first.",
    ""
   ]
  },
  {
   "cell_type": "code",
   "execution_count": null,
   "metadata": {},
   "outputs": [],
   "source": [
    "#!pip install elasticsearch == 7.11.0"
   ]
  },
  {
   "attachments": {},
   "cell_type": "markdown",
   "metadata": {},
   "source": [
    "まず、`QianfanEmbeddings`を使用するために、QianfanのAKとSKを取得する必要があります。QianFanについての詳細は[Baidu Qianfan Workshop](https://cloud.baidu.com/product/wenxinworkshop)にあります。",
    "",
    "> First, we want to use `QianfanEmbeddings` so we have to get the Qianfan AK and SK. Details for QianFan is related to [Baidu Qianfan Workshop](https://cloud.baidu.com/product/wenxinworkshop)",
    ""
   ]
  },
  {
   "cell_type": "code",
   "execution_count": null,
   "metadata": {},
   "outputs": [],
   "source": [
    "import getpass\n",
    "import os\n",
    "\n",
    "os.environ[\"QIANFAN_AK\"] = getpass.getpass(\"Your Qianfan AK:\")\n",
    "os.environ[\"QIANFAN_SK\"] = getpass.getpass(\"Your Qianfan SK:\")"
   ]
  },
  {
   "attachments": {},
   "cell_type": "markdown",
   "metadata": {},
   "source": [
    "次に、ドキュメントを分割して埋め込みを取得します。",
    "",
    "> Secondly, split documents and get embeddings.",
    ""
   ]
  },
  {
   "cell_type": "code",
   "execution_count": null,
   "metadata": {},
   "outputs": [],
   "source": [
    "from langchain.document_loaders import TextLoader\n",
    "from langchain.text_splitter import CharacterTextSplitter\n",
    "\n",
    "loader = TextLoader(\"../../../state_of_the_union.txt\")\n",
    "documents = loader.load()\n",
    "text_splitter = CharacterTextSplitter(chunk_size=1000, chunk_overlap=0)\n",
    "docs = text_splitter.split_documents(documents)\n",
    "\n",
    "from langchain.embeddings import QianfanEmbeddingsEndpoint\n",
    "\n",
    "embeddings = QianfanEmbeddingsEndpoint()"
   ]
  },
  {
   "attachments": {},
   "cell_type": "markdown",
   "metadata": {},
   "source": [
    "その後、アクセス可能なBaidu ElasticSearchインスタンスを作成してください。",
    "",
    "> Then, create a Baidu ElasticeSearch accessable instance.",
    ""
   ]
  },
  {
   "cell_type": "code",
   "execution_count": null,
   "metadata": {},
   "outputs": [],
   "source": [
    "# Create a bes instance and index docs.\n",
    "from langchain.vectorstores import BESVectorStore\n",
    "\n",
    "bes = BESVectorStore.from_documents(\n",
    "    documents=docs,\n",
    "    embedding=embeddings,\n",
    "    bes_url=\"your bes cluster url\",\n",
    "    index_name=\"your vector index\",\n",
    ")\n",
    "bes.client.indices.refresh(index=\"your vector index\")"
   ]
  },
  {
   "attachments": {},
   "cell_type": "markdown",
   "metadata": {},
   "source": [
    "最後に、データをクエリして取得する",
    "",
    "> Finally, Query and retrive data",
    ""
   ]
  },
  {
   "cell_type": "code",
   "execution_count": null,
   "metadata": {},
   "outputs": [],
   "source": [
    "query = \"What did the president say about Ketanji Brown Jackson\"\n",
    "docs = bes.similarity_search(query)\n",
    "print(docs[0].page_content)"
   ]
  },
  {
   "attachments": {},
   "cell_type": "markdown",
   "metadata": {},
   "source": [
    "ご使用中に何か問題が生じた際は、遠慮なく<liuboyao@baidu.com>または<chenweixu01@baidu.com>までご連絡いただければ、私たちは皆様をサポートするために最善を尽くします。",
    "",
    "> Please feel free to contact <liuboyao@baidu.com> or <chenweixu01@baidu.com> if you encounter any problems during use, and we will do our best to support you.",
    ""
   ]
  }
 ],
 "metadata": {
  "kernelspec": {
   "display_name": "Python 3 (ipykernel)",
   "language": "python",
   "name": "python3"
  },
  "language_info": {
   "codemirror_mode": {
    "name": "ipython",
    "version": 3
   },
   "file_extension": ".py",
   "mimetype": "text/x-python",
   "name": "python",
   "nbconvert_exporter": "python",
   "pygments_lexer": "ipython3",
   "version": "3.10.12"
  },
  "vscode": {
   "interpreter": {
    "hash": "aee8b7b246df8f9039afb4144a1f6fd8d2ca17a180786b69acc140d282b71a49"
   }
  }
 },
 "nbformat": 4,
 "nbformat_minor": 4
}