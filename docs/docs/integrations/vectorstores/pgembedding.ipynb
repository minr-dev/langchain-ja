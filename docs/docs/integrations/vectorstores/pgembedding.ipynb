{
 "cells": [
  {
   "cell_type": "markdown",
   "id": "1292f057",
   "metadata": {},
   "source": [
    "# Postgres Embedding | Postgres の組み込み",
    "",
    "> [Postgres Embedding](https://github.com/neondatabase/pg_embedding)は、`Postgres`用のオープンソースベクター類似性検索であり、近似最近傍探索に`Hierarchical Navigable Small Worlds (HNSW)`を使用しています。",
    ">",
    "> > [Postgres Embedding](https://github.com/neondatabase/pg_embedding) is an open-source vector similarity search for `Postgres` that uses  `Hierarchical Navigable Small Worlds (HNSW)` for approximate nearest neighbor search.",
    "",
    "> 以下をサポートしています：",
    ">",
    "> > It supports:",
    ">",
    "> * HNSWを使用した正確な最近傍探索と近似最近傍探索",
    ">   > exact and approximate nearest neighbor search using HNSW",
    "> * L2距離",
    ">   > L2 distance",
    "",
    "このノートブックは、Postgresベクターデータベース（`PGEmbedding`）の使用方法を示しています。",
    "",
    "> This notebook shows how to use the Postgres vector database (`PGEmbedding`).",
    "",
    "> PGEmbedding統合によってpg\\_embedding拡張機能が作成されますが、それをPostgresに追加するためには以下のクエリを実行する必要があります：",
    ">",
    "> > The PGEmbedding integration creates the pg\\_embedding extension for you, but you run the following Postgres query to add it:",
    "",
    "```sql",
    "CREATE EXTENSION embedding;",
    "```",
    ""
   ]
  },
  {
   "cell_type": "code",
   "execution_count": null,
   "id": "a6214221",
   "metadata": {},
   "outputs": [],
   "source": [
    "# Pip install necessary package\n",
    "!pip install openai\n",
    "!pip install psycopg2-binary\n",
    "!pip install tiktoken"
   ]
  },
  {
   "cell_type": "markdown",
   "id": "b2e49694",
   "metadata": {},
   "source": [
    "`OpenAIEmbeddings`を使用するためには、環境変数にOpenAI APIキーを追加してください。",
    "",
    "> Add the OpenAI API Key to the environment variables to use `OpenAIEmbeddings`.",
    ""
   ]
  },
  {
   "cell_type": "code",
   "execution_count": 2,
   "id": "1dcc8d99",
   "metadata": {},
   "outputs": [
    {
     "name": "stdout",
     "output_type": "stream",
     "text": [
      "OpenAI API Key:········\n"
     ]
    }
   ],
   "source": [
    "import getpass\n",
    "import os\n",
    "\n",
    "os.environ[\"OPENAI_API_KEY\"] = getpass.getpass(\"OpenAI API Key:\")"
   ]
  },
  {
   "cell_type": "code",
   "execution_count": 3,
   "id": "9719ea68",
   "metadata": {},
   "outputs": [],
   "source": [
    "## Loading Environment Variables\n",
    "from typing import List, Tuple"
   ]
  },
  {
   "cell_type": "code",
   "execution_count": null,
   "id": "dfd1f38d",
   "metadata": {},
   "outputs": [],
   "source": [
    "from langchain.docstore.document import Document\n",
    "from langchain.document_loaders import TextLoader\n",
    "from langchain.embeddings.openai import OpenAIEmbeddings\n",
    "from langchain.text_splitter import CharacterTextSplitter\n",
    "from langchain.vectorstores import PGEmbedding"
   ]
  },
  {
   "cell_type": "code",
   "execution_count": 5,
   "id": "8fab8cc2",
   "metadata": {},
   "outputs": [
    {
     "name": "stdout",
     "output_type": "stream",
     "text": [
      "Database Url:········\n"
     ]
    }
   ],
   "source": [
    "os.environ[\"DATABASE_URL\"] = getpass.getpass(\"Database Url:\")"
   ]
  },
  {
   "cell_type": "code",
   "execution_count": 6,
   "id": "bef17115",
   "metadata": {},
   "outputs": [],
   "source": [
    "loader = TextLoader(\"state_of_the_union.txt\")\n",
    "documents = loader.load()\n",
    "text_splitter = CharacterTextSplitter(chunk_size=1000, chunk_overlap=0)\n",
    "docs = text_splitter.split_documents(documents)\n",
    "\n",
    "embeddings = OpenAIEmbeddings()\n",
    "connection_string = os.environ.get(\"DATABASE_URL\")\n",
    "collection_name = \"state_of_the_union\""
   ]
  },
  {
   "cell_type": "code",
   "execution_count": 13,
   "id": "743abfaa",
   "metadata": {},
   "outputs": [],
   "source": [
    "db = PGEmbedding.from_documents(\n",
    "    embedding=embeddings,\n",
    "    documents=docs,\n",
    "    collection_name=collection_name,\n",
    "    connection_string=connection_string,\n",
    ")\n",
    "\n",
    "query = \"What did the president say about Ketanji Brown Jackson\"\n",
    "docs_with_score: List[Tuple[Document, float]] = db.similarity_search_with_score(query)"
   ]
  },
  {
   "cell_type": "code",
   "execution_count": null,
   "id": "41ce4c4e",
   "metadata": {},
   "outputs": [],
   "source": [
    "for doc, score in docs_with_score:\n",
    "    print(\"-\" * 80)\n",
    "    print(\"Score: \", score)\n",
    "    print(doc.page_content)\n",
    "    print(\"-\" * 80)"
   ]
  },
  {
   "cell_type": "markdown",
   "id": "7ef7b052",
   "metadata": {},
   "source": [
    "## Working with vectorstore in Postgres | Postgresでのvectorstoreの扱い方",
    ""
   ]
  },
  {
   "cell_type": "markdown",
   "id": "939151f7",
   "metadata": {},
   "source": [
    "### Uploading a vectorstore in PG | PGにベクターストアをアップロードする",
    ""
   ]
  },
  {
   "cell_type": "code",
   "execution_count": 32,
   "id": "595ac511",
   "metadata": {},
   "outputs": [],
   "source": [
    "db = PGEmbedding.from_documents(\n",
    "    embedding=embeddings,\n",
    "    documents=docs,\n",
    "    collection_name=collection_name,\n",
    "    connection_string=connection_string,\n",
    "    pre_delete_collection=False,\n",
    ")"
   ]
  },
  {
   "cell_type": "markdown",
   "id": "f9510e6b",
   "metadata": {},
   "source": [
    "### Create HNSW Index | HNSWインデックスを作成する",
    "",
    "デフォルトでは、この拡張機能は100%のリコールを持つシーケンシャルスキャン検索を実行します。`similarity_search_with_score`の実行時間を短縮するために、近似最近傍探索（ANN）用のHNSWインデックスの作成を検討してください。ベクトル列にHNSWインデックスを作成するには、`create_hnsw_index`関数を使用します。",
    "",
    "> By default, the extension performs a sequential scan search, with 100% recall. You might consider creating an HNSW index for approximate nearest neighbor (ANN) search to speed up `similarity_search_with_score` execution time. To create the HNSW index on your vector column, use a `create_hnsw_index` function:",
    ""
   ]
  },
  {
   "cell_type": "code",
   "execution_count": null,
   "id": "2d1981fa",
   "metadata": {},
   "outputs": [],
   "source": [
    "PGEmbedding.create_hnsw_index(\n",
    "    max_elements=10000, dims=1536, m=8, ef_construction=16, ef_search=16\n",
    ")"
   ]
  },
  {
   "cell_type": "markdown",
   "id": "7adacf29",
   "metadata": {},
   "source": [
    "上記の関数は、以下のSQLクエリを実行することと同等です：",
    "",
    "> The function above is equivalent to running the below SQL query:",
    "",
    "```sql",
    "CREATE INDEX ON vectors USING hnsw(vec) WITH (maxelements=10000, dims=1536, m=3, efconstruction=16, efsearch=16);",
    "```",
    "",
    "上記のステートメントで使用されているHNSWインデックスのオプションには以下が含まれます：",
    "",
    "> The HNSW index options used in the statement above include:",
    "",
    "* maxelements: インデックスされる要素の最大数を定義します。これは必須のパラメータです。上に示された例では、値は3です。実際の例では、はるかに大きな値、例えば1000000のような値が設定されます。「要素」とはデータセット内のデータポイント（ベクトル）のことで、HNSWグラフ内のノードとして表されます。通常、このオプションにはデータセットの行数を収容できるような値を設定します。",
    "  > maxelements: Defines the maximum number of elements indexed. This is a required parameter. The example shown above has a value of 3. A real-world example would have a much large value, such as 1000000. An \"element\" refers to a data point (a vector) in the dataset, which is represented as a node in the HNSW graph. Typically, you would set this option to a value able to accommodate the number of rows in your in your dataset.",
    "",
    "* dims: ベクトルデータの次元数を定義します。これは必須パラメータです。上記の例では小さい値が使用されています。例えば、1536次元をサポートするOpenAIのtext-embedding-ada-002モデルを使用して生成されたデータを格納する場合、1536という値を設定します。",
    "  > dims: Defines the number of dimensions in your vector data. This is a required parameter. A small value is used in the example above. If you are storing data generated using OpenAI's text-embedding-ada-002 model, which supports 1536 dimensions, you would define a value of 1536, for example.",
    "",
    "* m: グラフ構築中に各ノードに対して作成される双方向リンク（「エッジ」とも呼ばれます）の最大数を定義します。",
    "  以下の追加のインデックスオプションがサポートされています：",
    "  > m: Defines the maximum number of bi-directional links (also referred to as \"edges\") created for each node during graph construction.",
    "  > The following additional index options are supported:",
    "",
    "* efConstruction: インデックス構築時に考慮される最も近い隣接点の数を定義します。デフォルト値は32です。",
    "  > efConstruction: Defines the number of nearest neighbors considered during index construction. The default value is 32.",
    "",
    "* efsearch: インデックス検索時に考慮される最近傍の数を定義します。デフォルト値は32です。これらのオプションをどのように設定することでHNSWアルゴリズムに影響を与えるかについては、[HNSWアルゴリズムのチューニング](https://neon.tech/docs/extensions/pg_embedding#tuning-the-hnsw-algorithm)を参照してください。",
    "  > efsearch: Defines the number of nearest neighbors considered during index search. The default value is 32.",
    "  > For information about how you can configure these options to influence the HNSW algorithm, refer to [Tuning the HNSW algorithm](https://neon.tech/docs/extensions/pg_embedding#tuning-the-hnsw-algorithm).",
    ""
   ]
  },
  {
   "cell_type": "markdown",
   "id": "528893fb",
   "metadata": {},
   "source": [
    "### Retrieving a vectorstore in PG | PG内でベクターストアを取得する",
    ""
   ]
  },
  {
   "cell_type": "code",
   "execution_count": 15,
   "id": "b6162b1c",
   "metadata": {},
   "outputs": [],
   "source": [
    "store = PGEmbedding(\n",
    "    connection_string=connection_string,\n",
    "    embedding_function=embeddings,\n",
    "    collection_name=collection_name,\n",
    ")\n",
    "\n",
    "retriever = store.as_retriever()"
   ]
  },
  {
   "cell_type": "code",
   "execution_count": 16,
   "id": "1a5fedb1",
   "metadata": {},
   "outputs": [
    {
     "data": {
      "text/plain": [
       "VectorStoreRetriever(vectorstore=<langchain.vectorstores.pghnsw.HNSWVectoreStore object at 0x121d3c8b0>, search_type='similarity', search_kwargs={})"
      ]
     },
     "execution_count": 16,
     "metadata": {},
     "output_type": "execute_result"
    }
   ],
   "source": [
    "retriever"
   ]
  },
  {
   "cell_type": "code",
   "execution_count": 17,
   "id": "0cefc938",
   "metadata": {},
   "outputs": [],
   "source": [
    "db1 = PGEmbedding.from_existing_index(\n",
    "    embedding=embeddings,\n",
    "    collection_name=collection_name,\n",
    "    pre_delete_collection=False,\n",
    "    connection_string=connection_string,\n",
    ")\n",
    "\n",
    "query = \"What did the president say about Ketanji Brown Jackson\"\n",
    "docs_with_score: List[Tuple[Document, float]] = db1.similarity_search_with_score(query)"
   ]
  },
  {
   "cell_type": "code",
   "execution_count": null,
   "id": "85cde495",
   "metadata": {},
   "outputs": [],
   "source": [
    "for doc, score in docs_with_score:\n",
    "    print(\"-\" * 80)\n",
    "    print(\"Score: \", score)\n",
    "    print(doc.page_content)\n",
    "    print(\"-\" * 80)"
   ]
  }
 ],
 "metadata": {
  "kernelspec": {
   "display_name": "Python 3 (ipykernel)",
   "language": "python",
   "name": "python3"
  },
  "language_info": {
   "codemirror_mode": {
    "name": "ipython",
    "version": 3
   },
   "file_extension": ".py",
   "mimetype": "text/x-python",
   "name": "python",
   "nbconvert_exporter": "python",
   "pygments_lexer": "ipython3",
   "version": "3.10.12"
  }
 },
 "nbformat": 4,
 "nbformat_minor": 5
}