{
 "cells": [
  {
   "attachments": {},
   "cell_type": "markdown",
   "id": "13afcae7",
   "metadata": {},
   "source": [
    "# Timescale Vector (Postgres) self-querying | Timescale Vector（Postgres）自己問い合わせ",
    "",
    "[Timescale Vector](https://www.timescale.com/ai)はAIアプリケーション向けのPostgreSQL++です。これにより、`PostgreSQL`で数十億のベクトル埋め込みを効率的に保存およびクエリすることが可能です。",
    "",
    "> [Timescale Vector](https://www.timescale.com/ai) is PostgreSQL++ for AI applications. It enables you to efficiently store and query billions of vector embeddings in `PostgreSQL`.",
    "",
    "このノートブックでは、Postgresベクターデータベース（`TimescaleVector`）を使用してセルフクエリを実行する方法を示しています。ノートブックでは、TimescaleVectorベクターストアをラップした`SelfQueryRetriever`のデモを行います。",
    "",
    "> This notebook shows how to use the Postgres vector database (`TimescaleVector`) to perform self-querying. In the notebook we'll demo the `SelfQueryRetriever` wrapped around a TimescaleVector vector store.",
    "",
    "## What is Timescale Vector? | Timescale Vectorとは何ですか？",
    "",
    "**[Timescale Vector](https://www.timescale.com/ai)は、AIアプリケーション向けのPostgreSQL++です。**",
    "",
    "> **[Timescale Vector](https://www.timescale.com/ai) is PostgreSQL++ for AI applications.**",
    "",
    "`PostgreSQL`で数百万のベクトル埋め込みを効率的に保存し、クエリすることができるTimescale Vectorを紹介します。",
    "",
    "> Timescale Vector enables you to efficiently store and query millions of vector embeddings in `PostgreSQL`.",
    "",
    "* `pgvector`をDiskANNにインスパイアされたインデックス作成アルゴリズムを通じて、10億以上のベクトルに対するより高速で正確な類似性検索機能を強化します。",
    "  > Enhances `pgvector` with faster and more accurate similarity search on 1B+ vectors via DiskANN inspired indexing algorithm.",
    "* 自動的な時間ベースのパーティショニングとインデックス作成により、高速な時間ベースのベクトル検索を可能にします。",
    "  > Enables fast time-based vector search via automatic time-based partitioning and indexing.",
    "* ベクトルの埋め込みと関連データを問い合わせるための、馴染みのあるSQLインターフェースを提供します。",
    "  > Provides a familiar SQL interface for querying vector embeddings and relational data.",
    "",
    "Timescale Vectorは、POCから本番環境まであなたと共にスケールするAI用クラウドPostgreSQLです。",
    "",
    "> Timescale Vector is cloud PostgreSQL for AI that scales with you from POC to production:",
    "",
    "* リレーショナルメタデータ、ベクトル埋め込み、時系列データを一つのデータベースに保存することで、操作を簡素化します。",
    "  > Simplifies operations by enabling you to store relational metadata, vector embeddings, and time-series data in a single database.",
    "* 堅牢なPostgreSQLの基盤の恩恵を享受し、ストリーミングバックアップやレプリケーション、高可用性、行レベルのセキュリティといったエンタープライズグレードの機能を備えています。",
    "  > Benefits from rock-solid PostgreSQL foundation with enterprise-grade feature liked streaming backups and replication, high-availability and row-level security.",
    "* エンタープライズグレードのセキュリティとコンプライアンスにより、安心してご利用いただける体験を実現します。",
    "  > Enables a worry-free experience with enterprise-grade security and compliance.",
    "",
    "## How to access Timescale Vector | Timescale Vectorにアクセスする方法",
    "",
    "Timescale Vectorは、クラウドPostgreSQLプラットフォームである[Timescale](https://www.timescale.com/ai)で利用可能です。（現時点では自己ホスト型のバージョンはありません。）",
    "",
    "> Timescale Vector is available on [Timescale](https://www.timescale.com/ai), the cloud PostgreSQL platform. (There is no self-hosted version at this time.)",
    "",
    "LangChainのユーザーは、Timescale Vectorの90日間の無料トライアルを利用できます。",
    "",
    "> LangChain users get a 90-day free trial for Timescale Vector.",
    "",
    "* 始めるには、Timescaleに[サインアップ](https://console.cloud.timescale.com/signup?utm_campaign=vectorlaunch\\&utm_source=langchain\\&utm_medium=referral)して、新しいデータベースを作成し、このノートブックに従って進めてください！",
    "  > To get started, [signup](https://console.cloud.timescale.com/signup?utm_campaign=vectorlaunch\\&utm_source=langchain\\&utm_medium=referral) to Timescale, create a new database and follow this notebook!",
    "* 詳細とパフォーマンスベンチマークについては、[Timescale Vectorの解説ブログ](https://www.timescale.com/blog/how-we-made-postgresql-the-best-vector-database/?utm_campaign=vectorlaunch\\&utm_source=langchain\\&utm_medium=referral)をご覧ください。",
    "  > See the [Timescale Vector explainer blog](https://www.timescale.com/blog/how-we-made-postgresql-the-best-vector-database/?utm_campaign=vectorlaunch\\&utm_source=langchain\\&utm_medium=referral) for more details and performance benchmarks.",
    "* PythonでTimescale Vectorを使用する詳細については、[インストール手順](https://github.com/timescale/python-vector)をご覧ください。",
    "  > See the [installation instructions](https://github.com/timescale/python-vector) for more details on using Timescale Vector in python.",
    ""
   ]
  },
  {
   "attachments": {},
   "cell_type": "markdown",
   "id": "68e75fb9",
   "metadata": {},
   "source": [
    "## Creating a TimescaleVector vectorstore | TimescaleVectorベクトルストアの作成",
    "",
    "まず、Timescale Vector vectorstoreを作成し、それにいくつかのデータを投入します。映画の要約を含む小さなデモ文書セットを用意しました。",
    "",
    "> First we'll want to create a Timescale Vector vectorstore and seed it with some data. We've created a small demo set of documents that contain summaries of movies.",
    "",
    "注意：self-query retrieverを使用するには、`lark`がインストールされている必要があります（`pip install lark`でインストールできます）。また、`timescale-vector`パッケージも必要です。",
    "",
    "> NOTE: The self-query retriever requires you to have `lark` installed (`pip install lark`). We also need the `timescale-vector` package.",
    ""
   ]
  },
  {
   "cell_type": "code",
   "execution_count": 1,
   "id": "63a8af5b",
   "metadata": {
    "tags": []
   },
   "outputs": [],
   "source": [
    "#!pip install lark\n"
   ]
  },
  {
   "cell_type": "code",
   "execution_count": 2,
   "id": "22431060-52c4-48a7-a97b-9f542b8b0928",
   "metadata": {
    "tags": []
   },
   "outputs": [],
   "source": [
    "#!pip install timescale-vector\n"
   ]
  },
  {
   "attachments": {},
   "cell_type": "markdown",
   "id": "83811610-7df3-4ede-b268-68a6a83ba9e2",
   "metadata": {},
   "source": [
    "この例では、`OpenAIEmbeddings`を使用するので、あなたのOpenAI APIキーを読み込みましょう。",
    "",
    "> In this example, we'll use `OpenAIEmbeddings`, so let's load your OpenAI API key.",
    ""
   ]
  },
  {
   "cell_type": "code",
   "execution_count": 1,
   "id": "dd01b61b-7d32-4a55-85d6-b2d2d4f18840",
   "metadata": {
    "tags": []
   },
   "outputs": [],
   "source": [
    "# Get openAI api key by reading local .env file\n",
    "# The .env file should contain a line starting with `OPENAI_API_KEY=sk-`\n",
    "import os\n",
    "\n",
    "from dotenv import find_dotenv, load_dotenv\n",
    "\n",
    "_ = load_dotenv(find_dotenv())\n",
    "\n",
    "OPENAI_API_KEY = os.environ[\"OPENAI_API_KEY\"]\n",
    "# Alternatively, use getpass to enter the key in a prompt\n",
    "# import os\n",
    "# import getpass\n",
    "# os.environ[\"OPENAI_API_KEY\"] = getpass.getpass(\"OpenAI API Key:\")"
   ]
  },
  {
   "attachments": {},
   "cell_type": "markdown",
   "id": "766e9c4b",
   "metadata": {},
   "source": [
    "PostgreSQLデータベースに接続するには、新しいデータベースを作成した後にダウンロードしたチートシートまたは`.env`ファイルで見つけることができるサービスURIが必要です。",
    "",
    "> To connect to your PostgreSQL database, you'll need your service URI, which can be found in the cheatsheet or `.env` file you downloaded after creating a new database.",
    "",
    "まだの方は、[Timescaleにサインアップ](https://console.cloud.timescale.com/signup?utm_campaign=vectorlaunch\\&utm_source=langchain\\&utm_medium=referral)して、新しいデータベースを作成してください。",
    "",
    "> If you haven't already, [signup for Timescale](https://console.cloud.timescale.com/signup?utm_campaign=vectorlaunch\\&utm_source=langchain\\&utm_medium=referral), and create a new database.",
    "",
    "URIは次のようになります：`postgres://tsdbadmin:<password>@<id>.tsdb.cloud.timescale.com:<port>/tsdb?sslmode=require`",
    "",
    "> The URI will look something like this: `postgres://tsdbadmin:<password>@<id>.tsdb.cloud.timescale.com:<port>/tsdb?sslmode=require`",
    ""
   ]
  },
  {
   "cell_type": "code",
   "execution_count": 2,
   "id": "6bd6877e",
   "metadata": {},
   "outputs": [],
   "source": [
    "# Get the service url by reading local .env file\n",
    "# The .env file should contain a line starting with `TIMESCALE_SERVICE_URL=postgresql://`\n",
    "_ = load_dotenv(find_dotenv())\n",
    "TIMESCALE_SERVICE_URL = os.environ[\"TIMESCALE_SERVICE_URL\"]\n",
    "\n",
    "# Alternatively, use getpass to enter the key in a prompt\n",
    "# import os\n",
    "# import getpass\n",
    "# TIMESCALE_SERVICE_URL = getpass.getpass(\"Timescale Service URL:\")"
   ]
  },
  {
   "cell_type": "code",
   "execution_count": 3,
   "id": "cb4a5787",
   "metadata": {
    "tags": []
   },
   "outputs": [],
   "source": [
    "from langchain.embeddings.openai import OpenAIEmbeddings\n",
    "from langchain.schema import Document\n",
    "from langchain.vectorstores.timescalevector import TimescaleVector\n",
    "\n",
    "embeddings = OpenAIEmbeddings()"
   ]
  },
  {
   "attachments": {},
   "cell_type": "markdown",
   "id": "a4f863f5",
   "metadata": {},
   "source": [
    "こちらは、このデモで使用するサンプルドキュメントです。データは映画に関するもので、特定の映画についての情報が含まれたコンテンツとメタデータのフィールドがあります。",
    "",
    "> Here's the sample documents we'll use for this demo. The data is about movies, and has both content and metadata fields with information about particular movie.",
    ""
   ]
  },
  {
   "cell_type": "code",
   "execution_count": 4,
   "id": "bcbe04d9",
   "metadata": {
    "tags": []
   },
   "outputs": [],
   "source": [
    "docs = [\n",
    "    Document(\n",
    "        page_content=\"A bunch of scientists bring back dinosaurs and mayhem breaks loose\",\n",
    "        metadata={\"year\": 1993, \"rating\": 7.7, \"genre\": \"science fiction\"},\n",
    "    ),\n",
    "    Document(\n",
    "        page_content=\"Leo DiCaprio gets lost in a dream within a dream within a dream within a ...\",\n",
    "        metadata={\"year\": 2010, \"director\": \"Christopher Nolan\", \"rating\": 8.2},\n",
    "    ),\n",
    "    Document(\n",
    "        page_content=\"A psychologist / detective gets lost in a series of dreams within dreams within dreams and Inception reused the idea\",\n",
    "        metadata={\"year\": 2006, \"director\": \"Satoshi Kon\", \"rating\": 8.6},\n",
    "    ),\n",
    "    Document(\n",
    "        page_content=\"A bunch of normal-sized women are supremely wholesome and some men pine after them\",\n",
    "        metadata={\"year\": 2019, \"director\": \"Greta Gerwig\", \"rating\": 8.3},\n",
    "    ),\n",
    "    Document(\n",
    "        page_content=\"Toys come alive and have a blast doing so\",\n",
    "        metadata={\"year\": 1995, \"genre\": \"animated\"},\n",
    "    ),\n",
    "    Document(\n",
    "        page_content=\"Three men walk into the Zone, three men walk out of the Zone\",\n",
    "        metadata={\n",
    "            \"year\": 1979,\n",
    "            \"director\": \"Andrei Tarkovsky\",\n",
    "            \"genre\": \"science fiction\",\n",
    "            \"rating\": 9.9,\n",
    "        },\n",
    "    ),\n",
    "]"
   ]
  },
  {
   "attachments": {},
   "cell_type": "markdown",
   "id": "7d0d771e",
   "metadata": {},
   "source": [
    "最後に、Timescale Vector vectorstoreを作成しましょう。コレクション名は、ドキュメントが保存されるPostgreSQLテーブルの名前になりますので、この点に注意してください。",
    "",
    "> Finally, we'll create our Timescale Vector vectorstore. Note that the collection name will be the name of the PostgreSQL table in which the documents are stored in.",
    ""
   ]
  },
  {
   "cell_type": "code",
   "execution_count": 5,
   "id": "2428d1ba",
   "metadata": {},
   "outputs": [],
   "source": [
    "COLLECTION_NAME = \"langchain_self_query_demo\"\n",
    "vectorstore = TimescaleVector.from_documents(\n",
    "    embedding=embeddings,\n",
    "    documents=docs,\n",
    "    collection_name=COLLECTION_NAME,\n",
    "    service_url=TIMESCALE_SERVICE_URL,\n",
    ")"
   ]
  },
  {
   "attachments": {},
   "cell_type": "markdown",
   "id": "5ecaab6d",
   "metadata": {},
   "source": [
    "## Creating our self-querying retriever | 自己問い合わせ型リトリーバーの作成",
    "",
    "これで、私たちのリトリーバーをインスタンス化することができます。これを行うためには、ドキュメントがサポートしているメタデータフィールドに関する情報と、ドキュメント内容の簡潔な説明を事前に提供する必要があります。",
    "",
    "> Now we can instantiate our retriever. To do this we'll need to provide some information upfront about the metadata fields that our documents support and a short description of the document contents.",
    ""
   ]
  },
  {
   "cell_type": "code",
   "execution_count": 14,
   "id": "86e34dbf",
   "metadata": {
    "tags": []
   },
   "outputs": [],
   "source": [
    "from langchain.chains.query_constructor.base import AttributeInfo\n",
    "from langchain.llms import OpenAI\n",
    "from langchain.retrievers.self_query.base import SelfQueryRetriever\n",
    "\n",
    "# Give LLM info about the metadata fields\n",
    "metadata_field_info = [\n",
    "    AttributeInfo(\n",
    "        name=\"genre\",\n",
    "        description=\"The genre of the movie\",\n",
    "        type=\"string or list[string]\",\n",
    "    ),\n",
    "    AttributeInfo(\n",
    "        name=\"year\",\n",
    "        description=\"The year the movie was released\",\n",
    "        type=\"integer\",\n",
    "    ),\n",
    "    AttributeInfo(\n",
    "        name=\"director\",\n",
    "        description=\"The name of the movie director\",\n",
    "        type=\"string\",\n",
    "    ),\n",
    "    AttributeInfo(\n",
    "        name=\"rating\", description=\"A 1-10 rating for the movie\", type=\"float\"\n",
    "    ),\n",
    "]\n",
    "document_content_description = \"Brief summary of a movie\"\n",
    "\n",
    "# Instantiate the self-query retriever from an LLM\n",
    "llm = OpenAI(temperature=0)\n",
    "retriever = SelfQueryRetriever.from_llm(\n",
    "    llm, vectorstore, document_content_description, metadata_field_info, verbose=True\n",
    ")"
   ]
  },
  {
   "attachments": {},
   "cell_type": "markdown",
   "id": "ea9df8d4",
   "metadata": {},
   "source": [
    "## Self Querying Retrieval with Timescale Vector | タイムスケールベクトルを用いた自己問い合わせ検索",
    "",
    "さあ、私たちのリトリーバーを実際に使ってみましょう！",
    "",
    "> And now we can try actually using our retriever!",
    "",
    "以下のクエリを実行し、自然言語でクエリ、フィルター、複合フィルター（ANDやORを使ったフィルター）をどのように指定できるかに注目してください。そして、self-query retrieverがそのクエリをSQLに変換し、Timescale Vector（Postgres）のvectorstoreで検索を実施する様子を観察してください。",
    "",
    "> Run the queries below and note how you can specify a query, filter, composite filter (filters with AND, OR) in natural language and the self-query retriever will translate that query into SQL and perform the search on the Timescale Vector (Postgres) vectorstore.",
    "",
    "これは、セルフクエリリトリーバーの力を示しています。あなたやユーザーが直接SQLを書かなくても、ベクターストア上で複雑な検索を実行することができます！",
    "",
    "> This illustrates the power of the self-query retriever. You can use it to perform complex searches over your vectorstore without you or your users having to write any SQL directly!",
    ""
   ]
  },
  {
   "cell_type": "code",
   "execution_count": 15,
   "id": "38a126e9",
   "metadata": {},
   "outputs": [
    {
     "name": "stderr",
     "output_type": "stream",
     "text": [
      "/Users/avtharsewrathan/sideprojects2023/timescaleai/tsv-langchain/langchain/libs/langchain/langchain/chains/llm.py:275: UserWarning: The predict_and_parse method is deprecated, instead pass an output parser directly to LLMChain.\n",
      "  warnings.warn(\n"
     ]
    },
    {
     "name": "stdout",
     "output_type": "stream",
     "text": [
      "query='dinosaur' filter=None limit=None\n"
     ]
    },
    {
     "data": {
      "text/plain": [
       "[Document(page_content='A bunch of scientists bring back dinosaurs and mayhem breaks loose', metadata={'year': 1993, 'genre': 'science fiction', 'rating': 7.7}),\n",
       " Document(page_content='A bunch of scientists bring back dinosaurs and mayhem breaks loose', metadata={'year': 1993, 'genre': 'science fiction', 'rating': 7.7}),\n",
       " Document(page_content='Toys come alive and have a blast doing so', metadata={'year': 1995, 'genre': 'animated'}),\n",
       " Document(page_content='Toys come alive and have a blast doing so', metadata={'year': 1995, 'genre': 'animated'})]"
      ]
     },
     "execution_count": 15,
     "metadata": {},
     "output_type": "execute_result"
    }
   ],
   "source": [
    "# This example only specifies a relevant query\n",
    "retriever.get_relevant_documents(\"What are some movies about dinosaurs\")"
   ]
  },
  {
   "cell_type": "code",
   "execution_count": 16,
   "id": "fc3f1e6e",
   "metadata": {},
   "outputs": [
    {
     "name": "stdout",
     "output_type": "stream",
     "text": [
      "query=' ' filter=Comparison(comparator=<Comparator.GT: 'gt'>, attribute='rating', value=8.5) limit=None\n"
     ]
    },
    {
     "data": {
      "text/plain": [
       "[Document(page_content='Three men walk into the Zone, three men walk out of the Zone', metadata={'year': 1979, 'genre': 'science fiction', 'rating': 9.9, 'director': 'Andrei Tarkovsky'}),\n",
       " Document(page_content='Three men walk into the Zone, three men walk out of the Zone', metadata={'year': 1979, 'genre': 'science fiction', 'rating': 9.9, 'director': 'Andrei Tarkovsky'}),\n",
       " Document(page_content='A psychologist / detective gets lost in a series of dreams within dreams within dreams and Inception reused the idea', metadata={'year': 2006, 'rating': 8.6, 'director': 'Satoshi Kon'}),\n",
       " Document(page_content='A psychologist / detective gets lost in a series of dreams within dreams within dreams and Inception reused the idea', metadata={'year': 2006, 'rating': 8.6, 'director': 'Satoshi Kon'})]"
      ]
     },
     "execution_count": 16,
     "metadata": {},
     "output_type": "execute_result"
    }
   ],
   "source": [
    "# This example only specifies a filter\n",
    "retriever.get_relevant_documents(\"I want to watch a movie rated higher than 8.5\")"
   ]
  },
  {
   "cell_type": "code",
   "execution_count": 17,
   "id": "b19d4da0",
   "metadata": {},
   "outputs": [
    {
     "name": "stdout",
     "output_type": "stream",
     "text": [
      "query='women' filter=Comparison(comparator=<Comparator.EQ: 'eq'>, attribute='director', value='Greta Gerwig') limit=None\n"
     ]
    },
    {
     "data": {
      "text/plain": [
       "[Document(page_content='A bunch of normal-sized women are supremely wholesome and some men pine after them', metadata={'year': 2019, 'rating': 8.3, 'director': 'Greta Gerwig'}),\n",
       " Document(page_content='A bunch of normal-sized women are supremely wholesome and some men pine after them', metadata={'year': 2019, 'rating': 8.3, 'director': 'Greta Gerwig'})]"
      ]
     },
     "execution_count": 17,
     "metadata": {},
     "output_type": "execute_result"
    }
   ],
   "source": [
    "# This example specifies a query and a filter\n",
    "retriever.get_relevant_documents(\"Has Greta Gerwig directed any movies about women\")"
   ]
  },
  {
   "cell_type": "code",
   "execution_count": 18,
   "id": "f900e40e",
   "metadata": {},
   "outputs": [
    {
     "name": "stdout",
     "output_type": "stream",
     "text": [
      "query=' ' filter=Operation(operator=<Operator.AND: 'and'>, arguments=[Comparison(comparator=<Comparator.GTE: 'gte'>, attribute='rating', value=8.5), Comparison(comparator=<Comparator.EQ: 'eq'>, attribute='genre', value='science fiction')]) limit=None\n"
     ]
    },
    {
     "data": {
      "text/plain": [
       "[Document(page_content='Three men walk into the Zone, three men walk out of the Zone', metadata={'year': 1979, 'genre': 'science fiction', 'rating': 9.9, 'director': 'Andrei Tarkovsky'}),\n",
       " Document(page_content='Three men walk into the Zone, three men walk out of the Zone', metadata={'year': 1979, 'genre': 'science fiction', 'rating': 9.9, 'director': 'Andrei Tarkovsky'})]"
      ]
     },
     "execution_count": 18,
     "metadata": {},
     "output_type": "execute_result"
    }
   ],
   "source": [
    "# This example specifies a composite filter\n",
    "retriever.get_relevant_documents(\n",
    "    \"What's a highly rated (above 8.5) science fiction film?\"\n",
    ")"
   ]
  },
  {
   "cell_type": "code",
   "execution_count": 11,
   "id": "12a51522",
   "metadata": {},
   "outputs": [
    {
     "name": "stdout",
     "output_type": "stream",
     "text": [
      "query='toys' filter=Operation(operator=<Operator.AND: 'and'>, arguments=[Comparison(comparator=<Comparator.GT: 'gt'>, attribute='year', value=1990), Comparison(comparator=<Comparator.LT: 'lt'>, attribute='year', value=2005), Comparison(comparator=<Comparator.EQ: 'eq'>, attribute='genre', value='animated')]) limit=None\n"
     ]
    },
    {
     "data": {
      "text/plain": [
       "[Document(page_content='Toys come alive and have a blast doing so', metadata={'year': 1995, 'genre': 'animated'})]"
      ]
     },
     "execution_count": 11,
     "metadata": {},
     "output_type": "execute_result"
    }
   ],
   "source": [
    "# This example specifies a query and composite filter\n",
    "retriever.get_relevant_documents(\n",
    "    \"What's a movie after 1990 but before 2005 that's all about toys, and preferably is animated\"\n",
    ")"
   ]
  },
  {
   "attachments": {},
   "cell_type": "markdown",
   "id": "39bd1de1-b9fe-4a98-89da-58d8a7a6ae51",
   "metadata": {},
   "source": [
    "### Filter k | フィルター k",
    "",
    "self query retrieverを使用して、取得するドキュメントの数`k`を指定することもできます。",
    "",
    "> We can also use the self query retriever to specify `k`: the number of documents to fetch.",
    "",
    "これを行うには、コンストラクタに `enable_limit=True` を渡すことで実現できます。",
    "",
    "> We can do this by passing `enable_limit=True` to the constructor.",
    ""
   ]
  },
  {
   "cell_type": "code",
   "execution_count": 19,
   "id": "bff36b88-b506-4877-9c63-e5a1a8d78e64",
   "metadata": {
    "tags": []
   },
   "outputs": [],
   "source": [
    "retriever = SelfQueryRetriever.from_llm(\n",
    "    llm,\n",
    "    vectorstore,\n",
    "    document_content_description,\n",
    "    metadata_field_info,\n",
    "    enable_limit=True,\n",
    "    verbose=True,\n",
    ")"
   ]
  },
  {
   "cell_type": "code",
   "execution_count": 22,
   "id": "2758d229-4f97-499c-819f-888acaf8ee10",
   "metadata": {
    "tags": []
   },
   "outputs": [
    {
     "name": "stdout",
     "output_type": "stream",
     "text": [
      "query='dinosaur' filter=None limit=2\n"
     ]
    },
    {
     "data": {
      "text/plain": [
       "[Document(page_content='A bunch of scientists bring back dinosaurs and mayhem breaks loose', metadata={'year': 1993, 'genre': 'science fiction', 'rating': 7.7}),\n",
       " Document(page_content='A bunch of scientists bring back dinosaurs and mayhem breaks loose', metadata={'year': 1993, 'genre': 'science fiction', 'rating': 7.7})]"
      ]
     },
     "execution_count": 22,
     "metadata": {},
     "output_type": "execute_result"
    }
   ],
   "source": [
    "# This example specifies a query with a LIMIT value\n",
    "retriever.get_relevant_documents(\"what are two movies about dinosaurs\")"
   ]
  }
 ],
 "metadata": {
  "kernelspec": {
   "display_name": "Python 3 (ipykernel)",
   "language": "python",
   "name": "python3"
  }
 },
 "nbformat": 4,
 "nbformat_minor": 5
}