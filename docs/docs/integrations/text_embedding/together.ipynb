{
 "cells": [
  {
   "cell_type": "raw",
   "id": "afaf8039",
   "metadata": {},
   "source": [
    "---\n",
    "sidebar_label: Together\n",
    "---"
   ]
  },
  {
   "cell_type": "markdown",
   "id": "e49f1e0d",
   "metadata": {},
   "source": [
    "# TogetherEmbeddings | TogetherEmbeddings",
    "",
    "このノートブックでは、Together埋め込みモデルを使い始める方法について説明しています。",
    "",
    "> This notebook covers how to get started with Together embedding models.",
    "",
    "## Installation | インストール",
    ""
   ]
  },
  {
   "cell_type": "code",
   "execution_count": null,
   "id": "4c3bef91",
   "metadata": {},
   "outputs": [],
   "source": [
    "# install package\n",
    "!pip install -U langchain-together"
   ]
  },
  {
   "cell_type": "markdown",
   "id": "2b4f3e15",
   "metadata": {},
   "source": [
    "## Environment Setup | 環境設定",
    "",
    "以下の環境変数を設定してください：",
    "",
    "> Make sure to set the following environment variables:",
    "",
    "* `TOGETHER_API_KEY`",
    "  > `TOGETHER_API_KEY`",
    "",
    "## Usage | 使用方法",
    ""
   ]
  },
  {
   "cell_type": "code",
   "execution_count": null,
   "id": "62e0dbc3",
   "metadata": {
    "tags": []
   },
   "outputs": [],
   "source": [
    "from langchain_together.embeddings import TogetherEmbeddings\n",
    "\n",
    "embeddings = TogetherEmbeddings(model=\"togethercomputer/m2-bert-80M-8k-retrieval\")"
   ]
  },
  {
   "cell_type": "code",
   "execution_count": null,
   "id": "12fcfb4b",
   "metadata": {},
   "outputs": [],
   "source": [
    "embeddings.embed_query(\"My query to look up\")"
   ]
  },
  {
   "cell_type": "code",
   "execution_count": null,
   "id": "1f2e6104",
   "metadata": {},
   "outputs": [],
   "source": [
    "embeddings.embed_documents(\n",
    "    [\"This is a content of the document\", \"This is another document\"]\n",
    ")"
   ]
  },
  {
   "cell_type": "code",
   "execution_count": null,
   "id": "46739f68",
   "metadata": {},
   "outputs": [],
   "source": [
    "# async embed query\n",
    "await embeddings.aembed_query(\"My query to look up\")"
   ]
  },
  {
   "cell_type": "code",
   "execution_count": null,
   "id": "e48632ea",
   "metadata": {},
   "outputs": [],
   "source": [
    "# async embed documents\n",
    "await embeddings.aembed_documents(\n",
    "    [\"This is a content of the document\", \"This is another document\"]\n",
    ")"
   ]
  }
 ],
 "metadata": {
  "kernelspec": {
   "display_name": "Python 3 (ipykernel)",
   "language": "python",
   "name": "python3"
  },
  "language_info": {
   "codemirror_mode": {
    "name": "ipython",
    "version": 3
   },
   "file_extension": ".py",
   "mimetype": "text/x-python",
   "name": "python",
   "nbconvert_exporter": "python",
   "pygments_lexer": "ipython3",
   "version": "3.10.5"
  }
 },
 "nbformat": 4,
 "nbformat_minor": 5
}