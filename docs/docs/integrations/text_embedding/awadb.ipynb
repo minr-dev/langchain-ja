{
 "cells": [
  {
   "cell_type": "markdown",
   "id": "b14a24db",
   "metadata": {},
   "source": [
    "# AwaDB | AwaDB",
    "",
    "> [AwaDB](https://github.com/awa-ai/awadb)は、LLMアプリケーションで使用される埋め込みベクトルの検索と保存のためのAIネイティブデータベースです。",
    ">",
    "> > [AwaDB](https://github.com/awa-ai/awadb) is an AI Native database for the search and storage of embedding vectors used by LLM Applications.",
    "",
    "このノートブックでは、LangChainで`AwaEmbeddings`を使用する方法について説明しています。",
    "",
    "> This notebook explains how to use `AwaEmbeddings` in LangChain.",
    ""
   ]
  },
  {
   "cell_type": "code",
   "execution_count": 1,
   "id": "0ab948fc",
   "metadata": {},
   "outputs": [],
   "source": [
    "# pip install awadb"
   ]
  },
  {
   "cell_type": "markdown",
   "id": "67c637ca",
   "metadata": {},
   "source": [
    "## import the library | ライブラリをインポートする",
    ""
   ]
  },
  {
   "cell_type": "code",
   "execution_count": 2,
   "id": "5709b030",
   "metadata": {},
   "outputs": [],
   "source": [
    "from langchain.embeddings import AwaEmbeddings"
   ]
  },
  {
   "cell_type": "code",
   "execution_count": 3,
   "id": "1756b1ba",
   "metadata": {},
   "outputs": [],
   "source": [
    "Embedding = AwaEmbeddings()"
   ]
  },
  {
   "cell_type": "markdown",
   "id": "4a2a098d",
   "metadata": {},
   "source": [
    "# Set embedding model | 埋め込みモデルを設定する",
    "",
    "ユーザーは`Embedding.set_model()`を使用して埋め込みモデルを指定できます。この関数の入力はモデル名を表す文字列です。現在サポートされているモデルのリストは[こちら](https://github.com/awa-ai/awadb)から入手できます。",
    "",
    "> Users can use `Embedding.set_model()` to specify the embedding model. \\",
    "> The input of this function is a string which represents the model's name. \\",
    "> The list of currently supported models can be obtained [here](https://github.com/awa-ai/awadb) \\ \\\\",
    "",
    "デフォルトモデルは `all-mpnet-base-v2` で、設定を行わずに使用することができます。",
    "",
    "> The **default model** is `all-mpnet-base-v2`, it can be used without setting.",
    ""
   ]
  },
  {
   "cell_type": "code",
   "execution_count": 4,
   "id": "584b9af5",
   "metadata": {},
   "outputs": [],
   "source": [
    "text = \"our embedding test\"\n",
    "\n",
    "Embedding.set_model(\"all-mpnet-base-v2\")"
   ]
  },
  {
   "cell_type": "code",
   "execution_count": 5,
   "id": "be18b873",
   "metadata": {},
   "outputs": [],
   "source": [
    "res_query = Embedding.embed_query(\"The test information\")\n",
    "res_document = Embedding.embed_documents([\"test1\", \"another test\"])"
   ]
  }
 ],
 "metadata": {
  "kernelspec": {
   "display_name": "Python 3 (ipykernel)",
   "language": "python",
   "name": "python3"
  },
  "language_info": {
   "codemirror_mode": {
    "name": "ipython",
    "version": 3
   },
   "file_extension": ".py",
   "mimetype": "text/x-python",
   "name": "python",
   "nbconvert_exporter": "python",
   "pygments_lexer": "ipython3",
   "version": "3.10.12"
  }
 },
 "nbformat": 4,
 "nbformat_minor": 5
}