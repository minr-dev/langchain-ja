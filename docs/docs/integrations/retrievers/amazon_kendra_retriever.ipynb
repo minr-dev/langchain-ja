{
 "cells": [
  {
   "attachments": {},
   "cell_type": "markdown",
   "metadata": {},
   "source": [
    "# Amazon Kendra | Amazon Kendra\n",
    "\n",
    "> [Amazon Kendra](https://docs.aws.amazon.com/kendra/latest/dg/what-is-kendra.html)は、`Amazon Web Services` (`AWS`)が提供するインテリジェントな検索サービスです。高度な自然言語処理（NLP）と機械学習アルゴリズムを活用して、組織内のさまざまなデータソースを横断する強力な検索機能を提供します。`Kendra`は、ユーザーが必要な情報を迅速かつ正確に見つけることを支援し、生産性と意思決定の向上に貢献するように設計されています。\n",
    ">\n",
    "> > [Amazon Kendra](https://docs.aws.amazon.com/kendra/latest/dg/what-is-kendra.html) is an intelligent search service provided by `Amazon Web Services` (`AWS`). It utilizes advanced natural language processing (NLP) and machine learning algorithms to enable powerful search capabilities across various data sources within an organization. `Kendra` is designed to help users find the information they need quickly and accurately, improving productivity and decision-making.\n",
    "\n",
    "> `Kendra`を使用すると、ユーザーはドキュメント、FAQ、ナレッジベース、マニュアル、ウェブサイトなど、幅広いコンテンツタイプにわたって検索することができます。複数の言語に対応しており、複雑なクエリ、同義語、文脈的な意味を理解することで、非常に関連性の高い検索結果を提供します。\n",
    ">\n",
    "> > With `Kendra`, users can search across a wide range of content types, including documents, FAQs, knowledge bases, manuals, and websites. It supports multiple languages and can understand complex queries, synonyms, and contextual meanings to provide highly relevant search results.\n",
    "\n"
   ]
  },
  {
   "attachments": {},
   "cell_type": "markdown",
   "metadata": {},
   "source": [
    "## Using the Amazon Kendra Index Retriever | Amazon Kendra Index Retrieverの使用\n",
    "\n"
   ]
  },
  {
   "cell_type": "code",
   "execution_count": null,
   "metadata": {},
   "outputs": [],
   "source": [
    "%pip install boto3"
   ]
  },
  {
   "cell_type": "code",
   "execution_count": null,
   "metadata": {},
   "outputs": [],
   "source": [
    "from langchain.retrievers import AmazonKendraRetriever"
   ]
  },
  {
   "attachments": {},
   "cell_type": "markdown",
   "metadata": {},
   "source": [
    "新しいRetrieverを作成する\n",
    "\n",
    "> Create New Retriever\n",
    "\n"
   ]
  },
  {
   "cell_type": "code",
   "execution_count": null,
   "metadata": {},
   "outputs": [],
   "source": [
    "retriever = AmazonKendraRetriever(index_id=\"c0806df7-e76b-4bce-9b5c-d5582f6b1a03\")"
   ]
  },
  {
   "attachments": {},
   "cell_type": "markdown",
   "metadata": {},
   "source": [
    "これで、Kendraインデックスから取得したドキュメントを使用できます\n",
    "\n",
    "> Now you can use retrieved documents from Kendra index\n",
    "\n"
   ]
  },
  {
   "cell_type": "code",
   "execution_count": null,
   "metadata": {},
   "outputs": [],
   "source": [
    "retriever.get_relevant_documents(\"what is langchain\")"
   ]
  }
 ],
 "metadata": {
  "kernelspec": {
   "display_name": "Python 3 (ipykernel)",
   "language": "python",
   "name": "python3"
  },
  "language_info": {
   "codemirror_mode": {
    "name": "ipython",
    "version": 3
   },
   "file_extension": ".py",
   "mimetype": "text/x-python",
   "name": "python",
   "nbconvert_exporter": "python",
   "pygments_lexer": "ipython3",
   "version": "3.10.12"
  }
 },
 "nbformat": 4,
 "nbformat_minor": 4
}