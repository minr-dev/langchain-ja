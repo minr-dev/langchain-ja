{
 "cells": [
  {
   "cell_type": "markdown",
   "id": "683953b3",
   "metadata": {},
   "source": [
    "# Chroma | クロマ\n",
    "\n",
    "> [Chroma](https://docs.trychroma.com/getting-started)は、開発者の生産性と幸福に焦点を当てたAIネイティブのオープンソースベクターデータベースです。ChromaはApache 2.0ライセンスの下で提供されています。\n",
    ">\n",
    "> > [Chroma](https://docs.trychroma.com/getting-started) is a AI-native open-source vector database focused on developer productivity and happiness. Chroma is licensed under Apache 2.0.\n",
    "\n",
    "以下のコマンドでChromaをインストールしてください：\n",
    "\n",
    "> Install Chroma with:\n",
    "\n",
    "```sh\n",
    "pip install chromadb\n",
    "```\n",
    "\n",
    "Chromaは様々なモードで動作します。LangChainと統合された各モードの例については以下を参照してください。\n",
    "\n",
    "> Chroma runs in various modes. See below for examples of each integrated with LangChain.\n",
    "\n",
    "* `in-memory` - PythonスクリプトやJupyterノートブック内で\n",
    "\n",
    "  > `in-memory` - in a python script or jupyter notebook\n",
    "\n",
    "* `インメモリで永続化` - スクリプトやノートブック内で使用し、ディスクへの保存・読み込みを行います\n",
    "\n",
    "  > `in-memory with persistance` - in a script or notebook and save/load to disk\n",
    "\n",
    "* `dockerコンテナ`内 - ローカルマシン上で動作するサーバー、またはクラウド上で\n",
    "\n",
    "  > `in a docker container` - as a server running your local machine or in the cloud\n",
    "\n",
    "\n",
    "他のデータベースと同様に、以下の操作ができます：\n",
    "\n",
    "> Like any other database, you can:\n",
    "\n",
    "* .add\n",
    "\n",
    "  > `.add`\n",
    "\n",
    "* `get`メソッド\n",
    "\n",
    "  > `.get`\n",
    "\n",
    "* .update\n",
    "\n",
    "  > `.update`\n",
    "\n",
    "* `upsert`は、指定されたデータが存在する場合は更新し、存在しない場合は新規に挿入する操作を行います。\n",
    "\n",
    "  > `.upsert`\n",
    "\n",
    "* .delete\n",
    "\n",
    "  > `.delete`\n",
    "\n",
    "* `peek`メソッド\n",
    "\n",
    "  > `.peek`\n",
    "\n",
    "* そして、`.query` は類似性検索を実行します。\n",
    "\n",
    "  > and `.query` runs the similarity search.\n",
    "\n",
    "\n",
    "完全なドキュメントは[docs](https://docs.trychroma.com/reference/Collection)でご覧いただけます。これらのメソッドに直接アクセスするには、`._collection.method()`と入力してください。\n",
    "\n",
    "> View full docs at [docs](https://docs.trychroma.com/reference/Collection). To access these methods directly, you can do `._collection.method()`\n",
    "\n",
    "\n"
   ]
  },
  {
   "cell_type": "markdown",
   "id": "2b5ffbf8",
   "metadata": {},
   "source": [
    "## Basic Example | 基本的な例\n",
    "\n",
    "この基本的な例では、最新の一般教書演説をチャンクに分割し、オープンソースの埋め込みモデルを用いて埋め込み、それをChromaに読み込んでからクエリを実行します。\n",
    "\n",
    "> In this basic example, we take the most recent State of the Union Address, split it into chunks, embed it using an open-source embedding model, load it into Chroma, and then query it.\n",
    "\n",
    "\n"
   ]
  },
  {
   "cell_type": "code",
   "execution_count": 1,
   "id": "ae9fcf3e",
   "metadata": {},
   "outputs": [
    {
     "name": "stderr",
     "output_type": "stream",
     "text": [
      "/Users/jeff/.pyenv/versions/3.10.10/lib/python3.10/site-packages/tqdm/auto.py:21: TqdmWarning: IProgress not found. Please update jupyter and ipywidgets. See https://ipywidgets.readthedocs.io/en/stable/user_install.html\n",
      "  from .autonotebook import tqdm as notebook_tqdm\n"
     ]
    },
    {
     "name": "stdout",
     "output_type": "stream",
     "text": [
      "Tonight. I call on the Senate to: Pass the Freedom to Vote Act. Pass the John Lewis Voting Rights Act. And while you’re at it, pass the Disclose Act so Americans can know who is funding our elections. \n",
      "\n",
      "Tonight, I’d like to honor someone who has dedicated his life to serve this country: Justice Stephen Breyer—an Army veteran, Constitutional scholar, and retiring Justice of the United States Supreme Court. Justice Breyer, thank you for your service. \n",
      "\n",
      "One of the most serious constitutional responsibilities a President has is nominating someone to serve on the United States Supreme Court. \n",
      "\n",
      "And I did that 4 days ago, when I nominated Circuit Court of Appeals Judge Ketanji Brown Jackson. One of our nation’s top legal minds, who will continue Justice Breyer’s legacy of excellence.\n"
     ]
    }
   ],
   "source": [
    "# import\n",
    "from langchain.document_loaders import TextLoader\n",
    "from langchain.embeddings.sentence_transformer import SentenceTransformerEmbeddings\n",
    "from langchain.text_splitter import CharacterTextSplitter\n",
    "from langchain.vectorstores import Chroma\n",
    "\n",
    "# load the document and split it into chunks\n",
    "loader = TextLoader(\"../../modules/state_of_the_union.txt\")\n",
    "documents = loader.load()\n",
    "\n",
    "# split it into chunks\n",
    "text_splitter = CharacterTextSplitter(chunk_size=1000, chunk_overlap=0)\n",
    "docs = text_splitter.split_documents(documents)\n",
    "\n",
    "# create the open-source embedding function\n",
    "embedding_function = SentenceTransformerEmbeddings(model_name=\"all-MiniLM-L6-v2\")\n",
    "\n",
    "# load it into Chroma\n",
    "db = Chroma.from_documents(docs, embedding_function)\n",
    "\n",
    "# query it\n",
    "query = \"What did the president say about Ketanji Brown Jackson\"\n",
    "docs = db.similarity_search(query)\n",
    "\n",
    "# print results\n",
    "print(docs[0].page_content)"
   ]
  },
  {
   "cell_type": "markdown",
   "id": "5c9a11cc",
   "metadata": {},
   "source": [
    "## Basic Example (including saving to disk) | 基本的な例（ディスクへの保存を含む）\n",
    "\n",
    "前の例を拡張して、ディスクに保存したい場合は、Chromaクライアントを初期化して、データを保存したいディレクトリを渡すだけです。\n",
    "\n",
    "> Extending the previous example, if you want to save to disk, simply initialize the Chroma client and pass the directory where you want the data to be saved to.\n",
    "\n",
    "`注意`：Chromaはデータをディスクに自動的に保存するよう最善を尽くしていますが、複数のインメモリクライアントがお互いの作業を上書きする可能性があります。ベストプラクティスとして、ある特定のパスで一度に一つのクライアントだけが動作するようにしてください。\n",
    "\n",
    "> `Caution`: Chroma makes a best-effort to automatically save data to disk, however multiple in-memory clients can stomp each other's work. As a best practice, only have one client per path running at any given time.\n",
    "\n",
    "\n"
   ]
  },
  {
   "cell_type": "code",
   "execution_count": 2,
   "id": "49f9bd49",
   "metadata": {},
   "outputs": [
    {
     "name": "stdout",
     "output_type": "stream",
     "text": [
      "Tonight. I call on the Senate to: Pass the Freedom to Vote Act. Pass the John Lewis Voting Rights Act. And while you’re at it, pass the Disclose Act so Americans can know who is funding our elections. \n",
      "\n",
      "Tonight, I’d like to honor someone who has dedicated his life to serve this country: Justice Stephen Breyer—an Army veteran, Constitutional scholar, and retiring Justice of the United States Supreme Court. Justice Breyer, thank you for your service. \n",
      "\n",
      "One of the most serious constitutional responsibilities a President has is nominating someone to serve on the United States Supreme Court. \n",
      "\n",
      "And I did that 4 days ago, when I nominated Circuit Court of Appeals Judge Ketanji Brown Jackson. One of our nation’s top legal minds, who will continue Justice Breyer’s legacy of excellence.\n"
     ]
    }
   ],
   "source": [
    "# save to disk\n",
    "db2 = Chroma.from_documents(docs, embedding_function, persist_directory=\"./chroma_db\")\n",
    "docs = db2.similarity_search(query)\n",
    "\n",
    "# load from disk\n",
    "db3 = Chroma(persist_directory=\"./chroma_db\", embedding_function=embedding_function)\n",
    "docs = db3.similarity_search(query)\n",
    "print(docs[0].page_content)"
   ]
  },
  {
   "cell_type": "markdown",
   "id": "63318cc9",
   "metadata": {},
   "source": [
    "## Passing a Chroma Client into Langchain | LangchainにChroma Clientを渡す\n",
    "\n",
    "また、Chroma Clientを作成してLangChainに渡すこともできます。これは、基盤となるデータベースへのアクセスをより容易にしたい場合に特に便利です。\n",
    "\n",
    "> You can also create a Chroma Client and pass it to LangChain. This is particularly useful if you want easier access to the underlying database.\n",
    "\n",
    "また、LangChainに使用してほしいコレクション名を指定することもできます。\n",
    "\n",
    "> You can also specify the collection name that you want LangChain to use.\n",
    "\n",
    "\n"
   ]
  },
  {
   "cell_type": "code",
   "execution_count": 3,
   "id": "22f4a0ce",
   "metadata": {},
   "outputs": [
    {
     "name": "stderr",
     "output_type": "stream",
     "text": [
      "Add of existing embedding ID: 1\n",
      "Add of existing embedding ID: 2\n",
      "Add of existing embedding ID: 3\n",
      "Add of existing embedding ID: 1\n",
      "Add of existing embedding ID: 2\n",
      "Add of existing embedding ID: 3\n",
      "Add of existing embedding ID: 1\n",
      "Insert of existing embedding ID: 1\n",
      "Add of existing embedding ID: 2\n",
      "Insert of existing embedding ID: 2\n",
      "Add of existing embedding ID: 3\n",
      "Insert of existing embedding ID: 3\n"
     ]
    },
    {
     "name": "stdout",
     "output_type": "stream",
     "text": [
      "There are 3 in the collection\n"
     ]
    }
   ],
   "source": [
    "import chromadb\n",
    "\n",
    "persistent_client = chromadb.PersistentClient()\n",
    "collection = persistent_client.get_or_create_collection(\"collection_name\")\n",
    "collection.add(ids=[\"1\", \"2\", \"3\"], documents=[\"a\", \"b\", \"c\"])\n",
    "\n",
    "langchain_chroma = Chroma(\n",
    "    client=persistent_client,\n",
    "    collection_name=\"collection_name\",\n",
    "    embedding_function=embedding_function,\n",
    ")\n",
    "\n",
    "print(\"There are\", langchain_chroma._collection.count(), \"in the collection\")"
   ]
  },
  {
   "cell_type": "markdown",
   "id": "e9cf6d70",
   "metadata": {},
   "source": [
    "## Basic Example (using the Docker Container) | 基本的な例（Dockerコンテナの使用）\n",
    "\n",
    "また、Chroma Serverを別個のDockerコンテナで実行し、それに接続するクライアントを作成して、LangChainに渡すこともできます。\n",
    "\n",
    "> You can also run the Chroma Server in a Docker container separately, create a Client to connect to it, and then pass that to LangChain.\n",
    "\n",
    "Chromaは複数の`Collections`のドキュメントを扱う能力を持っていますが、LangChainインターフェースは一つのコレクションを期待しているため、コレクション名を指定する必要があります。LangChainが使用するデフォルトのコレクション名は「langchain」です。\n",
    "\n",
    "> Chroma has the ability to handle multiple `Collections` of documents, but the LangChain interface expects one, so we need to specify the collection name. The default collection name used by LangChain is \"langchain\".\n",
    "\n",
    "Dockerイメージをクローン、ビルド、そして実行する方法は以下の通りです：\n",
    "\n",
    "> Here is how to clone, build, and run the Docker Image:\n",
    "\n",
    "```sh\n",
    "git clone git@github.com:chroma-core/chroma.git\n",
    "```\n",
    "\n",
    "`docker-compose.yml` ファイルを編集し、`environment` の下に `ALLOW_RESET=TRUE` を追加してください\n",
    "\n",
    "> Edit the `docker-compose.yml` file and add `ALLOW_RESET=TRUE` under `environment`\n",
    "\n",
    "```yaml\n",
    "    ...\n",
    "    command: uvicorn chromadb.app:app --reload --workers 1 --host 0.0.0.0 --port 8000 --log-config log_config.yml\n",
    "    environment:\n",
    "      - IS_PERSISTENT=TRUE\n",
    "      - ALLOW_RESET=TRUE\n",
    "    ports:\n",
    "      - 8000:8000\n",
    "    ...\n",
    "```\n",
    "\n",
    "その後、`docker-compose up -d --build`を実行してください\n",
    "\n",
    "> Then run `docker-compose up -d --build`\n",
    "\n",
    "\n"
   ]
  },
  {
   "cell_type": "code",
   "execution_count": 4,
   "id": "74aee70e",
   "metadata": {},
   "outputs": [
    {
     "name": "stdout",
     "output_type": "stream",
     "text": [
      "Tonight. I call on the Senate to: Pass the Freedom to Vote Act. Pass the John Lewis Voting Rights Act. And while you’re at it, pass the Disclose Act so Americans can know who is funding our elections. \n",
      "\n",
      "Tonight, I’d like to honor someone who has dedicated his life to serve this country: Justice Stephen Breyer—an Army veteran, Constitutional scholar, and retiring Justice of the United States Supreme Court. Justice Breyer, thank you for your service. \n",
      "\n",
      "One of the most serious constitutional responsibilities a President has is nominating someone to serve on the United States Supreme Court. \n",
      "\n",
      "And I did that 4 days ago, when I nominated Circuit Court of Appeals Judge Ketanji Brown Jackson. One of our nation’s top legal minds, who will continue Justice Breyer’s legacy of excellence.\n"
     ]
    }
   ],
   "source": [
    "# create the chroma client\n",
    "import uuid\n",
    "\n",
    "import chromadb\n",
    "from chromadb.config import Settings\n",
    "\n",
    "client = chromadb.HttpClient(settings=Settings(allow_reset=True))\n",
    "client.reset()  # resets the database\n",
    "collection = client.create_collection(\"my_collection\")\n",
    "for doc in docs:\n",
    "    collection.add(\n",
    "        ids=[str(uuid.uuid1())], metadatas=doc.metadata, documents=doc.page_content\n",
    "    )\n",
    "\n",
    "# tell LangChain to use our client and collection name\n",
    "db4 = Chroma(\n",
    "    client=client,\n",
    "    collection_name=\"my_collection\",\n",
    "    embedding_function=embedding_function,\n",
    ")\n",
    "query = \"What did the president say about Ketanji Brown Jackson\"\n",
    "docs = db4.similarity_search(query)\n",
    "print(docs[0].page_content)"
   ]
  },
  {
   "cell_type": "markdown",
   "id": "9ed3ec50",
   "metadata": {},
   "source": [
    "## Update and Delete | 更新と削除\n",
    "\n",
    "実際のアプリケーションを構築する際には、データを追加するだけでなく、データの更新や削除も行いたいと思うでしょう。\n",
    "\n",
    "> While building toward a real application, you want to go beyond adding data, and also update and delete data.\n",
    "\n",
    "Chromaでは、帳簿処理を簡素化するためにユーザーに`ids`の提供を求めています。`ids`はファイル名や、`filename_paragraphNumber`のような組み合わせハッシュなどが使用できます。\n",
    "\n",
    "> Chroma has users provide `ids` to simplify the bookkeeping here. `ids` can be the name of the file, or a combined has like `filename_paragraphNumber`, etc.\n",
    "\n",
    "Chromaはこれらの操作をすべてサポートしていますが、いくつかはまだLangChainインターフェースを通じて完全に統合されている途中段階です。さらにワークフローの改善が間もなく追加される予定です。\n",
    "\n",
    "> Chroma supports all these operations - though some of them are still being integrated all the way through the LangChain interface. Additional workflow improvements will be added soon.\n",
    "\n",
    "以下は、様々な操作を行う方法を示す基本的な例です：\n",
    "\n",
    "> Here is a basic example showing how to do various operations:\n",
    "\n",
    "\n"
   ]
  },
  {
   "cell_type": "code",
   "execution_count": 5,
   "id": "81a02810",
   "metadata": {},
   "outputs": [
    {
     "name": "stdout",
     "output_type": "stream",
     "text": [
      "{'source': '../../../state_of_the_union.txt'}\n",
      "{'ids': ['1'], 'embeddings': None, 'metadatas': [{'new_value': 'hello world', 'source': '../../../state_of_the_union.txt'}], 'documents': ['Tonight. I call on the Senate to: Pass the Freedom to Vote Act. Pass the John Lewis Voting Rights Act. And while you’re at it, pass the Disclose Act so Americans can know who is funding our elections. \\n\\nTonight, I’d like to honor someone who has dedicated his life to serve this country: Justice Stephen Breyer—an Army veteran, Constitutional scholar, and retiring Justice of the United States Supreme Court. Justice Breyer, thank you for your service. \\n\\nOne of the most serious constitutional responsibilities a President has is nominating someone to serve on the United States Supreme Court. \\n\\nAnd I did that 4 days ago, when I nominated Circuit Court of Appeals Judge Ketanji Brown Jackson. One of our nation’s top legal minds, who will continue Justice Breyer’s legacy of excellence.']}\n",
      "count before 46\n",
      "count after 45\n"
     ]
    }
   ],
   "source": [
    "# create simple ids\n",
    "ids = [str(i) for i in range(1, len(docs) + 1)]\n",
    "\n",
    "# add data\n",
    "example_db = Chroma.from_documents(docs, embedding_function, ids=ids)\n",
    "docs = example_db.similarity_search(query)\n",
    "print(docs[0].metadata)\n",
    "\n",
    "# update the metadata for a document\n",
    "docs[0].metadata = {\n",
    "    \"source\": \"../../modules/state_of_the_union.txt\",\n",
    "    \"new_value\": \"hello world\",\n",
    "}\n",
    "example_db.update_document(ids[0], docs[0])\n",
    "print(example_db._collection.get(ids=[ids[0]]))\n",
    "\n",
    "# delete the last document\n",
    "print(\"count before\", example_db._collection.count())\n",
    "example_db._collection.delete(ids=[ids[-1]])\n",
    "print(\"count after\", example_db._collection.count())"
   ]
  },
  {
   "cell_type": "markdown",
   "id": "ac6bc71a",
   "metadata": {},
   "source": [
    "## Use OpenAI Embeddings | OpenAIの埋め込みを使用する\n",
    "\n",
    "多くの人がOpenAIの埋め込み機能を好んで使用しています。設定方法は以下の通りです。\n",
    "\n",
    "> Many people like to use OpenAIEmbeddings, here is how to set that up.\n",
    "\n",
    "\n"
   ]
  },
  {
   "cell_type": "code",
   "execution_count": 6,
   "id": "42080f37-8fd1-4cec-acd9-15d2b03b2f4d",
   "metadata": {
    "tags": []
   },
   "outputs": [],
   "source": [
    "# get a token: https://platform.openai.com/account/api-keys\n",
    "\n",
    "from getpass import getpass\n",
    "\n",
    "from langchain.embeddings.openai import OpenAIEmbeddings\n",
    "\n",
    "OPENAI_API_KEY = getpass()"
   ]
  },
  {
   "cell_type": "code",
   "execution_count": 7,
   "id": "c7a94d6c-b4d4-4498-9bdd-eb50c92b85c5",
   "metadata": {
    "tags": []
   },
   "outputs": [],
   "source": [
    "import os\n",
    "\n",
    "os.environ[\"OPENAI_API_KEY\"] = OPENAI_API_KEY"
   ]
  },
  {
   "cell_type": "code",
   "execution_count": 8,
   "id": "5eabdb75",
   "metadata": {
    "tags": []
   },
   "outputs": [
    {
     "name": "stdout",
     "output_type": "stream",
     "text": [
      "Tonight. I call on the Senate to: Pass the Freedom to Vote Act. Pass the John Lewis Voting Rights Act. And while you’re at it, pass the Disclose Act so Americans can know who is funding our elections. \n",
      "\n",
      "Tonight, I’d like to honor someone who has dedicated his life to serve this country: Justice Stephen Breyer—an Army veteran, Constitutional scholar, and retiring Justice of the United States Supreme Court. Justice Breyer, thank you for your service. \n",
      "\n",
      "One of the most serious constitutional responsibilities a President has is nominating someone to serve on the United States Supreme Court. \n",
      "\n",
      "And I did that 4 days ago, when I nominated Circuit Court of Appeals Judge Ketanji Brown Jackson. One of our nation’s top legal minds, who will continue Justice Breyer’s legacy of excellence.\n"
     ]
    }
   ],
   "source": [
    "embeddings = OpenAIEmbeddings()\n",
    "new_client = chromadb.EphemeralClient()\n",
    "openai_lc_client = Chroma.from_documents(\n",
    "    docs, embeddings, client=new_client, collection_name=\"openai_collection\"\n",
    ")\n",
    "\n",
    "query = \"What did the president say about Ketanji Brown Jackson\"\n",
    "docs = openai_lc_client.similarity_search(query)\n",
    "print(docs[0].page_content)"
   ]
  },
  {
   "cell_type": "markdown",
   "id": "6d9c28ad",
   "metadata": {},
   "source": [
    "***\n",
    "\n",
    "## Other Information | その他の情報\n",
    "\n",
    "\n"
   ]
  },
  {
   "cell_type": "markdown",
   "id": "18152965",
   "metadata": {},
   "source": [
    "### Similarity search with score | スコア付き類似性検索\n",
    "\n",
    "\n"
   ]
  },
  {
   "cell_type": "markdown",
   "id": "346347d7",
   "metadata": {},
   "source": [
    "返される距離スコアはコサイン距離です。したがって、スコアが低いほど良いです。\n",
    "\n",
    "> The returned distance score is cosine distance. Therefore, a lower score is better.\n",
    "\n",
    "\n"
   ]
  },
  {
   "cell_type": "code",
   "execution_count": 9,
   "id": "72aaa9c8",
   "metadata": {
    "tags": []
   },
   "outputs": [],
   "source": [
    "docs = db.similarity_search_with_score(query)"
   ]
  },
  {
   "cell_type": "code",
   "execution_count": 10,
   "id": "d88e958e",
   "metadata": {
    "tags": []
   },
   "outputs": [
    {
     "data": {
      "text/plain": [
       "(Document(page_content='Tonight. I call on the Senate to: Pass the Freedom to Vote Act. Pass the John Lewis Voting Rights Act. And while you’re at it, pass the Disclose Act so Americans can know who is funding our elections. \\n\\nTonight, I’d like to honor someone who has dedicated his life to serve this country: Justice Stephen Breyer—an Army veteran, Constitutional scholar, and retiring Justice of the United States Supreme Court. Justice Breyer, thank you for your service. \\n\\nOne of the most serious constitutional responsibilities a President has is nominating someone to serve on the United States Supreme Court. \\n\\nAnd I did that 4 days ago, when I nominated Circuit Court of Appeals Judge Ketanji Brown Jackson. One of our nation’s top legal minds, who will continue Justice Breyer’s legacy of excellence.', metadata={'source': '../../../state_of_the_union.txt'}),\n",
       " 1.1972057819366455)"
      ]
     },
     "execution_count": 10,
     "metadata": {},
     "output_type": "execute_result"
    }
   ],
   "source": [
    "docs[0]"
   ]
  },
  {
   "cell_type": "markdown",
   "id": "794a7552",
   "metadata": {},
   "source": [
    "### Retriever options | レトリバーのオプション\n",
    "\n",
    "このセクションでは、Chromaをリトリーバーとして使用するさまざまな方法について説明します。\n",
    "\n",
    "> This section goes over different options for how to use Chroma as a retriever.\n",
    "\n",
    "#### MMR | MMR\n",
    "\n",
    "検索オブジェクトで類似性検索を使用することに加えて、`mmr`を使用することもできます。\n",
    "\n",
    "> In addition to using similarity search in the retriever object, you can also use `mmr`.\n",
    "\n",
    "\n"
   ]
  },
  {
   "cell_type": "code",
   "execution_count": 11,
   "id": "96ff911a",
   "metadata": {},
   "outputs": [],
   "source": [
    "retriever = db.as_retriever(search_type=\"mmr\")"
   ]
  },
  {
   "cell_type": "code",
   "execution_count": 12,
   "id": "f00be6d0",
   "metadata": {},
   "outputs": [
    {
     "data": {
      "text/plain": [
       "Document(page_content='Tonight. I call on the Senate to: Pass the Freedom to Vote Act. Pass the John Lewis Voting Rights Act. And while you’re at it, pass the Disclose Act so Americans can know who is funding our elections. \\n\\nTonight, I’d like to honor someone who has dedicated his life to serve this country: Justice Stephen Breyer—an Army veteran, Constitutional scholar, and retiring Justice of the United States Supreme Court. Justice Breyer, thank you for your service. \\n\\nOne of the most serious constitutional responsibilities a President has is nominating someone to serve on the United States Supreme Court. \\n\\nAnd I did that 4 days ago, when I nominated Circuit Court of Appeals Judge Ketanji Brown Jackson. One of our nation’s top legal minds, who will continue Justice Breyer’s legacy of excellence.', metadata={'source': '../../../state_of_the_union.txt'})"
      ]
     },
     "execution_count": 12,
     "metadata": {},
     "output_type": "execute_result"
    }
   ],
   "source": [
    "retriever.get_relevant_documents(query)[0]"
   ]
  },
  {
   "cell_type": "markdown",
   "id": "275dbd0a",
   "metadata": {},
   "source": [
    "### Filtering on metadata | メタデータによるフィルタリング\n",
    "\n",
    "コレクションを操作する前に、それを絞り込むことが役立つことがあります。\n",
    "\n",
    "> It can be helpful to narrow down the collection before working with it.\n",
    "\n",
    "例えば、getメソッドを使用してメタデータを使ってコレクションをフィルタリングすることができます。\n",
    "\n",
    "> For example, collections can be filtered on metadata using the get method.\n",
    "\n",
    "\n"
   ]
  },
  {
   "cell_type": "code",
   "execution_count": 13,
   "id": "81600dc1",
   "metadata": {},
   "outputs": [
    {
     "data": {
      "text/plain": [
       "{'ids': [], 'embeddings': None, 'metadatas': [], 'documents': []}"
      ]
     },
     "execution_count": 13,
     "metadata": {},
     "output_type": "execute_result"
    }
   ],
   "source": [
    "# filter collection for updated source\n",
    "example_db.get(where={\"source\": \"some_other_source\"})"
   ]
  }
 ],
 "metadata": {
  "kernelspec": {
   "display_name": "Python 3 (ipykernel)",
   "language": "python",
   "name": "python3"
  },
  "language_info": {
   "codemirror_mode": {
    "name": "ipython",
    "version": 3
   },
   "file_extension": ".py",
   "mimetype": "text/x-python",
   "name": "python",
   "nbconvert_exporter": "python",
   "pygments_lexer": "ipython3",
   "version": "3.10.10"
  }
 },
 "nbformat": 4,
 "nbformat_minor": 5
}