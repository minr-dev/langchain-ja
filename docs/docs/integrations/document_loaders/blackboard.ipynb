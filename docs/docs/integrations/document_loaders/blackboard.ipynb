{
 "cells": [
  {
   "cell_type": "markdown",
   "metadata": {},
   "source": [
    "# Blackboard | 黒板\n",
    "\n",
    "> [Blackboard Learn](https://en.wikipedia.org/wiki/Blackboard_Learn)（以前はBlackboard Learning Management Systemとして知られていました）は、Blackboard Inc.によって開発されたウェブベースの仮想学習環境および学習管理システムです。このソフトウェアは、コース管理、カスタマイズ可能なオープンアーキテクチャ、および学生情報システムや認証プロトコルとの統合を可能にするスケーラブルな設計を特徴としています。ローカルサーバーにインストールすること、`Blackboard ASP Solutions`によってホストされること、またはAmazon Web Services上でホストされるサービスとしてのソフトウェア（SaaS）として提供されることも可能です。その主な目的は、従来対面で提供されていたコースにオンライン要素を追加すること、および対面のミーティングが少ないか全くない完全オンラインコースの開発です。\n",
    ">\n",
    "> > [Blackboard Learn](https://en.wikipedia.org/wiki/Blackboard_Learn) (previously the Blackboard Learning Management System) is a web-based virtual learning environment and learning management system developed by Blackboard Inc. The software features course management, customizable open architecture, and scalable design that allows integration with student information systems and authentication protocols. It may be installed on local servers, hosted by `Blackboard ASP Solutions`, or provided as Software as a Service hosted on Amazon Web Services. Its main purposes are stated to include the addition of online elements to courses traditionally delivered face-to-face and development of completely online courses with few or no face-to-face meetings\n",
    "\n",
    "[Blackboard Learn](https://www.anthology.com/products/teaching-and-learning/learning-effectiveness/blackboard-learn)のインスタンスからデータを読み込む方法について説明します。\n",
    "\n",
    "> This covers how to load data from a [Blackboard Learn](https://www.anthology.com/products/teaching-and-learning/learning-effectiveness/blackboard-learn) instance.\n",
    "\n",
    "このローダーは、すべての`Blackboard`コースと互換性があるわけではありません。新しい`Blackboard`インターフェースを使用しているコースのみと互換性があります。このローダーを使用するには、BbRouterクッキーが必要です。このクッキーは、コースにログインした後、ブラウザの開発者ツールからBbRouterクッキーの値をコピーして取得できます。\n",
    "\n",
    "> This loader is not compatible with all `Blackboard` courses. It is only\n",
    "> compatible with courses that use the new `Blackboard` interface.\n",
    "> To use this loader, you must have the BbRouter cookie. You can get this\n",
    "> cookie by logging into the course and then copying the value of the\n",
    "> BbRouter cookie from the browser's developer tools.\n",
    "\n"
   ]
  },
  {
   "cell_type": "code",
   "execution_count": null,
   "metadata": {},
   "outputs": [],
   "source": [
    "from langchain.document_loaders import BlackboardLoader\n",
    "\n",
    "loader = BlackboardLoader(\n",
    "    blackboard_course_url=\"https://blackboard.example.com/webapps/blackboard/execute/announcement?method=search&context=course_entry&course_id=_123456_1\",\n",
    "    bbrouter=\"expires:12345...\",\n",
    "    load_all_recursively=True,\n",
    ")\n",
    "documents = loader.load()"
   ]
  }
 ],
 "metadata": {
  "kernelspec": {
   "display_name": "Python 3 (ipykernel)",
   "language": "python",
   "name": "python3"
  },
  "language_info": {
   "codemirror_mode": {
    "name": "ipython",
    "version": 3
   },
   "file_extension": ".py",
   "mimetype": "text/x-python",
   "name": "python",
   "nbconvert_exporter": "python",
   "pygments_lexer": "ipython3",
   "version": "3.10.6"
  }
 },
 "nbformat": 4,
 "nbformat_minor": 4
}