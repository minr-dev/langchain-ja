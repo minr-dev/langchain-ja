{
 "cells": [
  {
   "cell_type": "markdown",
   "id": "91c6a7ef",
   "metadata": {},
   "source": [
    "# Momento Cache | Momento Cache\n",
    "\n",
    "> [Momento Cache](https://docs.momentohq.com/)は、世界で初めての真にサーバーレスなキャッシングサービスです。瞬時に拡張可能で、スケールダウンしてゼロになる能力と驚異的な高速パフォーマンスを提供します。\n",
    ">\n",
    "> > [Momento Cache](https://docs.momentohq.com/) is the world's first truly serverless caching service. It provides instant elasticity, scale-to-zero\n",
    "> > capability, and blazing-fast performance.\n",
    "\n",
    "このノートブックでは、`MomentoChatMessageHistory` クラスを使用してチャットメッセージの履歴を[Momento Cache](https://www.gomomento.com/services/cache)に保存する方法について説明しています。Momentoのセットアップ方法の詳細については、Momentoの[ドキュメント](https://docs.momentohq.com/getting-started)をご覧ください。\n",
    "\n",
    "> This notebook goes over how to use [Momento Cache](https://www.gomomento.com/services/cache) to store chat message history using the `MomentoChatMessageHistory` class. See the Momento [docs](https://docs.momentohq.com/getting-started) for more detail on how to get set up with Momento.\n",
    "\n",
    "デフォルトでは、指定された名前のキャッシュがまだ存在しない場合、新たにキャッシュを作成することに注意してください。\n",
    "\n",
    "> Note that, by default we will create a cache if one with the given name doesn't already exist.\n",
    "\n",
    "このクラスを使用するには、Momento APIキーを取得する必要があります。これは、直接`momento.CacheClient`をインスタンス化したい場合に渡すことができるほか、`MomentoChatMessageHistory.from_client_params`の名前付きパラメータ`api_key`として渡すこともできますし、環境変数`MOMENTO_API_KEY`として設定することも可能です。\n",
    "\n",
    "> You'll need to get a Momento API key to use this class. This can either be passed in to a momento.CacheClient if you'd like to instantiate that directly, as a named parameter `api_key` to `MomentoChatMessageHistory.from_client_params`, or can just be set as an environment variable `MOMENTO_API_KEY`.\n",
    "\n"
   ]
  },
  {
   "cell_type": "code",
   "execution_count": 5,
   "id": "d15e3302",
   "metadata": {},
   "outputs": [],
   "source": [
    "from datetime import timedelta\n",
    "\n",
    "from langchain.memory import MomentoChatMessageHistory\n",
    "\n",
    "session_id = \"foo\"\n",
    "cache_name = \"langchain\"\n",
    "ttl = timedelta(days=1)\n",
    "history = MomentoChatMessageHistory.from_client_params(\n",
    "    session_id,\n",
    "    cache_name,\n",
    "    ttl,\n",
    ")\n",
    "\n",
    "history.add_user_message(\"hi!\")\n",
    "\n",
    "history.add_ai_message(\"whats up?\")"
   ]
  },
  {
   "cell_type": "code",
   "execution_count": 6,
   "id": "64fc465e",
   "metadata": {},
   "outputs": [
    {
     "data": {
      "text/plain": [
       "[HumanMessage(content='hi!', additional_kwargs={}, example=False),\n",
       " AIMessage(content='whats up?', additional_kwargs={}, example=False)]"
      ]
     },
     "execution_count": 6,
     "metadata": {},
     "output_type": "execute_result"
    }
   ],
   "source": [
    "history.messages"
   ]
  }
 ],
 "metadata": {
  "kernelspec": {
   "display_name": "Python 3 (ipykernel)",
   "language": "python",
   "name": "python3"
  },
  "language_info": {
   "codemirror_mode": {
    "name": "ipython",
    "version": 3
   },
   "file_extension": ".py",
   "mimetype": "text/x-python",
   "name": "python",
   "nbconvert_exporter": "python",
   "pygments_lexer": "ipython3",
   "version": "3.10.12"
  }
 },
 "nbformat": 4,
 "nbformat_minor": 5
}