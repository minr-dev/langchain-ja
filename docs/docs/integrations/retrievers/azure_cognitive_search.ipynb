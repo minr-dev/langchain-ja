{
 "cells": [
  {
   "cell_type": "markdown",
   "id": "1edb9e6b",
   "metadata": {},
   "source": [
    "# Azure Cognitive Search | Azure Cognitive Search",
    "",
    "> [Azure Cognitive Search](https://learn.microsoft.com/en-us/azure/search/search-what-is-azure-search)（旧称 `Azure Search`）は、ウェブ、モバイル、エンタープライズアプリケーションにおけるプライベートで異種混在するコンテンツ上で豊かな検索体験を構築するためのインフラ、API、およびツールを開発者に提供するクラウド検索サービスです。",
    ">",
    "> > [Azure Cognitive Search](https://learn.microsoft.com/en-us/azure/search/search-what-is-azure-search) (formerly known as `Azure Search`) is a cloud search service that gives developers infrastructure, APIs, and tools for building a rich search experience over private, heterogeneous content in web, mobile, and enterprise applications.",
    "",
    "> 検索は、カタログやドキュメント検索、オンライン小売アプリ、または独自コンテンツのデータ探索など、ユーザーにテキストを提供するあらゆるアプリにとって基本的な機能です。検索サービスを作成する際には、以下の機能を扱います：",
    ">",
    "> > Search is foundational to any app that surfaces text to users, where common scenarios include catalog or document search, online retail apps, or data exploration over proprietary content. When you create a search service, you'll work with the following capabilities:",
    ">",
    "> * ユーザー所有のコンテンツを含む検索インデックス上で全文検索を行うための検索エンジン",
    ">   > A search engine for full text search over a search index containing user-owned content",
    "> * 豊富なインデキシング機能には、語彙分析が含まれ、コンテンツの抽出や変換を行うためのAIエンリッチメントもオプションで利用可能です",
    ">   > Rich indexing, with lexical analysis and optional AI enrichment for content extraction and transformation",
    "> * テキスト検索、ファジー検索、オートコンプリート、ジオ検索などに対応した豊富なクエリ構文",
    ">   > Rich query syntax for text search, fuzzy search, autocomplete, geo-search and more",
    "> * Azure SDKのクライアントライブラリとREST APIを通じたプログラム可能性",
    ">   > Programmability through REST APIs and client libraries in Azure SDKs",
    "> * データ層、機械学習層、およびAI（Cognitive Services）におけるAzureの統合",
    ">   > Azure integration at the data layer, machine learning layer, and AI (Cognitive Services)",
    "",
    "このノートブックは、LangChain内でAzure Cognitive Search（ACS）を使用する方法を示しています。",
    "",
    "> This notebook shows how to use Azure Cognitive Search (ACS) within LangChain.",
    ""
   ]
  },
  {
   "cell_type": "markdown",
   "id": "074b0004",
   "metadata": {},
   "source": [
    "## Set up Azure Cognitive Search | Azure Cognitive Searchを設定する",
    "",
    "ACSを設定するには、[こちら](https://learn.microsoft.com/en-us/azure/search/search-create-service-portal)の指示に従ってください。",
    "",
    "> To set up ACS, please follow the instructions [here](https://learn.microsoft.com/en-us/azure/search/search-create-service-portal).",
    "",
    "ご注意ください",
    "",
    "> Please note",
    "",
    "1. ACSサービスの名前",
    "   > the name of your ACS service,",
    "2. ACSインデックスの名前",
    "   > the name of your ACS index,",
    "3. あなたのAPIキー。",
    "   > your API key.",
    "",
    "APIキーはAdminキーでもQueryキーでも構いませんが、データを読み取るだけなのでQueryキーの使用を推奨します。",
    "",
    "> Your API key can be either Admin or Query key, but as we only read data it is recommended to use a Query key.",
    ""
   ]
  },
  {
   "cell_type": "markdown",
   "id": "0474661d",
   "metadata": {},
   "source": [
    "## Using the Azure Cognitive Search Retriever | Azure Cognitive Search Retrieverの使用",
    ""
   ]
  },
  {
   "cell_type": "code",
   "execution_count": 10,
   "id": "39d6074e",
   "metadata": {},
   "outputs": [],
   "source": [
    "import os\n",
    "\n",
    "from langchain.retrievers import AzureCognitiveSearchRetriever"
   ]
  },
  {
   "cell_type": "markdown",
   "id": "b7243e6d",
   "metadata": {},
   "source": [
    "サービス名、インデックス名、APIキーを環境変数として設定してください（または、これらを`AzureCognitiveSearchRetriever`の引数として渡すこともできます）。",
    "",
    "> Set Service Name, Index Name and API key as environment variables (alternatively, you can pass them as arguments to `AzureCognitiveSearchRetriever`).",
    ""
   ]
  },
  {
   "cell_type": "code",
   "execution_count": null,
   "id": "33fd23d1",
   "metadata": {},
   "outputs": [],
   "source": [
    "os.environ[\"AZURE_COGNITIVE_SEARCH_SERVICE_NAME\"] = \"<YOUR_ACS_SERVICE_NAME>\"\n",
    "os.environ[\"AZURE_COGNITIVE_SEARCH_INDEX_NAME\"] = \"<YOUR_ACS_INDEX_NAME>\"\n",
    "os.environ[\"AZURE_COGNITIVE_SEARCH_API_KEY\"] = \"<YOUR_API_KEY>\""
   ]
  },
  {
   "cell_type": "markdown",
   "id": "057deaad",
   "metadata": {},
   "source": [
    "リトリーバーを作成する",
    "",
    "> Create the Retriever",
    ""
   ]
  },
  {
   "cell_type": "code",
   "execution_count": null,
   "id": "c18d0c4c",
   "metadata": {},
   "outputs": [],
   "source": [
    "retriever = AzureCognitiveSearchRetriever(content_key=\"content\", top_k=10)"
   ]
  },
  {
   "cell_type": "markdown",
   "id": "e94ea104",
   "metadata": {},
   "source": [
    "これで、Azure Cognitive Searchからドキュメントを取得することができるようになりました",
    "",
    "> Now you can use retrieve documents from Azure Cognitive Search",
    ""
   ]
  },
  {
   "cell_type": "code",
   "execution_count": null,
   "id": "c8b5794b",
   "metadata": {},
   "outputs": [],
   "source": [
    "retriever.get_relevant_documents(\"what is langchain\")"
   ]
  },
  {
   "cell_type": "markdown",
   "id": "72eca08e",
   "metadata": {},
   "source": [
    "`top_k`パラメータを変更することで、返される結果の数を変更できます。デフォルト値は`None`で、これはすべての結果を返します。",
    "",
    "> You can change the number of results returned with the `top_k` parameter. The default value is `None`, which returns all results.",
    ""
   ]
  },
  {
   "cell_type": "code",
   "execution_count": null,
   "id": "097146c5",
   "metadata": {},
   "outputs": [],
   "source": []
  },
  {
   "cell_type": "code",
   "execution_count": null,
   "id": "6d9963f5",
   "metadata": {},
   "outputs": [],
   "source": []
  },
  {
   "cell_type": "markdown",
   "id": "dc120696",
   "metadata": {},
   "source": [
    ""
   ]
  }
 ],
 "metadata": {
  "kernelspec": {
   "display_name": "Python 3 (ipykernel)",
   "language": "python",
   "name": "python3"
  },
  "language_info": {
   "codemirror_mode": {
    "name": "ipython",
    "version": 3
   },
   "file_extension": ".py",
   "mimetype": "text/x-python",
   "name": "python",
   "nbconvert_exporter": "python",
   "pygments_lexer": "ipython3",
   "version": "3.10.6"
  }
 },
 "nbformat": 4,
 "nbformat_minor": 5
}