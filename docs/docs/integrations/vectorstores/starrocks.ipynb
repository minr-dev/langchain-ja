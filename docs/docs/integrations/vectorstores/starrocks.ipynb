{
 "cells": [
  {
   "cell_type": "markdown",
   "id": "59723cea",
   "metadata": {},
   "source": [
    "# StarRocks | StarRocks\n",
    "\n",
    "> [StarRocks](https://www.starrocks.io/)は、高性能分析データベースです。`StarRocks`は、多次元分析、リアルタイム分析、アドホッククエリを含む全ての分析シナリオに対応する次世代のサブセカンドMPPデータベースです。\n",
    ">\n",
    "> > [StarRocks](https://www.starrocks.io/) is a High-Performance Analytical Database.\n",
    "> > `StarRocks` is a next-gen sub-second MPP database for full analytics scenarios, including multi-dimensional analytics, real-time analytics and ad-hoc query.\n",
    "\n",
    "> `StarRocks`は通常OLAPに分類され、[ClickBench — 分析用DBMSのベンチマーク](https://benchmark.clickhouse.com/)で優れたパフォーマンスを発揮しています。超高速なベクトル化実行エンジンを搭載しているため、高速なベクトルデータベースとしても利用できます。\n",
    ">\n",
    "> > Usually `StarRocks` is categorized into OLAP, and it has showed excellent performance in [ClickBench — a Benchmark For Analytical DBMS](https://benchmark.clickhouse.com/). Since it has a super-fast vectorized execution engine, it could also be used as a fast vectordb.\n",
    "\n",
    "ここでは、StarRocks Vector Storeの使用方法をご紹介します。\n",
    "\n",
    "> Here we'll show how to use the StarRocks Vector Store.\n",
    "\n",
    "\n"
   ]
  },
  {
   "cell_type": "markdown",
   "id": "1685854f",
   "metadata": {},
   "source": [
    "## Setup | セットアップ\n",
    "\n",
    "\n"
   ]
  },
  {
   "cell_type": "code",
   "execution_count": 1,
   "id": "311d44bb-4aca-4f3b-8f97-5e1f29238e40",
   "metadata": {},
   "outputs": [],
   "source": [
    "#!pip install pymysql"
   ]
  },
  {
   "cell_type": "markdown",
   "id": "2c891bba",
   "metadata": {},
   "source": [
    "最初に `update_vectordb = False` を設定してください。ドキュメントが更新されていない場合、ドキュメントの埋め込みを再構築する必要はありません。\n",
    "\n",
    "> Set `update_vectordb = False` at the beginning. If there is no docs updated, then we don't need to rebuild the embeddings of docs\n",
    "\n",
    "\n"
   ]
  },
  {
   "cell_type": "code",
   "execution_count": 1,
   "id": "3c85fb93",
   "metadata": {},
   "outputs": [
    {
     "name": "stderr",
     "output_type": "stream",
     "text": [
      "/Users/dirlt/utils/py3env/lib/python3.9/site-packages/requests/__init__.py:102: RequestsDependencyWarning: urllib3 (1.26.7) or chardet (5.1.0)/charset_normalizer (2.0.9) doesn't match a supported version!\n",
      "  warnings.warn(\"urllib3 ({}) or chardet ({})/charset_normalizer ({}) doesn't match a supported \"\n"
     ]
    }
   ],
   "source": [
    "from langchain.chains import RetrievalQA\n",
    "from langchain.document_loaders import DirectoryLoader, UnstructuredMarkdownLoader\n",
    "from langchain.embeddings.openai import OpenAIEmbeddings\n",
    "from langchain.llms import OpenAI\n",
    "from langchain.text_splitter import TokenTextSplitter\n",
    "from langchain.vectorstores import StarRocks\n",
    "from langchain.vectorstores.starrocks import StarRocksSettings\n",
    "\n",
    "update_vectordb = False"
   ]
  },
  {
   "cell_type": "markdown",
   "id": "ee821c00",
   "metadata": {},
   "source": [
    "## Load docs and split them into tokens | ドキュメントを読み込んでトークンに分割する\n",
    "\n",
    "\n"
   ]
  },
  {
   "cell_type": "markdown",
   "id": "34ba0cfd",
   "metadata": {},
   "source": [
    "`docs`ディレクトリ下のすべてのマークダウンファイルを読み込む\n",
    "\n",
    "> Load all markdown files under the `docs` directory\n",
    "\n",
    "StarRocksのドキュメントについては、https://github.com/StarRocks/starrocks からリポジトリをクローンでき、その中に`docs`ディレクトリがあります。\n",
    "\n",
    "> for starrocks documents, you can clone repo from https://github.com/StarRocks/starrocks, and there is `docs` directory in it.\n",
    "\n",
    "\n"
   ]
  },
  {
   "cell_type": "code",
   "execution_count": 2,
   "id": "85912696",
   "metadata": {},
   "outputs": [],
   "source": [
    "loader = DirectoryLoader(\n",
    "    \"./docs\", glob=\"**/*.md\", loader_cls=UnstructuredMarkdownLoader\n",
    ")\n",
    "documents = loader.load()"
   ]
  },
  {
   "cell_type": "markdown",
   "id": "b415fe2a",
   "metadata": {},
   "source": [
    "ドキュメントをトークンに分割し、新しいドキュメントやトークンがあるため `update_vectordb = True` に設定してください。\n",
    "\n",
    "> Split docs into tokens, and set `update_vectordb = True` because there are new docs/tokens.\n",
    "\n",
    "\n"
   ]
  },
  {
   "cell_type": "code",
   "execution_count": 3,
   "id": "07e8acff",
   "metadata": {},
   "outputs": [],
   "source": [
    "# load text splitter and split docs into snippets of text\n",
    "text_splitter = TokenTextSplitter(chunk_size=400, chunk_overlap=50)\n",
    "split_docs = text_splitter.split_documents(documents)\n",
    "\n",
    "# tell vectordb to update text embeddings\n",
    "update_vectordb = True"
   ]
  },
  {
   "cell_type": "code",
   "execution_count": 4,
   "id": "1f365370",
   "metadata": {},
   "outputs": [
    {
     "data": {
      "text/plain": [
       "Document(page_content='Compile StarRocks with Docker\\n\\nThis topic describes how to compile StarRocks using Docker.\\n\\nOverview\\n\\nStarRocks provides development environment images for both Ubuntu 22.04 and CentOS 7.9. With the image, you can launch a Docker container and compile StarRocks in the container.\\n\\nStarRocks version and DEV ENV image\\n\\nDifferent branches of StarRocks correspond to different development environment images provided on StarRocks Docker Hub.\\n\\nFor Ubuntu 22.04:\\n\\n| Branch name | Image name              |\\n  | --------------- | ----------------------------------- |\\n  | main            | starrocks/dev-env-ubuntu:latest     |\\n  | branch-3.0      | starrocks/dev-env-ubuntu:3.0-latest |\\n  | branch-2.5      | starrocks/dev-env-ubuntu:2.5-latest |\\n\\nFor CentOS 7.9:\\n\\n| Branch name | Image name                       |\\n  | --------------- | ------------------------------------ |\\n  | main            | starrocks/dev-env-centos7:latest     |\\n  | branch-3.0      | starrocks/dev-env-centos7:3.0-latest |\\n  | branch-2.5      | starrocks/dev-env-centos7:2.5-latest |\\n\\nPrerequisites\\n\\nBefore compiling StarRocks, make sure the following requirements are satisfied:\\n\\nHardware\\n\\n', metadata={'source': 'docs/developers/build-starrocks/Build_in_docker.md'})"
      ]
     },
     "execution_count": 4,
     "metadata": {},
     "output_type": "execute_result"
    }
   ],
   "source": [
    "split_docs[-20]"
   ]
  },
  {
   "cell_type": "code",
   "execution_count": 5,
   "id": "50012b29",
   "metadata": {},
   "outputs": [
    {
     "name": "stdout",
     "output_type": "stream",
     "text": [
      "# docs  = 657, # splits = 2802\n"
     ]
    }
   ],
   "source": [
    "print(\"# docs  = %d, # splits = %d\" % (len(documents), len(split_docs)))"
   ]
  },
  {
   "cell_type": "markdown",
   "id": "5371f152",
   "metadata": {},
   "source": [
    "## Create vectordb instance | vectordbインスタンスを作成する\n",
    "\n",
    "\n"
   ]
  },
  {
   "cell_type": "markdown",
   "id": "15702d9c",
   "metadata": {},
   "source": [
    "### Use StarRocks as vectordb | StarRocksをvectordbとして使用する\n",
    "\n",
    "\n"
   ]
  },
  {
   "cell_type": "code",
   "execution_count": 6,
   "id": "ced7dbe1",
   "metadata": {},
   "outputs": [],
   "source": [
    "def gen_starrocks(update_vectordb, embeddings, settings):\n",
    "    if update_vectordb:\n",
    "        docsearch = StarRocks.from_documents(split_docs, embeddings, config=settings)\n",
    "    else:\n",
    "        docsearch = StarRocks(embeddings, settings)\n",
    "    return docsearch"
   ]
  },
  {
   "cell_type": "markdown",
   "id": "15d86fda",
   "metadata": {},
   "source": [
    "## Convert tokens into embeddings and put them into vectordb | トークンを埋め込みに変換し、vectordbに格納してください\n",
    "\n",
    "\n"
   ]
  },
  {
   "cell_type": "markdown",
   "id": "ff1322ea",
   "metadata": {},
   "source": [
    "ここではStarRocksをベクターデータベースとして使用しており、`StarRocksSettings`を通じてStarRocksインスタンスを構成できます。\n",
    "\n",
    "> Here we use StarRocks as vectordb, you can configure StarRocks instance via `StarRocksSettings`.\n",
    "\n",
    "StarRocksインスタンスの設定は、MySQLインスタンスの設定とほぼ同じです。以下を指定する必要があります：\n",
    "\n",
    "> Configuring StarRocks instance is pretty much like configuring mysql instance. You need to specify:\n",
    "\n",
    "1. ホスト/ポート\n",
    "\n",
    "   > host/port\n",
    "\n",
    "2. ユーザー名（デフォルト：'root'）\n",
    "\n",
    "   > username(default: 'root')\n",
    "\n",
    "3. パスワード（デフォルト：''）\n",
    "\n",
    "   > password(default: '')\n",
    "\n",
    "4. データベース（デフォルト：'default'）\n",
    "\n",
    "   > database(default: 'default')\n",
    "\n",
    "5. テーブル(デフォルト: 'langchain')\n",
    "\n",
    "   > table(default: 'langchain')\n",
    "\n",
    "\n",
    "\n"
   ]
  },
  {
   "cell_type": "code",
   "execution_count": 8,
   "id": "26410d9b",
   "metadata": {},
   "outputs": [
    {
     "name": "stderr",
     "output_type": "stream",
     "text": [
      "Inserting data...: 100%|████████████████████████████████████████████████████████████████████████████████████████████████████████████████████| 2802/2802 [02:26<00:00, 19.11it/s]\n"
     ]
    },
    {
     "name": "stdout",
     "output_type": "stream",
     "text": [
      "\u001b[92m\u001b[1mzya.langchain @ 127.0.0.1:41003\u001b[0m\n",
      "\n",
      "\u001b[1musername: root\u001b[0m\n",
      "\n",
      "Table Schema:\n",
      "----------------------------------------------------------------------------\n",
      "|\u001b[94mname                    \u001b[0m|\u001b[96mtype                    \u001b[0m|\u001b[96mkey                     \u001b[0m|\n",
      "----------------------------------------------------------------------------\n",
      "|\u001b[94mid                      \u001b[0m|\u001b[96mvarchar(65533)          \u001b[0m|\u001b[96mtrue                    \u001b[0m|\n",
      "|\u001b[94mdocument                \u001b[0m|\u001b[96mvarchar(65533)          \u001b[0m|\u001b[96mfalse                   \u001b[0m|\n",
      "|\u001b[94membedding               \u001b[0m|\u001b[96marray<float>            \u001b[0m|\u001b[96mfalse                   \u001b[0m|\n",
      "|\u001b[94mmetadata                \u001b[0m|\u001b[96mvarchar(65533)          \u001b[0m|\u001b[96mfalse                   \u001b[0m|\n",
      "----------------------------------------------------------------------------\n",
      "\n"
     ]
    }
   ],
   "source": [
    "embeddings = OpenAIEmbeddings()\n",
    "\n",
    "# configure starrocks settings(host/port/user/pw/db)\n",
    "settings = StarRocksSettings()\n",
    "settings.port = 41003\n",
    "settings.host = \"127.0.0.1\"\n",
    "settings.username = \"root\"\n",
    "settings.password = \"\"\n",
    "settings.database = \"zya\"\n",
    "docsearch = gen_starrocks(update_vectordb, embeddings, settings)\n",
    "\n",
    "print(docsearch)\n",
    "\n",
    "update_vectordb = False"
   ]
  },
  {
   "cell_type": "markdown",
   "id": "bde66626",
   "metadata": {},
   "source": [
    "## Build QA and ask question to it | QAを構築し、それに質問を投げかける\n",
    "\n",
    "\n"
   ]
  },
  {
   "cell_type": "code",
   "execution_count": 10,
   "id": "84921814",
   "metadata": {},
   "outputs": [
    {
     "name": "stdout",
     "output_type": "stream",
     "text": [
      " No, profile is not enabled by default. To enable profile, set the variable `enable_profile` to `true` using the command `set enable_profile = true;`\n"
     ]
    }
   ],
   "source": [
    "llm = OpenAI()\n",
    "qa = RetrievalQA.from_chain_type(\n",
    "    llm=llm, chain_type=\"stuff\", retriever=docsearch.as_retriever()\n",
    ")\n",
    "query = \"is profile enabled by default? if not, how to enable profile?\"\n",
    "resp = qa.run(query)\n",
    "print(resp)"
   ]
  }
 ],
 "metadata": {
  "kernelspec": {
   "display_name": "Python 3 (ipykernel)",
   "language": "python",
   "name": "python3"
  },
  "language_info": {
   "codemirror_mode": {
    "name": "ipython",
    "version": 3
   },
   "file_extension": ".py",
   "mimetype": "text/x-python",
   "name": "python",
   "nbconvert_exporter": "python",
   "pygments_lexer": "ipython3",
   "version": "3.10.6"
  }
 },
 "nbformat": 4,
 "nbformat_minor": 5
}