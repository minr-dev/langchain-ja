{
 "cells": [
  {
   "cell_type": "markdown",
   "metadata": {},
   "source": [
    "# DataForSEO | DataForSEO",
    "",
    "> [DataForSeo](https://dataforseo.com/)は、APIを通じて包括的なSEOおよびデジタルマーケティングのデータソリューションを提供しています。",
    ">",
    "> > [DataForSeo](https://dataforseo.com/) provides comprehensive SEO and digital marketing data solutions via API.",
    ">",
    "> `DataForSeo API`は、`Google`、`Bing`、`Yahoo`などの最も人気のある検索エンジンから`SERP`を取得します。また、`Maps`、`News`、`Events`など、異なるタイプの検索エンジンからのSERPも取得できます。",
    ">",
    "> > The `DataForSeo API` retrieves `SERP` from the most popular search engines like `Google`, `Bing`, `Yahoo`. It also allows to >get SERPs from different search engine types like `Maps`, `News`, `Events`, etc.",
    "",
    "このノートブックは、[DataForSeo API](https://dataforseo.com/apis)を使用して検索エンジンの結果を取得する方法を示しています。",
    "",
    "> This notebook demonstrates how to use the [DataForSeo API](https://dataforseo.com/apis) to obtain search engine results.",
    ""
   ]
  },
  {
   "cell_type": "code",
   "execution_count": null,
   "metadata": {},
   "outputs": [],
   "source": [
    "from langchain.utilities.dataforseo_api_search import DataForSeoAPIWrapper"
   ]
  },
  {
   "cell_type": "markdown",
   "metadata": {},
   "source": [
    "## Setting up the API credentials | APIクレデンシャルの設定",
    "",
    "`DataForSeo`のウェブサイトに登録することで、APIの認証情報を取得できます。",
    "",
    "> You can obtain your API credentials by registering on the `DataForSeo` website.",
    ""
   ]
  },
  {
   "cell_type": "code",
   "execution_count": null,
   "metadata": {},
   "outputs": [],
   "source": [
    "import os\n",
    "\n",
    "os.environ[\"DATAFORSEO_LOGIN\"] = \"your_api_access_username\"\n",
    "os.environ[\"DATAFORSEO_PASSWORD\"] = \"your_api_access_password\"\n",
    "\n",
    "wrapper = DataForSeoAPIWrapper()"
   ]
  },
  {
   "cell_type": "markdown",
   "metadata": {},
   "source": [
    "runメソッドは、answer\\_box、knowledge\\_graph、featured\\_snippet、shopping、organicのいずれかの要素から最初の結果スニペットを返します。",
    "",
    "> The run method will return the first result snippet from one of the following elements: answer\\_box, knowledge\\_graph, featured\\_snippet, shopping, organic.",
    ""
   ]
  },
  {
   "cell_type": "code",
   "execution_count": null,
   "metadata": {},
   "outputs": [],
   "source": [
    "wrapper.run(\"Weather in Los Angeles\")"
   ]
  },
  {
   "cell_type": "markdown",
   "metadata": {},
   "source": [
    "## The Difference Between `run` and `results` | `run`と`results`の違い",
    "",
    "`DataForSeoAPIWrapper` クラスが提供する2つのメソッドは `run` と `results` です。",
    "",
    "> `run` and `results` are two methods provided by the `DataForSeoAPIWrapper` class.",
    "",
    "`run` メソッドは検索を実行し、回答ボックス、ナレッジグラフ、フィーチャードスニペット、ショッピング、またはオーガニック検索結果から最初の結果スニペットを返します。これらの要素は、最も高い優先度から最も低い優先度に向けて順に並べられます。",
    "",
    "> The `run` method executes the search and returns the first result snippet from the answer box, knowledge graph, featured snippet, shopping, or organic results. These elements are sorted by priority from highest to lowest.",
    "",
    "`results` メソッドは、ラッパー内で設定されたパラメータに基づいて構成されたJSONレスポンスを返します。これにより、APIから返すデータをより柔軟に選択することができます。",
    "",
    "> The `results` method returns a JSON response configured according to the parameters set in the wrapper. This allows for more flexibility in terms of what data you want to return from the API.",
    ""
   ]
  },
  {
   "cell_type": "markdown",
   "metadata": {},
   "source": [
    "## Getting Results as JSON | JSON形式で結果を取得する",
    "",
    "JSONレスポンスで返される結果のタイプやフィールドをカスタマイズできます。また、返されるトップ結果の数の最大値を設定することも可能です。",
    "",
    "> You can customize the result types and fields you want to return in the JSON response. You can also set a maximum count for the number of top results to return.",
    ""
   ]
  },
  {
   "cell_type": "code",
   "execution_count": null,
   "metadata": {},
   "outputs": [],
   "source": [
    "json_wrapper = DataForSeoAPIWrapper(\n",
    "    json_result_types=[\"organic\", \"knowledge_graph\", \"answer_box\"],\n",
    "    json_result_fields=[\"type\", \"title\", \"description\", \"text\"],\n",
    "    top_count=3,\n",
    ")"
   ]
  },
  {
   "cell_type": "code",
   "execution_count": null,
   "metadata": {},
   "outputs": [],
   "source": [
    "json_wrapper.results(\"Bill Gates\")"
   ]
  },
  {
   "cell_type": "markdown",
   "metadata": {},
   "source": [
    "## Customizing Location and Language | 位置情報と言語のカスタマイズ",
    "",
    "APIラッパーに追加のパラメータを渡すことで、検索結果の場所と言語を指定することができます。",
    "",
    "> You can specify the location and language of your search results by passing additional parameters to the API wrapper.",
    ""
   ]
  },
  {
   "cell_type": "code",
   "execution_count": null,
   "metadata": {},
   "outputs": [],
   "source": [
    "customized_wrapper = DataForSeoAPIWrapper(\n",
    "    top_count=10,\n",
    "    json_result_types=[\"organic\", \"local_pack\"],\n",
    "    json_result_fields=[\"title\", \"description\", \"type\"],\n",
    "    params={\"location_name\": \"Germany\", \"language_code\": \"en\"},\n",
    ")\n",
    "customized_wrapper.results(\"coffee near me\")"
   ]
  },
  {
   "cell_type": "markdown",
   "metadata": {},
   "source": [
    "## Customizing the Search Engine | 検索エンジンのカスタマイズ",
    "",
    "使用したい検索エンジンを指定することもできます。",
    "",
    "> You can also specify the search engine you want to use.",
    ""
   ]
  },
  {
   "cell_type": "code",
   "execution_count": null,
   "metadata": {},
   "outputs": [],
   "source": [
    "customized_wrapper = DataForSeoAPIWrapper(\n",
    "    top_count=10,\n",
    "    json_result_types=[\"organic\", \"local_pack\"],\n",
    "    json_result_fields=[\"title\", \"description\", \"type\"],\n",
    "    params={\"location_name\": \"Germany\", \"language_code\": \"en\", \"se_name\": \"bing\"},\n",
    ")\n",
    "customized_wrapper.results(\"coffee near me\")"
   ]
  },
  {
   "cell_type": "markdown",
   "metadata": {},
   "source": [
    "## Customizing the Search Type | 検索タイプのカスタマイズ",
    "",
    "APIラッパーを使用すると、実行したい検索のタイプを指定することもできます。たとえば、地図検索を実行することができます。",
    "",
    "> The API wrapper also allows you to specify the type of search you want to perform. For example, you can perform a maps search.",
    ""
   ]
  },
  {
   "cell_type": "code",
   "execution_count": null,
   "metadata": {},
   "outputs": [],
   "source": [
    "maps_search = DataForSeoAPIWrapper(\n",
    "    top_count=10,\n",
    "    json_result_fields=[\"title\", \"value\", \"address\", \"rating\", \"type\"],\n",
    "    params={\n",
    "        \"location_coordinate\": \"52.512,13.36,12z\",\n",
    "        \"language_code\": \"en\",\n",
    "        \"se_type\": \"maps\",\n",
    "    },\n",
    ")\n",
    "maps_search.results(\"coffee near me\")"
   ]
  },
  {
   "cell_type": "markdown",
   "metadata": {},
   "source": [
    "## Integration with Langchain Agents | Langchainエージェントとの統合",
    "",
    "`langchain.agents` モジュールの `Tool` クラスを使用して、`DataForSeoAPIWrapper` をlangchainエージェントと統合することができます。`Tool` クラスは、エージェントが呼び出すことができる関数をカプセル化しています。",
    "",
    "> You can use the `Tool` class from the `langchain.agents` module to integrate the `DataForSeoAPIWrapper` with a langchain agent. The `Tool` class encapsulates a function that the agent can call.",
    ""
   ]
  },
  {
   "cell_type": "code",
   "execution_count": null,
   "metadata": {},
   "outputs": [],
   "source": [
    "from langchain.agents import Tool\n",
    "\n",
    "search = DataForSeoAPIWrapper(\n",
    "    top_count=3,\n",
    "    json_result_types=[\"organic\"],\n",
    "    json_result_fields=[\"title\", \"description\", \"type\"],\n",
    ")\n",
    "tool = Tool(\n",
    "    name=\"google-search-answer\",\n",
    "    description=\"My new answer tool\",\n",
    "    func=search.run,\n",
    ")\n",
    "json_tool = Tool(\n",
    "    name=\"google-search-json\",\n",
    "    description=\"My new json tool\",\n",
    "    func=search.results,\n",
    ")"
   ]
  }
 ],
 "metadata": {
  "kernelspec": {
   "display_name": "Python 3 (ipykernel)",
   "language": "python",
   "name": "python3"
  },
  "language_info": {
   "codemirror_mode": {
    "name": "ipython",
    "version": 3
   },
   "file_extension": ".py",
   "mimetype": "text/x-python",
   "name": "python",
   "nbconvert_exporter": "python",
   "pygments_lexer": "ipython3",
   "version": "3.10.12"
  }
 },
 "nbformat": 4,
 "nbformat_minor": 4
}