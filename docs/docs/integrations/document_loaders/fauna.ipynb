{
 "cells": [
  {
   "attachments": {},
   "cell_type": "markdown",
   "metadata": {},
   "source": [
    "# Fauna | ファウナ\n",
    "\n",
    "> [Fauna](https://fauna.com/)はドキュメント指向データベースです。\n",
    ">\n",
    "> > [Fauna](https://fauna.com/) is a Document Database.\n",
    "\n",
    "`Fauna`のドキュメントをクエリする\n",
    "\n",
    "> Query `Fauna` documents\n",
    "\n"
   ]
  },
  {
   "cell_type": "code",
   "execution_count": null,
   "metadata": {},
   "outputs": [],
   "source": [
    "#!pip install fauna"
   ]
  },
  {
   "attachments": {},
   "cell_type": "markdown",
   "metadata": {},
   "source": [
    "## Query data example | クエリデータの例\n",
    "\n"
   ]
  },
  {
   "cell_type": "code",
   "execution_count": null,
   "metadata": {},
   "outputs": [],
   "source": [
    "from langchain.document_loaders.fauna import FaunaLoader\n",
    "\n",
    "secret = \"<enter-valid-fauna-secret>\"\n",
    "query = \"Item.all()\"  # Fauna query. Assumes that the collection is called \"Item\"\n",
    "field = \"text\"  # The field that contains the page content. Assumes that the field is called \"text\"\n",
    "\n",
    "loader = FaunaLoader(query, field, secret)\n",
    "docs = loader.lazy_load()\n",
    "\n",
    "for value in docs:\n",
    "    print(value)"
   ]
  },
  {
   "attachments": {},
   "cell_type": "markdown",
   "metadata": {},
   "source": [
    "### Query with Pagination | ページネーションを使用したクエリ\n",
    "\n",
    "もしまだデータが残っている場合は、`after` 値を取得できます。クエリに `after` 文字列を渡すことで、カーソルの後ろのデータを取得することができます。\n",
    "\n",
    "> You get a `after` value if there are more data. You can get values after the curcor by passing in the `after` string in query.\n",
    "\n",
    "詳細を知りたい方は[このリンク](https://fqlx-beta--fauna-docs.netlify.app/fqlx/beta/reference/schema_entities/set/static-paginate)をご覧ください。\n",
    "\n",
    "> To learn more following [this link](https://fqlx-beta--fauna-docs.netlify.app/fqlx/beta/reference/schema_entities/set/static-paginate)\n",
    "\n"
   ]
  },
  {
   "cell_type": "code",
   "execution_count": null,
   "metadata": {},
   "outputs": [],
   "source": [
    "query = \"\"\"\n",
    "Item.paginate(\"hs+DzoPOg ... aY1hOohozrV7A\")\n",
    "Item.all()\n",
    "\"\"\"\n",
    "loader = FaunaLoader(query, field, secret)"
   ]
  }
 ],
 "metadata": {
  "language_info": {
   "name": "python"
  },
  "orig_nbformat": 4
 },
 "nbformat": 4,
 "nbformat_minor": 2
}