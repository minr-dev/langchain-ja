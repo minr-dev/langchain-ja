{
 "cells": [
  {
   "attachments": {},
   "cell_type": "markdown",
   "id": "245a954a",
   "metadata": {},
   "source": [
    "# Wolfram Alpha | Wolfram Alpha\n",
    "\n",
    "このノートブックでは、wolfram alphaコンポーネントの使用方法について説明しています。\n",
    "\n",
    "> This notebook goes over how to use the wolfram alpha component.\n",
    "\n",
    "まず、Wolfram Alphaの開発者アカウントを設定し、APP IDを取得する必要があります：\n",
    "\n",
    "> First, you need to set up your Wolfram Alpha developer account and get your APP ID:\n",
    "\n",
    "1. Wolfram Alphaにアクセスして、[こちら](https://developer.wolframalpha.com/)から開発者アカウントにサインアップしてください。\n",
    "\n",
    "   > Go to wolfram alpha and sign up for a developer account [here](https://developer.wolframalpha.com/)\n",
    "\n",
    "2. アプリを作成して、APP IDを取得してください\n",
    "\n",
    "   > Create an app and get your APP ID\n",
    "\n",
    "3. pip install wolframalpha\n",
    "\n",
    "   > pip install wolframalpha\n",
    "\n",
    "\n",
    "次に、いくつかの環境変数を設定する必要があります：\n",
    "\n",
    "> Then we will need to set some environment variables:\n",
    "\n",
    "1. APP IDをWOLFRAM\\_ALPHA\\_APPID環境変数に保存してください\n",
    "\n",
    "   > Save your APP ID into WOLFRAM\\_ALPHA\\_APPID env variable\n",
    "\n",
    "\n",
    "\n"
   ]
  },
  {
   "cell_type": "code",
   "execution_count": null,
   "id": "961b3689",
   "metadata": {
    "vscode": {
     "languageId": "shellscript"
    }
   },
   "outputs": [],
   "source": [
    "pip install wolframalpha"
   ]
  },
  {
   "cell_type": "code",
   "execution_count": 6,
   "id": "34bb5968",
   "metadata": {},
   "outputs": [],
   "source": [
    "import os\n",
    "\n",
    "os.environ[\"WOLFRAM_ALPHA_APPID\"] = \"\""
   ]
  },
  {
   "cell_type": "code",
   "execution_count": 9,
   "id": "ac4910f8",
   "metadata": {},
   "outputs": [],
   "source": [
    "from langchain.utilities.wolfram_alpha import WolframAlphaAPIWrapper"
   ]
  },
  {
   "cell_type": "code",
   "execution_count": 10,
   "id": "84b8f773",
   "metadata": {},
   "outputs": [],
   "source": [
    "wolfram = WolframAlphaAPIWrapper()"
   ]
  },
  {
   "cell_type": "code",
   "execution_count": 11,
   "id": "068991a6",
   "metadata": {},
   "outputs": [
    {
     "data": {
      "text/plain": [
       "'x = 2/5'"
      ]
     },
     "execution_count": 11,
     "metadata": {},
     "output_type": "execute_result"
    }
   ],
   "source": [
    "wolfram.run(\"What is 2x+5 = -3x + 7?\")"
   ]
  },
  {
   "cell_type": "code",
   "execution_count": null,
   "id": "028f4cba",
   "metadata": {},
   "outputs": [],
   "source": []
  }
 ],
 "metadata": {
  "kernelspec": {
   "display_name": ".venv",
   "language": "python",
   "name": "python3"
  },
  "language_info": {
   "codemirror_mode": {
    "name": "ipython",
    "version": 3
   },
   "file_extension": ".py",
   "mimetype": "text/x-python",
   "name": "python",
   "nbconvert_exporter": "python",
   "pygments_lexer": "ipython3",
   "version": "3.9.7"
  },
  "vscode": {
   "interpreter": {
    "hash": "53f3bc57609c7a84333bb558594977aa5b4026b1d6070b93987956689e367341"
   }
  }
 },
 "nbformat": 4,
 "nbformat_minor": 5
}