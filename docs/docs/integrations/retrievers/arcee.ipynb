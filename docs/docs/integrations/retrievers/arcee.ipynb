{
 "cells": [
  {
   "cell_type": "markdown",
   "metadata": {},
   "source": [
    "# Arcee Retriever | Arcee Retriever\n",
    "\n",
    "このノートブックは、Arceeのドメイン適応型言語モデル（DALMs）に関連する文書を取得するために`ArceeRetriever`クラスの使用方法を示しています。\n",
    "\n",
    "> This notebook demonstrates how to use the `ArceeRetriever` class to retrieve relevant document(s) for Arcee's Domain Adapted Language Models (DALMs).\n",
    "\n"
   ]
  },
  {
   "cell_type": "markdown",
   "metadata": {},
   "source": [
    "### Setup | セットアップ\n",
    "\n",
    "`ArceeRetriever`を使用する前に、Arcee APIキーが`ARCEE_API_KEY`環境変数として設定されていることを確認してください。APIキーを名前付きパラメータとして渡すこともできます。\n",
    "\n",
    "> Before using `ArceeRetriever`, make sure the Arcee API key is set as `ARCEE_API_KEY` environment variable. You can also pass the api key as a named parameter.\n",
    "\n"
   ]
  },
  {
   "cell_type": "code",
   "execution_count": null,
   "metadata": {},
   "outputs": [],
   "source": [
    "from langchain.retrievers import ArceeRetriever\n",
    "\n",
    "retriever = ArceeRetriever(\n",
    "    model=\"DALM-PubMed\",\n",
    "    # arcee_api_key=\"ARCEE-API-KEY\" # if not already set in the environment\n",
    ")"
   ]
  },
  {
   "cell_type": "markdown",
   "metadata": {},
   "source": [
    "### Additional Configuration | 追加設定\n",
    "\n",
    "`ArceeRetriever`のパラメーターである`arcee_api_url`、`arcee_app_url`、`model_kwargs`などを必要に応じて設定することもできます。オブジェクト初期化時に`model_kwargs`を設定すると、それ以降のすべての検索でフィルターとサイズがデフォルトで使用されます。\n",
    "\n",
    "> You can also configure `ArceeRetriever`'s parameters such as `arcee_api_url`, `arcee_app_url`, and `model_kwargs` as needed.\n",
    "> Setting the `model_kwargs` at the object initialization uses the filters and size as default for all the subsequent retrievals.\n",
    "\n"
   ]
  },
  {
   "cell_type": "code",
   "execution_count": null,
   "metadata": {},
   "outputs": [],
   "source": [
    "retriever = ArceeRetriever(\n",
    "    model=\"DALM-PubMed\",\n",
    "    # arcee_api_key=\"ARCEE-API-KEY\", # if not already set in the environment\n",
    "    arcee_api_url=\"https://custom-api.arcee.ai\",  # default is https://api.arcee.ai\n",
    "    arcee_app_url=\"https://custom-app.arcee.ai\",  # default is https://app.arcee.ai\n",
    "    model_kwargs={\n",
    "        \"size\": 5,\n",
    "        \"filters\": [\n",
    "            {\n",
    "                \"field_name\": \"document\",\n",
    "                \"filter_type\": \"fuzzy_search\",\n",
    "                \"value\": \"Einstein\",\n",
    "            }\n",
    "        ],\n",
    "    },\n",
    ")"
   ]
  },
  {
   "cell_type": "markdown",
   "metadata": {},
   "source": [
    "### Retrieving documents | ドキュメントの取得\n",
    "\n",
    "クエリを提供することで、アップロードされたコンテキストから関連するドキュメントを取得できます。ここに例を示します：\n",
    "\n",
    "> You can retrieve relevant documents from uploaded contexts by providing a query. Here's an example:\n",
    "\n"
   ]
  },
  {
   "cell_type": "code",
   "execution_count": null,
   "metadata": {},
   "outputs": [],
   "source": [
    "query = \"Can AI-driven music therapy contribute to the rehabilitation of patients with disorders of consciousness?\"\n",
    "documents = retriever.get_relevant_documents(query=query)"
   ]
  },
  {
   "cell_type": "markdown",
   "metadata": {},
   "source": [
    "### Additional parameters | 追加パラメータ\n",
    "\n",
    "Arceeを使用すると、`filters`を適用し、取得するドキュメントの`size`（件数）を設定することができます。フィルターは結果を絞り込むのに役立ちます。これらのパラメータを使用する方法は以下の通りです：\n",
    "\n",
    "> Arcee allows you to apply `filters` and set the `size` (in terms of count) of retrieved document(s). Filters help narrow down the results. Here's how to use these parameters:\n",
    "\n"
   ]
  },
  {
   "cell_type": "code",
   "execution_count": null,
   "metadata": {},
   "outputs": [],
   "source": [
    "# Define filters\n",
    "filters = [\n",
    "    {\"field_name\": \"document\", \"filter_type\": \"fuzzy_search\", \"value\": \"Music\"},\n",
    "    {\"field_name\": \"year\", \"filter_type\": \"strict_search\", \"value\": \"1905\"},\n",
    "]\n",
    "\n",
    "# Retrieve documents with filters and size params\n",
    "documents = retriever.get_relevant_documents(query=query, size=5, filters=filters)"
   ]
  }
 ],
 "metadata": {
  "kernelspec": {
   "display_name": ".venv",
   "language": "python",
   "name": "python3"
  },
  "language_info": {
   "codemirror_mode": {
    "name": "ipython",
    "version": 3
   },
   "file_extension": ".py",
   "mimetype": "text/x-python",
   "name": "python",
   "nbconvert_exporter": "python",
   "pygments_lexer": "ipython3",
   "version": "3.10.12"
  }
 },
 "nbformat": 4,
 "nbformat_minor": 2
}