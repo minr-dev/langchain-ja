{
 "cells": [
  {
   "cell_type": "markdown",
   "metadata": {
    "collapsed": true,
    "jupyter": {
     "outputs_hidden": true
    },
    "pycharm": {
     "name": "#%% md\n"
    }
   },
   "source": [
    "# Label Studio | Label Studio\n",
    "\n",
    "> [Label Studio](https://labelstud.io/guide/get_started)は、大規模言語モデル（LLMs）のファインチューニング用データラベリングにおいて、LangChainに柔軟性を提供するオープンソースのデータラベリングプラットフォームです。また、カスタムトレーニングデータの準備や、人間のフィードバックを通じたレスポンスの収集と評価を可能にします。\n",
    ">\n",
    "> > [Label Studio](https://labelstud.io/guide/get_started) is an open-source data labeling platform that provides LangChain with flexibility when it comes to labeling data for fine-tuning large language models (LLMs). It also enables the preparation of custom training data and the collection and evaluation of responses through human feedback.\n",
    "\n",
    "このガイドでは、LangChainパイプラインを`Label Studio`に接続する方法を学びます。\n",
    "\n",
    "> In this guide, you will learn how to connect a LangChain pipeline to `Label Studio` to:\n",
    "\n",
    "* すべての入力プロンプト、会話、および応答を一つの`Label Studio`プロジェクトで集約します。これにより、ラベリングと分析をより容易にするために、全てのデータを一箇所に統合します。\n",
    "\n",
    "  > Aggregate all input prompts, conversations, and responses in a single `Label Studio` project. This consolidates all the data in one place for easier labeling and analysis.\n",
    "\n",
    "* プロンプトとレスポンスを洗練させ、教師ありファインチューニング（SFT）および人間のフィードバックによる強化学習（RLHF）のシナリオ用のデータセットを作成します。ラベル付けされたデータは、LLMの性能を向上させるためのさらなるトレーニングに使用できます。\n",
    "\n",
    "  > Refine prompts and responses to create a dataset for supervised fine-tuning (SFT) and reinforcement learning with human feedback (RLHF) scenarios. The labeled data can be used to further train the LLM to improve its performance.\n",
    "\n",
    "* モデルの応答を人間のフィードバックで評価します。`Label Studio`は、人間がモデルの応答をレビューしてフィードバックを提供するためのインターフェースを提供し、評価と反復作業を可能にします。\n",
    "\n",
    "  > Evaluate model responses through human feedback. `Label Studio` provides an interface for humans to review and provide feedback on model responses, allowing evaluation and iteration.\n",
    "\n",
    "\n",
    "\n"
   ]
  },
  {
   "cell_type": "markdown",
   "metadata": {
    "pycharm": {
     "name": "#%% md\n"
    }
   },
   "source": [
    "## Installation and setup | インストールとセットアップ\n",
    "\n",
    "\n"
   ]
  },
  {
   "cell_type": "markdown",
   "metadata": {
    "pycharm": {
     "name": "#%% md\n"
    }
   },
   "source": [
    "まず、Label StudioとLabel Studio APIクライアントの最新バージョンをインストールしてください：\n",
    "\n",
    "> First install latest versions of Label Studio and Label Studio API client:\n",
    "\n",
    "\n"
   ]
  },
  {
   "cell_type": "code",
   "execution_count": null,
   "metadata": {
    "pycharm": {
     "name": "#%%\n"
    }
   },
   "outputs": [],
   "source": [
    "!pip install -U label-studio label-studio-sdk openai"
   ]
  },
  {
   "cell_type": "markdown",
   "metadata": {
    "pycharm": {
     "name": "#%% md\n"
    }
   },
   "source": [
    "次に、コマンドラインで `label-studio` を実行して、`http://localhost:8080` でローカルのLabel Studioインスタンスを起動します。より多くのオプションについては、[Label Studioのインストールガイド](https://labelstud.io/guide/install)を参照してください。\n",
    "\n",
    "> Next, run `label-studio` on the command line to start the local LabelStudio instance at `http://localhost:8080`. See the [Label Studio installation guide](https://labelstud.io/guide/install) for more options.\n",
    "\n",
    "\n"
   ]
  },
  {
   "cell_type": "markdown",
   "metadata": {
    "pycharm": {
     "name": "#%% md\n"
    }
   },
   "source": [
    "APIコールを行うにはトークンが必要です。\n",
    "\n",
    "> You'll need a token to make API calls.\n",
    "\n",
    "ブラウザでLabelStudioインスタンスを開き、「アカウント & 設定 > アクセストークン」に移動して、キーをコピーしてください。\n",
    "\n",
    "> Open your LabelStudio instance in your browser, go to `Account & Settings > Access Token` and copy the key.\n",
    "\n",
    "LabelStudioのURL、APIキー、およびOpenAI APIキーを環境変数として設定してください：\n",
    "\n",
    "> Set environment variables with your LabelStudio URL, API key and OpenAI API key:\n",
    "\n",
    "\n"
   ]
  },
  {
   "cell_type": "code",
   "execution_count": null,
   "metadata": {
    "pycharm": {
     "name": "#%%\n"
    }
   },
   "outputs": [],
   "source": [
    "import os\n",
    "\n",
    "os.environ[\"LABEL_STUDIO_URL\"] = \"<YOUR-LABEL-STUDIO-URL>\"  # e.g. http://localhost:8080\n",
    "os.environ[\"LABEL_STUDIO_API_KEY\"] = \"<YOUR-LABEL-STUDIO-API-KEY>\"\n",
    "os.environ[\"OPENAI_API_KEY\"] = \"<YOUR-OPENAI-API-KEY>\""
   ]
  },
  {
   "cell_type": "markdown",
   "metadata": {
    "pycharm": {
     "name": "#%% md\n"
    }
   },
   "source": [
    "## Collecting LLMs prompts and responses | LLMのプロンプトとレスポンスの収集\n",
    "\n",
    "\n"
   ]
  },
  {
   "cell_type": "markdown",
   "metadata": {},
   "source": [
    "ラベリングに使用されるデータはLabel Studio内のプロジェクトに保存されています。各プロジェクトは、入力データと出力データの仕様を詳細に記述したXML設定によって識別されます。\n",
    "\n",
    "> The data used for labeling is stored in projects within Label Studio. Every project is identified by an XML configuration that details the specifications for input and output data.\n",
    "\n",
    "テキスト形式で人間の入力を受け取り、テキストエリアに編集可能なLLMの応答を出力するプロジェクトを作成します：\n",
    "\n",
    "> Create a project that takes human input in text format and outputs an editable LLM response in a text area:\n",
    "\n",
    "```xml\n",
    "<View>\n",
    "<Style>\n",
    "    .prompt-box {\n",
    "        background-color: white;\n",
    "        border-radius: 10px;\n",
    "        box-shadow: 0px 4px 6px rgba(0, 0, 0, 0.1);\n",
    "        padding: 20px;\n",
    "    }\n",
    "</Style>\n",
    "<View className=\"root\">\n",
    "    <View className=\"prompt-box\">\n",
    "        <Text name=\"prompt\" value=\"$prompt\"/>\n",
    "    </View>\n",
    "    <TextArea name=\"response\" toName=\"prompt\"\n",
    "              maxSubmissions=\"1\" editable=\"true\"\n",
    "              required=\"true\"/>\n",
    "</View>\n",
    "<Header value=\"Rate the response:\"/>\n",
    "<Rating name=\"rating\" toName=\"prompt\"/>\n",
    "</View>\n",
    "```\n",
    "\n",
    "1. Label Studioでプロジェクトを作成するには、「Create」ボタンをクリックしてください。\n",
    "\n",
    "   > To create a project in Label Studio, click on the \"Create\" button.\n",
    "\n",
    "2. `Project Name` フィールドに、`My Project` のようなプロジェクトの名前を入力してください。\n",
    "\n",
    "   > Enter a name for your project in the \"Project Name\" field, such as `My Project`.\n",
    "\n",
    "3. `ラベリング設定 > カスタムテンプレート`に移動し、上記で提供されたXML設定を貼り付けてください。\n",
    "\n",
    "   > Navigate to `Labeling Setup > Custom Template` and paste the XML configuration provided above.\n",
    "\n",
    "\n",
    "\n"
   ]
  },
  {
   "cell_type": "markdown",
   "metadata": {
    "pycharm": {
     "name": "#%% md\n"
    }
   },
   "source": [
    "LabelStudioプロジェクトで入力LLMプロンプトと出力レスポンスを収集し、`LabelStudioCallbackHandler`を介して接続することができます。\n",
    "\n",
    "> You can collect input LLM prompts and output responses in a LabelStudio project, connecting it via `LabelStudioCallbackHandler`:\n",
    "\n",
    "\n"
   ]
  },
  {
   "cell_type": "code",
   "execution_count": null,
   "metadata": {
    "pycharm": {
     "name": "#%%\n"
    }
   },
   "outputs": [],
   "source": [
    "from langchain.callbacks import LabelStudioCallbackHandler\n",
    "from langchain.llms import OpenAI\n",
    "\n",
    "llm = OpenAI(\n",
    "    temperature=0, callbacks=[LabelStudioCallbackHandler(project_name=\"My Project\")]\n",
    ")\n",
    "print(llm(\"Tell me a joke\"))"
   ]
  },
  {
   "cell_type": "markdown",
   "metadata": {
    "pycharm": {
     "name": "#%% md\n"
    }
   },
   "source": [
    "Label Studioで`My Project`を開いてください。プロンプト、レスポンス、そしてモデル名のようなメタデータが表示されることでしょう。\n",
    "\n",
    "> In the Label Studio, open `My Project`. You will see the prompts, responses, and metadata like the model name.\n",
    "\n",
    "\n"
   ]
  },
  {
   "cell_type": "markdown",
   "metadata": {
    "pycharm": {
     "name": "#%% md\n"
    }
   },
   "source": [
    "## Collecting Chat model Dialogues | チャットモデルのダイアログ収集\n",
    "\n",
    "\n"
   ]
  },
  {
   "cell_type": "markdown",
   "metadata": {},
   "source": [
    "LabelStudioを使用して、フルチャットダイアログを追跡し表示することができるだけでなく、最後の応答を評価し修正する能力もあります。\n",
    "\n",
    "> You can also track and display full chat dialogues in LabelStudio, with the ability to rate and modify the last response:\n",
    "\n",
    "1. Label Studioを開いて、「Create」ボタンをクリックしてください。\n",
    "\n",
    "   > Open Label Studio and click on the \"Create\" button.\n",
    "\n",
    "2. `Project Name`フィールドに、`New Project with Chat`のようなプロジェクトの名前を入力してください。\n",
    "\n",
    "   > Enter a name for your project in the \"Project Name\" field, such as `New Project with Chat`.\n",
    "\n",
    "3. ラベリング設定 > カスタムテンプレートに移動し、以下のXML設定を貼り付けてください：\n",
    "\n",
    "   > Navigate to Labeling Setup > Custom Template and paste the following XML configuration:\n",
    "\n",
    "\n",
    "```xml\n",
    "<View>\n",
    "<View className=\"root\">\n",
    "     <Paragraphs name=\"dialogue\"\n",
    "               value=\"$prompt\"\n",
    "               layout=\"dialogue\"\n",
    "               textKey=\"content\"\n",
    "               nameKey=\"role\"\n",
    "               granularity=\"sentence\"/>\n",
    "  <Header value=\"Final response:\"/>\n",
    "    <TextArea name=\"response\" toName=\"dialogue\"\n",
    "              maxSubmissions=\"1\" editable=\"true\"\n",
    "              required=\"true\"/>\n",
    "</View>\n",
    "<Header value=\"Rate the response:\"/>\n",
    "<Rating name=\"rating\" toName=\"dialogue\"/>\n",
    "</View>\n",
    "```\n",
    "\n",
    "\n"
   ]
  },
  {
   "cell_type": "code",
   "execution_count": null,
   "metadata": {
    "pycharm": {
     "name": "#%%\n"
    }
   },
   "outputs": [],
   "source": [
    "from langchain.callbacks import LabelStudioCallbackHandler\n",
    "from langchain.chat_models import ChatOpenAI\n",
    "from langchain.schema import HumanMessage, SystemMessage\n",
    "\n",
    "chat_llm = ChatOpenAI(\n",
    "    callbacks=[\n",
    "        LabelStudioCallbackHandler(\n",
    "            mode=\"chat\",\n",
    "            project_name=\"New Project with Chat\",\n",
    "        )\n",
    "    ]\n",
    ")\n",
    "llm_results = chat_llm(\n",
    "    [\n",
    "        SystemMessage(content=\"Always use a lot of emojis\"),\n",
    "        HumanMessage(content=\"Tell me a joke\"),\n",
    "    ]\n",
    ")"
   ]
  },
  {
   "cell_type": "markdown",
   "metadata": {},
   "source": [
    "Label Studioで、「New Project with Chat」を開き、作成されたタスクをクリックすると、ダイアログ履歴が表示され、レスポンスの編集や注釈ができます。\n",
    "\n",
    "> In Label Studio, open \"New Project with Chat\". Click on a created task to view dialog history and edit/annotate responses.\n",
    "\n",
    "\n"
   ]
  },
  {
   "cell_type": "markdown",
   "metadata": {
    "pycharm": {
     "name": "#%% md\n"
    }
   },
   "source": [
    "## Custom Labeling Configuration | カスタムラベリング設定\n",
    "\n",
    "\n"
   ]
  },
  {
   "cell_type": "markdown",
   "metadata": {
    "pycharm": {
     "name": "#%% md\n"
    }
   },
   "source": [
    "LabelStudioのデフォルトのラベリング設定を変更して、レスポンスの感情、関連性、そして[他の様々なタイプのアノテーターのフィードバック](https://labelstud.io/tags/)を追加することができます。\n",
    "\n",
    "> You can modify the default labeling configuration in LabelStudio to add more target labels like response sentiment, relevance, and many [other types annotator's feedback](https://labelstud.io/tags/).\n",
    "\n",
    "新しいラベリング設定はUIから追加できます：`Settings > Labeling Interface`へ移動し、感情分析のための`Choices`や関連性評価のための`Rating`などの追加タグを含むカスタム設定を行ってください。どの設定にもLLMの応答を表示するために[`TextArea`タグ](https://labelstud.io/tags/textarea)が含まれている必要があることに注意してください。\n",
    "\n",
    "> New labeling configuration can be added from UI: go to `Settings > Labeling Interface` and set up a custom configuration with additional tags like `Choices` for sentiment or `Rating` for relevance. Keep in mind that [`TextArea` tag](https://labelstud.io/tags/textarea) should be presented in any configuration to display the LLM responses.\n",
    "\n",
    "あるいは、プロジェクト作成前の初回の呼び出し時にラベリング設定を指定することもできます：\n",
    "\n",
    "> Alternatively, you can specify the labeling configuration on the initial call before project creation:\n",
    "\n",
    "\n"
   ]
  },
  {
   "cell_type": "code",
   "execution_count": null,
   "metadata": {
    "pycharm": {
     "name": "#%%\n"
    }
   },
   "outputs": [],
   "source": [
    "ls = LabelStudioCallbackHandler(\n",
    "    project_config=\"\"\"\n",
    "<View>\n",
    "<Text name=\"prompt\" value=\"$prompt\"/>\n",
    "<TextArea name=\"response\" toName=\"prompt\"/>\n",
    "<TextArea name=\"user_feedback\" toName=\"prompt\"/>\n",
    "<Rating name=\"rating\" toName=\"prompt\"/>\n",
    "<Choices name=\"sentiment\" toName=\"prompt\">\n",
    "    <Choice value=\"Positive\"/>\n",
    "    <Choice value=\"Negative\"/>\n",
    "</Choices>\n",
    "</View>\n",
    "\"\"\"\n",
    ")"
   ]
  },
  {
   "cell_type": "markdown",
   "metadata": {},
   "source": [
    "プロジェクトが存在しない場合は、指定されたラベリング設定で新たに作成されることに注意してください。\n",
    "\n",
    "> Note that if the project doesn't exist, it will be created with the specified labeling configuration.\n",
    "\n",
    "\n"
   ]
  },
  {
   "cell_type": "markdown",
   "metadata": {
    "pycharm": {
     "name": "#%% md\n"
    }
   },
   "source": [
    "## Other parameters | その他のパラメーター\n",
    "\n",
    "\n"
   ]
  },
  {
   "cell_type": "markdown",
   "metadata": {
    "pycharm": {
     "name": "#%% md\n"
    }
   },
   "source": [
    "`LabelStudioCallbackHandler`は、いくつかのオプショナルパラメーターを受け入れます：\n",
    "\n",
    "> The `LabelStudioCallbackHandler` accepts several optional parameters:\n",
    "\n",
    "* **api\\_key** - Label StudioのAPIキーです。環境変数 `LABEL_STUDIO_API_KEY` を上書きします。\n",
    "\n",
    "  > **api\\_key** - Label Studio API key. Overrides environmental variable `LABEL_STUDIO_API_KEY`.\n",
    "\n",
    "* **url** - Label StudioのURL。`LABEL_STUDIO_URL`を上書きします。デフォルトは`http://localhost:8080`です。\n",
    "\n",
    "  > **url** - Label Studio URL. Overrides `LABEL_STUDIO_URL`, default `http://localhost:8080`.\n",
    "\n",
    "* **project\\_id** - 既存のLabel StudioプロジェクトIDです。`LABEL_STUDIO_PROJECT_ID`を上書きします。このプロジェクトにデータを保存します。\n",
    "\n",
    "  > **project\\_id** - Existing Label Studio project ID. Overrides `LABEL_STUDIO_PROJECT_ID`. Stores data in this project.\n",
    "\n",
    "* **project\\_name** - プロジェクトIDが指定されていない場合のプロジェクト名です。新しいプロジェクトを作成します。デフォルトは現在の日付を用いて`\"LangChain-%Y-%m-%d\"`という形式でフォーマットされます。\n",
    "\n",
    "  > **project\\_name** - Project name if project ID not specified. Creates a new project. Default is `\"LangChain-%Y-%m-%d\"` formatted with the current date.\n",
    "\n",
    "* **project\\_config** - [カスタムラベリング設定](#custom-labeling-configuration)\n",
    "\n",
    "  > **project\\_config** - [custom labeling configuration](#custom-labeling-configuration)\n",
    "\n",
    "* **モード**: このショートカットを使用して、最初からターゲットの設定を作成します：\n",
    "\n",
    "  > **mode**: use this shortcut to create target configuration from scratch:\n",
    "  \n",
    "* \"prompt\" - 一つのプロンプトに対して一つのレスポンスを返します。デフォルト設定です。\n",
    "\n",
    "    > `\"prompt\"` - Single prompt, single response. Default.\n",
    "\n",
    "  * \"chat\" - 複数ターンのチャットモード。\n",
    "\n",
    "    > `\"chat\"` - Multi-turn chat mode.\n",
    "\n",
    "\n",
    "\n"
   ]
  }
 ],
 "metadata": {
  "kernelspec": {
   "display_name": "Python 3 (ipykernel)",
   "language": "python",
   "name": "python3"
  },
  "language_info": {
   "codemirror_mode": {
    "name": "ipython",
    "version": 3
   },
   "file_extension": ".py",
   "mimetype": "text/x-python",
   "name": "python",
   "nbconvert_exporter": "python",
   "pygments_lexer": "ipython3",
   "version": "3.10.12"
  }
 },
 "nbformat": 4,
 "nbformat_minor": 4
}