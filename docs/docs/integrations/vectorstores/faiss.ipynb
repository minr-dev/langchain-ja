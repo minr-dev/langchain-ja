{
 "cells": [
  {
   "cell_type": "markdown",
   "id": "683953b3",
   "metadata": {},
   "source": [
    "# Faiss | Faiss\n",
    "\n",
    "> [Facebook AI Similarity Search (Faiss)](https://engineering.fb.com/2017/03/29/data-infrastructure/faiss-a-library-for-efficient-similarity-search/)は、密集したベクトルの効率的な類似性検索とクラスタリングのためのライブラリです。どんなサイズのベクトルの集合に対しても検索できるアルゴリズムを含んでおり、RAMに収まらないほど大きなものにも対応しています。また、評価やパラメータチューニングのための補助コードも含まれています。\n",
    ">\n",
    "> > [Facebook AI Similarity Search (Faiss)](https://engineering.fb.com/2017/03/29/data-infrastructure/faiss-a-library-for-efficient-similarity-search/) is a library for efficient similarity search and clustering of dense vectors. It contains algorithms that search in sets of vectors of any size, up to ones that possibly do not fit in RAM. It also contains supporting code for evaluation and parameter tuning.\n",
    "\n",
    "[Faissのドキュメント](https://faiss.ai/)。\n",
    "\n",
    "> [Faiss documentation](https://faiss.ai/).\n",
    "\n",
    "このノートブックは、`FAISS` ベクターデータベースに関連する機能の使用方法を示しています。\n",
    "\n",
    "> This notebook shows how to use functionality related to the `FAISS` vector database.\n",
    "\n"
   ]
  },
  {
   "cell_type": "code",
   "execution_count": null,
   "id": "497fcd89-e832-46a7-a74a-c71199666206",
   "metadata": {
    "tags": []
   },
   "outputs": [],
   "source": [
    "!pip install faiss-gpu # For CUDA 7.5+ Supported GPU's.\n",
    "# OR\n",
    "!pip install faiss-cpu # For CPU Installation"
   ]
  },
  {
   "cell_type": "markdown",
   "id": "38237514-b3fa-44a4-9cff-30cd6bf50073",
   "metadata": {},
   "source": [
    "OpenAIEmbeddingsを使用するためには、OpenAI APIキーを取得する必要があります。\n",
    "\n",
    "> We want to use OpenAIEmbeddings so we have to get the OpenAI API Key.\n",
    "\n"
   ]
  },
  {
   "cell_type": "code",
   "execution_count": null,
   "id": "dc37144c-208d-4ab3-9f3a-0407a69fe052",
   "metadata": {
    "tags": []
   },
   "outputs": [],
   "source": [
    "import getpass\n",
    "import os\n",
    "\n",
    "os.environ[\"OPENAI_API_KEY\"] = getpass.getpass(\"OpenAI API Key:\")\n",
    "\n",
    "# Uncomment the following line if you need to initialize FAISS with no AVX2 optimization\n",
    "# os.environ['FAISS_NO_AVX2'] = '1'\n",
    "\n",
    "from langchain.document_loaders import TextLoader\n",
    "from langchain.embeddings.openai import OpenAIEmbeddings\n",
    "from langchain.text_splitter import CharacterTextSplitter\n",
    "from langchain.vectorstores import FAISS\n",
    "\n",
    "loader = TextLoader(\"../../../extras/modules/state_of_the_union.txt\")\n",
    "documents = loader.load()\n",
    "text_splitter = CharacterTextSplitter(chunk_size=1000, chunk_overlap=0)\n",
    "docs = text_splitter.split_documents(documents)\n",
    "\n",
    "embeddings = OpenAIEmbeddings()"
   ]
  },
  {
   "cell_type": "code",
   "execution_count": 3,
   "id": "5eabdb75",
   "metadata": {
    "tags": []
   },
   "outputs": [],
   "source": [
    "db = FAISS.from_documents(docs, embeddings)\n",
    "\n",
    "query = \"What did the president say about Ketanji Brown Jackson\"\n",
    "docs = db.similarity_search(query)"
   ]
  },
  {
   "cell_type": "code",
   "execution_count": 12,
   "id": "4b172de8",
   "metadata": {
    "tags": []
   },
   "outputs": [
    {
     "name": "stdout",
     "output_type": "stream",
     "text": [
      "Tonight. I call on the Senate to: Pass the Freedom to Vote Act. Pass the John Lewis Voting Rights Act. And while you’re at it, pass the Disclose Act so Americans can know who is funding our elections. \n",
      "\n",
      "Tonight, I’d like to honor someone who has dedicated his life to serve this country: Justice Stephen Breyer—an Army veteran, Constitutional scholar, and retiring Justice of the United States Supreme Court. Justice Breyer, thank you for your service. \n",
      "\n",
      "One of the most serious constitutional responsibilities a President has is nominating someone to serve on the United States Supreme Court. \n",
      "\n",
      "And I did that 4 days ago, when I nominated Circuit Court of Appeals Judge Ketanji Brown Jackson. One of our nation’s top legal minds, who will continue Justice Breyer’s legacy of excellence.\n"
     ]
    }
   ],
   "source": [
    "print(docs[0].page_content)"
   ]
  },
  {
   "cell_type": "markdown",
   "id": "f13473b5",
   "metadata": {},
   "source": [
    "## Similarity Search with score | スコア付き類似性検索\n",
    "\n",
    "FAISSには特有のメソッドがいくつかあります。その一つが`similarity_search_with_score`で、これを使用するとドキュメントだけでなく、クエリとそれらのドキュメントとの距離スコアも返されます。返される距離スコアはL2距離で、スコアが低いほど望ましいです。\n",
    "\n",
    "> There are some FAISS specific methods. One of them is `similarity_search_with_score`, which allows you to return not only the documents but also the distance score of the query to them. The returned distance score is L2 distance. Therefore, a lower score is better.\n",
    "\n"
   ]
  },
  {
   "cell_type": "code",
   "execution_count": 13,
   "id": "186ee1d8",
   "metadata": {},
   "outputs": [],
   "source": [
    "docs_and_scores = db.similarity_search_with_score(query)"
   ]
  },
  {
   "cell_type": "code",
   "execution_count": 14,
   "id": "284e04b5",
   "metadata": {},
   "outputs": [
    {
     "data": {
      "text/plain": [
       "(Document(page_content='Tonight. I call on the Senate to: Pass the Freedom to Vote Act. Pass the John Lewis Voting Rights Act. And while you’re at it, pass the Disclose Act so Americans can know who is funding our elections. \\n\\nTonight, I’d like to honor someone who has dedicated his life to serve this country: Justice Stephen Breyer—an Army veteran, Constitutional scholar, and retiring Justice of the United States Supreme Court. Justice Breyer, thank you for your service. \\n\\nOne of the most serious constitutional responsibilities a President has is nominating someone to serve on the United States Supreme Court. \\n\\nAnd I did that 4 days ago, when I nominated Circuit Court of Appeals Judge Ketanji Brown Jackson. One of our nation’s top legal minds, who will continue Justice Breyer’s legacy of excellence.', metadata={'source': '../../modules/state_of_the_union.txt'}),\n",
       " 0.36913747)"
      ]
     },
     "execution_count": 14,
     "metadata": {},
     "output_type": "execute_result"
    }
   ],
   "source": [
    "docs_and_scores[0]"
   ]
  },
  {
   "cell_type": "markdown",
   "id": "f34420cf",
   "metadata": {},
   "source": [
    "`similarity_search_by_vector` を使用することで、文字列ではなく埋め込みベクトルをパラメータとして受け取り、与えられた埋め込みベクトルに類似したドキュメントを検索することも可能です。\n",
    "\n",
    "> It is also possible to do a search for documents similar to a given embedding vector using `similarity_search_by_vector` which accepts an embedding vector as a parameter instead of a string.\n",
    "\n"
   ]
  },
  {
   "cell_type": "code",
   "execution_count": 15,
   "id": "b558ebb7",
   "metadata": {},
   "outputs": [],
   "source": [
    "embedding_vector = embeddings.embed_query(query)\n",
    "docs_and_scores = db.similarity_search_by_vector(embedding_vector)"
   ]
  },
  {
   "cell_type": "markdown",
   "id": "31bda7fd",
   "metadata": {},
   "source": [
    "## Saving and loading | 保存と読み込み\n",
    "\n",
    "FAISSインデックスを保存および読み込むこともできます。これにより、使用するたびにインデックスを再作成する必要がなくなるため便利です。\n",
    "\n",
    "> You can also save and load a FAISS index. This is useful so you don't have to recreate it everytime you use it.\n",
    "\n"
   ]
  },
  {
   "cell_type": "code",
   "execution_count": null,
   "id": "1b31fe27-e0b3-42c6-b17c-8270b517ee1f",
   "metadata": {},
   "outputs": [],
   "source": [
    "db.save_local(\"faiss_index\")\n",
    "\n",
    "new_db = FAISS.load_local(\"faiss_index\", embeddings)\n",
    "\n",
    "docs = new_db.similarity_search(query)"
   ]
  },
  {
   "cell_type": "code",
   "execution_count": 19,
   "id": "98378c4e",
   "metadata": {},
   "outputs": [
    {
     "data": {
      "text/plain": [
       "Document(page_content='Tonight. I call on the Senate to: Pass the Freedom to Vote Act. Pass the John Lewis Voting Rights Act. And while you’re at it, pass the Disclose Act so Americans can know who is funding our elections. \\n\\nTonight, I’d like to honor someone who has dedicated his life to serve this country: Justice Stephen Breyer—an Army veteran, Constitutional scholar, and retiring Justice of the United States Supreme Court. Justice Breyer, thank you for your service. \\n\\nOne of the most serious constitutional responsibilities a President has is nominating someone to serve on the United States Supreme Court. \\n\\nAnd I did that 4 days ago, when I nominated Circuit Court of Appeals Judge Ketanji Brown Jackson. One of our nation’s top legal minds, who will continue Justice Breyer’s legacy of excellence.', metadata={'source': '../../../state_of_the_union.txt'})"
      ]
     },
     "execution_count": 19,
     "metadata": {},
     "output_type": "execute_result"
    }
   ],
   "source": [
    "docs[0]"
   ]
  },
  {
   "cell_type": "markdown",
   "id": "30c8f57b",
   "metadata": {},
   "source": [
    "# Serializing and De-Serializing to bytes | バイトへのシリアライズとデシリアライズ\n",
    "\n",
    "これらの関数を使用してFAISSインデックスをピクル化することができます。90MBの埋め込みモデル（sentence-transformers/all-MiniLM-L6-v2またはその他のモデル）を使用する場合、ピクル化した結果のファイルサイズは90MBを超えます。その理由は、モデルのサイズも全体のサイズに含まれているからです。この問題を解決するためには、以下の関数を使用してください。これらの関数はFAISSインデックスのみをシリアライズするため、ファイルサイズは大幅に小さくなります。SQLのようなデータベースにインデックスを保存したい場合には、これが特に役立ちます。\n",
    "\n",
    "> you can pickle the FAISS Index by these functions. If you use embeddings model which is of 90 mb (sentence-transformers/all-MiniLM-L6-v2 or any other model), the resultant pickle size would be more than 90 mb. the size of the model is also included in the overall size. To overcome this, use the below functions. These functions only serializes FAISS index and size would be much lesser. this can be helpful if you wish to store the index in database like sql.\n",
    "\n"
   ]
  },
  {
   "cell_type": "code",
   "execution_count": null,
   "id": "d8faead5",
   "metadata": {},
   "outputs": [],
   "source": [
    "from langchain.embeddings.huggingface import HuggingFaceEmbeddings\n",
    "\n",
    "pkl = db.serialize_to_bytes()  # serializes the faiss\n",
    "embeddings = HuggingFaceEmbeddings(model_name=\"all-MiniLM-L6-v2\")\n",
    "\n",
    "db = FAISS.deserialize_from_bytes(\n",
    "    embeddings=embeddings, serialized=pkl\n",
    ")  # Load the index"
   ]
  },
  {
   "cell_type": "markdown",
   "id": "57da60d4",
   "metadata": {},
   "source": [
    "## Merging | マージ\n",
    "\n",
    "また、二つのFAISSベクトルストアを統合することもできます\n",
    "\n",
    "> You can also merge two FAISS vectorstores\n",
    "\n"
   ]
  },
  {
   "cell_type": "code",
   "execution_count": null,
   "id": "9b8f5e31-3f40-4e94-8d97-5883125efba7",
   "metadata": {},
   "outputs": [],
   "source": [
    "db1 = FAISS.from_texts([\"foo\"], embeddings)\n",
    "db2 = FAISS.from_texts([\"bar\"], embeddings)\n",
    "\n",
    "db1.docstore._dict"
   ]
  },
  {
   "cell_type": "code",
   "execution_count": 22,
   "id": "83392605",
   "metadata": {},
   "outputs": [
    {
     "data": {
      "text/plain": [
       "{'807e0c63-13f6-4070-9774-5c6f0fbb9866': Document(page_content='bar', metadata={})}"
      ]
     },
     "execution_count": 22,
     "metadata": {},
     "output_type": "execute_result"
    }
   ],
   "source": [
    "db2.docstore._dict"
   ]
  },
  {
   "cell_type": "code",
   "execution_count": 23,
   "id": "a3fcc1c7",
   "metadata": {},
   "outputs": [],
   "source": [
    "db1.merge_from(db2)"
   ]
  },
  {
   "cell_type": "code",
   "execution_count": 24,
   "id": "41c51f89",
   "metadata": {},
   "outputs": [
    {
     "data": {
      "text/plain": [
       "{'068c473b-d420-487a-806b-fb0ccea7f711': Document(page_content='foo', metadata={}),\n",
       " '807e0c63-13f6-4070-9774-5c6f0fbb9866': Document(page_content='bar', metadata={})}"
      ]
     },
     "execution_count": 24,
     "metadata": {},
     "output_type": "execute_result"
    }
   ],
   "source": [
    "db1.docstore._dict"
   ]
  },
  {
   "cell_type": "markdown",
   "id": "f4294b96",
   "metadata": {},
   "source": [
    "## Similarity Search with filtering | フィルタリングを用いた類似性検索\n",
    "\n",
    "FAISS vectorstoreはフィルタリングにも対応していますが、FAISSはネイティブにフィルタリングをサポートしていないため、手動で行う必要があります。これは、`k`よりも多くの結果を最初に取得し、その後でフィルタリングすることによって実行されます。メタデータに基づいてドキュメントをフィルタリングすることができます。さらに、フィルタリングする前に取得するドキュメントの数を決めるために、検索メソッドを呼び出す際に`fetch_k`パラメータを設定することもできます。以下に簡単な例を示します：\n",
    "\n",
    "> FAISS vectorstore can also support filtering, since the FAISS does not natively support filtering we have to do it manually. This is done by first fetching more results than `k` and then filtering them. You can filter the documents based on metadata. You can also set the `fetch_k` parameter when calling any search method to set how many documents you want to fetch before filtering. Here is a small example:\n",
    "\n"
   ]
  },
  {
   "cell_type": "code",
   "execution_count": 3,
   "id": "d5bf812c",
   "metadata": {},
   "outputs": [
    {
     "name": "stdout",
     "output_type": "stream",
     "text": [
      "Content: foo, Metadata: {'page': 1}, Score: 5.159960813797904e-15\n",
      "Content: foo, Metadata: {'page': 2}, Score: 5.159960813797904e-15\n",
      "Content: foo, Metadata: {'page': 3}, Score: 5.159960813797904e-15\n",
      "Content: foo, Metadata: {'page': 4}, Score: 5.159960813797904e-15\n"
     ]
    }
   ],
   "source": [
    "from langchain.schema import Document\n",
    "\n",
    "list_of_documents = [\n",
    "    Document(page_content=\"foo\", metadata=dict(page=1)),\n",
    "    Document(page_content=\"bar\", metadata=dict(page=1)),\n",
    "    Document(page_content=\"foo\", metadata=dict(page=2)),\n",
    "    Document(page_content=\"barbar\", metadata=dict(page=2)),\n",
    "    Document(page_content=\"foo\", metadata=dict(page=3)),\n",
    "    Document(page_content=\"bar burr\", metadata=dict(page=3)),\n",
    "    Document(page_content=\"foo\", metadata=dict(page=4)),\n",
    "    Document(page_content=\"bar bruh\", metadata=dict(page=4)),\n",
    "]\n",
    "db = FAISS.from_documents(list_of_documents, embeddings)\n",
    "results_with_scores = db.similarity_search_with_score(\"foo\")\n",
    "for doc, score in results_with_scores:\n",
    "    print(f\"Content: {doc.page_content}, Metadata: {doc.metadata}, Score: {score}\")"
   ]
  },
  {
   "cell_type": "markdown",
   "id": "3d33c126",
   "metadata": {},
   "source": [
    "次に、同じクエリを呼び出しますが、`page = 1`のみにフィルタリングします\n",
    "\n",
    "> Now we make the same query call but we filter for only `page = 1`\n",
    "\n"
   ]
  },
  {
   "cell_type": "code",
   "execution_count": 26,
   "id": "83159330",
   "metadata": {},
   "outputs": [
    {
     "name": "stdout",
     "output_type": "stream",
     "text": [
      "Content: foo, Metadata: {'page': 1}, Score: 5.159960813797904e-15\n",
      "Content: bar, Metadata: {'page': 1}, Score: 0.3131446838378906\n"
     ]
    }
   ],
   "source": [
    "results_with_scores = db.similarity_search_with_score(\"foo\", filter=dict(page=1))\n",
    "for doc, score in results_with_scores:\n",
    "    print(f\"Content: {doc.page_content}, Metadata: {doc.metadata}, Score: {score}\")"
   ]
  },
  {
   "cell_type": "markdown",
   "id": "0be136e0",
   "metadata": {},
   "source": [
    "`max_marginal_relevance_search`でも同様のことができます。\n",
    "\n",
    "> Same thing can be done with the `max_marginal_relevance_search` as well.\n",
    "\n"
   ]
  },
  {
   "cell_type": "code",
   "execution_count": 27,
   "id": "432c6980",
   "metadata": {},
   "outputs": [
    {
     "name": "stdout",
     "output_type": "stream",
     "text": [
      "Content: foo, Metadata: {'page': 1}\n",
      "Content: bar, Metadata: {'page': 1}\n"
     ]
    }
   ],
   "source": [
    "results = db.max_marginal_relevance_search(\"foo\", filter=dict(page=1))\n",
    "for doc in results:\n",
    "    print(f\"Content: {doc.page_content}, Metadata: {doc.metadata}\")"
   ]
  },
  {
   "cell_type": "markdown",
   "id": "1b4ecd86",
   "metadata": {},
   "source": [
    "`similarity_search`を呼び出す際に`fetch_k`パラメータを設定する例をこちらに示します。通常、`fetch_k`パラメータは`k`パラメータよりも大きな値に設定することが望ましいです。これは、`fetch_k`パラメータがフィルタリング前に取得される文書の数を指定するものだからです。`fetch_k`を低い数値に設定すると、フィルタリングするための十分な文書が得られない可能性があります。\n",
    "\n",
    "> Here is an example of how to set `fetch_k` parameter when calling `similarity_search`. Usually you would want the `fetch_k` parameter >> `k` parameter. This is because the `fetch_k` parameter is the number of documents that will be fetched before filtering. If you set `fetch_k` to a low number, you might not get enough documents to filter from.\n",
    "\n"
   ]
  },
  {
   "cell_type": "code",
   "execution_count": 4,
   "id": "1fd60fd1",
   "metadata": {},
   "outputs": [
    {
     "name": "stdout",
     "output_type": "stream",
     "text": [
      "Content: foo, Metadata: {'page': 1}\n"
     ]
    }
   ],
   "source": [
    "results = db.similarity_search(\"foo\", filter=dict(page=1), k=1, fetch_k=4)\n",
    "for doc in results:\n",
    "    print(f\"Content: {doc.page_content}, Metadata: {doc.metadata}\")"
   ]
  },
  {
   "cell_type": "markdown",
   "id": "1becca53",
   "metadata": {},
   "source": [
    "## Delete | 削除\n",
    "\n",
    "IDの削除も可能です。削除すべきIDは、docstore内のIDであることに注意してください。\n",
    "\n",
    "> You can also delete ids. Note that the ids to delete should be the ids in the docstore.\n",
    "\n"
   ]
  },
  {
   "cell_type": "code",
   "execution_count": 4,
   "id": "1408b870",
   "metadata": {},
   "outputs": [
    {
     "data": {
      "text/plain": [
       "True"
      ]
     },
     "execution_count": 4,
     "metadata": {},
     "output_type": "execute_result"
    }
   ],
   "source": [
    "db.delete([db.index_to_docstore_id[0]])"
   ]
  },
  {
   "cell_type": "code",
   "execution_count": 6,
   "id": "d13daf33",
   "metadata": {},
   "outputs": [
    {
     "data": {
      "text/plain": [
       "False"
      ]
     },
     "execution_count": 6,
     "metadata": {},
     "output_type": "execute_result"
    }
   ],
   "source": [
    "# Is now missing\n",
    "0 in db.index_to_docstore_id"
   ]
  },
  {
   "cell_type": "code",
   "execution_count": null,
   "id": "30ace43e",
   "metadata": {},
   "outputs": [],
   "source": []
  }
 ],
 "metadata": {
  "kernelspec": {
   "display_name": "Python 3 (ipykernel)",
   "language": "python",
   "name": "python3"
  },
  "language_info": {
   "codemirror_mode": {
    "name": "ipython",
    "version": 3
   },
   "file_extension": ".py",
   "mimetype": "text/x-python",
   "name": "python",
   "nbconvert_exporter": "python",
   "pygments_lexer": "ipython3",
   "version": "3.10.12"
  }
 },
 "nbformat": 4,
 "nbformat_minor": 5
}