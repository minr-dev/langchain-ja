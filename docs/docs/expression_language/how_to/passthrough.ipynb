{
 "cells": [
  {
   "cell_type": "markdown",
   "id": "d35de667-0352-4bfb-a890-cebe7f676fe7",
   "metadata": {},
   "source": [
    "---",
    "sidebar_position: 1",
    "title: \"RunnablePassthrough: Passing data through\"",
    "keywords: [RunnablePassthrough, RunnableParallel, LCEL]",
    "---",
    ""
   ]
  },
  {
   "cell_type": "markdown",
   "id": "b022ab74-794d-4c54-ad47-ff9549ddb9d2",
   "metadata": {},
   "source": [
    "# Passing data through | データの受け渡し",
    "",
    "RunnablePassthroughは、入力を変更せずにそのまま渡すことができるほか、追加のキーを付加して渡すことも可能です。これは一般に、RunnableParallelと組み合わせて使用され、マップ内で新しいキーにデータを割り当てる際に利用されます。",
    "",
    "> RunnablePassthrough allows to pass inputs unchanged or with the addition of extra keys. This typically is used in conjuction with RunnableParallel to assign data to a new key in the map.",
    "",
    "RunnablePassthrough()は単独で呼び出された場合、入力をそのまま受け取って通過させるだけです。",
    "",
    "> RunnablePassthrough() called on it's own, will simply take the input and pass it through.",
    "",
    "assignを用いて呼び出されるRunnablePassthrough（`RunnablePassthrough.assign(...)`）は、入力を受け取り、そしてassign関数に渡された追加の引数を加えます。",
    "",
    "> RunnablePassthrough called with assign (`RunnablePassthrough.assign(...)`) will take the input, and will add the extra arguments passed to the assign function.",
    "",
    "以下の例をご覧ください：",
    "",
    "> See the example below:",
    ""
   ]
  },
  {
   "cell_type": "code",
   "execution_count": 11,
   "id": "03988b8d-d54c-4492-8707-1594372cf093",
   "metadata": {},
   "outputs": [
    {
     "data": {
      "text/plain": [
       "{'passed': {'num': 1}, 'extra': {'num': 1, 'mult': 3}, 'modified': 2}"
      ]
     },
     "execution_count": 11,
     "metadata": {},
     "output_type": "execute_result"
    }
   ],
   "source": [
    "from langchain_core.runnables import RunnableParallel, RunnablePassthrough\n",
    "\n",
    "runnable = RunnableParallel(\n",
    "    passed=RunnablePassthrough(),\n",
    "    extra=RunnablePassthrough.assign(mult=lambda x: x[\"num\"] * 3),\n",
    "    modified=lambda x: x[\"num\"] + 1,\n",
    ")\n",
    "\n",
    "runnable.invoke({\"num\": 1})"
   ]
  },
  {
   "cell_type": "markdown",
   "id": "702c7acc-cd31-4037-9489-647df192fd7c",
   "metadata": {},
   "source": [
    "上記の通り、`passed` キーは `RunnablePassthrough()` を用いて呼び出され、結果として `{'num': 1}` がそのまま渡されました。",
    "",
    "> As seen above, `passed` key was called with `RunnablePassthrough()` and so it simply passed on `{'num': 1}`.",
    "",
    "二行目では、数値を3倍にするラムダを用いて`RunnablePassthrough.assign`を使用しました。この場合、`extra`は`{'num': 1, 'mult': 3}`に設定され、これは`mult`キーを追加した元の値です。",
    "",
    "> In the second line, we used `RunnablePastshrough.assign` with a lambda that multiplies the numerical value by 3. In this cased, `extra` was set with `{'num': 1, 'mult': 3}` which is the original value with the `mult` key added.",
    "",
    "最後に、マップに`modified`という三つ目のキーを設定しました。これは、`num`に1を加える単一の値を設定するラムダを使用しており、結果として`modified`キーは値`2`になりました。",
    "",
    "> Finally, we also set a third key in the map with `modified` which uses a labmda to set a single value adding 1 to the num, which resulted in `modified` key with the value of `2`.",
    ""
   ]
  },
  {
   "cell_type": "markdown",
   "id": "15187a3b-d666-4b9b-a258-672fc51fe0e2",
   "metadata": {},
   "source": [
    "## Retrieval Example | 検索例",
    "",
    "以下の例では、RunnablePassthroughとRunnableMapを組み合わせて使用するユースケースを見ていきます。",
    "",
    "> In the example below, we see a use case where we use RunnablePassthrough along with RunnableMap.",
    ""
   ]
  },
  {
   "cell_type": "code",
   "execution_count": 17,
   "id": "267d1460-53c1-4fdb-b2c3-b6a1eb7fccff",
   "metadata": {},
   "outputs": [
    {
     "data": {
      "text/plain": [
       "'Harrison worked at Kensho.'"
      ]
     },
     "execution_count": 17,
     "metadata": {},
     "output_type": "execute_result"
    }
   ],
   "source": [
    "from langchain.chat_models import ChatOpenAI\n",
    "from langchain.embeddings import OpenAIEmbeddings\n",
    "from langchain.prompts import ChatPromptTemplate\n",
    "from langchain.vectorstores import FAISS\n",
    "from langchain_core.output_parsers import StrOutputParser\n",
    "from langchain_core.runnables import RunnablePassthrough\n",
    "\n",
    "vectorstore = FAISS.from_texts(\n",
    "    [\"harrison worked at kensho\"], embedding=OpenAIEmbeddings()\n",
    ")\n",
    "retriever = vectorstore.as_retriever()\n",
    "template = \"\"\"Answer the question based only on the following context:\n",
    "{context}\n",
    "\n",
    "Question: {question}\n",
    "\"\"\"\n",
    "prompt = ChatPromptTemplate.from_template(template)\n",
    "model = ChatOpenAI()\n",
    "\n",
    "retrieval_chain = (\n",
    "    {\"context\": retriever, \"question\": RunnablePassthrough()}\n",
    "    | prompt\n",
    "    | model\n",
    "    | StrOutputParser()\n",
    ")\n",
    "\n",
    "retrieval_chain.invoke(\"where did harrison work?\")"
   ]
  },
  {
   "cell_type": "markdown",
   "id": "392cd4c4-e7ed-4ab8-934d-f7a4eca55ee1",
   "metadata": {},
   "source": [
    "ここでは、プロンプトへの入力が「context」と「question」というキーを持つマップであることを想定しています。ユーザーからの入力は質問だけです。従って、リトリバーを用いてコンテキストを取得し、「question」キーにユーザーの入力をパススルーする必要があります。このケースでは、RunnablePassthroughを使用して、ユーザーの質問をプロンプトとモデルに渡すことができます。",
    "",
    "> Here the input to prompt is expected to be a map with keys \"context\" and \"question\". The user input is just the question. So we need to get the context using our retriever and passthrough the user input under the \"question\" key. In this case, the RunnablePassthrough allows us to pass on the user's question to the prompt and model.",
    ""
   ]
  }
 ],
 "metadata": {
  "kernelspec": {
   "display_name": "Python 3 (ipykernel)",
   "language": "python",
   "name": "python3"
  },
  "language_info": {
   "codemirror_mode": {
    "name": "ipython",
    "version": 3
   },
   "file_extension": ".py",
   "mimetype": "text/x-python",
   "name": "python",
   "nbconvert_exporter": "python",
   "pygments_lexer": "ipython3",
   "version": "3.11.6"
  }
 },
 "nbformat": 4,
 "nbformat_minor": 5
}