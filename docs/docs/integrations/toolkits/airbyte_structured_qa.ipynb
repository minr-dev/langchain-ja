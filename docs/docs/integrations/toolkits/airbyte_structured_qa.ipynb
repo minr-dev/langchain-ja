{
 "cells": [
  {
   "attachments": {},
   "cell_type": "markdown",
   "metadata": {},
   "source": [
    "# Airbyte Question Answering | Airbyte 質問応答\n",
    "\n",
    "このノートブックは、構造化されたデータに対して質問応答を行う方法を示しており、この場合は `AirbyteStripeLoader` を使用しています。\n",
    "\n",
    "> This notebook shows how to do question answering over structured data, in this case using the `AirbyteStripeLoader`.\n",
    "\n",
    "Vectorstoresは、計算、グルーピング、および構造化されたデータのフィルタリングを必要とする質問に答えるのが難しいことがよくあります。そこで、このタイプの質問に対応するために`pandas`データフレームを使用するというのが、高レベルなアイデアです。\n",
    "\n",
    "> Vectorstores often have a hard time answering questions that requires computing, grouping and filtering structured data so the high level idea is to use a `pandas` dataframe to help with these types of questions.\n",
    "\n",
    "\n"
   ]
  },
  {
   "attachments": {},
   "cell_type": "markdown",
   "metadata": {},
   "source": [
    "1. Airbyteを使用してStripeからデータを読み込むには、`record_handler`パラメータを使用してデータローダーからJSONを返すように設定します。\n",
    "\n",
    "   > Load data from Stripe using Airbyte. user the `record_handler` paramater to return a JSON from the data loader.\n",
    "\n",
    "\n",
    "\n"
   ]
  },
  {
   "cell_type": "code",
   "execution_count": null,
   "metadata": {},
   "outputs": [],
   "source": [
    "import os\n",
    "\n",
    "import pandas as pd\n",
    "from langchain.agents import AgentType, create_pandas_dataframe_agent\n",
    "from langchain.chat_models.openai import ChatOpenAI\n",
    "from langchain.document_loaders.airbyte import AirbyteStripeLoader\n",
    "\n",
    "stream_name = \"customers\"\n",
    "config = {\n",
    "    \"client_secret\": os.getenv(\"STRIPE_CLIENT_SECRET\"),\n",
    "    \"account_id\": os.getenv(\"STRIPE_ACCOUNT_D\"),\n",
    "    \"start_date\": \"2023-01-20T00:00:00Z\",\n",
    "}\n",
    "\n",
    "\n",
    "def handle_record(record: dict, _id: str):\n",
    "    return record.data\n",
    "\n",
    "\n",
    "loader = AirbyteStripeLoader(\n",
    "    config=config,\n",
    "    record_handler=handle_record,\n",
    "    stream_name=stream_name,\n",
    ")\n",
    "data = loader.load()"
   ]
  },
  {
   "attachments": {},
   "cell_type": "markdown",
   "metadata": {},
   "source": [
    "2. データを`pandas`データフレームに渡してください。\n",
    "\n",
    "   > Pass the data to `pandas` dataframe.\n",
    "\n",
    "\n",
    "\n"
   ]
  },
  {
   "cell_type": "code",
   "execution_count": null,
   "metadata": {},
   "outputs": [],
   "source": [
    "df = pd.DataFrame(data)"
   ]
  },
  {
   "attachments": {},
   "cell_type": "markdown",
   "metadata": {},
   "source": [
    "3. `df`データフレームを`create_pandas_dataframe_agent`に渡して実行してください。\n",
    "\n",
    "   > Pass the dataframe `df` to the `create_pandas_dataframe_agent` and invoke\n",
    "\n",
    "\n",
    "\n"
   ]
  },
  {
   "cell_type": "code",
   "execution_count": null,
   "metadata": {},
   "outputs": [],
   "source": [
    "agent = create_pandas_dataframe_agent(\n",
    "    ChatOpenAI(temperature=0, model=\"gpt-4\"),\n",
    "    df,\n",
    "    verbose=True,\n",
    "    agent_type=AgentType.OPENAI_FUNCTIONS,\n",
    ")"
   ]
  },
  {
   "attachments": {},
   "cell_type": "markdown",
   "metadata": {},
   "source": [
    "4. エージェントを実行する\n",
    "\n",
    "   > Run the agent\n",
    "\n",
    "\n",
    "\n"
   ]
  },
  {
   "cell_type": "code",
   "execution_count": null,
   "metadata": {},
   "outputs": [],
   "source": [
    "output = agent.run(\"How many rows are there?\")"
   ]
  }
 ],
 "metadata": {
  "language_info": {
   "name": "python"
  },
  "orig_nbformat": 4
 },
 "nbformat": 4,
 "nbformat_minor": 2
}