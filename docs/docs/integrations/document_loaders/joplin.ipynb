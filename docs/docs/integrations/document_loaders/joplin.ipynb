{
 "cells": [
  {
   "attachments": {},
   "cell_type": "markdown",
   "id": "1dc7df1d",
   "metadata": {},
   "source": [
    "# Joplin | Joplin",
    "",
    "> [Joplin](https://joplinapp.org/)はオープンソースのノートテイキングアプリです。あなたの考えを記録し、どのデバイスからでも安全にアクセスできます。",
    ">",
    "> > [Joplin](https://joplinapp.org/) is an open-source note-taking app. Capture your thoughts and securely access them from any device.",
    "",
    "このノートブックでは、`Joplin` データベースからドキュメントを読み込む方法について説明しています。",
    "",
    "> This notebook covers how to load documents from a `Joplin` database.",
    "",
    "`Joplin`には、ローカルデータベースにアクセスするための[REST API](https://joplinapp.org/api/references/rest_api/)があります。このローダーは、APIを使用してデータベース内のすべてのノートとそのメタデータを取得します。これには、以下の手順に従ってアプリから取得できるアクセストークンが必要です。",
    "",
    "> `Joplin` has a [REST API](https://joplinapp.org/api/references/rest_api/) for accessing its local database. This loader uses the API to retrieve all notes in the database and their metadata. This requires an access token that can be obtained from the app by following these steps:",
    "",
    "1. `Joplin` アプリを開いてください。ドキュメントが読み込まれている間、アプリは開いた状態を保つ必要があります。",
    "   > Open the `Joplin` app. The app must stay open while the documents are being loaded.",
    "2. 設定／オプションに移動し、「Web Clipper」を選択してください。",
    "   > Go to settings / options and select \"Web Clipper\".",
    "3. Web Clipperサービスが有効になっていることを確認してください。",
    "   > Make sure that the Web Clipper service is enabled.",
    "4. 「詳細オプション」の下で、認証トークンをコピーしてください。",
    "   > Under \"Advanced Options\", copy the authorization token.",
    "",
    "ローダーを初期化する際には、アクセストークンを直接指定するか、または環境変数JOPLIN\\_ACCESS\\_TOKENに保存することができます。",
    "",
    "> You may either initialize the loader directly with the access token, or store it in the environment variable JOPLIN\\_ACCESS\\_TOKEN.",
    "",
    "この方法の代替として、`Joplin`のノートデータベースをマークダウンファイルにエクスポートすることができます（オプションでフロントマターメタデータを含む）。そして、ObsidianLoaderのようなマークダウンローダーを使ってそれらを読み込むことが可能です。",
    "",
    "> An alternative to this approach is to export the `Joplin`'s note database to Markdown files (optionally, with Front Matter metadata) and use a Markdown loader, such as ObsidianLoader, to load them.",
    ""
   ]
  },
  {
   "cell_type": "code",
   "execution_count": 2,
   "id": "007c5cbf",
   "metadata": {
    "tags": []
   },
   "outputs": [],
   "source": [
    "from langchain.document_loaders import JoplinLoader"
   ]
  },
  {
   "cell_type": "code",
   "execution_count": 5,
   "id": "a1caec59",
   "metadata": {},
   "outputs": [],
   "source": [
    "loader = JoplinLoader(access_token=\"<access-token>\")"
   ]
  },
  {
   "cell_type": "code",
   "execution_count": 6,
   "id": "b1c30ff7",
   "metadata": {},
   "outputs": [],
   "source": [
    "docs = loader.load()"
   ]
  },
  {
   "cell_type": "code",
   "execution_count": null,
   "id": "fa93b965",
   "metadata": {},
   "outputs": [],
   "source": []
  }
 ],
 "metadata": {
  "kernelspec": {
   "display_name": "Python 3 (ipykernel)",
   "language": "python",
   "name": "python3"
  },
  "language_info": {
   "codemirror_mode": {
    "name": "ipython",
    "version": 3
   },
   "file_extension": ".py",
   "mimetype": "text/x-python",
   "name": "python",
   "nbconvert_exporter": "python",
   "pygments_lexer": "ipython3",
   "version": "3.10.11"
  }
 },
 "nbformat": 4,
 "nbformat_minor": 5
}