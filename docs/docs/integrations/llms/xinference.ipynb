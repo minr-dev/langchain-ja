{
 "cells": [
  {
   "cell_type": "markdown",
   "metadata": {},
   "source": [
    "# Xorbits Inference (Xinference) | Xorbits 推論 (Xinference)\n",
    "\n",
    "[Xinference](https://github.com/xorbitsai/inference)は、LLMs、音声認識モデル、マルチモーダルモデルを、あなたのラップトップ上でも動作させるために設計された強力で多機能なライブラリです。chatglm、baichuan、whisper、vicuna、orcaなど、GGMLと互換性のある様々なモデルをサポートしています。このノートブックでは、LangChainを使ってXinferenceを使用する方法を示しています。\n",
    "\n",
    "> [Xinference](https://github.com/xorbitsai/inference) is a powerful and versatile library designed to serve LLMs,\n",
    "> speech recognition models, and multimodal models, even on your laptop. It supports a variety of models compatible with GGML, such as chatglm, baichuan, whisper, vicuna, orca, and many others. This notebook demonstrates how to use Xinference with LangChain.\n",
    "\n"
   ]
  },
  {
   "cell_type": "markdown",
   "metadata": {},
   "source": [
    "## Installation | インストール\n",
    "\n",
    "`Xinference`をPyPIを通じてインストールしてください：\n",
    "\n",
    "> Install `Xinference` through PyPI:\n",
    "\n"
   ]
  },
  {
   "cell_type": "code",
   "execution_count": null,
   "metadata": {},
   "outputs": [],
   "source": [
    "%pip install \"xinference[all]\""
   ]
  },
  {
   "cell_type": "markdown",
   "metadata": {},
   "source": [
    "## Deploy Xinference Locally or in a Distributed Cluster. | Xinferenceをローカルまたは分散クラスターでデプロイする。\n",
    "\n",
    "ローカル環境でのデプロイのためには、`xinference`を実行してください。\n",
    "\n",
    "> For local deployment, run `xinference`.\n",
    "\n",
    "クラスター内でXinferenceをデプロイするには、まず`xinference-supervisor`を使用してXinferenceスーパーバイザーを起動します。ポートを指定するためには-pオプションを、ホストを指定するためには-Hオプションを使用することもできます。デフォルトポートは9997です。\n",
    "\n",
    "> To deploy Xinference in a cluster, first start an Xinference supervisor using the `xinference-supervisor`. You can also use the option -p to specify the port and -H to specify the host. The default port is 9997.\n",
    "\n",
    "次に、実行したい各サーバーで `xinference-worker` を使ってXinferenceワーカーを起動します。\n",
    "\n",
    "> Then, start the Xinference workers using `xinference-worker` on each server you want to run them on.\n",
    "\n",
    "詳細については、[Xinference](https://github.com/xorbitsai/inference)のREADMEファイルを参照してください。\n",
    "\n",
    "> You can consult the README file from [Xinference](https://github.com/xorbitsai/inference) for more information.\n",
    "\n",
    "## Wrapper | ラッパー\n",
    "\n",
    "LangChainでXinferenceを使用するには、まずモデルを起動する必要があります。これを行うには、コマンドラインインターフェース（CLI）を使用することができます。\n",
    "\n",
    "> To use Xinference with LangChain, you need to first launch a model. You can use command line interface (CLI) to do so:\n",
    "\n"
   ]
  },
  {
   "cell_type": "code",
   "execution_count": 13,
   "metadata": {},
   "outputs": [
    {
     "name": "stdout",
     "output_type": "stream",
     "text": [
      "Model uid: 7167b2b0-2a04-11ee-83f0-d29396a3f064\n"
     ]
    }
   ],
   "source": [
    "!xinference launch -n vicuna-v1.3 -f ggmlv3 -q q4_0"
   ]
  },
  {
   "cell_type": "markdown",
   "metadata": {},
   "source": [
    "モデルUIDが返され、これを使用することができます。これで、LangChainを使ってXinferenceを使用することができます：\n",
    "\n",
    "> A model UID is returned for you to use. Now you can use Xinference with LangChain:\n",
    "\n"
   ]
  },
  {
   "cell_type": "code",
   "execution_count": 14,
   "metadata": {},
   "outputs": [
    {
     "data": {
      "text/plain": [
       "' You can visit the Eiffel Tower, Notre-Dame Cathedral, the Louvre Museum, and many other historical sites in Paris, the capital of France.'"
      ]
     },
     "execution_count": 14,
     "metadata": {},
     "output_type": "execute_result"
    }
   ],
   "source": [
    "from langchain.llms import Xinference\n",
    "\n",
    "llm = Xinference(\n",
    "    server_url=\"http://0.0.0.0:9997\", model_uid=\"7167b2b0-2a04-11ee-83f0-d29396a3f064\"\n",
    ")\n",
    "\n",
    "llm(\n",
    "    prompt=\"Q: where can we visit in the capital of France? A:\",\n",
    "    generate_config={\"max_tokens\": 1024, \"stream\": True},\n",
    ")"
   ]
  },
  {
   "cell_type": "markdown",
   "metadata": {},
   "source": [
    "### Integrate with a LLMChain | LLMChainと統合する\n",
    "\n"
   ]
  },
  {
   "cell_type": "code",
   "execution_count": 16,
   "metadata": {},
   "outputs": [
    {
     "name": "stdout",
     "output_type": "stream",
     "text": [
      "\n",
      "A: You can visit many places in Paris, such as the Eiffel Tower, the Louvre Museum, Notre-Dame Cathedral, the Champs-Elysées, Montmartre, Sacré-Cœur, and the Palace of Versailles.\n"
     ]
    }
   ],
   "source": [
    "from langchain.chains import LLMChain\n",
    "from langchain.prompts import PromptTemplate\n",
    "\n",
    "template = \"Where can we visit in the capital of {country}?\"\n",
    "\n",
    "prompt = PromptTemplate(template=template, input_variables=[\"country\"])\n",
    "\n",
    "llm_chain = LLMChain(prompt=prompt, llm=llm)\n",
    "\n",
    "generated = llm_chain.run(country=\"France\")\n",
    "print(generated)"
   ]
  },
  {
   "cell_type": "markdown",
   "metadata": {},
   "source": [
    "最後に、モデルを使用しないときは、モデルを終了してください。\n",
    "\n",
    "> Lastly, terminate the model when you do not need to use it:\n",
    "\n"
   ]
  },
  {
   "cell_type": "code",
   "execution_count": 17,
   "metadata": {},
   "outputs": [],
   "source": [
    "!xinference terminate --model-uid \"7167b2b0-2a04-11ee-83f0-d29396a3f064\""
   ]
  }
 ],
 "metadata": {
  "kernelspec": {
   "display_name": "myenv3.9",
   "language": "python",
   "name": "python3"
  },
  "language_info": {
   "codemirror_mode": {
    "name": "ipython",
    "version": 3
   },
   "file_extension": ".py",
   "mimetype": "text/x-python",
   "name": "python",
   "nbconvert_exporter": "python",
   "pygments_lexer": "ipython3",
   "version": "3.10.11"
  },
  "orig_nbformat": 4
 },
 "nbformat": 4,
 "nbformat_minor": 2
}