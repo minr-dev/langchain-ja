{
 "cells": [
  {
   "attachments": {},
   "cell_type": "markdown",
   "id": "683953b3",
   "metadata": {},
   "source": [
    "# Qdrant | Qdrant",
    "",
    "> [Qdrant](https://qdrant.tech/documentation/)（クアドラントと読みます）は、ベクトル類似性検索エンジンです。これは、追加のペイロードを伴うベクトル、すなわちポイントを保存、検索、そして管理するための便利なAPIを備えた、本番環境に対応したサービスを提供します。`Qdrant`は、拡張されたフィルタリングサポートに特化しており、ニューラルネットワークやセマンティックベースのマッチング、ファセット検索、その他の応用にとって非常に有用です。",
    ">",
    "> > [Qdrant](https://qdrant.tech/documentation/) (read: quadrant ) is a vector similarity search engine. It provides a production-ready service with a convenient API to store, search, and manage points - vectors with an additional payload. `Qdrant` is tailored to extended filtering support. It makes it useful for all sorts of neural network or semantic-based matching, faceted search, and other applications.",
    "",
    "このノートブックは、`Qdrant` ベクターデータベースに関連する機能の使用方法を示しています。",
    "",
    "> This notebook shows how to use functionality related to the `Qdrant` vector database.",
    "",
    "`Qdrant`を実行する方法には様々なモードがあり、選択したモードによって微妙な違いが生じます。オプションには以下のものが含まれます：",
    "",
    "> There are various modes of how to run `Qdrant`, and depending on the chosen one, there will be some subtle differences. The options include:",
    "",
    "* ローカルモード、サーバーは必要ありません",
    "  > Local mode, no server required",
    "* オンプレミスサーバーのデプロイ",
    "  > On-premise server deployment",
    "* Qdrant Cloud",
    "  > Qdrant Cloud",
    "",
    "[インストール手順](https://qdrant.tech/documentation/install/)をご覧ください。",
    "",
    "> See the [installation instructions](https://qdrant.tech/documentation/install/).",
    ""
   ]
  },
  {
   "cell_type": "code",
   "execution_count": null,
   "id": "e03e8460-8f32-4d1f-bb93-4f7636a476fa",
   "metadata": {
    "tags": []
   },
   "outputs": [],
   "source": [
    "!pip install qdrant-client"
   ]
  },
  {
   "attachments": {},
   "cell_type": "markdown",
   "id": "7b2f111b-357a-4f42-9730-ef0603bdc1b5",
   "metadata": {},
   "source": [
    "`OpenAIEmbeddings`を使用するためには、OpenAIのAPIキーを取得する必要があります。",
    "",
    "> We want to use `OpenAIEmbeddings` so we have to get the OpenAI API Key.",
    ""
   ]
  },
  {
   "cell_type": "code",
   "execution_count": 2,
   "id": "082e7e8b-ac52-430c-98d6-8f0924457642",
   "metadata": {
    "tags": []
   },
   "outputs": [
    {
     "name": "stdout",
     "output_type": "stream",
     "text": [
      "OpenAI API Key: ········\n"
     ]
    }
   ],
   "source": [
    "import getpass\n",
    "import os\n",
    "\n",
    "os.environ[\"OPENAI_API_KEY\"] = getpass.getpass(\"OpenAI API Key:\")"
   ]
  },
  {
   "cell_type": "code",
   "execution_count": 3,
   "id": "aac9563e",
   "metadata": {
    "ExecuteTime": {
     "end_time": "2023-04-04T10:51:22.282884Z",
     "start_time": "2023-04-04T10:51:21.408077Z"
    },
    "tags": []
   },
   "outputs": [],
   "source": [
    "from langchain.document_loaders import TextLoader\n",
    "from langchain.embeddings.openai import OpenAIEmbeddings\n",
    "from langchain.text_splitter import CharacterTextSplitter\n",
    "from langchain.vectorstores import Qdrant"
   ]
  },
  {
   "cell_type": "code",
   "execution_count": 4,
   "id": "a3c3999a",
   "metadata": {
    "ExecuteTime": {
     "end_time": "2023-04-04T10:51:22.520144Z",
     "start_time": "2023-04-04T10:51:22.285826Z"
    },
    "tags": []
   },
   "outputs": [],
   "source": [
    "loader = TextLoader(\"../../modules/state_of_the_union.txt\")\n",
    "documents = loader.load()\n",
    "text_splitter = CharacterTextSplitter(chunk_size=1000, chunk_overlap=0)\n",
    "docs = text_splitter.split_documents(documents)\n",
    "\n",
    "embeddings = OpenAIEmbeddings()"
   ]
  },
  {
   "attachments": {},
   "cell_type": "markdown",
   "id": "eeead681",
   "metadata": {},
   "source": [
    "## Connecting to Qdrant from LangChain | LangChainからQdrantに接続する",
    "",
    "### Local mode | ローカルモード",
    "",
    "Pythonクライアントを使用すると、Qdrantサーバーを起動せずにローカルモードで同じコードを実行できます。これは、物事をテストしたりデバッグしたりする際や、少量のベクトルのみを保存する予定の場合に大変便利です。エンベディングは完全にメモリ内に保持されることもあれば、ディスク上に永続化されることもあります。",
    "",
    "> Python client allows you to run the same code in local mode without running the Qdrant server. That's great for testing things out and debugging or if you plan to store just a small amount of vectors. The embeddings might be fully kepy in memory or persisted on disk.",
    "",
    "#### In-memory | インメモリ",
    "",
    "一部のテストシナリオや簡単な実験の場合、クライアントが破棄されたとき（通常はスクリプトやノートブックの終了時）にすべてのデータが失われるように、データをメモリ内のみで保持することを好むかもしれません。",
    "",
    "> For some testing scenarios and quick experiments, you may prefer to keep all the data in memory only, so it gets lost when the client is destroyed - usually at the end of your script/notebook.",
    ""
   ]
  },
  {
   "cell_type": "code",
   "execution_count": 5,
   "id": "8429667e",
   "metadata": {
    "ExecuteTime": {
     "end_time": "2023-04-04T10:51:22.525091Z",
     "start_time": "2023-04-04T10:51:22.522015Z"
    },
    "tags": []
   },
   "outputs": [],
   "source": [
    "qdrant = Qdrant.from_documents(\n",
    "    docs,\n",
    "    embeddings,\n",
    "    location=\":memory:\",  # Local mode with in-memory storage only\n",
    "    collection_name=\"my_documents\",\n",
    ")"
   ]
  },
  {
   "attachments": {},
   "cell_type": "markdown",
   "id": "59f0b954",
   "metadata": {},
   "source": [
    "#### On-disk storage | ディスク上のストレージ",
    "",
    "Qdrantサーバーを使用せずにローカルモードで実行する場合、実行間でベクトルが保持されるようにディスク上にベクトルを保存することもできます。",
    "",
    "> Local mode, without using the Qdrant server, may also store your vectors on disk so they're persisted between runs.",
    ""
   ]
  },
  {
   "cell_type": "code",
   "execution_count": 6,
   "id": "24b370e2",
   "metadata": {
    "ExecuteTime": {
     "end_time": "2023-04-04T10:51:24.827567Z",
     "start_time": "2023-04-04T10:51:22.529080Z"
    },
    "tags": []
   },
   "outputs": [],
   "source": [
    "qdrant = Qdrant.from_documents(\n",
    "    docs,\n",
    "    embeddings,\n",
    "    path=\"/tmp/local_qdrant\",\n",
    "    collection_name=\"my_documents\",\n",
    ")"
   ]
  },
  {
   "attachments": {},
   "cell_type": "markdown",
   "id": "749658ce",
   "metadata": {},
   "source": [
    "### On-premise server deployment | オンプレミスサーバーのデプロイ",
    "",
    "Qdrantをローカルで[Dockerコンテナ](https://qdrant.tech/documentation/install/)を使って起動する場合でも、[公式のHelmチャート](https://github.com/qdrant/qdrant-helm)を使用したKubernetesデプロイメントを選択する場合でも、そのインスタンスに接続する方法は同一です。サービスにアクセスするためのURLを提供する必要があります。",
    "",
    "> No matter if you choose to launch Qdrant locally with [a Docker container](https://qdrant.tech/documentation/install/), or select a Kubernetes deployment with [the official Helm chart](https://github.com/qdrant/qdrant-helm), the way you're going to connect to such an instance will be identical. You'll need to provide a URL pointing to the service.",
    ""
   ]
  },
  {
   "cell_type": "code",
   "execution_count": 5,
   "id": "91e7f5ce",
   "metadata": {
    "ExecuteTime": {
     "end_time": "2023-04-04T10:51:24.832708Z",
     "start_time": "2023-04-04T10:51:24.829905Z"
    }
   },
   "outputs": [],
   "source": [
    "url = \"<---qdrant url here --->\"\n",
    "qdrant = Qdrant.from_documents(\n",
    "    docs,\n",
    "    embeddings,\n",
    "    url=url,\n",
    "    prefer_grpc=True,\n",
    "    collection_name=\"my_documents\",\n",
    ")"
   ]
  },
  {
   "attachments": {},
   "cell_type": "markdown",
   "id": "c9e21ce9",
   "metadata": {},
   "source": [
    "### Qdrant Cloud | Qdrant Cloud",
    "",
    "インフラストラクチャの管理に自分自身を煩わせたくない場合は、[Qdrant Cloud](https://cloud.qdrant.io/)で完全に管理されたQdrantクラスタをセットアップする選択肢があります。試用のための永久無料の1GBクラスタが含まれています。管理されたバージョンのQdrantを使用する主な違いは、デプロイメントが公開アクセスから保護されるようにAPIキーを提供する必要があることです。",
    "",
    "> If you prefer not to keep yourself busy with managing the infrastructure, you can choose to set up a fully-managed Qdrant cluster on [Qdrant Cloud](https://cloud.qdrant.io/). There is a free forever 1GB cluster included for trying out. The main difference with using a managed version of Qdrant is that you'll need to provide an API key to secure your deployment from being accessed publicly.",
    ""
   ]
  },
  {
   "cell_type": "code",
   "execution_count": 6,
   "id": "dcf88bdf",
   "metadata": {
    "ExecuteTime": {
     "end_time": "2023-04-04T10:51:24.837599Z",
     "start_time": "2023-04-04T10:51:24.834690Z"
    }
   },
   "outputs": [],
   "source": [
    "url = \"<---qdrant cloud cluster url here --->\"\n",
    "api_key = \"<---api key here--->\"\n",
    "qdrant = Qdrant.from_documents(\n",
    "    docs,\n",
    "    embeddings,\n",
    "    url=url,\n",
    "    prefer_grpc=True,\n",
    "    api_key=api_key,\n",
    "    collection_name=\"my_documents\",\n",
    ")"
   ]
  },
  {
   "attachments": {},
   "cell_type": "markdown",
   "id": "93540013",
   "metadata": {},
   "source": [
    "## Recreating the collection | コレクションの再作成",
    "",
    "`Qdrant.from_texts`メソッドと`Qdrant.from_documents`メソッドは、LangchainでQdrantを使い始めるのに適しています。以前のバージョンでは、これらのメソッドを呼び出すたびにコレクションが再作成されていました。しかし、この挙動は変更されました。現在では、コレクションが既に存在する場合は再利用されるようになりました。`force_recreate`を`True`に設定すると、古いコレクションを削除して一から始めることができます。",
    "",
    "> Both `Qdrant.from_texts` and `Qdrant.from_documents` methods are great to start using Qdrant with Langchain. In the previous versions the collection was recreated every time you called any of them. That behaviour has changed. Currently, the collection is going to be reused if it already exists. Setting `force_recreate` to `True` allows to remove the old collection and start from scratch.",
    ""
   ]
  },
  {
   "cell_type": "code",
   "execution_count": 8,
   "id": "30a87570",
   "metadata": {
    "ExecuteTime": {
     "end_time": "2023-04-04T10:51:24.854117Z",
     "start_time": "2023-04-04T10:51:24.845385Z"
    }
   },
   "outputs": [],
   "source": [
    "url = \"<---qdrant url here --->\"\n",
    "qdrant = Qdrant.from_documents(\n",
    "    docs,\n",
    "    embeddings,\n",
    "    url=url,\n",
    "    prefer_grpc=True,\n",
    "    collection_name=\"my_documents\",\n",
    "    force_recreate=True,\n",
    ")"
   ]
  },
  {
   "attachments": {},
   "cell_type": "markdown",
   "id": "1f9215c8",
   "metadata": {
    "ExecuteTime": {
     "end_time": "2023-04-04T09:27:29.920258Z",
     "start_time": "2023-04-04T09:27:29.913714Z"
    }
   },
   "source": [
    "## Similarity search | 類似性検索",
    "",
    "Qdrantベクトルストアを使用する最もシンプルなシナリオは、類似性検索を実行することです。内部では、私たちのクエリは`embedding_function`を用いてエンコードされ、Qdrantコレクション内の類似ドキュメントを探すために使用されます。",
    "",
    "> The simplest scenario for using Qdrant vector store is to perform a similarity search. Under the hood, our query will be encoded with the `embedding_function` and used to find similar documents in Qdrant collection.",
    ""
   ]
  },
  {
   "cell_type": "code",
   "execution_count": 7,
   "id": "a8c513ab",
   "metadata": {
    "ExecuteTime": {
     "end_time": "2023-04-04T10:51:25.204469Z",
     "start_time": "2023-04-04T10:51:24.855618Z"
    },
    "tags": []
   },
   "outputs": [],
   "source": [
    "query = \"What did the president say about Ketanji Brown Jackson\"\n",
    "found_docs = qdrant.similarity_search(query)"
   ]
  },
  {
   "cell_type": "code",
   "execution_count": 8,
   "id": "fc516993",
   "metadata": {
    "ExecuteTime": {
     "end_time": "2023-04-04T10:51:25.220984Z",
     "start_time": "2023-04-04T10:51:25.213943Z"
    },
    "tags": []
   },
   "outputs": [
    {
     "name": "stdout",
     "output_type": "stream",
     "text": [
      "Tonight. I call on the Senate to: Pass the Freedom to Vote Act. Pass the John Lewis Voting Rights Act. And while you’re at it, pass the Disclose Act so Americans can know who is funding our elections. \n",
      "\n",
      "Tonight, I’d like to honor someone who has dedicated his life to serve this country: Justice Stephen Breyer—an Army veteran, Constitutional scholar, and retiring Justice of the United States Supreme Court. Justice Breyer, thank you for your service. \n",
      "\n",
      "One of the most serious constitutional responsibilities a President has is nominating someone to serve on the United States Supreme Court. \n",
      "\n",
      "And I did that 4 days ago, when I nominated Circuit Court of Appeals Judge Ketanji Brown Jackson. One of our nation’s top legal minds, who will continue Justice Breyer’s legacy of excellence.\n"
     ]
    }
   ],
   "source": [
    "print(found_docs[0].page_content)"
   ]
  },
  {
   "attachments": {},
   "cell_type": "markdown",
   "id": "1bda9bf5",
   "metadata": {},
   "source": [
    "## Similarity search with score | スコア付き類似性検索",
    "",
    "検索を実行する際、特定の結果の良さを知るために関連性スコアを取得したいことがあります。返される距離スコアはコサイン距離であり、従ってスコアが低いほどより良い結果であると言えます。",
    "",
    "> Sometimes we might want to perform the search, but also obtain a relevancy score to know how good is a particular result.",
    "> The returned distance score is cosine distance. Therefore, a lower score is better.",
    ""
   ]
  },
  {
   "cell_type": "code",
   "execution_count": 11,
   "id": "8804a21d",
   "metadata": {
    "ExecuteTime": {
     "end_time": "2023-04-04T10:51:25.631585Z",
     "start_time": "2023-04-04T10:51:25.227384Z"
    }
   },
   "outputs": [],
   "source": [
    "query = \"What did the president say about Ketanji Brown Jackson\"\n",
    "found_docs = qdrant.similarity_search_with_score(query)"
   ]
  },
  {
   "cell_type": "code",
   "execution_count": 12,
   "id": "756a6887",
   "metadata": {
    "ExecuteTime": {
     "end_time": "2023-04-04T10:51:25.642282Z",
     "start_time": "2023-04-04T10:51:25.635947Z"
    }
   },
   "outputs": [
    {
     "name": "stdout",
     "output_type": "stream",
     "text": [
      "Tonight. I call on the Senate to: Pass the Freedom to Vote Act. Pass the John Lewis Voting Rights Act. And while you’re at it, pass the Disclose Act so Americans can know who is funding our elections. \n",
      "\n",
      "Tonight, I’d like to honor someone who has dedicated his life to serve this country: Justice Stephen Breyer—an Army veteran, Constitutional scholar, and retiring Justice of the United States Supreme Court. Justice Breyer, thank you for your service. \n",
      "\n",
      "One of the most serious constitutional responsibilities a President has is nominating someone to serve on the United States Supreme Court. \n",
      "\n",
      "And I did that 4 days ago, when I nominated Circuit Court of Appeals Judge Ketanji Brown Jackson. One of our nation’s top legal minds, who will continue Justice Breyer’s legacy of excellence.\n",
      "\n",
      "Score: 0.8153784913324512\n"
     ]
    }
   ],
   "source": [
    "document, score = found_docs[0]\n",
    "print(document.page_content)\n",
    "print(f\"\\nScore: {score}\")"
   ]
  },
  {
   "attachments": {},
   "cell_type": "markdown",
   "id": "525e3582",
   "metadata": {},
   "source": [
    "### Metadata filtering | メタデータフィルタリング",
    "",
    "Qdrantには豊富なタイプサポートを備えた[広範なフィルタリングシステム](https://qdrant.tech/documentation/concepts/filtering/)があります。さらに、`similarity_search_with_score`メソッドと`similarity_search`メソッドの両方に追加パラメータを渡すことで、Langchainでもフィルタを使用することができます。",
    "",
    "> Qdrant has an [extensive filtering system](https://qdrant.tech/documentation/concepts/filtering/) with rich type support. It is also possible to use the filters in Langchain, by passing an additional param to both the `similarity_search_with_score` and `similarity_search` methods.",
    ""
   ]
  },
  {
   "attachments": {},
   "cell_type": "markdown",
   "id": "1c2c58dc",
   "metadata": {},
   "source": [
    "```python",
    "from qdrant_client.http import models as rest",
    "",
    "query = \"What did the president say about Ketanji Brown Jackson\"",
    "found_docs = qdrant.similarity_search_with_score(query, filter=rest.Filter(...))",
    "```",
    ""
   ]
  },
  {
   "attachments": {},
   "cell_type": "markdown",
   "id": "c58c30bf",
   "metadata": {
    "ExecuteTime": {
     "end_time": "2023-04-04T10:39:53.032744Z",
     "start_time": "2023-04-04T10:39:53.028673Z"
    }
   },
   "source": [
    "## Maximum marginal relevance search (MMR) | 最大周辺関連性検索（MMR）",
    "",
    "類似のドキュメントを探しているけれども、多様な結果も求めている場合、MMRという方法を考慮すべきです。最大限の周辺関連性（MMR）は、クエリに対する類似性と選択されたドキュメント間の多様性の両方を最適化する手法です。",
    "",
    "> If you'd like to look up for some similar documents, but you'd also like to receive diverse results, MMR is method you should consider. Maximal marginal relevance optimizes for similarity to query AND diversity among selected documents.",
    ""
   ]
  },
  {
   "cell_type": "code",
   "execution_count": 13,
   "id": "76810fb6",
   "metadata": {
    "ExecuteTime": {
     "end_time": "2023-04-04T10:51:26.010947Z",
     "start_time": "2023-04-04T10:51:25.647687Z"
    }
   },
   "outputs": [],
   "source": [
    "query = \"What did the president say about Ketanji Brown Jackson\"\n",
    "found_docs = qdrant.max_marginal_relevance_search(query, k=2, fetch_k=10)"
   ]
  },
  {
   "cell_type": "code",
   "execution_count": 14,
   "id": "80c6db11",
   "metadata": {
    "ExecuteTime": {
     "end_time": "2023-04-04T10:51:26.016979Z",
     "start_time": "2023-04-04T10:51:26.013329Z"
    }
   },
   "outputs": [
    {
     "name": "stdout",
     "output_type": "stream",
     "text": [
      "1. Tonight. I call on the Senate to: Pass the Freedom to Vote Act. Pass the John Lewis Voting Rights Act. And while you’re at it, pass the Disclose Act so Americans can know who is funding our elections. \n",
      "\n",
      "Tonight, I’d like to honor someone who has dedicated his life to serve this country: Justice Stephen Breyer—an Army veteran, Constitutional scholar, and retiring Justice of the United States Supreme Court. Justice Breyer, thank you for your service. \n",
      "\n",
      "One of the most serious constitutional responsibilities a President has is nominating someone to serve on the United States Supreme Court. \n",
      "\n",
      "And I did that 4 days ago, when I nominated Circuit Court of Appeals Judge Ketanji Brown Jackson. One of our nation’s top legal minds, who will continue Justice Breyer’s legacy of excellence. \n",
      "\n",
      "2. We can’t change how divided we’ve been. But we can change how we move forward—on COVID-19 and other issues we must face together. \n",
      "\n",
      "I recently visited the New York City Police Department days after the funerals of Officer Wilbert Mora and his partner, Officer Jason Rivera. \n",
      "\n",
      "They were responding to a 9-1-1 call when a man shot and killed them with a stolen gun. \n",
      "\n",
      "Officer Mora was 27 years old. \n",
      "\n",
      "Officer Rivera was 22. \n",
      "\n",
      "Both Dominican Americans who’d grown up on the same streets they later chose to patrol as police officers. \n",
      "\n",
      "I spoke with their families and told them that we are forever in debt for their sacrifice, and we will carry on their mission to restore the trust and safety every community deserves. \n",
      "\n",
      "I’ve worked on these issues a long time. \n",
      "\n",
      "I know what works: Investing in crime prevention and community police officers who’ll walk the beat, who’ll know the neighborhood, and who can restore trust and safety. \n",
      "\n"
     ]
    }
   ],
   "source": [
    "for i, doc in enumerate(found_docs):\n",
    "    print(f\"{i + 1}.\", doc.page_content, \"\\n\")"
   ]
  },
  {
   "attachments": {},
   "cell_type": "markdown",
   "id": "691a82d6",
   "metadata": {},
   "source": [
    "## Qdrant as a Retriever | リトリーバーとしてのQdrant",
    "",
    "Qdrantは、他のベクターストアと同様に、コサイン類似度を使用してLangChainリトリバーとして機能します。",
    "",
    "> Qdrant, as all the other vector stores, is a LangChain Retriever, by using cosine similarity.",
    ""
   ]
  },
  {
   "cell_type": "code",
   "execution_count": 15,
   "id": "9427195f",
   "metadata": {
    "ExecuteTime": {
     "end_time": "2023-04-04T10:51:26.031451Z",
     "start_time": "2023-04-04T10:51:26.018763Z"
    }
   },
   "outputs": [
    {
     "data": {
      "text/plain": [
       "VectorStoreRetriever(vectorstore=<langchain.vectorstores.qdrant.Qdrant object at 0x7fc4e5720a00>, search_type='similarity', search_kwargs={})"
      ]
     },
     "execution_count": 15,
     "metadata": {},
     "output_type": "execute_result"
    }
   ],
   "source": [
    "retriever = qdrant.as_retriever()\n",
    "retriever"
   ]
  },
  {
   "attachments": {},
   "cell_type": "markdown",
   "id": "0c851b4f",
   "metadata": {},
   "source": [
    "検索戦略として類似性の代わりにMMRを使用するよう指定することもできます。",
    "",
    "> It might be also specified to use MMR as a search strategy, instead of similarity.",
    ""
   ]
  },
  {
   "cell_type": "code",
   "execution_count": 16,
   "id": "64348f1b",
   "metadata": {
    "ExecuteTime": {
     "end_time": "2023-04-04T10:51:26.043909Z",
     "start_time": "2023-04-04T10:51:26.034284Z"
    }
   },
   "outputs": [
    {
     "data": {
      "text/plain": [
       "VectorStoreRetriever(vectorstore=<langchain.vectorstores.qdrant.Qdrant object at 0x7fc4e5720a00>, search_type='mmr', search_kwargs={})"
      ]
     },
     "execution_count": 16,
     "metadata": {},
     "output_type": "execute_result"
    }
   ],
   "source": [
    "retriever = qdrant.as_retriever(search_type=\"mmr\")\n",
    "retriever"
   ]
  },
  {
   "cell_type": "code",
   "execution_count": 17,
   "id": "f3c70c31",
   "metadata": {
    "ExecuteTime": {
     "end_time": "2023-04-04T10:51:26.495652Z",
     "start_time": "2023-04-04T10:51:26.046407Z"
    }
   },
   "outputs": [
    {
     "data": {
      "text/plain": [
       "Document(page_content='Tonight. I call on the Senate to: Pass the Freedom to Vote Act. Pass the John Lewis Voting Rights Act. And while you’re at it, pass the Disclose Act so Americans can know who is funding our elections. \\n\\nTonight, I’d like to honor someone who has dedicated his life to serve this country: Justice Stephen Breyer—an Army veteran, Constitutional scholar, and retiring Justice of the United States Supreme Court. Justice Breyer, thank you for your service. \\n\\nOne of the most serious constitutional responsibilities a President has is nominating someone to serve on the United States Supreme Court. \\n\\nAnd I did that 4 days ago, when I nominated Circuit Court of Appeals Judge Ketanji Brown Jackson. One of our nation’s top legal minds, who will continue Justice Breyer’s legacy of excellence.', metadata={'source': '../../../state_of_the_union.txt'})"
      ]
     },
     "execution_count": 17,
     "metadata": {},
     "output_type": "execute_result"
    }
   ],
   "source": [
    "query = \"What did the president say about Ketanji Brown Jackson\"\n",
    "retriever.get_relevant_documents(query)[0]"
   ]
  },
  {
   "attachments": {},
   "cell_type": "markdown",
   "id": "0358ecde",
   "metadata": {},
   "source": [
    "## Customizing Qdrant | Qdrantのカスタマイズ",
    "",
    "Langchainアプリケーションで既存のQdrantコレクションを利用する選択肢がいくつかあります。その場合、QdrantのポイントをLangchainの`Document`にどうマッピングするかを定義する必要があります。",
    "",
    "> There are some options to use an existing Qdrant collection within your Langchain application. In such cases you may need to define how to map Qdrant point into the Langchain `Document`.",
    "",
    "### Named vectors | 名前付きベクトル",
    "",
    "Qdrantは、名前付きベクトルを用いて[ポイントごとに複数のベクトル](https://qdrant.tech/documentation/concepts/collections/#collection-with-multiple-vectors)をサポートしています。Langchainは文書ごとに一つの埋め込みのみを必要とし、デフォルトでは単一のベクトルを使用します。しかし、外部で作成されたコレクションを扱う場合や、名前付きベクトルを使用したい場合は、その名前を指定して設定することができます。",
    "",
    "> Qdrant supports [multiple vectors per point](https://qdrant.tech/documentation/concepts/collections/#collection-with-multiple-vectors) by named vectors. Langchain requires just a single embedding per document and, by default, uses a single vector. However, if you work with a collection created externally or want to have the named vector used, you can configure it by providing its name.",
    ""
   ]
  },
  {
   "cell_type": "code",
   "execution_count": null,
   "id": "1f11adf8",
   "metadata": {
    "collapsed": false
   },
   "outputs": [],
   "source": [
    "Qdrant.from_documents(\n",
    "    docs,\n",
    "    embeddings,\n",
    "    location=\":memory:\",\n",
    "    collection_name=\"my_documents_2\",\n",
    "    vector_name=\"custom_vector\",\n",
    ")"
   ]
  },
  {
   "cell_type": "markdown",
   "id": "b34f5230",
   "metadata": {
    "collapsed": false
   },
   "source": [
    "Langchainユーザーとして、名前付きベクトルを使用しても使用しなくても、違いは感じられません。Qdrant統合が内部で変換を処理します。",
    "",
    "> As a Langchain user, you won't see any difference whether you use named vectors or not. Qdrant integration will handle the conversion under the hood.",
    ""
   ]
  },
  {
   "cell_type": "markdown",
   "id": "b2350093",
   "metadata": {
    "collapsed": false
   },
   "source": [
    "### Metadata | メタデータ",
    "",
    "Qdrantは、任意のJSON形式のペイロードと共にベクトルの埋め込みを保存します。ペイロードは任意ですが、LangChainは埋め込みがドキュメントから生成されたものであると想定しているので、元のテキストを取り出せるように、コンテキストデータも一緒に保持しています。",
    "",
    "> Qdrant stores your vector embeddings along with the optional JSON-like payload. Payloads are optional, but since LangChain assumes the embeddings are generated from the documents, we keep the context data, so you can extract the original texts as well.",
    "",
    "デフォルトでは、ドキュメントは以下のペイロード構造で保存されます：",
    "",
    "> By default, your document is going to be stored in the following payload structure:",
    "",
    "```json",
    "{",
    "    \"page_content\": \"Lorem ipsum dolor sit amet\",",
    "    \"metadata\": {",
    "        \"foo\": \"bar\"",
    "    }",
    "}",
    "```",
    "",
    "ただし、ページのコンテンツとメタデータに異なるキーを使用することを選択することもできます。これは、既に持っているコレクションを再利用したい場合に便利です。",
    "",
    "> You can, however, decide to use different keys for the page content and metadata. That's useful if you already have a collection that you'd like to reuse.",
    ""
   ]
  },
  {
   "cell_type": "code",
   "execution_count": 19,
   "id": "e4d6baf9",
   "metadata": {
    "ExecuteTime": {
     "end_time": "2023-04-04T11:08:31.739141Z",
     "start_time": "2023-04-04T11:08:30.229748Z"
    }
   },
   "outputs": [
    {
     "data": {
      "text/plain": [
       "<langchain.vectorstores.qdrant.Qdrant at 0x7fc4e2baa230>"
      ]
     },
     "execution_count": 19,
     "metadata": {},
     "output_type": "execute_result"
    }
   ],
   "source": [
    "Qdrant.from_documents(\n",
    "    docs,\n",
    "    embeddings,\n",
    "    location=\":memory:\",\n",
    "    collection_name=\"my_documents_2\",\n",
    "    content_payload_key=\"my_page_content_key\",\n",
    "    metadata_payload_key=\"my_meta\",\n",
    ")"
   ]
  },
  {
   "cell_type": "code",
   "execution_count": null,
   "id": "2300e785",
   "metadata": {},
   "outputs": [],
   "source": []
  }
 ],
 "metadata": {
  "kernelspec": {
   "display_name": "Python 3 (ipykernel)",
   "language": "python",
   "name": "python3"
  },
  "language_info": {
   "codemirror_mode": {
    "name": "ipython",
    "version": 3
   },
   "file_extension": ".py",
   "mimetype": "text/x-python",
   "name": "python",
   "nbconvert_exporter": "python",
   "pygments_lexer": "ipython3",
   "version": "3.11.3"
  }
 },
 "nbformat": 4,
 "nbformat_minor": 5
}