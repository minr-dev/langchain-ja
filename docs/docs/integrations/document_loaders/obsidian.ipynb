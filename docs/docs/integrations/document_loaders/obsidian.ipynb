{
 "cells": [
  {
   "cell_type": "markdown",
   "id": "1dc7df1d",
   "metadata": {},
   "source": [
    "# Obsidian | Obsidian\n",
    "\n",
    "> [Obsidian](https://obsidian.md/)は、ローカルフォルダのプレーンテキストファイルを基盤として動作する、強力で拡張性の高いナレッジベースです。\n",
    ">\n",
    "> > [Obsidian](https://obsidian.md/) is a powerful and extensible knowledge base\n",
    "> > that works on top of your local folder of plain text files.\n",
    "\n",
    "このノートブックでは、`Obsidian` データベースからドキュメントをロードする方法について説明しています。\n",
    "\n",
    "> This notebook covers how to load documents from an `Obsidian` database.\n",
    "\n",
    "`Obsidian`はMarkdownファイルのフォルダとしてディスク上に保存されているだけなので、ローダーはこのディレクトリへのパスを受け取るだけです。\n",
    "\n",
    "> Since `Obsidian` is just stored on disk as a folder of Markdown files, the loader just takes a path to this directory.\n",
    "\n",
    "`Obsidian`ファイルには、ファイルの先頭にあるYAMLブロックとして[メタデータ](https://help.obsidian.md/Editing+and+formatting/Metadata)が含まれることがあります。これらの値はドキュメントのメタデータに追加されます。（`ObsidianLoader`には、この動作を無効にする`collect_metadata=False`という引数を渡すこともできます。）\n",
    "\n",
    "> `Obsidian` files also sometimes contain [metadata](https://help.obsidian.md/Editing+and+formatting/Metadata) which is a YAML block at the top of the file. These values will be added to the document's metadata. (`ObsidianLoader` can also be passed a `collect_metadata=False` argument to disable this behavior.)\n",
    "\n"
   ]
  },
  {
   "cell_type": "code",
   "execution_count": 1,
   "id": "007c5cbf",
   "metadata": {
    "tags": []
   },
   "outputs": [],
   "source": [
    "from langchain.document_loaders import ObsidianLoader"
   ]
  },
  {
   "cell_type": "code",
   "execution_count": null,
   "id": "a1caec59",
   "metadata": {},
   "outputs": [],
   "source": [
    "loader = ObsidianLoader(\"<path-to-obsidian>\")"
   ]
  },
  {
   "cell_type": "code",
   "execution_count": null,
   "id": "b1c30ff7",
   "metadata": {},
   "outputs": [],
   "source": [
    "docs = loader.load()"
   ]
  }
 ],
 "metadata": {
  "kernelspec": {
   "display_name": "Python 3 (ipykernel)",
   "language": "python",
   "name": "python3"
  },
  "language_info": {
   "codemirror_mode": {
    "name": "ipython",
    "version": 3
   },
   "file_extension": ".py",
   "mimetype": "text/x-python",
   "name": "python",
   "nbconvert_exporter": "python",
   "pygments_lexer": "ipython3",
   "version": "3.10.6"
  }
 },
 "nbformat": 4,
 "nbformat_minor": 5
}