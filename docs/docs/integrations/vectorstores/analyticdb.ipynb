{
 "cells": [
  {
   "cell_type": "markdown",
   "metadata": {},
   "source": [
    "# AnalyticDB | AnalyticDB\n",
    "\n",
    "> [AnalyticDB for PostgreSQL](https://www.alibabacloud.com/help/en/analyticdb-for-postgresql/latest/product-introduction-overview)は、大量のデータをオンラインで分析するために設計された、大規模並列処理（MPP）データウェアハウスサービスです。\n",
    ">\n",
    "> > [AnalyticDB for PostgreSQL](https://www.alibabacloud.com/help/en/analyticdb-for-postgresql/latest/product-introduction-overview) is a massively parallel processing (MPP) data warehousing service that is designed to analyze large volumes of data online.\n",
    "\n",
    "> `AnalyticDB for PostgreSQL`は、オープンソースの`Greenplum Database`プロジェクトを基に開発され、`Alibaba Cloud`によってさらに深い拡張が施されています。AnalyticDB for PostgreSQLは、ANSI SQL 2003構文とPostgreSQLおよびOracleデータベースエコシステムとの互換性があります。AnalyticDB for PostgreSQLは行ストアと列ストアをサポートし、ペタバイト規模のデータをオフラインで高性能に処理すると同時に、高度に同時接続可能なオンラインクエリもサポートしています。\n",
    ">\n",
    "> > `AnalyticDB for PostgreSQL` is developed based on the open-source `Greenplum Database` project and is enhanced with in-depth extensions by `Alibaba Cloud`. AnalyticDB for PostgreSQL is compatible with the ANSI SQL 2003 syntax and the PostgreSQL and Oracle database ecosystems. AnalyticDB for PostgreSQL also supports row store and column store. AnalyticDB for PostgreSQL processes petabytes of data offline at a high performance level and supports highly concurrent online queries.\n",
    "\n",
    "このノートブックは、`AnalyticDB` ベクターデータベースに関連する機能の使用方法を示しています。実行するには、[AnalyticDB](https://www.alibabacloud.com/help/en/analyticdb-for-postgresql/latest/product-introduction-overview)のインスタンスが起動し、稼働している必要があります：\n",
    "\n",
    "> This notebook shows how to use functionality related to the `AnalyticDB` vector database.\n",
    "> To run, you should have an [AnalyticDB](https://www.alibabacloud.com/help/en/analyticdb-for-postgresql/latest/product-introduction-overview) instance up and running:\n",
    "\n",
    "* [AnalyticDB Cloud Vector Database](https://www.alibabacloud.com/product/hybriddb-postgresql)を使用します。こちらをクリックして、迅速にデプロイしましょう。\n",
    "\n",
    "  > Using [AnalyticDB Cloud Vector Database](https://www.alibabacloud.com/product/hybriddb-postgresql). Click here to fast deploy it.\n",
    "\n",
    "\n",
    "\n"
   ]
  },
  {
   "cell_type": "code",
   "execution_count": null,
   "metadata": {
    "tags": []
   },
   "outputs": [],
   "source": [
    "from langchain.embeddings.openai import OpenAIEmbeddings\n",
    "from langchain.text_splitter import CharacterTextSplitter\n",
    "from langchain.vectorstores import AnalyticDB"
   ]
  },
  {
   "cell_type": "markdown",
   "metadata": {},
   "source": [
    "OpenAI APIを呼び出してドキュメントを分割し、埋め込みを取得します\n",
    "\n",
    "> Split documents and get embeddings by call OpenAI API\n",
    "\n",
    "\n"
   ]
  },
  {
   "cell_type": "code",
   "execution_count": 2,
   "metadata": {},
   "outputs": [],
   "source": [
    "from langchain.document_loaders import TextLoader\n",
    "\n",
    "loader = TextLoader(\"../../modules/state_of_the_union.txt\")\n",
    "documents = loader.load()\n",
    "text_splitter = CharacterTextSplitter(chunk_size=1000, chunk_overlap=0)\n",
    "docs = text_splitter.split_documents(documents)\n",
    "\n",
    "embeddings = OpenAIEmbeddings()"
   ]
  },
  {
   "cell_type": "markdown",
   "metadata": {},
   "source": [
    "関連する環境変数を設定してAnalyticDBに接続します。\n",
    "\n",
    "> Connect to AnalyticDB by setting related ENVIRONMENTS.\n",
    "\n",
    "```\n",
    "export PG_HOST={your_analyticdb_hostname}\n",
    "export PG_PORT={your_analyticdb_port} # Optional, default is 5432\n",
    "export PG_DATABASE={your_database} # Optional, default is postgres\n",
    "export PG_USER={database_username}\n",
    "export PG_PASSWORD={database_password}\n",
    "```\n",
    "\n",
    "次に、エンベディングとドキュメントをAnalyticDBに格納してください\n",
    "\n",
    "> Then store your embeddings and documents into AnalyticDB\n",
    "\n",
    "\n"
   ]
  },
  {
   "cell_type": "code",
   "execution_count": 3,
   "metadata": {},
   "outputs": [],
   "source": [
    "import os\n",
    "\n",
    "connection_string = AnalyticDB.connection_string_from_db_params(\n",
    "    driver=os.environ.get(\"PG_DRIVER\", \"psycopg2cffi\"),\n",
    "    host=os.environ.get(\"PG_HOST\", \"localhost\"),\n",
    "    port=int(os.environ.get(\"PG_PORT\", \"5432\")),\n",
    "    database=os.environ.get(\"PG_DATABASE\", \"postgres\"),\n",
    "    user=os.environ.get(\"PG_USER\", \"postgres\"),\n",
    "    password=os.environ.get(\"PG_PASSWORD\", \"postgres\"),\n",
    ")\n",
    "\n",
    "vector_db = AnalyticDB.from_documents(\n",
    "    docs,\n",
    "    embeddings,\n",
    "    connection_string=connection_string,\n",
    ")"
   ]
  },
  {
   "cell_type": "markdown",
   "metadata": {},
   "source": [
    "データを照会して取得する\n",
    "\n",
    "> Query and retrieve data\n",
    "\n",
    "\n"
   ]
  },
  {
   "cell_type": "code",
   "execution_count": 4,
   "metadata": {},
   "outputs": [],
   "source": [
    "query = \"What did the president say about Ketanji Brown Jackson\"\n",
    "docs = vector_db.similarity_search(query)"
   ]
  },
  {
   "cell_type": "code",
   "execution_count": 5,
   "metadata": {},
   "outputs": [
    {
     "name": "stdout",
     "output_type": "stream",
     "text": [
      "Tonight. I call on the Senate to: Pass the Freedom to Vote Act. Pass the John Lewis Voting Rights Act. And while you’re at it, pass the Disclose Act so Americans can know who is funding our elections. \n",
      "\n",
      "Tonight, I’d like to honor someone who has dedicated his life to serve this country: Justice Stephen Breyer—an Army veteran, Constitutional scholar, and retiring Justice of the United States Supreme Court. Justice Breyer, thank you for your service. \n",
      "\n",
      "One of the most serious constitutional responsibilities a President has is nominating someone to serve on the United States Supreme Court. \n",
      "\n",
      "And I did that 4 days ago, when I nominated Circuit Court of Appeals Judge Ketanji Brown Jackson. One of our nation’s top legal minds, who will continue Justice Breyer’s legacy of excellence.\n"
     ]
    }
   ],
   "source": [
    "print(docs[0].page_content)"
   ]
  }
 ],
 "metadata": {
  "kernelspec": {
   "display_name": "Python 3 (ipykernel)",
   "language": "python",
   "name": "python3"
  },
  "language_info": {
   "codemirror_mode": {
    "name": "ipython",
    "version": 3
   },
   "file_extension": ".py",
   "mimetype": "text/x-python",
   "name": "python",
   "nbconvert_exporter": "python",
   "pygments_lexer": "ipython3",
   "version": "3.10.6"
  }
 },
 "nbformat": 4,
 "nbformat_minor": 4
}