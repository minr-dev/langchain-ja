{
 "cells": [
  {
   "cell_type": "markdown",
   "metadata": {},
   "source": [
    "# ForefrontAI | ForefrontAI\n",
    "\n",
    "`Forefront`プラットフォームでは、[オープンソースの大規模言語モデル](https://docs.forefront.ai/forefront/master/models)を微調整して使用する機能を提供しています。\n",
    "\n",
    "> The `Forefront` platform gives you the ability to fine-tune and use [open-source large language models](https://docs.forefront.ai/forefront/master/models).\n",
    "\n",
    "このノートブックでは、[ForefrontAI](https://www.forefront.ai/)を使ってLangchainを使用する方法について説明しています。\n",
    "\n",
    "> This notebook goes over how to use Langchain with [ForefrontAI](https://www.forefront.ai/).\n",
    "\n"
   ]
  },
  {
   "cell_type": "markdown",
   "metadata": {},
   "source": [
    "## Imports | インポート\n",
    "\n"
   ]
  },
  {
   "cell_type": "code",
   "execution_count": null,
   "metadata": {},
   "outputs": [],
   "source": [
    "import os\n",
    "\n",
    "from langchain.chains import LLMChain\n",
    "from langchain.llms import ForefrontAI\n",
    "from langchain.prompts import PromptTemplate"
   ]
  },
  {
   "cell_type": "markdown",
   "metadata": {},
   "source": [
    "## Set the Environment API Key | 環境APIキーを設定する\n",
    "\n",
    "ForefrontAIからAPIキーを取得してください。異なるモデルをテストするための5日間の無料トライアルが提供されます。\n",
    "\n",
    "> Make sure to get your API key from ForefrontAI. You are given a 5 day free trial to test different models.\n",
    "\n"
   ]
  },
  {
   "cell_type": "code",
   "execution_count": null,
   "metadata": {},
   "outputs": [],
   "source": [
    "# get a new token: https://docs.forefront.ai/forefront/api-reference/authentication\n",
    "\n",
    "from getpass import getpass\n",
    "\n",
    "FOREFRONTAI_API_KEY = getpass()"
   ]
  },
  {
   "cell_type": "code",
   "execution_count": null,
   "metadata": {},
   "outputs": [],
   "source": [
    "os.environ[\"FOREFRONTAI_API_KEY\"] = FOREFRONTAI_API_KEY"
   ]
  },
  {
   "cell_type": "markdown",
   "metadata": {},
   "source": [
    "## Create the ForefrontAI instance | ForefrontAIインスタンスを作成する\n",
    "\n",
    "モデルのエンドポイントURL、長さ、温度など、さまざまなパラメータを指定できます。エンドポイントURLの提供は必須です。\n",
    "\n",
    "> You can specify different parameters such as the model endpoint url, length, temperature, etc. You must provide an endpoint url.\n",
    "\n"
   ]
  },
  {
   "cell_type": "code",
   "execution_count": null,
   "metadata": {},
   "outputs": [],
   "source": [
    "llm = ForefrontAI(endpoint_url=\"YOUR ENDPOINT URL HERE\")"
   ]
  },
  {
   "cell_type": "markdown",
   "metadata": {},
   "source": [
    "## Create a Prompt Template | プロンプトテンプレートを作成する\n",
    "\n",
    "質問と回答のためのプロンプトテンプレートを作成します。\n",
    "\n",
    "> We will create a prompt template for Question and Answer.\n",
    "\n"
   ]
  },
  {
   "cell_type": "code",
   "execution_count": null,
   "metadata": {},
   "outputs": [],
   "source": [
    "template = \"\"\"Question: {question}\n",
    "\n",
    "Answer: Let's think step by step.\"\"\"\n",
    "\n",
    "prompt = PromptTemplate(template=template, input_variables=[\"question\"])"
   ]
  },
  {
   "cell_type": "markdown",
   "metadata": {},
   "source": [
    "## Initiate the LLMChain | LLMChainを開始する\n",
    "\n"
   ]
  },
  {
   "cell_type": "code",
   "execution_count": null,
   "metadata": {},
   "outputs": [],
   "source": [
    "llm_chain = LLMChain(prompt=prompt, llm=llm)"
   ]
  },
  {
   "cell_type": "markdown",
   "metadata": {},
   "source": [
    "## Run the LLMChain | LLMChainを実行する\n",
    "\n",
    "質問を提供して、LLMChainを実行してください。\n",
    "\n",
    "> Provide a question and run the LLMChain.\n",
    "\n"
   ]
  },
  {
   "cell_type": "code",
   "execution_count": null,
   "metadata": {},
   "outputs": [],
   "source": [
    "question = \"What NFL team won the Super Bowl in the year Justin Beiber was born?\"\n",
    "\n",
    "llm_chain.run(question)"
   ]
  }
 ],
 "metadata": {
  "kernelspec": {
   "display_name": "Python 3 (ipykernel)",
   "language": "python",
   "name": "python3"
  },
  "language_info": {
   "codemirror_mode": {
    "name": "ipython",
    "version": 3
   },
   "file_extension": ".py",
   "mimetype": "text/x-python",
   "name": "python",
   "nbconvert_exporter": "python",
   "pygments_lexer": "ipython3",
   "version": "3.10.6"
  },
  "vscode": {
   "interpreter": {
    "hash": "a0a0263b650d907a3bfe41c0f8d6a63a071b884df3cfdc1579f00cdc1aed6b03"
   }
  }
 },
 "nbformat": 4,
 "nbformat_minor": 4
}