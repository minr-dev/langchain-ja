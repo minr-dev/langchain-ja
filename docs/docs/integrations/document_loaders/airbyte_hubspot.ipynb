{
 "cells": [
  {
   "cell_type": "markdown",
   "id": "1f3a5ebf",
   "metadata": {},
   "source": [
    "# Airbyte Hubspot | Airbyte HubSpot\n",
    "\n"
   ]
  },
  {
   "cell_type": "markdown",
   "id": "35ac77b1-449b-44f7-b8f3-3494d55c286e",
   "metadata": {},
   "source": [
    "> [Airbyte](https://github.com/airbytehq/airbyte)は、API、データベース、ファイルからデータウェアハウスやデータレイクへのELTパイプラインのためのデータ統合プラットフォームです。データウェアハウスとデータベースへのELTコネクターのカタログが最も豊富です。\n",
    ">\n",
    "> > [Airbyte](https://github.com/airbytehq/airbyte) is a data integration platform for ELT pipelines from APIs, databases & files to warehouses & lakes. It has the largest catalog of ELT connectors to data warehouses and databases.\n",
    "\n",
    "このローダーは、Hubspotコネクタをドキュメントローダーとして公開し、様々なHubspotオブジェクトをドキュメントとして読み込むことを可能にします。\n",
    "\n",
    "> This loader exposes the Hubspot connector as a document loader, allowing you to load various Hubspot objects as documents.\n",
    "\n"
   ]
  },
  {
   "cell_type": "markdown",
   "id": "6847a40c",
   "metadata": {},
   "source": [
    "\n"
   ]
  },
  {
   "cell_type": "markdown",
   "id": "3b06fbde",
   "metadata": {},
   "source": [
    "## Installation | インストール\n",
    "\n"
   ]
  },
  {
   "cell_type": "markdown",
   "id": "e3e9dc79",
   "metadata": {},
   "source": [
    "まず、`airbyte-source-hubspot` Pythonパッケージをインストールする必要があります。\n",
    "\n",
    "> First, you need to install the `airbyte-source-hubspot` python package.\n",
    "\n"
   ]
  },
  {
   "cell_type": "code",
   "execution_count": null,
   "id": "4d35e4e0",
   "metadata": {},
   "outputs": [],
   "source": [
    "#!pip install airbyte-source-hubspot"
   ]
  },
  {
   "cell_type": "markdown",
   "id": "ae855210",
   "metadata": {},
   "source": [
    "## Example | 例\n",
    "\n"
   ]
  },
  {
   "cell_type": "markdown",
   "id": "02208f52",
   "metadata": {},
   "source": [
    "リーダーの設定方法の詳細については、[Airbyteのドキュメントページ](https://docs.airbyte.com/integrations/sources/hubspot/)をご覧ください。設定オブジェクトが準拠すべきJSONスキーマはGitHubで見つけることができます: <https://github.com/airbytehq/airbyte/blob/master/airbyte-integrations/connectors/source-hubspot/source_hubspot/spec.yaml>。\n",
    "\n",
    "> Check out the [Airbyte documentation page](https://docs.airbyte.com/integrations/sources/hubspot/) for details about how to configure the reader.\n",
    "> The JSON schema the config object should adhere to can be found on Github: <https://github.com/airbytehq/airbyte/blob/master/airbyte-integrations/connectors/source-hubspot/source_hubspot/spec.yaml>.\n",
    "\n",
    "一般的な形は次のようになります：\n",
    "\n",
    "> The general shape looks like this:\n",
    "\n",
    "```python\n",
    "{\n",
    "  \"start_date\": \"<date from which to start retrieving records from in ISO format, e.g. 2020-10-20T00:00:00Z>\",\n",
    "  \"credentials\": {\n",
    "    \"credentials_title\": \"Private App Credentials\",\n",
    "    \"access_token\": \"<access token of your private app>\"\n",
    "  }\n",
    "}\n",
    "```\n",
    "\n",
    "デフォルトでは、すべてのフィールドはドキュメントのメタデータとして保存され、テキストは空文字列に設定されています。リーダーから返されたドキュメントを変換して、ドキュメントのテキストを構築してください。\n",
    "\n",
    "> By default all fields are stored as metadata in the documents and the text is set to an empty string. Construct the text of the document by transforming the documents returned by the reader.\n",
    "\n"
   ]
  },
  {
   "cell_type": "code",
   "execution_count": null,
   "id": "89a99e58",
   "metadata": {},
   "outputs": [],
   "source": [
    "from langchain.document_loaders.airbyte import AirbyteHubspotLoader\n",
    "\n",
    "config = {\n",
    "    # your hubspot configuration\n",
    "}\n",
    "\n",
    "loader = AirbyteHubspotLoader(\n",
    "    config=config, stream_name=\"products\"\n",
    ")  # check the documentation linked above for a list of all streams"
   ]
  },
  {
   "cell_type": "markdown",
   "id": "2cea23fc",
   "metadata": {},
   "source": [
    "これで、通常の方法でドキュメントを読み込むことができます\n",
    "\n",
    "> Now you can load documents the usual way\n",
    "\n"
   ]
  },
  {
   "cell_type": "code",
   "execution_count": null,
   "id": "dae75cdb",
   "metadata": {},
   "outputs": [],
   "source": [
    "docs = loader.load()"
   ]
  },
  {
   "cell_type": "markdown",
   "id": "4a93dc2a",
   "metadata": {},
   "source": [
    "`load`はリストを返すため、すべてのドキュメントが読み込まれるまで処理がブロックされます。このプロセスをより良くコントロールするために、イテレータを返す`lazy_load`メソッドを使用することもできます：\n",
    "\n",
    "> As `load` returns a list, it will block until all documents are loaded. To have better control over this process, you can also you the `lazy_load` method which returns an iterator instead:\n",
    "\n"
   ]
  },
  {
   "cell_type": "code",
   "execution_count": null,
   "id": "1782db09",
   "metadata": {},
   "outputs": [],
   "source": [
    "docs_iterator = loader.lazy_load()"
   ]
  },
  {
   "cell_type": "markdown",
   "id": "3a124086",
   "metadata": {},
   "source": [
    "デフォルトではページの内容は空であり、メタデータオブジェクトにはレコードからのすべての情報が含まれていることに注意してください。ドキュメントを処理するためには、ベースローダーを継承するクラスを作成し、`_handle_records` メソッドを自分で実装する必要があります：\n",
    "\n",
    "> Keep in mind that by default the page content is empty and the metadata object contains all the information from the record. To process documents, create a class inheriting from the base loader and implement the `_handle_records` method yourself:\n",
    "\n"
   ]
  },
  {
   "cell_type": "code",
   "execution_count": null,
   "id": "5671395d",
   "metadata": {},
   "outputs": [],
   "source": [
    "from langchain.docstore.document import Document\n",
    "\n",
    "\n",
    "def handle_record(record, id):\n",
    "    return Document(page_content=record.data[\"title\"], metadata=record.data)\n",
    "\n",
    "\n",
    "loader = AirbyteHubspotLoader(\n",
    "    config=config, record_handler=handle_record, stream_name=\"products\"\n",
    ")\n",
    "docs = loader.load()"
   ]
  },
  {
   "cell_type": "markdown",
   "id": "223eb8bc",
   "metadata": {},
   "source": [
    "## Incremental loads | インクリメンタルロード\n",
    "\n",
    "一部のストリームはインクリメンタルローディングを許可しており、これはソースが同期されたレコードを追跡し、それらを再度ロードしないことを意味します。これは、データ量が多く頻繁に更新されるソースにとって有用です。\n",
    "\n",
    "> Some streams allow incremental loading, this means the source keeps track of synced records and won't load them again. This is useful for sources that have a high volume of data and are updated frequently.\n",
    "\n",
    "これを利用するためには、ローダーの `last_state` プロパティを保存しておき、ローダーを再度作成する際にそれを渡してください。これにより、新しいレコードのみがロードされることが保証されます。\n",
    "\n",
    "> To take advantage of this, store the `last_state` property of the loader and pass it in when creating the loader again. This will ensure that only new records are loaded.\n",
    "\n"
   ]
  },
  {
   "cell_type": "code",
   "execution_count": null,
   "id": "7061e735",
   "metadata": {},
   "outputs": [],
   "source": [
    "last_state = loader.last_state  # store safely\n",
    "\n",
    "incremental_loader = AirbyteHubspotLoader(\n",
    "    config=config, stream_name=\"products\", state=last_state\n",
    ")\n",
    "\n",
    "new_docs = incremental_loader.load()"
   ]
  }
 ],
 "metadata": {
  "kernelspec": {
   "display_name": "Python 3 (ipykernel)",
   "language": "python",
   "name": "python3"
  },
  "language_info": {
   "codemirror_mode": {
    "name": "ipython",
    "version": 3
   },
   "file_extension": ".py",
   "mimetype": "text/x-python",
   "name": "python",
   "nbconvert_exporter": "python",
   "pygments_lexer": "ipython3",
   "version": "3.10.6"
  }
 },
 "nbformat": 4,
 "nbformat_minor": 5
}