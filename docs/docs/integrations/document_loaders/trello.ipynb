{
 "cells": [
  {
   "cell_type": "markdown",
   "metadata": {},
   "source": [
    "# Trello | Trello",
    "",
    "> [Trello](https://www.atlassian.com/software/trello)は、個人やチームがタスクやプロジェクトを整理し、追跡するためのウェブベースのプロジェクト管理・協働ツールです。ユーザーがタスクや活動を表すリストとカードを作成できる「ボード」と呼ばれる視覚的なインターフェースを提供しています。",
    ">",
    "> > [Trello](https://www.atlassian.com/software/trello) is a web-based project management and collaboration tool that allows individuals and teams to organize and track their tasks and projects. It provides a visual interface known as a \"board\" where users can create lists and cards to represent their tasks and activities.",
    "",
    "TrelloLoaderは、Trelloボードからカードを読み込むことができ、[py-trello](https://pypi.org/project/py-trello/)を基に実装されています。",
    "",
    "> The TrelloLoader allows you to load cards from a Trello board and is implemented on top of [py-trello](https://pypi.org/project/py-trello/)",
    "",
    "現在、これは`api_key/token`のみをサポートしています。",
    "",
    "> This currently supports `api_key/token` only.",
    "",
    "1. 認証情報の生成：https://trello.com/power-ups/admin/",
    "   > Credentials generation: https://trello.com/power-ups/admin/",
    "",
    "2. トークンを取得するために、マニュアルトークン生成のリンクをクリックしてください。",
    "   > Click in the manual token generation link to get the token.",
    "",
    "APIキーとトークンを指定するには、環境変数 `TRELLO_API_KEY` と `TRELLO_TOKEN` を設定するか、または `api_key` と `token` を便利なコンストラクタメソッド `from_credentials` に直接渡すことができます。",
    "",
    "> To specify the API key and token you can either set the environment variables `TRELLO_API_KEY` and `TRELLO_TOKEN` or you can pass `api_key` and `token` directly into the `from_credentials` convenience constructor method.",
    "",
    "このローダーを使用すると、ボード名を指定して、対応するカードをDocumentオブジェクトに取り込むことができます。",
    "",
    "> This loader allows you to provide the board name to pull in the corresponding cards into Document objects.",
    "",
    "公式ドキュメントでは、ボードの「name」は「title」とも呼ばれていることに注意してください：",
    "",
    "> Notice that the board \"name\" is also called \"title\" in oficial documentation:",
    "",
    "https://support.atlassian.com/trello/docs/changing-a-boards-title-and-description/",
    "",
    "> https://support.atlassian.com/trello/docs/changing-a-boards-title-and-description/",
    "",
    "また、ドキュメントのpage\\_contentプロパティとメタデータの両方から、異なるフィールドを含める／除外するために、複数のロードパラメータを指定することもできます。",
    "",
    "> You can also specify several load parameters to include / remove different fields both from the document page\\_content properties and metadata.",
    "",
    "## Features | 機能",
    "",
    "* Trelloボードからカードを読み込む。",
    "  > Load cards from a Trello board.",
    "* カードをそのステータス（オープンまたはクローズ）に基づいてフィルタリングします。",
    "  > Filter cards based on their status (open or closed).",
    "* 読み込まれたドキュメントには、カード名、コメント、チェックリストを含めてください。",
    "  > Include card names, comments, and checklists in the loaded documents.",
    "* ドキュメントに含める追加のメタデータフィールドをカスタマイズしてください。",
    "  > Customize the additional metadata fields to include in the document.",
    "",
    "デフォルトでは、全てのカードフィールドが、ページの全文内容（page\\_content）とそれに応じたメタデータに含まれています。",
    "",
    "> By default all card fields are included for the full text page\\_content and metadata accordinly.",
    ""
   ]
  },
  {
   "cell_type": "code",
   "execution_count": 1,
   "metadata": {
    "tags": []
   },
   "outputs": [],
   "source": [
    "#!pip install py-trello beautifulsoup4 lxml"
   ]
  },
  {
   "cell_type": "code",
   "execution_count": 11,
   "metadata": {},
   "outputs": [
    {
     "name": "stdout",
     "output_type": "stream",
     "text": [
      "········\n",
      "········\n"
     ]
    }
   ],
   "source": [
    "# If you have already set the API key and token using environment variables,\n",
    "# you can skip this cell and comment out the `api_key` and `token` named arguments\n",
    "# in the initialization steps below.\n",
    "from getpass import getpass\n",
    "\n",
    "API_KEY = getpass()\n",
    "TOKEN = getpass()"
   ]
  },
  {
   "cell_type": "code",
   "execution_count": 6,
   "metadata": {},
   "outputs": [
    {
     "name": "stdout",
     "output_type": "stream",
     "text": [
      "Review Tech partner pages\n",
      "Comments:\n",
      "{'title': 'Review Tech partner pages', 'id': '6475357890dc8d17f73f2dcc', 'url': 'https://trello.com/c/b0OTZwkZ/1-review-tech-partner-pages', 'labels': ['Demand Marketing'], 'list': 'Done', 'closed': False, 'due_date': ''}\n"
     ]
    }
   ],
   "source": [
    "from langchain.document_loaders import TrelloLoader\n",
    "\n",
    "# Get the open cards from \"Awesome Board\"\n",
    "loader = TrelloLoader.from_credentials(\n",
    "    \"Awesome Board\",\n",
    "    api_key=API_KEY,\n",
    "    token=TOKEN,\n",
    "    card_filter=\"open\",\n",
    ")\n",
    "documents = loader.load()\n",
    "\n",
    "print(documents[0].page_content)\n",
    "print(documents[0].metadata)"
   ]
  },
  {
   "cell_type": "code",
   "execution_count": 8,
   "metadata": {},
   "outputs": [
    {
     "name": "stdout",
     "output_type": "stream",
     "text": [
      "Review Tech partner pages\n",
      "Comments:\n",
      "{'title': 'Review Tech partner pages', 'id': '6475357890dc8d17f73f2dcc', 'url': 'https://trello.com/c/b0OTZwkZ/1-review-tech-partner-pages', 'list': 'Done'}\n"
     ]
    }
   ],
   "source": [
    "# Get all the cards from \"Awesome Board\" but only include the\n",
    "# card list(column) as extra metadata.\n",
    "loader = TrelloLoader.from_credentials(\n",
    "    \"Awesome Board\",\n",
    "    api_key=API_KEY,\n",
    "    token=TOKEN,\n",
    "    extra_metadata=(\"list\"),\n",
    ")\n",
    "documents = loader.load()\n",
    "\n",
    "print(documents[0].page_content)\n",
    "print(documents[0].metadata)"
   ]
  },
  {
   "cell_type": "code",
   "execution_count": null,
   "metadata": {},
   "outputs": [],
   "source": [
    "# Get the cards from \"Another Board\" and exclude the card name,\n",
    "# checklist and comments from the Document page_content text.\n",
    "loader = TrelloLoader.from_credentials(\n",
    "    \"test\",\n",
    "    api_key=API_KEY,\n",
    "    token=TOKEN,\n",
    "    include_card_name=False,\n",
    "    include_checklist=False,\n",
    "    include_comments=False,\n",
    ")\n",
    "documents = loader.load()\n",
    "\n",
    "print(\"Document: \" + documents[0].page_content)\n",
    "print(documents[0].metadata)"
   ]
  }
 ],
 "metadata": {
  "kernelspec": {
   "display_name": "Python 3 (ipykernel)",
   "language": "python",
   "name": "python3"
  },
  "language_info": {
   "codemirror_mode": {
    "name": "ipython",
    "version": 3
   },
   "file_extension": ".py",
   "mimetype": "text/x-python",
   "name": "python",
   "nbconvert_exporter": "python",
   "pygments_lexer": "ipython3",
   "version": "3.10.6"
  },
  "vscode": {
   "interpreter": {
    "hash": "cc99336516f23363341912c6723b01ace86f02e26b4290be1efc0677e2e2ec24"
   }
  }
 },
 "nbformat": 4,
 "nbformat_minor": 4
}