{
 "cells": [
  {
   "cell_type": "markdown",
   "id": "b6636c27-35da-4ba7-8313-eca21660cab3",
   "metadata": {},
   "source": [
    "# Bedrock (Knowledge Bases) | Bedrock（ナレッジベース）",
    "",
    "> [Amazon Bedrockのナレッジベース](https://aws.amazon.com/bedrock/knowledge-bases/)は、Amazon Web Services (AWS) の提供するサービスで、プライベートデータを使用してFMレスポンスをカスタマイズし、RAGアプリケーションを迅速に構築することができます。",
    ">",
    "> > [Knowledge bases for Amazon Bedrock](https://aws.amazon.com/bedrock/knowledge-bases/) is an Amazon Web Services (AWS) offering which lets you quickly build RAG applications by using your private data to customize FM response.",
    "",
    "> `RAG`を実装するには、組織がデータを埋め込み（ベクトル）に変換し、それらの埋め込みを専門のベクトルデータベースに保存し、ユーザーのクエリに関連するテキストを検索して取得するためにデータベースにカスタム統合を構築するなど、いくつかの煩雑なステップを踏む必要があります。これには時間がかかり、非効率的な作業です。",
    ">",
    "> > Implementing `RAG` requires organizations to perform several cumbersome steps to convert data into embeddings (vectors), store the embeddings in a specialized vector database, and build custom integrations into the database to search and retrieve text relevant to the user’s query. This can be time-consuming and inefficient.",
    "",
    "> `Knowledge Bases for Amazon Bedrock`では、`Amazon S3`にあるデータの場所を指定するだけで、`Knowledge Bases for Amazon Bedrock`がベクターデータベースへの全データ取り込みワークフローを管理します。既存のベクターデータベースがない場合、Amazon BedrockはあなたのためにAmazon OpenSearch Serverlessベクターストアを作成します。検索には、Langchain - Amazon Bedrock統合を通じてRetrieve APIを使用し、知識ベースからユーザーのクエリに関連する結果を取得できます。",
    ">",
    "> > With `Knowledge Bases for Amazon Bedrock`, simply point to the location of your data in `Amazon S3`, and `Knowledge Bases for Amazon Bedrock` takes care of the entire ingestion workflow into your vector database. If you do not have an existing vector database, Amazon Bedrock creates an Amazon OpenSearch Serverless vector store for you. For retrievals, use the Langchain - Amazon Bedrock integration via the Retrieve API to retrieve relevant results for a user query from knowledge bases.",
    "",
    "> ナレッジベースは、[AWSコンソール](https://aws.amazon.com/console/)または[AWS SDKs](https://aws.amazon.com/developer/tools/)を使用して設定できます。",
    ">",
    "> > Knowledge base can be configured through [AWS Console](https://aws.amazon.com/console/) or by using [AWS SDKs](https://aws.amazon.com/developer/tools/).",
    ""
   ]
  },
  {
   "cell_type": "markdown",
   "id": "b34c8cbe-c6e5-4398-adf1-4925204bcaed",
   "metadata": {},
   "source": [
    "## Using the Knowledge Bases Retriever | ナレッジベースリトリーバーの使用方法",
    ""
   ]
  },
  {
   "cell_type": "code",
   "execution_count": null,
   "id": "26c97d36-911c-4fe0-a478-546192728f30",
   "metadata": {},
   "outputs": [],
   "source": [
    "%pip install boto3"
   ]
  },
  {
   "cell_type": "code",
   "execution_count": 1,
   "id": "30337664-8844-4dfe-97db-077abb51af68",
   "metadata": {},
   "outputs": [],
   "source": [
    "from langchain.retrievers import AmazonKnowledgeBasesRetriever\n",
    "\n",
    "retriever = AmazonKnowledgeBasesRetriever(\n",
    "    knowledge_base_id=\"PUIJP4EQUA\",\n",
    "    retrieval_config={\"vectorSearchConfiguration\": {\"numberOfResults\": 4}},\n",
    ")"
   ]
  },
  {
   "cell_type": "code",
   "execution_count": null,
   "id": "f9fefa50-f0fb-40e3-b4e4-67c5b232a090",
   "metadata": {},
   "outputs": [],
   "source": [
    "query = \"What did the president say about Ketanji Brown?\"\n",
    "\n",
    "retriever.get_relevant_documents(query=query)"
   ]
  },
  {
   "cell_type": "markdown",
   "id": "7de9b61b-597b-4aba-95fb-49d11e84510e",
   "metadata": {},
   "source": [
    "### Using in a QA Chain | QAチェーンでの使用",
    ""
   ]
  },
  {
   "cell_type": "code",
   "execution_count": null,
   "id": "0fd71709-aaed-42b5-a990-e3067bfa7143",
   "metadata": {},
   "outputs": [],
   "source": [
    "from botocore.client import Config\n",
    "from langchain.chains import RetrievalQA\n",
    "from langchain.llms import Bedrock\n",
    "\n",
    "model_kwargs_claude = {\"temperature\": 0, \"top_k\": 10, \"max_tokens_to_sample\": 3000}\n",
    "\n",
    "llm = Bedrock(model_id=\"anthropic.claude-v2\", model_kwargs=model_kwargs_claude)\n",
    "\n",
    "qa = RetrievalQA.from_chain_type(\n",
    "    llm=llm, retriever=retriever, return_source_documents=True\n",
    ")\n",
    "\n",
    "qa(query)"
   ]
  }
 ],
 "metadata": {
  "kernelspec": {
   "display_name": "Python 3 (ipykernel)",
   "language": "python",
   "name": "python3"
  },
  "language_info": {
   "codemirror_mode": {
    "name": "ipython",
    "version": 3
   },
   "file_extension": ".py",
   "mimetype": "text/x-python",
   "name": "python",
   "nbconvert_exporter": "python",
   "pygments_lexer": "ipython3",
   "version": "3.10.12"
  }
 },
 "nbformat": 4,
 "nbformat_minor": 5
}