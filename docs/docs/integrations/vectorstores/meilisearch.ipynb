{
 "cells": [
  {
   "cell_type": "markdown",
   "metadata": {},
   "source": [
    "# Meilisearch | Meilisearch\n",
    "\n",
    "> [Meilisearch](https://meilisearch.com)はオープンソースで、非常に高速、そして極めて関連性の高い検索エンジンです。開発者が迅速な検索体験を構築できるように、優れたデフォルト設定が用意されています。\n",
    ">\n",
    "> > [Meilisearch](https://meilisearch.com) is an open-source, lightning-fast, and hyper relevant search engine. It comes with great defaults to help developers build snappy search experiences.\n",
    ">\n",
    "> Meilisearchを[自己ホストする](https://www.meilisearch.com/docs/learn/getting_started/installation#local-installation)ことも、[Meilisearch Cloud](https://www.meilisearch.com/pricing)上で実行することもできます。\n",
    ">\n",
    "> > You can [self-host Meilisearch](https://www.meilisearch.com/docs/learn/getting_started/installation#local-installation) or run on [Meilisearch Cloud](https://www.meilisearch.com/pricing).\n",
    "\n",
    "Meilisearch v1.3はベクター検索に対応しています。このページでは、Meilisearchをベクターストアとして統合する方法と、それを使用してベクター検索を行う方法について案内します。\n",
    "\n",
    "> Meilisearch v1.3 supports vector search. This page guides you through integrating Meilisearch as a vector store and using it to perform vector search.\n",
    "\n",
    "\n"
   ]
  },
  {
   "cell_type": "markdown",
   "metadata": {},
   "source": [
    "## Setup | セットアップ\n",
    "\n",
    "### Launching a Meilisearch instance | Meilisearchインスタンスの起動\n",
    "\n",
    "ベクターストアとして使用するためには、稼働中のMeilisearchインスタンスが必要です。[ローカルでMeilisearchを実行する](https://www.meilisearch.com/docs/learn/getting_started/installation#local-installation)か、[Meilisearch Cloud](https://cloud.meilisearch.com/)のアカウントを作成できます。\n",
    "\n",
    "> You will need a running Meilisearch instance to use as your vector store. You can run [Meilisearch in local](https://www.meilisearch.com/docs/learn/getting_started/installation#local-installation) or create a [Meilisearch Cloud](https://cloud.meilisearch.com/) account.\n",
    "\n",
    "Meilisearch v1.3から、ベクターストレージは実験的な機能です。Meilisearchインスタンスを立ち上げた後、**ベクターストレージを有効にする**必要があります。自己ホスト型のMeilisearchについては、[実験的機能を有効にする](https://www.meilisearch.com/docs/learn/experimental/overview)に関するドキュメントを参照してください。**Meilisearch Cloud**では、プロジェクトの*設定*ページから*ベクターストア*を有効にできます。\n",
    "\n",
    "> As of Meilisearch v1.3, vector storage is an experimental feature. After launching your Meilisearch instance, you need to **enable vector storage**. For self-hosted Meilisearch, read the docs on [enabling experimental features](https://www.meilisearch.com/docs/learn/experimental/overview). On **Meilisearch Cloud**, enable *Vector Store* via your project *Settings* page.\n",
    "\n",
    "ベクターストレージが有効になっているMeilisearchインスタンスが稼働しているはずです。🎉\n",
    "\n",
    "> You should now have a running Meilisearch instance with vector storage enabled. 🎉\n",
    "\n",
    "### Credentials | 資格情報\n",
    "\n",
    "Meilisearchインスタンスとやり取りするために、Meilisearch SDKはホスト（インスタンスのURL）とAPIキーが必要です。\n",
    "\n",
    "> To interact with your Meilisearch instance, the Meilisearch SDK needs a host (URL of your instance) and an API key.\n",
    "\n",
    "**ホスト**\n",
    "\n",
    "> **Host**\n",
    "\n",
    "* **ローカル**では、デフォルトのホストは `localhost:7700` です\n",
    "\n",
    "  > In **local**, the default host is `localhost:7700`\n",
    "\n",
    "* **Meilisearch Cloud**で、プロジェクトの*設定*ページにあるホストを見つけてください\n",
    "\n",
    "  > On **Meilisearch Cloud**, find the host in your project *Settings* page\n",
    "\n",
    "\n",
    "**APIキー**\n",
    "\n",
    "> **API keys**\n",
    "\n",
    "Meilisearchインスタンスは、初期設定で3つのAPIキーを提供します：\n",
    "\n",
    "> Meilisearch instance provides you with three API keys out of the box:\n",
    "\n",
    "* `MASTER KEY` — これはMeilisearchインスタンスを作成する際にのみ使用すべきです\n",
    "\n",
    "  > A `MASTER KEY` — it should only be used to create your Meilisearch instance\n",
    "\n",
    "* `ADMIN KEY` — これはサーバーサイドでのみ使用し、データベースおよびその設定を更新する際に使うものです\n",
    "\n",
    "  > A `ADMIN KEY` — use it only server-side to update your database and its settings\n",
    "\n",
    "* `SEARCH KEY` — フロントエンドアプリケーションで安全に共有できるキー\n",
    "\n",
    "  > A `SEARCH KEY` — a key that you can safely share in front-end applications\n",
    "\n",
    "\n",
    "必要に応じて[追加のAPIキー](https://www.meilisearch.com/docs/learn/security/master_api_keys)を作成することができます。\n",
    "\n",
    "> You can create [additional API keys](https://www.meilisearch.com/docs/learn/security/master_api_keys) as needed.\n",
    "\n",
    "\n"
   ]
  },
  {
   "cell_type": "markdown",
   "metadata": {},
   "source": [
    "### Installing dependencies | 依存関係のインストール\n",
    "\n",
    "このガイドでは、[Meilisearch Python SDK](https://github.com/meilisearch/meilisearch-python)を使用しています。以下のコマンドを実行してインストールできます：\n",
    "\n",
    "> This guide uses the [Meilisearch Python SDK](https://github.com/meilisearch/meilisearch-python). You can install it by running:\n",
    "\n",
    "\n"
   ]
  },
  {
   "cell_type": "code",
   "execution_count": null,
   "metadata": {},
   "outputs": [],
   "source": [
    "!pip install meilisearch"
   ]
  },
  {
   "cell_type": "markdown",
   "metadata": {},
   "source": [
    "詳細については、[Meilisearch Python SDKのドキュメント](https://meilisearch.github.io/meilisearch-python/)を参照してください。\n",
    "\n",
    "> For more information, refer to the [Meilisearch Python SDK documentation](https://meilisearch.github.io/meilisearch-python/).\n",
    "\n",
    "\n"
   ]
  },
  {
   "cell_type": "markdown",
   "metadata": {},
   "source": [
    "## Examples | 例\n",
    "\n",
    "Meilisearchベクターストアを初期化する方法はいくつかあります：Meilisearchクライアントを提供するか、必要に応じて*URL*と*APIキー*を用意します。私たちの例では、認証情報は環境変数から読み込まれます。\n",
    "\n",
    "> There are multiple ways to initialize the Meilisearch vector store: providing a Meilisearch client or the *URL* and *API key* as needed. In our examples, the credentials will be loaded from the environment.\n",
    "\n",
    "`os`と`getpass`を使用することで、環境変数をノートブック環境で利用可能にすることができます。この手法は、以下に示すすべての例で使用できます。\n",
    "\n",
    "> You can make environment variables available in your Notebook environment by using `os` and `getpass`. You can use this technique for all the following examples.\n",
    "\n",
    "\n"
   ]
  },
  {
   "cell_type": "code",
   "execution_count": null,
   "metadata": {},
   "outputs": [],
   "source": [
    "import getpass\n",
    "import os\n",
    "\n",
    "os.environ[\"MEILI_HTTP_ADDR\"] = getpass.getpass(\"Meilisearch HTTP address and port:\")\n",
    "os.environ[\"MEILI_MASTER_KEY\"] = getpass.getpass(\"Meilisearch API Key:\")"
   ]
  },
  {
   "cell_type": "markdown",
   "metadata": {},
   "source": [
    "OpenAIEmbeddingsを使用するためには、OpenAI APIキーを取得する必要があります。\n",
    "\n",
    "> We want to use OpenAIEmbeddings so we have to get the OpenAI API Key.\n",
    "\n",
    "\n"
   ]
  },
  {
   "cell_type": "code",
   "execution_count": null,
   "metadata": {},
   "outputs": [],
   "source": [
    "os.environ[\"OPENAI_API_KEY\"] = getpass.getpass(\"OpenAI API Key:\")"
   ]
  },
  {
   "cell_type": "markdown",
   "metadata": {},
   "source": [
    "### Adding text and embeddings | テキストと埋め込みを追加する\n",
    "\n",
    "この例では、Meilisearchベクターストアを初期化することなく、Meilisearchベクターデータベースにテキストを追加する方法を示しています。\n",
    "\n",
    "> This example adds text to the Meilisearch vector database without having to initialize a Meilisearch vector store.\n",
    "\n",
    "\n"
   ]
  },
  {
   "cell_type": "code",
   "execution_count": null,
   "metadata": {},
   "outputs": [],
   "source": [
    "from langchain.embeddings.openai import OpenAIEmbeddings\n",
    "from langchain.text_splitter import CharacterTextSplitter\n",
    "from langchain.vectorstores import Meilisearch\n",
    "\n",
    "embeddings = OpenAIEmbeddings()"
   ]
  },
  {
   "cell_type": "code",
   "execution_count": null,
   "metadata": {},
   "outputs": [],
   "source": [
    "with open(\"../../modules/state_of_the_union.txt\") as f:\n",
    "    state_of_the_union = f.read()\n",
    "text_splitter = CharacterTextSplitter(chunk_size=1000, chunk_overlap=0)\n",
    "texts = text_splitter.split_text(state_of_the_union)"
   ]
  },
  {
   "cell_type": "code",
   "execution_count": null,
   "metadata": {},
   "outputs": [],
   "source": [
    "# Use Meilisearch vector store to store texts & associated embeddings as vector\n",
    "vector_store = Meilisearch.from_texts(texts=texts, embedding=embeddings)"
   ]
  },
  {
   "cell_type": "markdown",
   "metadata": {},
   "source": [
    "内部では、Meilisearchはテキストを複数のベクトルに変換します。これにより、以下の例と同様の結果が得られます。\n",
    "\n",
    "> Behind the scenes, Meilisearch will convert the text to multiple vectors. This will bring us to the same result as the following example.\n",
    "\n",
    "\n"
   ]
  },
  {
   "cell_type": "markdown",
   "metadata": {},
   "source": [
    "### Adding documents and embeddings | ドキュメントと埋め込みを追加する\n",
    "\n",
    "この例では、Langchain TextSplitterを使用してテキストを複数のドキュメントに分割し、それからこれらのドキュメントとそれらの埋め込みを一緒に保存します。\n",
    "\n",
    "> In this example, we'll use Langchain TextSplitter to split the text in multiple documents. Then, we'll store these documents along with their embeddings.\n",
    "\n",
    "\n"
   ]
  },
  {
   "cell_type": "code",
   "execution_count": null,
   "metadata": {},
   "outputs": [],
   "source": [
    "from langchain.document_loaders import TextLoader\n",
    "\n",
    "# Load text\n",
    "loader = TextLoader(\"../../modules/state_of_the_union.txt\")\n",
    "documents = loader.load()\n",
    "text_splitter = CharacterTextSplitter(chunk_size=1000, chunk_overlap=0)\n",
    "\n",
    "# Create documents\n",
    "docs = text_splitter.split_documents(documents)\n",
    "\n",
    "# Import documents & embeddings in the vector store\n",
    "vector_store = Meilisearch.from_documents(documents=documents, embedding=embeddings)\n",
    "\n",
    "# Search in our vector store\n",
    "query = \"What did the president say about Ketanji Brown Jackson\"\n",
    "docs = vector_store.similarity_search(query)\n",
    "print(docs[0].page_content)"
   ]
  },
  {
   "cell_type": "markdown",
   "metadata": {},
   "source": [
    "## Add documents by creating a Meilisearch Vectorstore | Meilisearch Vectorstoreを作成してドキュメントを追加します\n",
    "\n",
    "\n"
   ]
  },
  {
   "cell_type": "markdown",
   "metadata": {},
   "source": [
    "このアプローチでは、ベクターストアオブジェクトを作成し、そこにドキュメントを追加します。\n",
    "\n",
    "> In this approach, we create a vector store object and add documents to it.\n",
    "\n",
    "\n"
   ]
  },
  {
   "cell_type": "code",
   "execution_count": null,
   "metadata": {},
   "outputs": [],
   "source": [
    "import meilisearch\n",
    "from langchain.vectorstores import Meilisearch\n",
    "\n",
    "client = meilisearch.Client(url=\"http://127.0.0.1:7700\", api_key=\"***\")\n",
    "vector_store = Meilisearch(\n",
    "    embedding=embeddings, client=client, index_name=\"langchain_demo\", text_key=\"text\"\n",
    ")\n",
    "vector_store.add_documents(documents)"
   ]
  },
  {
   "cell_type": "markdown",
   "metadata": {},
   "source": [
    "## Similarity Search with score | スコア付きの類似性検索\n",
    "\n",
    "この特定のメソッドを使用すると、クエリに対するドキュメントとその距離スコアを返すことができます。\n",
    "\n",
    "> This specific method allows you to return the documents and the distance score of the query to them.\n",
    "\n",
    "\n"
   ]
  },
  {
   "cell_type": "code",
   "execution_count": null,
   "metadata": {},
   "outputs": [],
   "source": [
    "docs_and_scores = vector_store.similarity_search_with_score(query)\n",
    "docs_and_scores[0]"
   ]
  },
  {
   "cell_type": "markdown",
   "metadata": {},
   "source": [
    "## Similarity Search by vector | ベクトルによる類似性検索\n",
    "\n",
    "\n"
   ]
  },
  {
   "cell_type": "code",
   "execution_count": null,
   "metadata": {},
   "outputs": [],
   "source": [
    "embedding_vector = embeddings.embed_query(query)\n",
    "docs_and_scores = vector_store.similarity_search_by_vector(embedding_vector)\n",
    "docs_and_scores[0]"
   ]
  },
  {
   "cell_type": "markdown",
   "metadata": {},
   "source": [
    "## Additional resources | 追加のリソース\n",
    "\n",
    "ドキュメンテーション\n",
    "\n",
    "> Documentation\n",
    "\n",
    "* [Meilisearch](https://www.meilisearch.com/docs/)\n",
    "\n",
    "  > [Meilisearch](https://www.meilisearch.com/docs/)\n",
    "\n",
    "* [Meilisearch Python SDK](https://python-sdk.meilisearch.com)\n",
    "\n",
    "  > [Meilisearch Python SDK](https://python-sdk.meilisearch.com)\n",
    "\n",
    "\n",
    "オープンソースのリポジトリ\n",
    "\n",
    "> Open-source repositories\n",
    "\n",
    "* [Meilisearchのリポジトリ](https://github.com/meilisearch/meilisearch)\n",
    "\n",
    "  > [Meilisearch repository](https://github.com/meilisearch/meilisearch)\n",
    "\n",
    "* [Meilisearch Python SDK](https://github.com/meilisearch/meilisearch-python)\n",
    "\n",
    "  > [Meilisearch Python SDK](https://github.com/meilisearch/meilisearch-python)\n",
    "\n",
    "\n",
    "\n"
   ]
  }
 ],
 "metadata": {
  "kernelspec": {
   "display_name": "Python 3 (ipykernel)",
   "language": "python",
   "name": "python3"
  },
  "language_info": {
   "codemirror_mode": {
    "name": "ipython",
    "version": 3
   },
   "file_extension": ".py",
   "mimetype": "text/x-python",
   "name": "python",
   "nbconvert_exporter": "python",
   "pygments_lexer": "ipython3",
   "version": "3.10.12"
  }
 },
 "nbformat": 4,
 "nbformat_minor": 4
}