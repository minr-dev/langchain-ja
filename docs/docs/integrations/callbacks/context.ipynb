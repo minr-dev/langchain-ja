{
 "cells": [
  {
   "attachments": {},
   "cell_type": "markdown",
   "metadata": {},
   "source": [
    "# Context | コンテキスト\n",
    "\n",
    "> [Context](https://context.ai/)は、LLM（Large Language Models）を活用した製品や機能のためのユーザー分析を提供します。\n",
    ">\n",
    "> > [Context](https://context.ai/) provides user analytics for LLM-powered products and features.\n",
    "\n",
    "`Context`を使用することで、30分以内にユーザーを理解し、彼らの体験を向上させることができます。\n",
    "\n",
    "> With `Context`, you can start understanding your users and improving their experiences in less than 30 minutes.\n",
    "\n",
    "\n"
   ]
  },
  {
   "attachments": {},
   "cell_type": "markdown",
   "metadata": {},
   "source": [
    "このガイドでは、Contextとの統合方法をご紹介します。\n",
    "\n",
    "> In this guide we will show you how to integrate with Context.\n",
    "\n",
    "\n"
   ]
  },
  {
   "attachments": {},
   "cell_type": "markdown",
   "metadata": {
    "tags": []
   },
   "source": [
    "## Installation and Setup | インストールとセットアップ\n",
    "\n",
    "\n"
   ]
  },
  {
   "cell_type": "code",
   "execution_count": null,
   "metadata": {},
   "outputs": [],
   "source": [
    "!pip install context-python --upgrade"
   ]
  },
  {
   "attachments": {},
   "cell_type": "markdown",
   "metadata": {},
   "source": [
    "### Getting API Credentials | APIクレデンシャルの取得\n",
    "\n",
    "Context APIトークンを取得するには：\n",
    "\n",
    "> To get your Context API token:\n",
    "\n",
    "1. Contextアカウント内の設定ページにアクセスしてください（https://with.context.ai/settings）。\n",
    "\n",
    "   > Go to the settings page within your Context account (https://with.context.ai/settings).\n",
    "\n",
    "2. 新しいAPIトークンを生成してください。\n",
    "\n",
    "   > Generate a new API Token.\n",
    "\n",
    "3. このトークンを安全な場所に保管してください。\n",
    "\n",
    "   > Store this token somewhere secure.\n",
    "\n",
    "\n",
    "\n"
   ]
  },
  {
   "attachments": {},
   "cell_type": "markdown",
   "metadata": {},
   "source": [
    "### Setup Context | コンテキストの設定\n",
    "\n",
    "`ContextCallbackHandler`を使用するには、Langchainからハンドラをインポートして、あなたのContext APIトークンを使ってインスタンス化してください。\n",
    "\n",
    "> To use the `ContextCallbackHandler`, import the handler from Langchain and instantiate it with your Context API token.\n",
    "\n",
    "ハンドラを使用する前に、`context-python`パッケージがインストールされていることを確認してください。\n",
    "\n",
    "> Ensure you have installed the `context-python` package before using the handler.\n",
    "\n",
    "\n"
   ]
  },
  {
   "cell_type": "code",
   "execution_count": 3,
   "metadata": {},
   "outputs": [],
   "source": [
    "import os\n",
    "\n",
    "from langchain.callbacks import ContextCallbackHandler\n",
    "\n",
    "token = os.environ[\"CONTEXT_API_TOKEN\"]\n",
    "\n",
    "context_callback = ContextCallbackHandler(token)"
   ]
  },
  {
   "attachments": {},
   "cell_type": "markdown",
   "metadata": {},
   "source": [
    "## Usage | 使用方法\n",
    "\n",
    "### Context callback within a chat model | チャットモデル内のコンテキストコールバック\n",
    "\n",
    "Context コールバックハンドラは、ユーザーとAIアシスタント間のトランスクリプトを直接記録するために使用できます。\n",
    "\n",
    "> The Context callback handler can be used to directly record transcripts between users and AI assistants.\n",
    "\n",
    "\n"
   ]
  },
  {
   "cell_type": "code",
   "execution_count": 4,
   "metadata": {},
   "outputs": [],
   "source": [
    "import os\n",
    "\n",
    "from langchain.callbacks import ContextCallbackHandler\n",
    "from langchain.chat_models import ChatOpenAI\n",
    "from langchain.schema import (\n",
    "    HumanMessage,\n",
    "    SystemMessage,\n",
    ")\n",
    "\n",
    "token = os.environ[\"CONTEXT_API_TOKEN\"]\n",
    "\n",
    "chat = ChatOpenAI(\n",
    "    headers={\"user_id\": \"123\"}, temperature=0, callbacks=[ContextCallbackHandler(token)]\n",
    ")\n",
    "\n",
    "messages = [\n",
    "    SystemMessage(\n",
    "        content=\"You are a helpful assistant that translates English to French.\"\n",
    "    ),\n",
    "    HumanMessage(content=\"I love programming.\"),\n",
    "]\n",
    "\n",
    "print(chat(messages))"
   ]
  },
  {
   "attachments": {},
   "cell_type": "markdown",
   "metadata": {},
   "source": [
    "### Context callback within Chains | チェーン内のコンテキストコールバック\n",
    "\n",
    "Context コールバックハンドラは、チェーンの入力と出力を記録するためにも使用できます。チェーンの中間ステップは記録されないことに注意してください - 記録されるのは開始時の入力と最終的な出力のみです。\n",
    "\n",
    "> The Context callback handler can also be used to record the inputs and outputs of chains. Note that intermediate steps of the chain are not recorded - only the starting inputs and final outputs.\n",
    "\n",
    "**注意:** チャットモデルとチェーンに同じコンテキストオブジェクトを渡すようにしてください。\n",
    "\n",
    "> **Note:** Ensure that you pass the same context object to the chat model and the chain.\n",
    "\n",
    "誤り：\n",
    "\n",
    "> Wrong:\n",
    "\n",
    "> ```python\n",
    "> chat = ChatOpenAI(temperature=0.9, callbacks=[ContextCallbackHandler(token)])\n",
    "> chain = LLMChain(llm=chat, prompt=chat_prompt_template, callbacks=[ContextCallbackHandler(token)])\n",
    "> ```\n",
    "\n",
    "正しい：\n",
    "\n",
    "> Correct:\n",
    "\n",
    "> ```python\n",
    "> handler = ContextCallbackHandler(token)\n",
    "> chat = ChatOpenAI(temperature=0.9, callbacks=[callback])\n",
    "> chain = LLMChain(llm=chat, prompt=chat_prompt_template, callbacks=[callback])\n",
    "> ```\n",
    "\n",
    "\n"
   ]
  },
  {
   "cell_type": "code",
   "execution_count": null,
   "metadata": {},
   "outputs": [],
   "source": [
    "import os\n",
    "\n",
    "from langchain.callbacks import ContextCallbackHandler\n",
    "from langchain.chains import LLMChain\n",
    "from langchain.chat_models import ChatOpenAI\n",
    "from langchain.prompts import PromptTemplate\n",
    "from langchain.prompts.chat import (\n",
    "    ChatPromptTemplate,\n",
    "    HumanMessagePromptTemplate,\n",
    ")\n",
    "\n",
    "token = os.environ[\"CONTEXT_API_TOKEN\"]\n",
    "\n",
    "human_message_prompt = HumanMessagePromptTemplate(\n",
    "    prompt=PromptTemplate(\n",
    "        template=\"What is a good name for a company that makes {product}?\",\n",
    "        input_variables=[\"product\"],\n",
    "    )\n",
    ")\n",
    "chat_prompt_template = ChatPromptTemplate.from_messages([human_message_prompt])\n",
    "callback = ContextCallbackHandler(token)\n",
    "chat = ChatOpenAI(temperature=0.9, callbacks=[callback])\n",
    "chain = LLMChain(llm=chat, prompt=chat_prompt_template, callbacks=[callback])\n",
    "print(chain.run(\"colorful socks\"))"
   ]
  }
 ],
 "metadata": {
  "kernelspec": {
   "display_name": "Python 3 (ipykernel)",
   "language": "python",
   "name": "python3"
  },
  "language_info": {
   "codemirror_mode": {
    "name": "ipython",
    "version": 3
   },
   "file_extension": ".py",
   "mimetype": "text/x-python",
   "name": "python",
   "nbconvert_exporter": "python",
   "pygments_lexer": "ipython3",
   "version": "3.10.12"
  },
  "vscode": {
   "interpreter": {
    "hash": "a53ebf4a859167383b364e7e7521d0add3c2dbbdecce4edf676e8c4634ff3fbb"
   }
  }
 },
 "nbformat": 4,
 "nbformat_minor": 4
}