{
 "cells": [
  {
   "cell_type": "markdown",
   "metadata": {},
   "source": [
    "# GooseAI | GooseAI\n",
    "\n",
    "`GooseAI`は、APIを通じて提供される完全に管理されたNLP-as-a-Serviceです。GooseAIは[これらのモデル](https://goose.ai/docs/models)へのアクセスを提供します。\n",
    "\n",
    "> `GooseAI` is a fully managed NLP-as-a-Service, delivered via API. GooseAI provides access to [these models](https://goose.ai/docs/models).\n",
    "\n",
    "このノートブックでは、[GooseAI](https://goose.ai/)を使ってLangchainを使用する方法について説明します。\n",
    "\n",
    "> This notebook goes over how to use Langchain with [GooseAI](https://goose.ai/).\n",
    "\n"
   ]
  },
  {
   "cell_type": "markdown",
   "metadata": {},
   "source": [
    "## Install openai | openaiをインストールする\n",
    "\n",
    "GooseAI APIを使用するには、`openai`パッケージが必要です。`pip install openai`コマンドで`openai`をインストールしてください。\n",
    "\n",
    "> The `openai` package is required to use the GooseAI API. Install `openai` using `pip install openai`.\n",
    "\n"
   ]
  },
  {
   "cell_type": "code",
   "execution_count": null,
   "metadata": {},
   "outputs": [],
   "source": [
    "!pip install openai"
   ]
  },
  {
   "cell_type": "markdown",
   "metadata": {},
   "source": [
    "## Imports | インポート\n",
    "\n"
   ]
  },
  {
   "cell_type": "code",
   "execution_count": null,
   "metadata": {},
   "outputs": [],
   "source": [
    "import os\n",
    "\n",
    "from langchain.chains import LLMChain\n",
    "from langchain.llms import GooseAI\n",
    "from langchain.prompts import PromptTemplate"
   ]
  },
  {
   "cell_type": "markdown",
   "metadata": {},
   "source": [
    "## Set the Environment API Key | 環境APIキーを設定する\n",
    "\n",
    "GooseAIからAPIキーを取得してください。異なるモデルをテストするために、$10分の無料クレジットが提供されます。\n",
    "\n",
    "> Make sure to get your API key from GooseAI. You are given $10 in free credits to test different models.\n",
    "\n"
   ]
  },
  {
   "cell_type": "code",
   "execution_count": null,
   "metadata": {},
   "outputs": [],
   "source": [
    "from getpass import getpass\n",
    "\n",
    "GOOSEAI_API_KEY = getpass()"
   ]
  },
  {
   "cell_type": "code",
   "execution_count": null,
   "metadata": {},
   "outputs": [],
   "source": [
    "os.environ[\"GOOSEAI_API_KEY\"] = GOOSEAI_API_KEY"
   ]
  },
  {
   "cell_type": "markdown",
   "metadata": {},
   "source": [
    "## Create the GooseAI instance | GooseAIインスタンスを作成する\n",
    "\n",
    "モデル名、生成されるトークンの最大数、温度など、さまざまなパラメータを指定することができます。\n",
    "\n",
    "> You can specify different parameters such as the model name, max tokens generated, temperature, etc.\n",
    "\n"
   ]
  },
  {
   "cell_type": "code",
   "execution_count": null,
   "metadata": {},
   "outputs": [],
   "source": [
    "llm = GooseAI()"
   ]
  },
  {
   "cell_type": "markdown",
   "metadata": {},
   "source": [
    "## Create a Prompt Template | プロンプトテンプレートを作成する\n",
    "\n",
    "質問と回答のためのプロンプトテンプレートを作成します。\n",
    "\n",
    "> We will create a prompt template for Question and Answer.\n",
    "\n"
   ]
  },
  {
   "cell_type": "code",
   "execution_count": null,
   "metadata": {},
   "outputs": [],
   "source": [
    "template = \"\"\"Question: {question}\n",
    "\n",
    "Answer: Let's think step by step.\"\"\"\n",
    "\n",
    "prompt = PromptTemplate(template=template, input_variables=[\"question\"])"
   ]
  },
  {
   "cell_type": "markdown",
   "metadata": {},
   "source": [
    "## Initiate the LLMChain | LLMChainを開始する\n",
    "\n"
   ]
  },
  {
   "cell_type": "code",
   "execution_count": null,
   "metadata": {},
   "outputs": [],
   "source": [
    "llm_chain = LLMChain(prompt=prompt, llm=llm)"
   ]
  },
  {
   "cell_type": "markdown",
   "metadata": {},
   "source": [
    "## Run the LLMChain | LLMChainを実行する\n",
    "\n",
    "質問を提供して、LLMChainを実行してください。\n",
    "\n",
    "> Provide a question and run the LLMChain.\n",
    "\n"
   ]
  },
  {
   "cell_type": "code",
   "execution_count": null,
   "metadata": {},
   "outputs": [],
   "source": [
    "question = \"What NFL team won the Super Bowl in the year Justin Beiber was born?\"\n",
    "\n",
    "llm_chain.run(question)"
   ]
  }
 ],
 "metadata": {
  "kernelspec": {
   "display_name": "Python 3 (ipykernel)",
   "language": "python",
   "name": "python3"
  },
  "language_info": {
   "codemirror_mode": {
    "name": "ipython",
    "version": 3
   },
   "file_extension": ".py",
   "mimetype": "text/x-python",
   "name": "python",
   "nbconvert_exporter": "python",
   "pygments_lexer": "ipython3",
   "version": "3.10.6"
  },
  "vscode": {
   "interpreter": {
    "hash": "a0a0263b650d907a3bfe41c0f8d6a63a071b884df3cfdc1579f00cdc1aed6b03"
   }
  }
 },
 "nbformat": 4,
 "nbformat_minor": 4
}