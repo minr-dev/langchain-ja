{
 "cells": [
  {
   "cell_type": "markdown",
   "metadata": {},
   "source": [
    "# Arcee | アーシー",
    "",
    "このノートブックは、Arceeのドメイン適応型言語モデル（DALMs）を使用してテキストを生成するための`Arcee`クラスの使用方法を示しています。",
    "",
    "> This notebook demonstrates how to use the `Arcee` class for generating text using Arcee's Domain Adapted Language Models (DALMs).",
    ""
   ]
  },
  {
   "cell_type": "markdown",
   "metadata": {},
   "source": [
    "### Setup | セットアップ",
    "",
    "Arceeを使用する前に、Arcee APIキーが`ARCEE_API_KEY`環境変数として設定されていることを確認してください。APIキーを名前付きパラメータとして渡すこともできます。",
    "",
    "> Before using Arcee, make sure the Arcee API key is set as `ARCEE_API_KEY` environment variable. You can also pass the api key as a named parameter.",
    ""
   ]
  },
  {
   "cell_type": "code",
   "execution_count": null,
   "metadata": {},
   "outputs": [],
   "source": [
    "from langchain.llms import Arcee\n",
    "\n",
    "# Create an instance of the Arcee class\n",
    "arcee = Arcee(\n",
    "    model=\"DALM-PubMed\",\n",
    "    # arcee_api_key=\"ARCEE-API-KEY\" # if not already set in the environment\n",
    ")"
   ]
  },
  {
   "cell_type": "markdown",
   "metadata": {},
   "source": [
    "### Additional Configuration | 追加の設定",
    "",
    "また、必要に応じて `arcee_api_url`、`arcee_app_url`、`model_kwargs` などのArceeのパラメータを設定することができます。オブジェクト初期化時に `model_kwargs` を設定すると、その後のすべてのレスポンス生成の呼び出しでデフォルトのパラメータとして使用されます。",
    "",
    "> You can also configure Arcee's parameters such as `arcee_api_url`, `arcee_app_url`, and `model_kwargs` as needed.",
    "> Setting the `model_kwargs` at the object initialization uses the parameters as default for all the subsequent calls to the generate response.",
    ""
   ]
  },
  {
   "cell_type": "code",
   "execution_count": null,
   "metadata": {},
   "outputs": [],
   "source": [
    "arcee = Arcee(\n",
    "    model=\"DALM-Patent\",\n",
    "    # arcee_api_key=\"ARCEE-API-KEY\", # if not already set in the environment\n",
    "    arcee_api_url=\"https://custom-api.arcee.ai\",  # default is https://api.arcee.ai\n",
    "    arcee_app_url=\"https://custom-app.arcee.ai\",  # default is https://app.arcee.ai\n",
    "    model_kwargs={\n",
    "        \"size\": 5,\n",
    "        \"filters\": [\n",
    "            {\n",
    "                \"field_name\": \"document\",\n",
    "                \"filter_type\": \"fuzzy_search\",\n",
    "                \"value\": \"Einstein\",\n",
    "            }\n",
    "        ],\n",
    "    },\n",
    ")"
   ]
  },
  {
   "cell_type": "markdown",
   "metadata": {},
   "source": [
    "### Generating Text | テキスト生成",
    "",
    "プロンプトを提供することで、Arceeからテキストを生成することができます。例を以下に示します：",
    "",
    "> You can generate text from Arcee by providing a prompt. Here's an example:",
    ""
   ]
  },
  {
   "cell_type": "code",
   "execution_count": null,
   "metadata": {},
   "outputs": [],
   "source": [
    "# Generate text\n",
    "prompt = \"Can AI-driven music therapy contribute to the rehabilitation of patients with disorders of consciousness?\"\n",
    "response = arcee(prompt)"
   ]
  },
  {
   "cell_type": "markdown",
   "metadata": {},
   "source": [
    "### Additional parameters | 追加パラメータ",
    "",
    "Arceeを使用すると、テキスト生成を支援するために、取得するドキュメントの`フィルター`を適用し、`サイズ`（件数でのサイズ）を設定することができます。フィルターは結果を絞り込むのに役立ちます。これらのパラメータの使用方法は以下の通りです：",
    "",
    "> Arcee allows you to apply `filters` and set the `size` (in terms of count) of retrieved document(s) to aid text generation. Filters help narrow down the results. Here's how to use these parameters:",
    ""
   ]
  },
  {
   "cell_type": "code",
   "execution_count": null,
   "metadata": {},
   "outputs": [],
   "source": [
    "# Define filters\n",
    "filters = [\n",
    "    {\"field_name\": \"document\", \"filter_type\": \"fuzzy_search\", \"value\": \"Einstein\"},\n",
    "    {\"field_name\": \"year\", \"filter_type\": \"strict_search\", \"value\": \"1905\"},\n",
    "]\n",
    "\n",
    "# Generate text with filters and size params\n",
    "response = arcee(prompt, size=5, filters=filters)"
   ]
  }
 ],
 "metadata": {
  "kernelspec": {
   "display_name": ".venv",
   "language": "python",
   "name": "python3"
  },
  "language_info": {
   "codemirror_mode": {
    "name": "ipython",
    "version": 3
   },
   "file_extension": ".py",
   "mimetype": "text/x-python",
   "name": "python",
   "nbconvert_exporter": "python",
   "pygments_lexer": "ipython3",
   "version": "3.10.12"
  }
 },
 "nbformat": 4,
 "nbformat_minor": 2
}