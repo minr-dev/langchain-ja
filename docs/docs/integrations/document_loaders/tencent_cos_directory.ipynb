{
 "cells": [
  {
   "cell_type": "markdown",
   "id": "a634365e",
   "metadata": {},
   "source": [
    "# Tencent COS Directory | Tencent COS ディレクトリ",
    "",
    "> [Tencent Cloud Object Storage (COS)](https://www.tencentcloud.com/products/cos)は、HTTP/HTTPSプロトコルを介してどこからでも任意の量のデータを保存できる分散ストレージサービスです。`COS`にはデータ構造や形式に制限はなく、バケットサイズの制限やパーティション管理も必要ありません。これにより、データ配信、データ処理、データレイクなど、ほぼあらゆるユースケースに適しています。`COS`はウェブベースのコンソール、多言語SDK、API、コマンドラインツール、グラフィカルツールを提供しており、Amazon S3 APIと互換性があるため、コミュニティツールやプラグインに迅速にアクセスできます。",
    ">",
    "> > [Tencent Cloud Object Storage (COS)](https://www.tencentcloud.com/products/cos) is a distributed",
    "> > storage service that enables you to store any amount of data from anywhere via HTTP/HTTPS protocols.",
    "> > `COS` has no restrictions on data structure or format. It also has no bucket size limit and",
    "> > partition management, making it suitable for virtually any use case, such as data delivery,",
    "> > data processing, and data lakes. `COS` provides a web-based console, multi-language SDKs and APIs,",
    "> > command line tool, and graphical tools. It works well with Amazon S3 APIs, allowing you to quickly",
    "> > access community tools and plugins.",
    "",
    "`Tencent COS Directory`からドキュメントオブジェクトをロードする方法について説明します。",
    "",
    "> This covers how to load document objects from a `Tencent COS Directory`.",
    ""
   ]
  },
  {
   "cell_type": "code",
   "execution_count": null,
   "id": "85e97267",
   "metadata": {},
   "outputs": [],
   "source": [
    "#! pip install cos-python-sdk-v5"
   ]
  },
  {
   "cell_type": "code",
   "execution_count": 2,
   "id": "2f0cd6a5",
   "metadata": {
    "tags": []
   },
   "outputs": [],
   "source": [
    "from langchain.document_loaders import TencentCOSDirectoryLoader\n",
    "from qcloud_cos import CosConfig"
   ]
  },
  {
   "cell_type": "code",
   "execution_count": 3,
   "id": "321cc7f1",
   "metadata": {
    "tags": []
   },
   "outputs": [],
   "source": [
    "conf = CosConfig(\n",
    "    Region=\"your cos region\",\n",
    "    SecretId=\"your cos secret_id\",\n",
    "    SecretKey=\"your cos secret_key\",\n",
    ")\n",
    "loader = TencentCOSDirectoryLoader(conf=conf, bucket=\"you_cos_bucket\")"
   ]
  },
  {
   "cell_type": "code",
   "execution_count": null,
   "id": "4c50d2c7",
   "metadata": {},
   "outputs": [],
   "source": [
    "loader.load()"
   ]
  },
  {
   "cell_type": "markdown",
   "id": "0690c40a",
   "metadata": {},
   "source": [
    "## Specifying a prefix | プレフィックスの指定",
    "",
    "また、どのファイルをロードするかをより細かく制御するために、プレフィックスを指定することもできます。",
    "",
    "> You can also specify a prefix for more finegrained control over what files to load.",
    ""
   ]
  },
  {
   "cell_type": "code",
   "execution_count": 5,
   "id": "72d44781",
   "metadata": {},
   "outputs": [],
   "source": [
    "loader = TencentCOSDirectoryLoader(conf=conf, bucket=\"you_cos_bucket\", prefix=\"fake\")"
   ]
  },
  {
   "cell_type": "code",
   "execution_count": null,
   "id": "2d3c32db",
   "metadata": {
    "scrolled": true
   },
   "outputs": [],
   "source": [
    "loader.load()"
   ]
  }
 ],
 "metadata": {
  "kernelspec": {
   "display_name": "Python 3 (ipykernel)",
   "language": "python",
   "name": "python3"
  },
  "language_info": {
   "codemirror_mode": {
    "name": "ipython",
    "version": 3
   },
   "file_extension": ".py",
   "mimetype": "text/x-python",
   "name": "python",
   "nbconvert_exporter": "python",
   "pygments_lexer": "ipython3",
   "version": "3.10.12"
  }
 },
 "nbformat": 4,
 "nbformat_minor": 5
}