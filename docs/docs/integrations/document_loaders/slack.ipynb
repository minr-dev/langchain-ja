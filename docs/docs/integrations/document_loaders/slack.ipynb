{
 "cells": [
  {
   "cell_type": "markdown",
   "id": "1dc7df1d",
   "metadata": {},
   "source": [
    "# Slack | Slack",
    "",
    "> [Slack](https://slack.com/)はインスタントメッセージングプログラムです。",
    ">",
    "> > [Slack](https://slack.com/) is an instant messaging program.",
    "",
    "このノートブックでは、`Slack`エクスポートから生成されたZipファイルからドキュメントを読み込む方法について説明しています。",
    "",
    "> This notebook covers how to load documents from a Zipfile generated from a `Slack` export.",
    "",
    "`Slack`のエクスポートを取得するには、以下の手順に従ってください：",
    "",
    "> In order to get this `Slack` export, follow these instructions:",
    "",
    "## 🧑 Instructions for ingesting your own dataset | 🧑 ご自身のデータセットを取り込むための指示",
    "",
    "Slackのデータをエクスポートするには、ワークスペース管理ページにアクセスして「インポート/エクスポート」オプション({your\\_slack\\_domain}.slack.com/services/export)をクリックします。その後、適切な日付範囲を選択し、`エクスポート開始`をクリックしてください。エクスポートが準備でき次第、Slackからメールとダイレクトメッセージで通知が届きます。",
    "",
    "> Export your Slack data. You can do this by going to your Workspace Management page and clicking the Import/Export option ({your\\_slack\\_domain}.slack.com/services/export). Then, choose the right date range and click `Start export`. Slack will send you an email and a DM when the export is ready.",
    "",
    "ダウンロードすると、`.zip` ファイルがダウンロードフォルダ（またはOSの設定によってダウンロードが見つかる場所）に生成されます。",
    "",
    "> The download will produce a `.zip` file in your Downloads folder (or wherever your downloads can be found, depending on your OS configuration).",
    "",
    "`.zip` ファイルへのパスをコピーし、以下に `LOCAL_ZIPFILE` として割り当ててください。",
    "",
    "> Copy the path to the `.zip` file, and assign it as `LOCAL_ZIPFILE` below.",
    ""
   ]
  },
  {
   "cell_type": "code",
   "execution_count": null,
   "id": "007c5cbf",
   "metadata": {},
   "outputs": [],
   "source": [
    "from langchain.document_loaders import SlackDirectoryLoader"
   ]
  },
  {
   "cell_type": "code",
   "execution_count": null,
   "id": "a1caec59",
   "metadata": {},
   "outputs": [],
   "source": [
    "# Optionally set your Slack URL. This will give you proper URLs in the docs sources.\n",
    "SLACK_WORKSPACE_URL = \"https://xxx.slack.com\"\n",
    "LOCAL_ZIPFILE = \"\"  # Paste the local paty to your Slack zip file here.\n",
    "\n",
    "loader = SlackDirectoryLoader(LOCAL_ZIPFILE, SLACK_WORKSPACE_URL)"
   ]
  },
  {
   "cell_type": "code",
   "execution_count": null,
   "id": "b1c30ff7",
   "metadata": {},
   "outputs": [],
   "source": [
    "docs = loader.load()\n",
    "docs"
   ]
  }
 ],
 "metadata": {
  "kernelspec": {
   "display_name": "Python 3 (ipykernel)",
   "language": "python",
   "name": "python3"
  },
  "language_info": {
   "codemirror_mode": {
    "name": "ipython",
    "version": 3
   },
   "file_extension": ".py",
   "mimetype": "text/x-python",
   "name": "python",
   "nbconvert_exporter": "python",
   "pygments_lexer": "ipython3",
   "version": "3.10.6"
  }
 },
 "nbformat": 4,
 "nbformat_minor": 5
}