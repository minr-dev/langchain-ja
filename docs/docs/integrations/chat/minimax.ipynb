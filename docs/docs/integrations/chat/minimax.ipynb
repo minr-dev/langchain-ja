{
 "cells": [
  {
   "cell_type": "raw",
   "metadata": {},
   "source": [
    "---\n",
    "sidebar_label: MiniMax\n",
    "---"
   ]
  },
  {
   "attachments": {},
   "cell_type": "markdown",
   "metadata": {},
   "source": [
    "# MiniMaxChat | MiniMaxChat\n",
    "\n",
    "[Minimax](https://api.minimax.chat)は、企業や個人向けにLLMサービスを提供する中国のスタートアップ企業です。\n",
    "\n",
    "> [Minimax](https://api.minimax.chat) is a Chinese startup that provides LLM service for companies and individuals.\n",
    "\n",
    "この例では、LangChainを使用してMiniMax Inference for Chatと対話する方法について説明します。\n",
    "\n",
    "> This example goes over how to use LangChain to interact with MiniMax Inference for Chat.\n",
    "\n"
   ]
  },
  {
   "cell_type": "code",
   "execution_count": null,
   "metadata": {},
   "outputs": [],
   "source": [
    "import os\n",
    "\n",
    "os.environ[\"MINIMAX_GROUP_ID\"] = \"MINIMAX_GROUP_ID\"\n",
    "os.environ[\"MINIMAX_API_KEY\"] = \"MINIMAX_API_KEY\""
   ]
  },
  {
   "cell_type": "code",
   "execution_count": null,
   "metadata": {},
   "outputs": [],
   "source": [
    "from langchain.chat_models import MiniMaxChat\n",
    "from langchain.schema import HumanMessage"
   ]
  },
  {
   "cell_type": "code",
   "execution_count": null,
   "metadata": {},
   "outputs": [],
   "source": [
    "chat = MiniMaxChat()"
   ]
  },
  {
   "cell_type": "code",
   "execution_count": null,
   "metadata": {},
   "outputs": [],
   "source": [
    "chat(\n",
    "    [\n",
    "        HumanMessage(\n",
    "            content=\"Translate this sentence from English to French. I love programming.\"\n",
    "        )\n",
    "    ]\n",
    ")"
   ]
  }
 ],
 "metadata": {
  "language_info": {
   "name": "python"
  },
  "orig_nbformat": 4
 },
 "nbformat": 4,
 "nbformat_minor": 2
}