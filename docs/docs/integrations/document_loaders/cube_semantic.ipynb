{
 "cells": [
  {
   "attachments": {},
   "cell_type": "markdown",
   "metadata": {},
   "source": [
    "# Cube Semantic Layer | Cube セマンティックレイヤー",
    ""
   ]
  },
  {
   "attachments": {},
   "cell_type": "markdown",
   "metadata": {},
   "source": [
    "このノートブックは、Cubeのデータモデルメタデータを取得し、それをLLMへの埋め込みとして適した形式で渡すプロセスを示しており、これによって文脈情報が強化されることを示しています。",
    "",
    "> This notebook demonstrates the process of retrieving Cube's data model metadata in a format suitable for passing to LLMs as embeddings, thereby enhancing contextual information.",
    ""
   ]
  },
  {
   "attachments": {},
   "cell_type": "markdown",
   "metadata": {},
   "source": [
    "### About Cube | Cubeについて",
    ""
   ]
  },
  {
   "attachments": {},
   "cell_type": "markdown",
   "metadata": {},
   "source": [
    "[Cube](https://cube.dev/)は、データアプリを構築するためのセマンティックレイヤーです。データエンジニアやアプリケーション開発者が現代のデータストアからデータにアクセスし、それを一貫した定義に整理し、あらゆるアプリケーションに提供するのを支援します。",
    "",
    "> [Cube](https://cube.dev/) is the Semantic Layer for building data apps. It helps data engineers and application developers access data from modern data stores, organize it into consistent definitions, and deliver it to every application.",
    ""
   ]
  },
  {
   "attachments": {},
   "cell_type": "markdown",
   "metadata": {},
   "source": [
    "Cubeのデータモデルは、LLMがデータを理解し、正しいクエリを生成するための文脈と定義を提供します。LLMは複雑な結合やメトリクスの計算をナビゲートする必要がありません。なぜなら、Cubeはそれらを抽象化し、SQLテーブルやカラム名ではなく、ビジネスレベルの用語に基づいて操作するシンプルなインターフェースを提供するからです。この単純化は、LLMがエラーを起こしにくくなり、誤解を招くような情報を生成することを避けるのに役立ちます。",
    "",
    "> Cube’s data model provides structure and definitions that are used as a context for LLM to understand data and generate correct queries. LLM doesn’t need to navigate complex joins and metrics calculations because Cube abstracts those and provides a simple interface that operates on the business-level terminology, instead of SQL table and column names. This simplification helps LLM to be less error-prone and avoid hallucinations.",
    ""
   ]
  },
  {
   "attachments": {},
   "cell_type": "markdown",
   "metadata": {},
   "source": [
    "### Example | 例",
    ""
   ]
  },
  {
   "attachments": {},
   "cell_type": "markdown",
   "metadata": {},
   "source": [
    "**入力引数（必須）**",
    "",
    "> **Input arguments (mandatory)**",
    "",
    "`Cube Semantic Loader`は2つの引数を必要とします：",
    "",
    "> `Cube Semantic Loader` requires 2 arguments:",
    "",
    "* `cube_api_url`：CubeのデプロイメントREST APIのURLです。ベースパスの設定方法については、[Cubeのドキュメント](https://cube.dev/docs/http-api/rest#configuration-base-path)を参照してください。",
    "  > `cube_api_url`: The URL of your Cube's deployment REST API. Please refer to the [Cube documentation](https://cube.dev/docs/http-api/rest#configuration-base-path) for more information on configuring the base path.",
    "",
    "* `cube_api_token`：CubeのAPIシークレットに基づいて生成された認証トークンです。JSON Web Tokens（JWT）の生成方法については、[Cubeのドキュメント](https://cube.dev/docs/security#generating-json-web-tokens-jwt)を参照してください。",
    "  > `cube_api_token`: The authentication token generated based on your Cube's API secret. Please refer to the [Cube documentation](https://cube.dev/docs/security#generating-json-web-tokens-jwt) for instructions on generating JSON Web Tokens (JWT).",
    "",
    "**入力引数（オプショナル）**",
    "",
    "> **Input arguments (optional)**",
    "",
    "* `load_dimension_values`: 文字列次元ごとに次元の値を読み込むかどうか。",
    "  > `load_dimension_values`: Whether to load dimension values for every string dimension or not.",
    "",
    "* `dimension_values_limit`: 読み込む次元値の最大数。",
    "  > `dimension_values_limit`: Maximum number of dimension values to load.",
    "",
    "* `dimension_values_max_retries`: 次元値を読み込む最大のリトライ回数。",
    "  > `dimension_values_max_retries`: Maximum number of retries to load dimension values.",
    "",
    "* `dimension_values_retry_delay`：次元値の読み込みをリトライする際の遅延時間。",
    "  > `dimension_values_retry_delay`: Delay between retries to load dimension values.",
    ""
   ]
  },
  {
   "cell_type": "code",
   "execution_count": null,
   "metadata": {},
   "outputs": [],
   "source": [
    "import jwt\n",
    "from langchain.document_loaders import CubeSemanticLoader\n",
    "\n",
    "api_url = \"https://api-example.gcp-us-central1.cubecloudapp.dev/cubejs-api/v1/meta\"\n",
    "cubejs_api_secret = \"api-secret-here\"\n",
    "security_context = {}\n",
    "# Read more about security context here: https://cube.dev/docs/security\n",
    "api_token = jwt.encode(security_context, cubejs_api_secret, algorithm=\"HS256\")\n",
    "\n",
    "loader = CubeSemanticLoader(api_url, api_token)\n",
    "\n",
    "documents = loader.load()"
   ]
  },
  {
   "attachments": {},
   "cell_type": "markdown",
   "metadata": {},
   "source": [
    "以下の属性を持つドキュメントのリストを返します：",
    "",
    "> Returns a list of documents with the following attributes:",
    "",
    "* ページ内容",
    "  > `page_content`",
    "* `metadata`",
    "  > `metadata`",
    "  * `table_name`",
    "    > `table_name`",
    "  * `column_name`",
    "    > `column_name`",
    "  * `column_data_type`",
    "    > `column_data_type`",
    "  * `column_title`",
    "    > `column_title`",
    "  * `column_description`",
    "    > `column_description`",
    "  * `column_values`",
    "    > `column_values`",
    "  * `cube_data_obj_type`",
    "    > `cube_data_obj_type`",
    ""
   ]
  },
  {
   "cell_type": "code",
   "execution_count": null,
   "metadata": {},
   "outputs": [],
   "source": [
    "# Given string containing page content\n",
    "page_content = \"Users View City, None\"\n",
    "\n",
    "# Given dictionary containing metadata\n",
    "metadata = {\n",
    "    \"table_name\": \"users_view\",\n",
    "    \"column_name\": \"users_view.city\",\n",
    "    \"column_data_type\": \"string\",\n",
    "    \"column_title\": \"Users View City\",\n",
    "    \"column_description\": \"None\",\n",
    "    \"column_member_type\": \"dimension\",\n",
    "    \"column_values\": [\n",
    "        \"Austin\",\n",
    "        \"Chicago\",\n",
    "        \"Los Angeles\",\n",
    "        \"Mountain View\",\n",
    "        \"New York\",\n",
    "        \"Palo Alto\",\n",
    "        \"San Francisco\",\n",
    "        \"Seattle\",\n",
    "    ],\n",
    "    \"cube_data_obj_type\": \"view\",\n",
    "}"
   ]
  }
 ],
 "metadata": {
  "language_info": {
   "name": "python"
  },
  "orig_nbformat": 4
 },
 "nbformat": 4,
 "nbformat_minor": 2
}