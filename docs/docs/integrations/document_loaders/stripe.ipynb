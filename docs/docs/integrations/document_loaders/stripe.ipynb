{
 "cells": [
  {
   "attachments": {},
   "cell_type": "markdown",
   "metadata": {},
   "source": [
    "# Stripe | Stripe",
    "",
    "> [Stripe](https://stripe.com/en-ca)は、アイルランド系アメリカ企業で、金融サービスおよびサービスとしてのソフトウェア（SaaS）を提供しています。電子商取引ウェブサイトやモバイルアプリケーション用の決済処理ソフトウェアとアプリケーションプログラミングインターフェースを提供しています。",
    ">",
    "> > [Stripe](https://stripe.com/en-ca) is an Irish-American financial services and software as a service (SaaS) company. It offers payment-processing software and application programming interfaces for e-commerce websites and mobile applications.",
    "",
    "このノートブックでは、`Stripe REST API`からデータを読み込み、LangChainで取り込むことができる形式に変換する方法と、ベクトル化の使用例について説明しています。",
    "",
    "> This notebook covers how to load data from the `Stripe REST API` into a format that can be ingested into LangChain, along with example usage for vectorization.",
    ""
   ]
  },
  {
   "cell_type": "code",
   "execution_count": 1,
   "metadata": {},
   "outputs": [],
   "source": [
    "from langchain.document_loaders import StripeLoader\n",
    "from langchain.indexes import VectorstoreIndexCreator"
   ]
  },
  {
   "attachments": {},
   "cell_type": "markdown",
   "metadata": {},
   "source": [
    "Stripe APIはアクセストークンを必要とします。これはStripeダッシュボード内にあります。",
    "",
    "> The Stripe API requires an access token, which can be found inside of the Stripe dashboard.",
    "",
    "このドキュメントローダーは、どのデータをロードしたいかを定義する`resource`オプションも必要としています。",
    "",
    "> This document loader also requires a `resource` option which defines what data you want to load.",
    "",
    "以下のリソースが利用可能です：",
    "",
    "> Following resources are available:",
    "",
    "`balance_transactions`の[ドキュメント](https://stripe.com/docs/api/balance_transactions/list)",
    "",
    "> `balance_transations` [Documentation](https://stripe.com/docs/api/balance_transactions/list)",
    "",
    "`charges` [ドキュメント](https://stripe.com/docs/api/charges/list)",
    "",
    "> `charges` [Documentation](https://stripe.com/docs/api/charges/list)",
    "",
    "`customers`の[ドキュメント](https://stripe.com/docs/api/customers/list)",
    "",
    "> `customers` [Documentation](https://stripe.com/docs/api/customers/list)",
    "",
    "`events` [ドキュメント](https://stripe.com/docs/api/events/list)",
    "",
    "> `events` [Documentation](https://stripe.com/docs/api/events/list)",
    "",
    "`refunds` [ドキュメント](https://stripe.com/docs/api/refunds/list)",
    "",
    "> `refunds` [Documentation](https://stripe.com/docs/api/refunds/list)",
    "",
    "`disputes` [ドキュメント](https://stripe.com/docs/api/disputes/list)",
    "",
    "> `disputes` [Documentation](https://stripe.com/docs/api/disputes/list)",
    ""
   ]
  },
  {
   "cell_type": "code",
   "execution_count": null,
   "metadata": {},
   "outputs": [],
   "source": [
    "stripe_loader = StripeLoader(\"charges\")"
   ]
  },
  {
   "cell_type": "code",
   "execution_count": null,
   "metadata": {},
   "outputs": [],
   "source": [
    "# Create a vectorstore retriever from the loader\n",
    "# see https://python.langchain.com/en/latest/modules/data_connection/getting_started.html for more details\n",
    "\n",
    "index = VectorstoreIndexCreator().from_loaders([stripe_loader])\n",
    "stripe_doc_retriever = index.vectorstore.as_retriever()"
   ]
  }
 ],
 "metadata": {
  "kernelspec": {
   "display_name": "Python 3 (ipykernel)",
   "language": "python",
   "name": "python3"
  },
  "language_info": {
   "codemirror_mode": {
    "name": "ipython",
    "version": 3
   },
   "file_extension": ".py",
   "mimetype": "text/x-python",
   "name": "python",
   "nbconvert_exporter": "python",
   "pygments_lexer": "ipython3",
   "version": "3.10.6"
  }
 },
 "nbformat": 4,
 "nbformat_minor": 4
}