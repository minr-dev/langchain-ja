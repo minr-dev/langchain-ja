{
 "cells": [
  {
   "attachments": {},
   "cell_type": "markdown",
   "id": "1dc7df1d",
   "metadata": {},
   "source": [
    "# Notion DB 2/2 | Notion DB 2/2",
    "",
    "> [Notion](https://www.notion.so/)は、カンバンボード、タスク、ウィキ、データベースを統合し、マークダウンを改良してサポートするコラボレーションプラットフォームです。これは、ノート取り、知識とデータの管理、プロジェクトとタスクの管理を一つのワークスペースで行えるオールインワンのツールです。",
    ">",
    "> > [Notion](https://www.notion.so/) is a collaboration platform with modified Markdown support that integrates kanban boards, tasks, wikis and databases. It is an all-in-one workspace for notetaking, knowledge and data management, and project and task management.",
    "",
    "`NotionDBLoader`は、`Notion`データベースからコンテンツを読み込むためのPythonクラスです。このクラスはデータベースからページを取得し、その内容を読み取り、Documentオブジェクトのリストを返します。",
    "",
    "> `NotionDBLoader` is a Python class for loading content from a `Notion` database. It retrieves pages from the database, reads their content, and returns a list of Document objects.",
    "",
    "## Requirements | 要件",
    "",
    "* `Notion` データベース",
    "  > A `Notion` Database",
    "* Notion統合トークン",
    "  > Notion Integration Token",
    "",
    "## Setup | セットアップ",
    "",
    "### 1. Create a Notion Table Database | 1. Notionテーブルデータベースを作成する",
    "",
    "Notionで新しいテーブルデータベースを作成します。データベースに任意の列を追加でき、それらはメタデータとして扱われます。たとえば、以下の列を追加することができます：",
    "",
    "> Create a new table database in Notion. You can add any column to the database and they will be treated as metadata. For example you can add the following columns:",
    "",
    "* Title: デフォルトプロパティとしてTitleを設定。",
    "  > Title: set Title as the default property.",
    "* カテゴリー：ページに関連付けられたカテゴリーを格納するマルチセレクトプロパティ。",
    "  > Categories: A Multi-select property to store categories associated with the page.",
    "* キーワード：ページに関連付けられたキーワードを保存するためのマルチセレクトプロパティ。",
    "  > Keywords: A Multi-select property to store keywords associated with the page.",
    "",
    "データベースの各ページの本文にコンテンツを追加してください。NotionDBLoaderはこれらのページからコンテンツとメタデータを抽出します。",
    "",
    "> Add your content to the body of each page in the database. The NotionDBLoader will extract the content and metadata from these pages.",
    "",
    "## 2. Create a Notion Integration | 2. Notionインテグレーションを作成する",
    "",
    "Notionインテグレーションを作成するには、以下の手順に従ってください：",
    "",
    "> To create a Notion Integration, follow these steps:",
    "",
    "1. [Notion Developers](https://www.notion.com/my-integrations)ページにアクセスして、Notionアカウントでログインしてください。",
    "   > Visit the [Notion Developers](https://www.notion.com/my-integrations) page and log in with your Notion account.",
    "2. 「+ New integration」ボタンをクリックしてください。",
    "   > Click on the \"+ New integration\" button.",
    "3. 統合に名前を付け、データベースが配置されているワークスペースを選択してください。",
    "   > Give your integration a name and choose the workspace where your database is located.",
    "4. 必要な機能を選択してください。この拡張機能には「コンテンツの読み取り」機能のみが必要です",
    "   > Select the require capabilities, this extension only need the Read content capability",
    "5. 「Submit」ボタンをクリックしてインテグレーションを作成してください。インテグレーションが作成されると、`Integration Token (API key)` が提供されます。このトークンをコピーして安全に保管してください。NotionDBLoaderを使用するために必要になります。",
    "   > Click the \"Submit\" button to create the integration.",
    "   > Once the integration is created, you'll be provided with an `Integration Token (API key)`. Copy this token and keep it safe, as you'll need it to use the NotionDBLoader.",
    "",
    "### 3. Connect the Integration to the Database | 3. インテグレーションをデータベースに接続する",
    "",
    "データベースにインテグレーションを接続するには、以下の手順に従ってください：",
    "",
    "> To connect your integration to the database, follow these steps:",
    "",
    "1. Notionでデータベースを開いてください。",
    "   > Open your database in Notion.",
    "2. データベースビューの右上隅にある三点リーダーのメニューアイコンをクリックしてください。",
    "   > Click on the three-dot menu icon in the top right corner of the database view.",
    "3. 「+ New integration」ボタンをクリックしてください。",
    "   > Click on the \"+ New integration\" button.",
    "4. 統合を見つけるには、検索ボックスで名前を入力し始めることが必要かもしれません。",
    "   > Find your integration, you may need to start typing its name in the search box.",
    "5. 「Connect」ボタンをクリックして、データベースにインテグレーションを接続してください。",
    "   > Click on the \"Connect\" button to connect the integration to the database.",
    "",
    "### 4. Get the Database ID | 4. データベースIDを取得する",
    "",
    "データベースIDを取得するには、以下の手順に従ってください：",
    "",
    "> To get the database ID, follow these steps:",
    "",
    "1. Notionでデータベースを開いてください。",
    "   > Open your database in Notion.",
    "2. データベースビューの右上隅にある三点リーダーメニューアイコンをクリックしてください。",
    "   > Click on the three-dot menu icon in the top right corner of the database view.",
    "3. メニューから「リンクをコピー」を選択して、データベースのURLをクリップボードにコピーしてください。",
    "   > Select \"Copy link\" from the menu to copy the database URL to your clipboard.",
    "4. データベースIDは、URL内に見つかる長い英数字の文字列です。通常、このような形をしています：https://www.notion.so/username/8935f9d140a04f95a872520c4f123456?v=.... この例では、データネースIDは8935f9d140a04f95a872520c4f123456です。",
    "   > The database ID is the long string of alphanumeric characters found in the URL. It typically looks like this: https://www.notion.so/username/8935f9d140a04f95a872520c4f123456?v=.... In this example, the database ID is 8935f9d140a04f95a872520c4f123456.",
    "",
    "データベースが適切に設定され、統合トークンとデータベースIDを入手したら、NotionDBLoaderコードを使用して、Notionデータベースからコンテンツとメタデータを読み込むことができます。",
    "",
    "> With the database properly set up and the integration token and database ID in hand, you can now use the NotionDBLoader code to load content and metadata from your Notion database.",
    "",
    "## Usage | 使用方法",
    "",
    "NotionDBLoaderは、langchainパッケージのドキュメントローダーの一部です。次のように使用できます：",
    "",
    "> NotionDBLoader is part of the langchain package's document loaders. You can use it as follows:",
    ""
   ]
  },
  {
   "cell_type": "code",
   "execution_count": 12,
   "id": "6c3a314c",
   "metadata": {},
   "outputs": [
    {
     "name": "stdout",
     "output_type": "stream",
     "text": [
      "········\n",
      "········\n"
     ]
    }
   ],
   "source": [
    "from getpass import getpass\n",
    "\n",
    "NOTION_TOKEN = getpass()\n",
    "DATABASE_ID = getpass()"
   ]
  },
  {
   "cell_type": "code",
   "execution_count": 13,
   "id": "007c5cbf",
   "metadata": {},
   "outputs": [],
   "source": [
    "from langchain.document_loaders import NotionDBLoader"
   ]
  },
  {
   "cell_type": "code",
   "execution_count": 14,
   "id": "a1caec59",
   "metadata": {},
   "outputs": [],
   "source": [
    "loader = NotionDBLoader(\n",
    "    integration_token=NOTION_TOKEN,\n",
    "    database_id=DATABASE_ID,\n",
    "    request_timeout_sec=30,  # optional, defaults to 10\n",
    ")"
   ]
  },
  {
   "cell_type": "code",
   "execution_count": 15,
   "id": "b1c30ff7",
   "metadata": {},
   "outputs": [],
   "source": [
    "docs = loader.load()"
   ]
  },
  {
   "cell_type": "code",
   "execution_count": 17,
   "id": "4f5789a2",
   "metadata": {},
   "outputs": [
    {
     "name": "stdout",
     "output_type": "stream",
     "text": [
      "\n"
     ]
    }
   ],
   "source": [
    "print(docs)"
   ]
  }
 ],
 "metadata": {
  "kernelspec": {
   "display_name": "Python 3 (ipykernel)",
   "language": "python",
   "name": "python3"
  },
  "language_info": {
   "codemirror_mode": {
    "name": "ipython",
    "version": 3
   },
   "file_extension": ".py",
   "mimetype": "text/x-python",
   "name": "python",
   "nbconvert_exporter": "python",
   "pygments_lexer": "ipython3",
   "version": "3.10.6"
  }
 },
 "nbformat": 4,
 "nbformat_minor": 5
}