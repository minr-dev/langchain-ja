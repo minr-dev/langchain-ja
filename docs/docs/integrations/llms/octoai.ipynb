{
 "cells": [
  {
   "cell_type": "markdown",
   "metadata": {},
   "source": [
    "# OctoAI | OctoAI\n",
    "\n",
    "> [OctoML](https://docs.octoai.cloud/docs)は、効率的な計算リソースを提供するサービスです。ユーザーは、選択したAIモデルをアプリケーションに統合することができます。`OctoAI`の計算サービスは、AIアプリケーションを実行、チューニング、そしてスケーリングするのに役立ちます。\n",
    ">\n",
    "> > [OctoML](https://docs.octoai.cloud/docs) is a service with efficient compute. It enables users to integrate their choice of AI models into applications. The `OctoAI` compute service helps you run, tune, and scale AI applications.\n",
    "\n",
    "この例では、LangChainを使用して`OctoAI` [LLMエンドポイント](https://octoai.cloud/templates)と対話する方法について説明します。\n",
    "\n",
    "> This example goes over how to use LangChain to interact with `OctoAI` [LLM endpoints](https://octoai.cloud/templates)\n",
    "\n",
    "## Setup | セットアップ\n",
    "\n",
    "私たちのサンプルアプリを実行するには、以下の4つのシンプルなステップに従ってください：\n",
    "\n",
    "> To run our example app, there are four simple steps to take:\n",
    "\n",
    "1. OctoAIアカウントにMPT-7Bデモテンプレートをクローンするには、<https://octoai.cloud/templates/mpt-7b-demo>にアクセスし、「Clone Template」をクリックしてください。\n",
    "\n",
    "   > Clone the MPT-7B demo template to your OctoAI account by visiting <https://octoai.cloud/templates/mpt-7b-demo> then clicking \"Clone Template.\"\n",
    "   \n",
    "1. 異なるLLMモデルを使用したい場合は、[Pythonからコンテナをビルドする](doc:create-custom-endpoints-from-python-code)と[コンテナからカスタムエンドポイントを作成する](doc:create-custom-endpoints-from-a-container)の手順に従って、モデルをコンテナ化し、自分自身でカスタムOctoAIエンドポイントを作成することもできます。\n",
    "\n",
    "      > If you want to use a different LLM model, you can also containerize the model and make a custom OctoAI endpoint yourself, by following [Build a Container from Python](doc:create-custom-endpoints-from-python-code) and [Create a Custom Endpoint from a Container](doc:create-custom-endpoints-from-a-container)\n",
    "\n",
    "\n",
    "2. 以下のコードセルにエンドポイントURLを貼り付けてください\n",
    "\n",
    "   > Paste your Endpoint URL in the code cell below\n",
    "\n",
    "\n",
    "3. [OctoAIアカウントページ](https://octoai.cloud/settings)からAPIトークンを取得してください。\n",
    "\n",
    "   > Get an API Token from [your OctoAI account page](https://octoai.cloud/settings).\n",
    "\n",
    "\n",
    "4. 以下のコードセルにあなたのAPIキーを貼り付けてください\n",
    "\n",
    "   > Paste your API key in in the code cell below\n",
    "\n",
    "\n",
    "\n"
   ]
  },
  {
   "cell_type": "code",
   "execution_count": 13,
   "metadata": {},
   "outputs": [],
   "source": [
    "import os\n",
    "\n",
    "os.environ[\"OCTOAI_API_TOKEN\"] = \"OCTOAI_API_TOKEN\"\n",
    "os.environ[\"ENDPOINT_URL\"] = \"https://mpt-7b-demo-f1kzsig6xes9.octoai.run/generate\""
   ]
  },
  {
   "cell_type": "code",
   "execution_count": 14,
   "metadata": {},
   "outputs": [],
   "source": [
    "from langchain.chains import LLMChain\n",
    "from langchain.llms.octoai_endpoint import OctoAIEndpoint\n",
    "from langchain.prompts import PromptTemplate"
   ]
  },
  {
   "cell_type": "markdown",
   "metadata": {},
   "source": [
    "## Example | 例\n",
    "\n",
    "\n"
   ]
  },
  {
   "cell_type": "code",
   "execution_count": 15,
   "metadata": {},
   "outputs": [],
   "source": [
    "template = \"\"\"Below is an instruction that describes a task. Write a response that appropriately completes the request.\\n Instruction:\\n{question}\\n Response: \"\"\"\n",
    "prompt = PromptTemplate(template=template, input_variables=[\"question\"])"
   ]
  },
  {
   "cell_type": "code",
   "execution_count": 30,
   "metadata": {},
   "outputs": [],
   "source": [
    "llm = OctoAIEndpoint(\n",
    "    model_kwargs={\n",
    "        \"max_new_tokens\": 200,\n",
    "        \"temperature\": 0.75,\n",
    "        \"top_p\": 0.95,\n",
    "        \"repetition_penalty\": 1,\n",
    "        \"seed\": None,\n",
    "        \"stop\": [],\n",
    "    },\n",
    ")"
   ]
  },
  {
   "cell_type": "code",
   "execution_count": 31,
   "metadata": {},
   "outputs": [
    {
     "data": {
      "text/plain": [
       "'\\nLeonardo da Vinci was an Italian polymath and painter regarded by many as one of the greatest painters of all time. He is best known for his masterpieces including Mona Lisa, The Last Supper, and The Virgin of the Rocks. He was a draftsman, sculptor, architect, and one of the most important figures in the history of science. Da Vinci flew gliders, experimented with water turbines and windmills, and invented the catapult and a joystick-type human-powered aircraft control. He may have pioneered helicopters. As a scholar, he was interested in anatomy, geology, botany, engineering, mathematics, and astronomy.\\nOther painters and patrons claimed to be more talented, but Leonardo da Vinci was an incredibly productive artist, sculptor, engineer, anatomist, and scientist.'"
      ]
     },
     "execution_count": 31,
     "metadata": {},
     "output_type": "execute_result"
    }
   ],
   "source": [
    "question = \"Who was leonardo davinci?\"\n",
    "\n",
    "llm_chain = LLMChain(prompt=prompt, llm=llm)\n",
    "\n",
    "llm_chain.run(question)"
   ]
  }
 ],
 "metadata": {
  "kernelspec": {
   "display_name": "Python 3 (ipykernel)",
   "language": "python",
   "name": "python3"
  },
  "language_info": {
   "codemirror_mode": {
    "name": "ipython",
    "version": 3
   },
   "file_extension": ".py",
   "mimetype": "text/x-python",
   "name": "python",
   "nbconvert_exporter": "python",
   "pygments_lexer": "ipython3",
   "version": "3.10.12"
  },
  "vscode": {
   "interpreter": {
    "hash": "97697b63fdcee0a640856f91cb41326ad601964008c341809e43189d1cab1047"
   }
  }
 },
 "nbformat": 4,
 "nbformat_minor": 4
}