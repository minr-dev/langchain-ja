{
 "cells": [
  {
   "cell_type": "markdown",
   "metadata": {},
   "source": [
    "# Xata | Xata\n",
    "\n",
    "> [Xata](https://xata.io)は、PostgreSQLをベースにしたサーバーレスデータプラットフォームです。データベースとの対話にはPython SDKを提供し、データの管理にはUIを提供しています。Xataにはネイティブのベクタータイプがあり、任意のテーブルに追加可能で、類似性検索に対応しています。LangChainはベクターを直接Xataに挿入し、与えられたベクターの最も近い隣接点をクエリすることで、Xataを使ってLangChainの埋め込み統合機能を全て利用できます。\n",
    ">\n",
    "> > [Xata](https://xata.io) is a serverless data platform, based on PostgreSQL. It provides a Python SDK for interacting with your database, and a UI for managing your data.\n",
    "> > Xata has a native vector type, which can be added to any table, and supports similarity search. LangChain inserts vectors directly to Xata, and queries it for the nearest neighbors of a given vector, so that you can use all the LangChain Embeddings integrations with Xata.\n",
    "\n",
    "\n"
   ]
  },
  {
   "cell_type": "markdown",
   "metadata": {},
   "source": [
    "このノートブックは、XataをVectorStoreとして使用する方法を案内します。\n",
    "\n",
    "> This notebook guides you how to use Xata as a VectorStore.\n",
    "\n",
    "\n"
   ]
  },
  {
   "cell_type": "markdown",
   "metadata": {},
   "source": [
    "## Setup | セットアップ\n",
    "\n",
    "### Create a database to use as a vector store | ベクトルストアとして使用するデータベースを作成する\n",
    "\n",
    "[Xata UI](https://app.xata.io)で新しいデータベースを作成します。名前は何でも構いませんが、このノートパッドでは`langchain`という名前を使用します。次に、テーブルを作成します。これも名前は何でも良いですが、ここでは`vectors`という名前を使います。UIを通じて以下のカラムを追加してください：\n",
    "\n",
    "> In the [Xata UI](https://app.xata.io) create a new database. You can name it whatever you want, in this notepad we'll use `langchain`.\n",
    "> Create a table, again you can name it anything, but we will use `vectors`. Add the following columns via the UI:\n",
    "\n",
    "* `content`は「テキスト」タイプです。これは`Document.pageContent`の値を格納するために使用されます。\n",
    "\n",
    "  > `content` of type \"Text\". This is used to store the `Document.pageContent` values.\n",
    "\n",
    "* `embedding`は「Vector」型を使用します。使用するモデルに合わせた次元を選んでください。このノートブックでは、1536次元のOpenAIの埋め込みを使用しています。\n",
    "\n",
    "  > `embedding` of type \"Vector\". Use the dimension used by the model you plan to use. In this notebook we use OpenAI embeddings, which have 1536 dimensions.\n",
    "\n",
    "* `search`は\"Text\"型です。この例ではメタデータのカラムとして使用されます。\n",
    "\n",
    "  > `search` of type \"Text\". This is used as a metadata column by this example.\n",
    "\n",
    "* メタデータとして使用したい他の列です。これらは `Document.metadata` オブジェクトから取得されます。例えば、`Document.metadata` オブジェクトに `title` プロパティがある場合、テーブルに `title` 列を作成すれば、それが自動的に埋められます。\n",
    "\n",
    "  > any other columns you want to use as metadata. They are populated from the `Document.metadata` object. For example, if in the `Document.metadata` object you have a `title` property, you can create a `title` column in the table and it will be populated.\n",
    "\n",
    "\n",
    "\n"
   ]
  },
  {
   "cell_type": "markdown",
   "metadata": {},
   "source": [
    "まず最初に、依存関係をインストールしましょう：\n",
    "\n",
    "> Let's first install our dependencies:\n",
    "\n",
    "\n"
   ]
  },
  {
   "cell_type": "code",
   "execution_count": null,
   "metadata": {
    "collapsed": false,
    "jupyter": {
     "outputs_hidden": false
    }
   },
   "outputs": [],
   "source": [
    "!pip install xata openai tiktoken langchain"
   ]
  },
  {
   "cell_type": "markdown",
   "metadata": {},
   "source": [
    "OpenAIのキーを環境に読み込みましょう。もし持っていない場合は、OpenAIのアカウントを作成し、この[ページ](https://platform.openai.com/account/api-keys)でキーを作成することができます。\n",
    "\n",
    "> Let's load the OpenAI key to the environemnt. If you don't have one you can create an OpenAI account and create a key on this [page](https://platform.openai.com/account/api-keys).\n",
    "\n",
    "\n"
   ]
  },
  {
   "cell_type": "code",
   "execution_count": null,
   "metadata": {
    "collapsed": false,
    "jupyter": {
     "outputs_hidden": false
    }
   },
   "outputs": [],
   "source": [
    "import getpass\n",
    "import os\n",
    "\n",
    "os.environ[\"OPENAI_API_KEY\"] = getpass.getpass(\"OpenAI API Key:\")"
   ]
  },
  {
   "cell_type": "markdown",
   "metadata": {},
   "source": [
    "同様に、Xataの環境変数を取得する必要があります。新しいAPIキーを作成するには、[アカウント設定](https://app.xata.io/settings)にアクセスしてください。データベースURLを見つけるためには、作成したデータベースの設定ページに移動します。データベースURLはおおよそ次のような形になります：`https://demo-uni3q8.eu-west-1.xata.sh/db/langchain`。\n",
    "\n",
    "> Similarly, we need to get the environment variables for Xata. You can create a new API key by visiting your [account settings](https://app.xata.io/settings). To find the database URL, go to the Settings page of the database that you have created. The database URL should look something like this: `https://demo-uni3q8.eu-west-1.xata.sh/db/langchain`.\n",
    "\n",
    "\n"
   ]
  },
  {
   "cell_type": "code",
   "execution_count": null,
   "metadata": {},
   "outputs": [],
   "source": [
    "api_key = getpass.getpass(\"Xata API key: \")\n",
    "db_url = input(\"Xata database URL (copy it from your DB settings):\")"
   ]
  },
  {
   "cell_type": "code",
   "execution_count": null,
   "metadata": {
    "collapsed": false,
    "jupyter": {
     "outputs_hidden": false
    }
   },
   "outputs": [],
   "source": [
    "from langchain.document_loaders import TextLoader\n",
    "from langchain.embeddings.openai import OpenAIEmbeddings\n",
    "from langchain.text_splitter import CharacterTextSplitter\n",
    "from langchain.vectorstores.xata import XataVectorStore"
   ]
  },
  {
   "cell_type": "markdown",
   "metadata": {},
   "source": [
    "### Create the Xata vector store | Xataベクトルストアを作成する\n",
    "\n",
    "テストデータセットをインポートしましょう：\n",
    "\n",
    "> Let's import our test dataset:\n",
    "\n",
    "\n"
   ]
  },
  {
   "cell_type": "code",
   "execution_count": null,
   "metadata": {
    "collapsed": false,
    "jupyter": {
     "outputs_hidden": false
    }
   },
   "outputs": [],
   "source": [
    "loader = TextLoader(\"../../modules/state_of_the_union.txt\")\n",
    "documents = loader.load()\n",
    "text_splitter = CharacterTextSplitter(chunk_size=1000, chunk_overlap=0)\n",
    "docs = text_splitter.split_documents(documents)\n",
    "\n",
    "embeddings = OpenAIEmbeddings()"
   ]
  },
  {
   "cell_type": "markdown",
   "metadata": {},
   "source": [
    "次に、Xataテーブルをバックエンドにした実際のベクトルストアを作成します。\n",
    "\n",
    "> Now create the actual vector store, backed by the Xata table.\n",
    "\n",
    "\n"
   ]
  },
  {
   "cell_type": "code",
   "execution_count": null,
   "metadata": {
    "collapsed": false,
    "jupyter": {
     "outputs_hidden": false
    }
   },
   "outputs": [],
   "source": [
    "vector_store = XataVectorStore.from_documents(\n",
    "    docs, embeddings, api_key=api_key, db_url=db_url, table_name=\"vectors\"\n",
    ")"
   ]
  },
  {
   "cell_type": "markdown",
   "metadata": {},
   "source": [
    "上記のコマンドを実行した後、Xata UIにアクセスすると、埋め込み情報とともにドキュメントがロードされていることが確認できます。既にベクター内容を含むXataテーブルを使用する場合は、XataVectorStoreコンストラクタを初期化する必要があります。\n",
    "\n",
    "> After running the above command, if you go to the Xata UI, you should see the documents loaded together with their embeddings.\n",
    "> To use an existing Xata table that already contains vector contents, initialize the XataVectorStore constructor:\n",
    "\n",
    "\n"
   ]
  },
  {
   "cell_type": "code",
   "execution_count": null,
   "metadata": {},
   "outputs": [],
   "source": [
    "vector_store = XataVectorStore(\n",
    "    api_key=api_key, db_url=db_url, embedding=embeddings, table_name=\"vectors\"\n",
    ")"
   ]
  },
  {
   "cell_type": "markdown",
   "metadata": {},
   "source": [
    "### Similarity Search | 類似性検索\n",
    "\n",
    "\n"
   ]
  },
  {
   "cell_type": "code",
   "execution_count": null,
   "metadata": {
    "collapsed": false,
    "jupyter": {
     "outputs_hidden": false
    }
   },
   "outputs": [],
   "source": [
    "query = \"What did the president say about Ketanji Brown Jackson\"\n",
    "found_docs = vector_store.similarity_search(query)\n",
    "print(found_docs)"
   ]
  },
  {
   "cell_type": "markdown",
   "metadata": {},
   "source": [
    "### Similarity Search with score (vector distance) | スコア（ベクトル距離）を用いた類似性検索\n",
    "\n",
    "\n"
   ]
  },
  {
   "cell_type": "code",
   "execution_count": null,
   "metadata": {
    "collapsed": false,
    "jupyter": {
     "outputs_hidden": false
    }
   },
   "outputs": [],
   "source": [
    "query = \"What did the president say about Ketanji Brown Jackson\"\n",
    "result = vector_store.similarity_search_with_score(query)\n",
    "for doc, score in result:\n",
    "    print(f\"document={doc}, score={score}\")"
   ]
  }
 ],
 "metadata": {
  "kernelspec": {
   "display_name": "Python 3 (ipykernel)",
   "language": "python",
   "name": "python3"
  },
  "language_info": {
   "codemirror_mode": {
    "name": "ipython",
    "version": 3
   },
   "file_extension": ".py",
   "mimetype": "text/x-python",
   "name": "python",
   "nbconvert_exporter": "python",
   "pygments_lexer": "ipython3",
   "version": "3.10.12"
  }
 },
 "nbformat": 4,
 "nbformat_minor": 4
}