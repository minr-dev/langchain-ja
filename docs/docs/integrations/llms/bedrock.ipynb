{
 "cells": [
  {
   "cell_type": "markdown",
   "metadata": {},
   "source": [
    "# Bedrock | ベッドロック\n",
    "\n"
   ]
  },
  {
   "cell_type": "markdown",
   "metadata": {},
   "source": [
    "> [Amazon Bedrock](https://aws.amazon.com/bedrock/)は、`AI21 Labs`、`Anthropic`、`Cohere`、`Meta`、`Stability AI`、そして`Amazon`などの先導的なAI企業から提供される高性能な基盤モデル（FMs）を選択できる完全マネージドサービスです。このサービスは、セキュリティ、プライバシー、そして責任あるAIを備えたジェネレーティブAIアプリケーションを構築するために必要な幅広い機能を単一のAPIを通じて提供します。`Amazon Bedrock`を使用することで、お客様のユースケースに最適なトップFMsを簡単に実験し、評価することができ、ファインチューニングや`Retrieval Augmented Generation`（`RAG`）などの技術を用いてお客様のデータでプライベートにカスタマイズし、お客様の企業システムやデータソースを使用してタスクを実行するエージェントを構築することができます。`Amazon Bedrock`はサーバレスであるため、インフラストラクチャの管理は必要なく、既に慣れ親しんでいるAWSサービスを使用して、ジェネレーティブAI機能をアプリケーションに安全に統合し、デプロイすることができます。\n",
    ">\n",
    "> > [Amazon Bedrock](https://aws.amazon.com/bedrock/) is a fully managed service that offers a choice of\n",
    "> > high-performing foundation models (FMs) from leading AI companies like `AI21 Labs`, `Anthropic`, `Cohere`,\n",
    "> > `Meta`, `Stability AI`, and `Amazon` via a single API, along with a broad set of capabilities you need to\n",
    "> > build generative AI applications with security, privacy, and responsible AI. Using `Amazon Bedrock`,\n",
    "> > you can easily experiment with and evaluate top FMs for your use case, privately customize them with\n",
    "> > your data using techniques such as fine-tuning and `Retrieval Augmented Generation` (`RAG`), and build\n",
    "> > agents that execute tasks using your enterprise systems and data sources. Since `Amazon Bedrock` is\n",
    "> > serverless, you don't have to manage any infrastructure, and you can securely integrate and deploy\n",
    "> > generative AI capabilities into your applications using the AWS services you are already familiar with.\n",
    "\n"
   ]
  },
  {
   "cell_type": "code",
   "execution_count": null,
   "metadata": {},
   "outputs": [],
   "source": [
    "%pip install boto3"
   ]
  },
  {
   "cell_type": "code",
   "execution_count": null,
   "metadata": {
    "tags": []
   },
   "outputs": [],
   "source": [
    "from langchain.llms import Bedrock\n",
    "\n",
    "llm = Bedrock(\n",
    "    credentials_profile_name=\"bedrock-admin\", model_id=\"amazon.titan-text-express-v1\"\n",
    ")"
   ]
  },
  {
   "cell_type": "markdown",
   "metadata": {},
   "source": [
    "### Using in a conversation chain | 会話の流れでの使用\n",
    "\n"
   ]
  },
  {
   "cell_type": "code",
   "execution_count": null,
   "metadata": {},
   "outputs": [],
   "source": [
    "from langchain.chains import ConversationChain\n",
    "from langchain.memory import ConversationBufferMemory\n",
    "\n",
    "conversation = ConversationChain(\n",
    "    llm=llm, verbose=True, memory=ConversationBufferMemory()\n",
    ")\n",
    "\n",
    "conversation.predict(input=\"Hi there!\")"
   ]
  },
  {
   "attachments": {},
   "cell_type": "markdown",
   "metadata": {},
   "source": [
    "### Conversation Chain With Streaming | ストリーミングを使用した会話チェーン\n",
    "\n"
   ]
  },
  {
   "cell_type": "code",
   "execution_count": null,
   "metadata": {},
   "outputs": [],
   "source": [
    "from langchain.callbacks.streaming_stdout import StreamingStdOutCallbackHandler\n",
    "from langchain.llms import Bedrock\n",
    "\n",
    "llm = Bedrock(\n",
    "    credentials_profile_name=\"bedrock-admin\",\n",
    "    model_id=\"amazon.titan-text-express-v1\",\n",
    "    streaming=True,\n",
    "    callbacks=[StreamingStdOutCallbackHandler()],\n",
    ")"
   ]
  },
  {
   "cell_type": "code",
   "execution_count": null,
   "metadata": {},
   "outputs": [],
   "source": [
    "conversation = ConversationChain(\n",
    "    llm=llm, verbose=True, memory=ConversationBufferMemory()\n",
    ")\n",
    "\n",
    "conversation.predict(input=\"Hi there!\")"
   ]
  }
 ],
 "metadata": {
  "kernelspec": {
   "display_name": "Python 3 (ipykernel)",
   "language": "python",
   "name": "python3"
  },
  "language_info": {
   "codemirror_mode": {
    "name": "ipython",
    "version": 3
   },
   "file_extension": ".py",
   "mimetype": "text/x-python",
   "name": "python",
   "nbconvert_exporter": "python",
   "pygments_lexer": "ipython3",
   "version": "3.10.12"
  }
 },
 "nbformat": 4,
 "nbformat_minor": 4
}