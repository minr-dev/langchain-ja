{
 "cells": [
  {
   "cell_type": "markdown",
   "id": "900fbd04-f6aa-4813-868f-1c54e3265385",
   "metadata": {},
   "source": [
    "# FastEmbed by Qdrant | QdrantによるFastEmbed\n",
    "\n",
    "> [FastEmbed](https://qdrant.github.io/fastembed/)は、[Qdrant](https://qdrant.tech)によって開発された、埋め込み生成のための軽量で高速なPythonライブラリです。\n",
    ">\n",
    "> > [FastEmbed](https://qdrant.github.io/fastembed/) from [Qdrant](https://qdrant.tech) is a lightweight, fast, Python library built for embedding generation.\n",
    ">\n",
    "> * 量子化されたモデルの重み\n",
    "\n",
    ">   > Quantized model weights\n",
    "\n",
    "> * ONNX Runtime、PyTorchの依存関係なし\n",
    "\n",
    ">   > ONNX Runtime, no PyTorch dependency\n",
    "\n",
    "> * CPUファーストの設計\n",
    "\n",
    ">   > CPU-first design\n",
    "\n",
    "> * 大規模データセットのエンコーディングのためのデータ並列処理。\n",
    "\n",
    ">   > Data-parallelism for encoding of large datasets.\n",
    "\n",
    "\n",
    "\n"
   ]
  },
  {
   "attachments": {},
   "cell_type": "markdown",
   "id": "2a773d8d",
   "metadata": {},
   "source": [
    "## Dependencies | 依存関係\n",
    "\n",
    "LangChainでFastEmbedを使用するには、`fastembed` Pythonパッケージをインストールしてください。\n",
    "\n",
    "> To use FastEmbed with LangChain, install the `fastembed` Python package.\n",
    "\n",
    "\n"
   ]
  },
  {
   "cell_type": "code",
   "execution_count": null,
   "id": "91ea14ce-831d-409a-a88f-30353acdabd1",
   "metadata": {
    "tags": []
   },
   "outputs": [],
   "source": [
    "%pip install fastembed"
   ]
  },
  {
   "attachments": {},
   "cell_type": "markdown",
   "id": "426f1156",
   "metadata": {},
   "source": [
    "## Imports | インポート\n",
    "\n",
    "\n"
   ]
  },
  {
   "cell_type": "code",
   "execution_count": 2,
   "id": "3f5dc9d7-65e3-4b5b-9086-3327d016cfe0",
   "metadata": {
    "tags": []
   },
   "outputs": [],
   "source": [
    "from langchain.embeddings.fastembed import FastEmbedEmbeddings"
   ]
  },
  {
   "cell_type": "markdown",
   "id": "8c77b0bb-2613-4167-a204-14d424b59105",
   "metadata": {},
   "source": [
    "## Instantiating FastEmbed | FastEmbedのインスタンス化\n",
    "\n",
    "### Parameters | パラメータ\n",
    "\n",
    "* `model_name: str`（デフォルト：\"BAAI/bge-small-en-v1.5\"）\n",
    "\n",
    "  > `model_name: str` (default: \"BAAI/bge-small-en-v1.5\")\n",
    "  > 使用するFastEmbeddingモデルの名前です。サポートされているモデルのリストは[こちら](https://qdrant.github.io/fastembed/examples/Supported_Models/)で確認できます。\n",
    "  >\n",
    "  > > Name of the FastEmbedding model to use. You can find the list of supported models [here](https://qdrant.github.io/fastembed/examples/Supported_Models/).\n",
    "\n",
    "\n",
    "* `max_length: int`（デフォルト：512）\n",
    "\n",
    "  > `max_length: int` (default: 512)\n",
    "  > トークンの最大数です。値が512を超える場合の挙動は不明です。\n",
    "  >\n",
    "  > > The maximum number of tokens. Unknown behavior for values > 512.\n",
    "\n",
    "\n",
    "* `cache_dir: Optional[str]`\n",
    "\n",
    "  > `cache_dir: Optional[str]`\n",
    "  > キャッシュディレクトリへのパスです。デフォルトでは親ディレクトリ内の `local_cache` に設定されています。\n",
    "  >\n",
    "  > > The path to the cache directory. Defaults to `local_cache` in the parent directory.\n",
    "\n",
    "\n",
    "* `threads: Optional[int]` は、スレッドの数を指定するオプションの整数型パラメータです。\n",
    "\n",
    "  > `threads: Optional[int]`\n",
    "  > 単一のonnxruntimeセッションが使用できるスレッドの数。デフォルトはNoneです。\n",
    "  >\n",
    "  > > The number of threads a single onnxruntime session can use. Defaults to None.\n",
    "\n",
    "\n",
    "* `doc_embed_type: Literal[\"default\", \"passage\"]`（デフォルトは \"default\"）\n",
    "\n",
    "  > `doc_embed_type: Literal[\"default\", \"passage\"]` (default: \"default\")\n",
    "\n",
    "  > default: FastEmbedのデフォルトの埋め込み方法を使用します。\n",
    "  >\n",
    "  > > \"default\": Uses FastEmbed's default embedding method.\n",
    "\n",
    "  > \"passage\"：埋め込む前にテキストに\"passage\"を接頭辞として付けます。\n",
    "  >\n",
    "  > > \"passage\": Prefixes the text with \"passage\" before embedding.\n",
    "\n",
    "\n"
   ]
  },
  {
   "cell_type": "code",
   "execution_count": null,
   "id": "6fb585dd",
   "metadata": {
    "tags": []
   },
   "outputs": [],
   "source": [
    "embeddings = FastEmbedEmbeddings()"
   ]
  },
  {
   "cell_type": "markdown",
   "id": "119fbaad-9442-4fff-8214-c5f597bc8e77",
   "metadata": {},
   "source": [
    "## Usage | 使用方法\n",
    "\n",
    "### Generating document embeddings | ドキュメント埋め込みの生成\n",
    "\n",
    "\n"
   ]
  },
  {
   "cell_type": "code",
   "execution_count": null,
   "id": "62920051-cbd2-460d-ba24-0424c1ed395d",
   "metadata": {},
   "outputs": [],
   "source": [
    "document_embeddings = embeddings.embed_documents(\n",
    "    [\"This is a document\", \"This is some other document\"]\n",
    ")"
   ]
  },
  {
   "cell_type": "markdown",
   "id": "7fd10d96-baee-468f-a532-b70b16b78d1f",
   "metadata": {},
   "source": [
    "### Generating query embeddings | クエリ埋め込みの生成\n",
    "\n",
    "\n"
   ]
  },
  {
   "cell_type": "code",
   "execution_count": null,
   "id": "9f793bb6-609a-4a4a-a5c7-8e8597228915",
   "metadata": {},
   "outputs": [],
   "source": [
    "query_embeddings = embeddings.embed_query(\"This is a query\")"
   ]
  }
 ],
 "metadata": {
  "kernelspec": {
   "display_name": "Python 3 (ipykernel)",
   "language": "python",
   "name": "python3"
  },
  "language_info": {
   "codemirror_mode": {
    "name": "ipython",
    "version": 3
   },
   "file_extension": ".py",
   "mimetype": "text/x-python",
   "name": "python",
   "nbconvert_exporter": "python",
   "pygments_lexer": "ipython3",
   "version": "3.10.12"
  }
 },
 "nbformat": 4,
 "nbformat_minor": 5
}