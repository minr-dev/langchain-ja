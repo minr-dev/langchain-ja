{
 "cells": [
  {
   "attachments": {},
   "cell_type": "markdown",
   "metadata": {},
   "source": [
    "# Azure AI Document Intelligence | Azure AI Document Intelligence",
    ""
   ]
  },
  {
   "attachments": {},
   "cell_type": "markdown",
   "metadata": {},
   "source": [
    "Azure AI Document Intelligence（旧称 Azure Form Recognizer）は、スキャンされた文書や画像からテキスト（手書きを含む）、表、またはキーと値のペアを抽出する機械学習に基づいたサービスです。",
    "",
    "> Azure AI Document Intelligence (formerly known as Azure Form Recognizer) is machine-learning",
    "> based service that extracts text (including handwriting), tables or key-value-pairs from",
    "> scanned documents or images.",
    "",
    "このドキュメントインテリジェンスを使用したローダーの現行実装は、ページ単位でコンテンツを組み込み、それをLangChainドキュメントに変換することができます。",
    "",
    "> This current implementation of a loader using Document Intelligence is able to incorporate content page-wise and turn it into LangChain documents.",
    "",
    "Document Intelligenceは、PDF、JPEG、PNG、BMP、TIFFをサポートしています。",
    "",
    "> Document Intelligence supports PDF, JPEG, PNG, BMP, or TIFF.",
    "",
    "詳細なドキュメントは https://aka.ms/doc-intelligence で利用可能です。",
    "",
    "> Further documentation is available at https://aka.ms/doc-intelligence.",
    ""
   ]
  },
  {
   "cell_type": "code",
   "execution_count": null,
   "metadata": {},
   "outputs": [],
   "source": [
    "%pip install langchain langchain-community azure-ai-documentintelligence -q"
   ]
  },
  {
   "attachments": {},
   "cell_type": "markdown",
   "metadata": {},
   "source": [
    "## Example 1 | 例 1",
    ""
   ]
  },
  {
   "attachments": {},
   "cell_type": "markdown",
   "metadata": {},
   "source": [
    "最初の例では、Azure AI Document Intelligenceに送信されるローカルファイルを使用しています。",
    "",
    "> The first example uses a local file which will be sent to Azure AI Document Intelligence.",
    ""
   ]
  },
  {
   "attachments": {},
   "cell_type": "markdown",
   "metadata": {},
   "source": [
    "初期化されたドキュメント分析クライアントを使用して、DocumentIntelligenceLoader のインスタンスを作成することができます。",
    "",
    "> With the initialized document analysis client, we can proceed to create an instance of the DocumentIntelligenceLoader:",
    ""
   ]
  },
  {
   "cell_type": "code",
   "execution_count": null,
   "metadata": {},
   "outputs": [],
   "source": [
    "from langchain_community.document_loaders import AzureAIDocumentIntelligenceLoader\n",
    "\n",
    "file_path = \"<filepath>\"\n",
    "endpoint = \"<endpoint>\"\n",
    "key = \"<key>\"\n",
    "loader = AzureAIDocumentIntelligenceLoader(\n",
    "    api_endpoint=endpoint, api_key=key, file_path=file_path, api_model=\"prebuilt-layout\"\n",
    ")\n",
    "\n",
    "documents = loader.load()"
   ]
  },
  {
   "attachments": {},
   "cell_type": "markdown",
   "metadata": {},
   "source": [
    "デフォルトの出力には、マークダウン形式のコンテンツを含む1つのLangChainドキュメントが含まれています：",
    "",
    "> The default output contains one LangChain document with markdown format content:",
    ""
   ]
  },
  {
   "cell_type": "code",
   "execution_count": null,
   "metadata": {},
   "outputs": [],
   "source": [
    "documents"
   ]
  },
  {
   "cell_type": "markdown",
   "metadata": {},
   "source": [
    "## Example 2 | 例 2",
    "",
    "入力ファイルにはURLパスも使用できます。",
    "",
    "> The input file can also be URL path.",
    ""
   ]
  },
  {
   "cell_type": "code",
   "execution_count": null,
   "metadata": {},
   "outputs": [],
   "source": [
    "url_path = \"<url>\"\n",
    "loader = AzureAIDocumentIntelligenceLoader(\n",
    "    api_endpoint=endpoint, api_key=key, url_path=url_path, api_model=\"prebuilt-layout\"\n",
    ")\n",
    "\n",
    "documents = loader.load()"
   ]
  },
  {
   "cell_type": "code",
   "execution_count": null,
   "metadata": {},
   "outputs": [],
   "source": [
    "documents"
   ]
  }
 ],
 "metadata": {
  "kernelspec": {
   "display_name": "Python 3",
   "language": "python",
   "name": "python3"
  },
  "language_info": {
   "codemirror_mode": {
    "name": "ipython",
    "version": 3
   },
   "file_extension": ".py",
   "mimetype": "text/x-python",
   "name": "python",
   "nbconvert_exporter": "python",
   "pygments_lexer": "ipython3",
   "version": "3.8.10"
  },
  "vscode": {
   "interpreter": {
    "hash": "f9f85f796d01129d0dd105a088854619f454435301f6ffec2fea96ecbd9be4ac"
   }
  }
 },
 "nbformat": 4,
 "nbformat_minor": 4
}