{
 "cells": [
  {
   "cell_type": "markdown",
   "metadata": {},
   "source": [
    "# AliCloud PAI EAS | アリクラウド PAI EAS\n",
    "\n",
    "アリババクラウドのMachine Learning Platform for AIは、企業や開発者向けに設計された機械学習またはディープラーニングのエンジニアリングプラットフォームです。使いやすく、コスト効率が良く、高性能でスケールアウトも容易なプラグインを提供し、様々な業界シナリオに適用可能です。140以上の組み込み最適化アルゴリズムを搭載しており、Machine Learning Platform for AIはデータラベリング（PAI-iTAG）、モデル構築（PAI-DesignerおよびPAI-DSW）、モデルトレーニング（PAI-DLC）、コンパイル最適化、推論デプロイメント（PAI-EAS）を含む全プロセスのAIエンジニアリング機能を提供します。PAI-EASはCPUやGPUなど、異なるタイプのハードウェアリソースをサポートし、高スループットと低レイテンシーを特長としています。数クリックで大規模な複雑なモデルをデプロイし、リアルタイムで弾力的なスケールインとスケールアウトを実行できます。また、包括的な運用管理とモニタリングシステムを提供しています。\n",
    "\n",
    "> Machine Learning Platform for AI of Alibaba Cloud is a machine learning or deep learning engineering platform intended for enterprises and developers. It provides easy-to-use, cost-effective, high-performance, and easy-to-scale plug-ins that can be applied to various industry scenarios. With over 140 built-in optimization algorithms, Machine Learning Platform for AI provides whole-process AI engineering capabilities including data labeling (PAI-iTAG), model building (PAI-Designer and PAI-DSW), model training (PAI-DLC), compilation optimization, and inference deployment (PAI-EAS). PAI-EAS supports different types of hardware resources, including CPUs and GPUs, and features high throughput and low latency. It allows you to deploy large-scale complex models with a few clicks and perform elastic scale-ins and scale-outs in real time. It also provides a comprehensive O\\&M and monitoring system.\n",
    "\n"
   ]
  },
  {
   "cell_type": "code",
   "execution_count": 8,
   "metadata": {},
   "outputs": [],
   "source": [
    "from langchain.chains import LLMChain\n",
    "from langchain.llms.pai_eas_endpoint import PaiEasEndpoint\n",
    "from langchain.prompts import PromptTemplate\n",
    "\n",
    "template = \"\"\"Question: {question}\n",
    "\n",
    "Answer: Let's think step by step.\"\"\"\n",
    "\n",
    "prompt = PromptTemplate(template=template, input_variables=[\"question\"])"
   ]
  },
  {
   "cell_type": "markdown",
   "metadata": {},
   "source": [
    "EAS LLMSを使用するには、まずEASサービスをセットアップする必要があります。EASサービスが起動されると、eas\\_service\\_urlとeas\\_service\\_tokenを取得できます。詳細については、https://www.alibabacloud.com/help/en/pai/user-guide/service-deployment/ を参照してください。\n",
    "\n",
    "> One who want to use eas llms must set up eas service first. When the eas service is launched, eas\\_service\\_rul and eas\\_service token can be got. Users can refer to https://www.alibabacloud.com/help/en/pai/user-guide/service-deployment/ for more information,\n",
    "\n"
   ]
  },
  {
   "cell_type": "code",
   "execution_count": 9,
   "metadata": {},
   "outputs": [],
   "source": [
    "import os\n",
    "\n",
    "os.environ[\"EAS_SERVICE_URL\"] = \"Your_EAS_Service_URL\"\n",
    "os.environ[\"EAS_SERVICE_TOKEN\"] = \"Your_EAS_Service_Token\"\n",
    "llm = PaiEasEndpoint(\n",
    "    eas_service_url=os.environ[\"EAS_SERVICE_URL\"],\n",
    "    eas_service_token=os.environ[\"EAS_SERVICE_TOKEN\"],\n",
    ")"
   ]
  },
  {
   "cell_type": "code",
   "execution_count": 10,
   "metadata": {},
   "outputs": [
    {
     "data": {
      "text/plain": [
       "'  Thank you for asking! However, I must respectfully point out that the question contains an error. Justin Bieber was born in 1994, and the Super Bowl was first played in 1967. Therefore, it is not possible for any NFL team to have won the Super Bowl in the year Justin Bieber was born.\\n\\nI hope this clarifies things! If you have any other questions, please feel free to ask.'"
      ]
     },
     "execution_count": 10,
     "metadata": {},
     "output_type": "execute_result"
    }
   ],
   "source": [
    "llm_chain = LLMChain(prompt=prompt, llm=llm)\n",
    "\n",
    "question = \"What NFL team won the Super Bowl in the year Justin Beiber was born?\"\n",
    "llm_chain.run(question)"
   ]
  }
 ],
 "metadata": {
  "kernelspec": {
   "display_name": "Python 3",
   "language": "python",
   "name": "python3"
  },
  "language_info": {
   "codemirror_mode": {
    "name": "ipython",
    "version": 3
   },
   "file_extension": ".py",
   "mimetype": "text/x-python",
   "name": "python",
   "nbconvert_exporter": "python",
   "pygments_lexer": "ipython3",
   "version": "3.10.11"
  },
  "orig_nbformat": 4
 },
 "nbformat": 4,
 "nbformat_minor": 2
}