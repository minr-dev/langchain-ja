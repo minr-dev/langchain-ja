{
 "cells": [
  {
   "cell_type": "markdown",
   "id": "2dfc4698",
   "metadata": {},
   "source": [
    "# URL | URL",
    "",
    "これは、URLのリストからHTMLドキュメントを読み込み、後続の処理で使用できるドキュメント形式に変換する方法を説明しています。",
    "",
    "> This covers how to load HTML documents from a list of URLs into a document format that we can use downstream.",
    ""
   ]
  },
  {
   "cell_type": "code",
   "execution_count": 1,
   "id": "16c3699e",
   "metadata": {},
   "outputs": [],
   "source": [
    "from langchain.document_loaders import UnstructuredURLLoader"
   ]
  },
  {
   "cell_type": "code",
   "execution_count": 2,
   "id": "836fbac1",
   "metadata": {},
   "outputs": [],
   "source": [
    "urls = [\n",
    "    \"https://www.understandingwar.org/backgrounder/russian-offensive-campaign-assessment-february-8-2023\",\n",
    "    \"https://www.understandingwar.org/backgrounder/russian-offensive-campaign-assessment-february-9-2023\",\n",
    "]"
   ]
  },
  {
   "cell_type": "markdown",
   "id": "33089aba-ff74-4d00-8f40-9449c29587cc",
   "metadata": {},
   "source": [
    "ssl\\_verification エラーを回避するには、headers=headers とともに ssl\\_verify=False を渡してください。",
    "",
    "> Pass in ssl\\_verify=False with headers=headers to get past ssl\\_verification error.",
    ""
   ]
  },
  {
   "cell_type": "code",
   "execution_count": 3,
   "id": "00f46fda",
   "metadata": {},
   "outputs": [],
   "source": [
    "loader = UnstructuredURLLoader(urls=urls)"
   ]
  },
  {
   "cell_type": "code",
   "execution_count": 4,
   "id": "b68a26b3",
   "metadata": {},
   "outputs": [],
   "source": [
    "data = loader.load()"
   ]
  },
  {
   "attachments": {},
   "cell_type": "markdown",
   "id": "f3afa135",
   "metadata": {},
   "source": [
    "# Selenium URL Loader | Selenium URL ローダー",
    "",
    "これは、`SeleniumURLLoader`を使用してURLのリストからHTMLドキュメントを読み込む方法を説明しています。",
    "",
    "> This covers how to load HTML documents from a list of URLs using the `SeleniumURLLoader`.",
    "",
    "Seleniumを使用することで、JavaScriptがレンダリングを必要とするページを読み込むことができます。",
    "",
    "> Using selenium allows us to load pages that require JavaScript to render.",
    "",
    "## Setup | セットアップ",
    "",
    "`SeleniumURLLoader`を使用するには、`selenium`と`unstructured`をインストールする必要があります。",
    "",
    "> To use the `SeleniumURLLoader`, you will need to install `selenium` and `unstructured`.",
    ""
   ]
  },
  {
   "cell_type": "code",
   "execution_count": null,
   "id": "5fc50835",
   "metadata": {},
   "outputs": [],
   "source": [
    "from langchain.document_loaders import SeleniumURLLoader"
   ]
  },
  {
   "cell_type": "code",
   "execution_count": null,
   "id": "24e896ce",
   "metadata": {},
   "outputs": [],
   "source": [
    "urls = [\n",
    "    \"https://www.youtube.com/watch?v=dQw4w9WgXcQ\",\n",
    "    \"https://goo.gl/maps/NDSHwePEyaHMFGwh8\",\n",
    "]"
   ]
  },
  {
   "cell_type": "code",
   "execution_count": null,
   "id": "60a29397",
   "metadata": {},
   "outputs": [],
   "source": [
    "loader = SeleniumURLLoader(urls=urls)"
   ]
  },
  {
   "cell_type": "code",
   "execution_count": null,
   "id": "0090cd57",
   "metadata": {},
   "outputs": [],
   "source": [
    "data = loader.load()"
   ]
  },
  {
   "attachments": {},
   "cell_type": "markdown",
   "id": "a2c1c79f",
   "metadata": {},
   "source": [
    "# Playwright URL Loader | Playwright URL Loader",
    "",
    "`PlaywrightURLLoader`を使用してURLのリストからHTMLドキュメントを読み込む方法について説明します。",
    "",
    "> This covers how to load HTML documents from a list of URLs using the `PlaywrightURLLoader`.",
    "",
    "Seleniumの場合と同様に、PlaywrightはJavaScriptを必要とするページを読み込んでレンダリングすることができます。",
    "",
    "> As in the Selenium case, Playwright allows us to load pages that need JavaScript to render.",
    "",
    "## Setup | セットアップ",
    "",
    "`PlaywrightURLLoader`を使用するには、`playwright`と`unstructured`をインストールする必要があります。さらに、Playwright用のChromiumブラウザもインストールする必要があります：",
    "",
    "> To use the `PlaywrightURLLoader`, you will need to install `playwright` and `unstructured`. Additionally, you will need to install the Playwright Chromium browser:",
    ""
   ]
  },
  {
   "cell_type": "code",
   "execution_count": null,
   "id": "53158417",
   "metadata": {},
   "outputs": [],
   "source": [
    "# Install playwright\n",
    "!pip install \"playwright\"\n",
    "!pip install \"unstructured\"\n",
    "!playwright install"
   ]
  },
  {
   "cell_type": "code",
   "execution_count": null,
   "id": "0ab4e115",
   "metadata": {},
   "outputs": [],
   "source": [
    "from langchain.document_loaders import PlaywrightURLLoader"
   ]
  },
  {
   "cell_type": "code",
   "execution_count": null,
   "id": "ce5a9a0a",
   "metadata": {},
   "outputs": [],
   "source": [
    "urls = [\n",
    "    \"https://www.youtube.com/watch?v=dQw4w9WgXcQ\",\n",
    "    \"https://goo.gl/maps/NDSHwePEyaHMFGwh8\",\n",
    "]"
   ]
  },
  {
   "cell_type": "code",
   "execution_count": null,
   "id": "2dc3e0bc",
   "metadata": {},
   "outputs": [],
   "source": [
    "loader = PlaywrightURLLoader(urls=urls, remove_selectors=[\"header\", \"footer\"])"
   ]
  },
  {
   "cell_type": "code",
   "execution_count": null,
   "id": "10b79f80",
   "metadata": {},
   "outputs": [],
   "source": [
    "data = loader.load()"
   ]
  }
 ],
 "metadata": {
  "kernelspec": {
   "display_name": "Python 3 (ipykernel)",
   "language": "python",
   "name": "python3"
  },
  "language_info": {
   "codemirror_mode": {
    "name": "ipython",
    "version": 3
   },
   "file_extension": ".py",
   "mimetype": "text/x-python",
   "name": "python",
   "nbconvert_exporter": "python",
   "pygments_lexer": "ipython3",
   "version": "3.10.6"
  }
 },
 "nbformat": 4,
 "nbformat_minor": 5
}