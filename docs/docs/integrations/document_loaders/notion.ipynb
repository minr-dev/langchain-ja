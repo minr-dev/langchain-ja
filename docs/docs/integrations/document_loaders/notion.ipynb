{
 "cells": [
  {
   "cell_type": "markdown",
   "id": "1dc7df1d",
   "metadata": {},
   "source": [
    "# Notion DB 1/2 | Notion DB 1/2",
    "",
    "> [Notion](https://www.notion.so/)は、カンバンボード、タスク、ウィキ、データベースを統合し、変更されたマークダウンをサポートするコラボレーションプラットフォームです。ノートの取り方、知識とデータの管理、プロジェクトとタスクの管理を一つにしたオールインワンのワークスペースです。",
    ">",
    "> > [Notion](https://www.notion.so/) is a collaboration platform with modified Markdown support that integrates kanban boards, tasks, wikis and databases. It is an all-in-one workspace for notetaking, knowledge and data management, and project and task management.",
    "",
    "このノートブックでは、Notionデータベースダンプからドキュメントをロードする方法について説明しています。",
    "",
    "> This notebook covers how to load documents from a Notion database dump.",
    "",
    "このNotionダンプを取得するには、以下の指示に従ってください：",
    "",
    "> In order to get this notion dump, follow these instructions:",
    "",
    "## 🧑 Instructions for ingesting your own dataset | 🧑 ご自身のデータセットを取り込むための指示",
    "",
    "Notionからデータセットをエクスポートします。これを行うには、右上隅にある三つの点をクリックし、その後`エクスポート`をクリックしてください。",
    "",
    "> Export your dataset from Notion. You can do this by clicking on the three dots in the upper right hand corner and then clicking `Export`.",
    "",
    "エクスポートする際には、`Markdown & CSV` 形式オプションを選択してください。",
    "",
    "> When exporting, make sure to select the `Markdown & CSV` format option.",
    "",
    "これにより、ダウンロードフォルダに`.zip`ファイルが作成されます。その`.zip`ファイルをこのリポジトリに移動してください。",
    "",
    "> This will produce a `.zip` file in your Downloads folder. Move the `.zip` file into this repository.",
    "",
    "以下のコマンドを実行して、zipファイルを解凍してください（必要に応じて`Export...`をご自身のファイル名に置き換えてください）。",
    "",
    "> Run the following command to unzip the zip file (replace the `Export...` with your own file name as needed).",
    "",
    "```shell",
    "unzip Export-d3adfe0f-3131-4bf3-8987-a52017fc1bae.zip -d Notion_DB",
    "```",
    "",
    "以下のコマンドを実行して、データを取り込んでください。",
    "",
    "> Run the following command to ingest the data.",
    ""
   ]
  },
  {
   "cell_type": "code",
   "execution_count": 1,
   "id": "007c5cbf",
   "metadata": {},
   "outputs": [],
   "source": [
    "from langchain.document_loaders import NotionDirectoryLoader"
   ]
  },
  {
   "cell_type": "code",
   "execution_count": null,
   "id": "a1caec59",
   "metadata": {},
   "outputs": [],
   "source": [
    "loader = NotionDirectoryLoader(\"Notion_DB\")"
   ]
  },
  {
   "cell_type": "code",
   "execution_count": null,
   "id": "b1c30ff7",
   "metadata": {},
   "outputs": [],
   "source": [
    "docs = loader.load()"
   ]
  }
 ],
 "metadata": {
  "kernelspec": {
   "display_name": "Python 3 (ipykernel)",
   "language": "python",
   "name": "python3"
  },
  "language_info": {
   "codemirror_mode": {
    "name": "ipython",
    "version": 3
   },
   "file_extension": ".py",
   "mimetype": "text/x-python",
   "name": "python",
   "nbconvert_exporter": "python",
   "pygments_lexer": "ipython3",
   "version": "3.10.6"
  }
 },
 "nbformat": 4,
 "nbformat_minor": 5
}